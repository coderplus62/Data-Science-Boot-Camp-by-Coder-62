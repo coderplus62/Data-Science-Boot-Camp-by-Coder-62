{
 "cells": [
  {
   "cell_type": "markdown",
   "id": "89743b8f-9855-44a4-b4e7-37a9e242f826",
   "metadata": {},
   "source": [
    "# 1. Pandas Introduction\n",
    "**Ringkasan tentang Pandas: Mengelola dan Menganalisis Data dengan Mudah**\r\n",
    "\r\n",
    "Pandas adalah pustaka Python yang kuat dan populer untuk analisis dan manipulasi data. Pustaka ini menawarkan alat yang luas untuk memahami, membersihkan, memanipulasi, dan menganalisis data dalam berbagai format, seperti tabel, lembar kerja, dan kumpulan data berdimensi tinggi. Dengan Pandas, Anda dapat mengoptimalkan analisis data Anda dengan mudah dan efisien.\r\n",
    "\r\n",
    "**Fitur Utama Pandas:**\r\n",
    "\r\n",
    "1. **DataFrame dan Series:** Pandas menyediakan struktur data utama dalam bentuk DataFrame (tabel dua dimensi) dan Series (array satu dimensi dengan label). Ini memudahkan penyimpanan dan pengelolaan data berkolom dan berbaris.\r\n",
    "\r\n",
    "2. **Memuat dan Menyimpan Data:** Anda dapat dengan mudah mengimpor data dari berbagai sumber seperti file CSV, Excel, SQL databases, dan API web. Pandas juga mendukung penyimpanan ulang data ke berbagai format.\r\n",
    "\r\n",
    "3. **Pembersihan dan Pra-pemrosesan Data:** Pustaka ini menyediakan alat untuk mengatasi nilai yang hilang, menghapus duplikat, dan mengubah tipe data agar data Anda lebih berkualitas.\r\n",
    "\r\n",
    "4. **Pengindeksan dan Pemotongan:** Anda dapat dengan mudah mengindeks, memotong, dan memilih data berdasarkan kriteria tertentu, baik berdasarkan label maupun indeks numerik.\r\n",
    "\r\n",
    "5. **Filtering dan Kueri Data:** Pandas memungkinkan Anda melakukan filtrasi dan pengambilan data berdasarkan kriteria tertentu menggunakan operator logika, fungsi lambda, dan metode lainnya.\r\n",
    "\r\n",
    "6. **Transformasi Data:** Anda dapat melakukan berbagai transformasi pada data, seperti pengelompokan, agregasi, pivot, dan operasi melt untuk mengubah struktur data.\r\n",
    "\r\n",
    "7. **Analisis Seri Waktu:** Pandas memiliki dukungan yang kuat untuk analisis deret waktu, dengan indeks waktu dan berbagai operasi terkait seri waktu.\r\n",
    "\r\n",
    "8. **Visualisasi Data:** Pustaka ini terintegrasi dengan baik dengan pustaka visualisasi seperti Matplotlib dan Seaborn, memungkinkan pembuatan plot dan grafik dari data Pandas.\r\n",
    "\r\n",
    "9. **Analisis Statistik:** Pandas menyediakan berbagai metode statistik untuk menghitung rata-rata, deviasi standar, korelasi, distribusi, dan statistik lainnya.\r\n",
    "\r\n",
    "10. **Penanganan Data yang Hilang:** Anda dapat mengelola data yang hilang dengan metode fillna(), dropna(), dan interpolate(), meningkatkan kualitas data Anda.\r\n",
    "\r\n",
    "11. **Penggabungan dan Penghubungan Data:** Pandas memungkinkan penggabungan dan penghubungan data dari berbagai sumber berdasarkan kunci atau indeks.\r\n",
    "\r\n",
    "12. **Konektivitas Data:** Pandas mendukung berbagai format file data, termasuk csv, xlsx, hdf5, dan banyak lagi.\r\n",
    "\r\n",
    "Dengan Pandas, Anda dapat menjalankan analisis data dengan lebih efisien dan menghasilkan wawasan yang lebih dalam dari data Anda."
   ]
  },
  {
   "cell_type": "markdown",
   "id": "849c397c-5756-4fba-855e-10499c8f111b",
   "metadata": {},
   "source": [
    "# 2. Pandas Series\n",
    "\n",
    "Pandas Series adalah struktur data satu dimensi yang merupakan bagian penting dari pustaka Pandas. Ini mirip dengan array atau list dalam Python, tetapi memiliki keunggulan dalam integrasi dengan banyak fitur Pandas. Mari kita lihat beberapa operasi sederhana yang dapat kita lakukan dengan Pandas Series."
   ]
  },
  {
   "cell_type": "code",
   "execution_count": 1,
   "id": "b9803bae-a53b-4af4-aaec-9b35d4033c7c",
   "metadata": {},
   "outputs": [
    {
     "data": {
      "text/plain": [
       "0    10\n",
       "1    20\n",
       "2    30\n",
       "3    40\n",
       "4    50\n",
       "dtype: int64"
      ]
     },
     "execution_count": 1,
     "metadata": {},
     "output_type": "execute_result"
    }
   ],
   "source": [
    "import pandas as pd\n",
    "\n",
    "# Membuat Pandas Series dari list\n",
    "data = [10, 20, 30, 40, 50]\n",
    "series = pd.Series(data)\n",
    "series"
   ]
  },
  {
   "cell_type": "code",
   "execution_count": 2,
   "id": "397cf6ad-09a1-415f-92d4-c503fafa6178",
   "metadata": {},
   "outputs": [
    {
     "data": {
      "text/plain": [
       "a    10\n",
       "b    20\n",
       "c    30\n",
       "d    40\n",
       "e    50\n",
       "dtype: int64"
      ]
     },
     "execution_count": 2,
     "metadata": {},
     "output_type": "execute_result"
    }
   ],
   "source": [
    "# Membuat Pandas Series dengan label kustom\n",
    "data_dict = {'a': 10, 'b': 20, 'c': 30, 'd': 40, 'e': 50}\n",
    "custom_series = pd.Series(data_dict)\n",
    "custom_series"
   ]
  },
  {
   "cell_type": "code",
   "execution_count": 3,
   "id": "24d4519c-550b-4ea2-90c6-d63bf47fa9ef",
   "metadata": {},
   "outputs": [
    {
     "data": {
      "text/plain": [
       "0    15\n",
       "1    25\n",
       "2    35\n",
       "3    45\n",
       "4    55\n",
       "dtype: int64"
      ]
     },
     "execution_count": 3,
     "metadata": {},
     "output_type": "execute_result"
    }
   ],
   "source": [
    "# Operasi penambahan\n",
    "result_add = series + 5\n",
    "result_add"
   ]
  },
  {
   "cell_type": "code",
   "execution_count": 4,
   "id": "02006d50-76c6-4c08-9414-d5636e4e02ff",
   "metadata": {},
   "outputs": [
    {
     "data": {
      "text/plain": [
       "a     0\n",
       "b    10\n",
       "c    20\n",
       "d    30\n",
       "e    40\n",
       "dtype: int64"
      ]
     },
     "execution_count": 4,
     "metadata": {},
     "output_type": "execute_result"
    }
   ],
   "source": [
    "# Operasi pengurangan\n",
    "result_subtract = custom_series - 10\n",
    "result_subtract"
   ]
  },
  {
   "cell_type": "code",
   "execution_count": 5,
   "id": "4e6fe770-1758-471b-87cf-6dd6f453bbed",
   "metadata": {},
   "outputs": [
    {
     "data": {
      "text/plain": [
       "0     20\n",
       "1     40\n",
       "2     60\n",
       "3     80\n",
       "4    100\n",
       "dtype: int64"
      ]
     },
     "execution_count": 5,
     "metadata": {},
     "output_type": "execute_result"
    }
   ],
   "source": [
    "# Operasi perkalian\n",
    "result_multiply = series * 2\n",
    "result_multiply"
   ]
  },
  {
   "cell_type": "code",
   "execution_count": 6,
   "id": "35cbb4e1-19a8-4d6f-8380-5cbf709edbdf",
   "metadata": {},
   "outputs": [
    {
     "data": {
      "text/plain": [
       "a     3.333333\n",
       "b     6.666667\n",
       "c    10.000000\n",
       "d    13.333333\n",
       "e    16.666667\n",
       "dtype: float64"
      ]
     },
     "execution_count": 6,
     "metadata": {},
     "output_type": "execute_result"
    }
   ],
   "source": [
    "# Operasi pembagian\n",
    "result_divide = custom_series / 3\n",
    "result_divide"
   ]
  },
  {
   "cell_type": "code",
   "execution_count": 7,
   "id": "4d54f40d-2a3c-48b0-84e0-99c7413e6964",
   "metadata": {},
   "outputs": [
    {
     "name": "stdout",
     "output_type": "stream",
     "text": [
      "Nilai Maksimum dalam series: 50\n",
      "Nilai Minimum dalam custom_series: 10\n",
      "Jumlah semua nilai dalam series: 150\n"
     ]
    }
   ],
   "source": [
    "max_value = series.max()  # Nilai maksimum dalam series\n",
    "min_value = custom_series.min()  # Nilai minimum dalam custom_series\n",
    "sum_values = series.sum()  # Jumlah semua nilai dalam series\n",
    "\n",
    "print(\"Nilai Maksimum dalam series:\", max_value)\n",
    "print(\"Nilai Minimum dalam custom_series:\", min_value)\n",
    "print(\"Jumlah semua nilai dalam series:\", sum_values)"
   ]
  },
  {
   "cell_type": "markdown",
   "id": "4ad1ed6a-a3e2-419e-9f80-60c7e66229c9",
   "metadata": {},
   "source": [
    "# 3. Pandas DataFrame\n",
    "\n",
    "Pandas DataFrame adalah salah satu struktur data paling penting yang ditawarkan oleh pustaka Pandas. Ini merupakan struktur data dua dimensi yang mirip dengan tabel dalam database atau lembar kerja Excel. DataFrame memungkinkan kita untuk menyimpan, mengelola, dan menganalisis data dalam bentuk yang lebih terstruktur dan mudah dimengerti. Mari kita lihat bagaimana bekerja dengan Pandas DataFrame."
   ]
  },
  {
   "cell_type": "code",
   "execution_count": 3,
   "id": "8b671289-e0ca-4c24-815e-c5e30d6eeaab",
   "metadata": {},
   "outputs": [
    {
     "data": {
      "text/html": [
       "<div>\n",
       "<style scoped>\n",
       "    .dataframe tbody tr th:only-of-type {\n",
       "        vertical-align: middle;\n",
       "    }\n",
       "\n",
       "    .dataframe tbody tr th {\n",
       "        vertical-align: top;\n",
       "    }\n",
       "\n",
       "    .dataframe thead th {\n",
       "        text-align: right;\n",
       "    }\n",
       "</style>\n",
       "<table border=\"1\" class=\"dataframe\">\n",
       "  <thead>\n",
       "    <tr style=\"text-align: right;\">\n",
       "      <th></th>\n",
       "      <th>Nama</th>\n",
       "      <th>Usia</th>\n",
       "      <th>Pekerjaan</th>\n",
       "    </tr>\n",
       "  </thead>\n",
       "  <tbody>\n",
       "    <tr>\n",
       "      <th>0</th>\n",
       "      <td>Alice</td>\n",
       "      <td>25</td>\n",
       "      <td>Pengembang</td>\n",
       "    </tr>\n",
       "    <tr>\n",
       "      <th>1</th>\n",
       "      <td>Bob</td>\n",
       "      <td>30</td>\n",
       "      <td>Analisis Data</td>\n",
       "    </tr>\n",
       "    <tr>\n",
       "      <th>2</th>\n",
       "      <td>Charlie</td>\n",
       "      <td>22</td>\n",
       "      <td>Desainer</td>\n",
       "    </tr>\n",
       "    <tr>\n",
       "      <th>3</th>\n",
       "      <td>David</td>\n",
       "      <td>28</td>\n",
       "      <td>Manajer</td>\n",
       "    </tr>\n",
       "  </tbody>\n",
       "</table>\n",
       "</div>"
      ],
      "text/plain": [
       "      Nama  Usia      Pekerjaan\n",
       "0    Alice    25     Pengembang\n",
       "1      Bob    30  Analisis Data\n",
       "2  Charlie    22       Desainer\n",
       "3    David    28        Manajer"
      ]
     },
     "execution_count": 3,
     "metadata": {},
     "output_type": "execute_result"
    }
   ],
   "source": [
    "import pandas as pd\n",
    "# Membuat dictionary dengan data\n",
    "data = {\n",
    "    'Nama': ['Alice', 'Bob', 'Charlie', 'David'],\n",
    "    'Usia': [25, 30, 22, 28],\n",
    "    'Pekerjaan': ['Pengembang', 'Analisis Data', 'Desainer', 'Manajer']\n",
    "}\n",
    "\n",
    "# Membuat DataFrame dari dictionary\n",
    "df = pd.DataFrame(data)\n",
    "df"
   ]
  },
  {
   "cell_type": "code",
   "execution_count": 5,
   "id": "ee12a3c1-0f94-4f95-b093-d7775c17ccca",
   "metadata": {},
   "outputs": [
    {
     "data": {
      "text/plain": [
       "Nama              Alice\n",
       "Usia                 25\n",
       "Pekerjaan    Pengembang\n",
       "Name: 0, dtype: object"
      ]
     },
     "execution_count": 5,
     "metadata": {},
     "output_type": "execute_result"
    }
   ],
   "source": [
    "# Mengakses baris pertama (indeks 0)\n",
    "first_row = df.loc[0]\n",
    "first_row"
   ]
  },
  {
   "cell_type": "code",
   "execution_count": 6,
   "id": "750e4af3-1541-4068-b411-591526d53e7a",
   "metadata": {},
   "outputs": [
    {
     "data": {
      "text/plain": [
       "0      Alice\n",
       "1        Bob\n",
       "2    Charlie\n",
       "3      David\n",
       "Name: Nama, dtype: object"
      ]
     },
     "execution_count": 6,
     "metadata": {},
     "output_type": "execute_result"
    }
   ],
   "source": [
    "# Mengakses kolom 'Nama'\n",
    "names = df['Nama']\n",
    "names"
   ]
  },
  {
   "cell_type": "code",
   "execution_count": 7,
   "id": "e60faa14-e37c-49c8-aa70-6d8575390018",
   "metadata": {},
   "outputs": [
    {
     "data": {
      "text/plain": [
       "30"
      ]
     },
     "execution_count": 7,
     "metadata": {},
     "output_type": "execute_result"
    }
   ],
   "source": [
    "# Mengakses data pada baris ke-2 dan kolom 'Usia'\n",
    "age_of_second_person = df.at[1, 'Usia']\n",
    "age_of_second_person"
   ]
  },
  {
   "cell_type": "code",
   "execution_count": 8,
   "id": "b8808784-73fd-4f31-8a60-85667ca16331",
   "metadata": {},
   "outputs": [
    {
     "data": {
      "text/html": [
       "<div>\n",
       "<style scoped>\n",
       "    .dataframe tbody tr th:only-of-type {\n",
       "        vertical-align: middle;\n",
       "    }\n",
       "\n",
       "    .dataframe tbody tr th {\n",
       "        vertical-align: top;\n",
       "    }\n",
       "\n",
       "    .dataframe thead th {\n",
       "        text-align: right;\n",
       "    }\n",
       "</style>\n",
       "<table border=\"1\" class=\"dataframe\">\n",
       "  <thead>\n",
       "    <tr style=\"text-align: right;\">\n",
       "      <th></th>\n",
       "      <th>Nama</th>\n",
       "      <th>Usia</th>\n",
       "      <th>Pekerjaan</th>\n",
       "    </tr>\n",
       "  </thead>\n",
       "  <tbody>\n",
       "    <tr>\n",
       "      <th>1</th>\n",
       "      <td>Bob</td>\n",
       "      <td>30</td>\n",
       "      <td>Analisis Data</td>\n",
       "    </tr>\n",
       "    <tr>\n",
       "      <th>3</th>\n",
       "      <td>David</td>\n",
       "      <td>28</td>\n",
       "      <td>Manajer</td>\n",
       "    </tr>\n",
       "  </tbody>\n",
       "</table>\n",
       "</div>"
      ],
      "text/plain": [
       "    Nama  Usia      Pekerjaan\n",
       "1    Bob    30  Analisis Data\n",
       "3  David    28        Manajer"
      ]
     },
     "execution_count": 8,
     "metadata": {},
     "output_type": "execute_result"
    }
   ],
   "source": [
    "# Mengambil baris dengan usia di atas 25\n",
    "above_25 = df[df['Usia'] > 25]\n",
    "above_25"
   ]
  },
  {
   "cell_type": "code",
   "execution_count": 9,
   "id": "531a720f-7a7a-4208-a6d4-fdc52bd36cae",
   "metadata": {},
   "outputs": [
    {
     "data": {
      "text/plain": [
       "26.25"
      ]
     },
     "execution_count": 9,
     "metadata": {},
     "output_type": "execute_result"
    }
   ],
   "source": [
    "# Menghitung rata-rata usia\n",
    "average_age = df['Usia'].mean()\n",
    "average_age"
   ]
  },
  {
   "cell_type": "code",
   "execution_count": 10,
   "id": "7fbe22bc-6714-4314-bf3d-d0321f4ca21e",
   "metadata": {},
   "outputs": [],
   "source": [
    "# Menyimpan DataFrame ke file CSV\n",
    "df.to_csv('data.csv', index=False)"
   ]
  },
  {
   "cell_type": "code",
   "execution_count": 12,
   "id": "793c8d1b-8e31-4c34-8da7-22fa233635a5",
   "metadata": {},
   "outputs": [
    {
     "data": {
      "text/html": [
       "<div>\n",
       "<style scoped>\n",
       "    .dataframe tbody tr th:only-of-type {\n",
       "        vertical-align: middle;\n",
       "    }\n",
       "\n",
       "    .dataframe tbody tr th {\n",
       "        vertical-align: top;\n",
       "    }\n",
       "\n",
       "    .dataframe thead th {\n",
       "        text-align: right;\n",
       "    }\n",
       "</style>\n",
       "<table border=\"1\" class=\"dataframe\">\n",
       "  <thead>\n",
       "    <tr style=\"text-align: right;\">\n",
       "      <th></th>\n",
       "      <th>Nama</th>\n",
       "      <th>Usia</th>\n",
       "      <th>Pekerjaan</th>\n",
       "    </tr>\n",
       "  </thead>\n",
       "  <tbody>\n",
       "    <tr>\n",
       "      <th>0</th>\n",
       "      <td>Alice</td>\n",
       "      <td>25</td>\n",
       "      <td>Pengembang</td>\n",
       "    </tr>\n",
       "    <tr>\n",
       "      <th>1</th>\n",
       "      <td>Bob</td>\n",
       "      <td>30</td>\n",
       "      <td>Analisis Data</td>\n",
       "    </tr>\n",
       "    <tr>\n",
       "      <th>2</th>\n",
       "      <td>Charlie</td>\n",
       "      <td>22</td>\n",
       "      <td>Desainer</td>\n",
       "    </tr>\n",
       "    <tr>\n",
       "      <th>3</th>\n",
       "      <td>David</td>\n",
       "      <td>28</td>\n",
       "      <td>Manajer</td>\n",
       "    </tr>\n",
       "  </tbody>\n",
       "</table>\n",
       "</div>"
      ],
      "text/plain": [
       "      Nama  Usia      Pekerjaan\n",
       "0    Alice    25     Pengembang\n",
       "1      Bob    30  Analisis Data\n",
       "2  Charlie    22       Desainer\n",
       "3    David    28        Manajer"
      ]
     },
     "execution_count": 12,
     "metadata": {},
     "output_type": "execute_result"
    }
   ],
   "source": [
    "# Memuat DataFrame dari file CSV\n",
    "loaded_df = pd.read_csv('data.csv')\n",
    "loaded_df"
   ]
  },
  {
   "cell_type": "markdown",
   "id": "d0b50700-12c7-48e0-afc6-bce95ace09d4",
   "metadata": {},
   "source": [
    "# 4. Impor CSV and Excel data\n",
    "\n",
    "Pustaka Pandas memungkinkan Anda mengimpor data dari berbagai sumber, seperti file CSV dan Excel. Ini memungkinkan Anda untuk membaca data secara efisien ke dalam Pandas DataFrame, yang memudahkan analisis dan manipulasi lebih lanjut. Mari kita jelajahi cara mengimpor data dari file CSV dan Excel menggunakan Pandas."
   ]
  },
  {
   "cell_type": "markdown",
   "id": "bbe806e5-14f5-4d25-9488-adb6d44ff4fe",
   "metadata": {},
   "source": [
    "## 4.1. Mengimpor Data dari File CSV\n",
    "Berikut adalah bagaimana Anda dapat mengimpor file CSV ke dalam DataFrame:"
   ]
  },
  {
   "cell_type": "code",
   "execution_count": null,
   "id": "e5bff23d-f3df-4851-9476-6fe4e953a053",
   "metadata": {},
   "outputs": [],
   "source": [
    "import pandas as pd\n",
    "df_csv = pd.read_csv('data.csv')\n",
    "df_csv"
   ]
  },
  {
   "cell_type": "markdown",
   "id": "3f9954fd-2b90-4b1b-b834-e218bdf335a0",
   "metadata": {},
   "source": [
    "## 4.2. Menyesuaikan Pengimporan Pandas\n",
    "\n",
    "Anda dapat menyesuaikan cara Pandas mengimpor data dengan menggunakan berbagai parameter. Misalnya, jika baris pertama dalam file CSV adalah baris header, Anda dapat mengaturnya dengan parameter `header`:"
   ]
  },
  {
   "cell_type": "code",
   "execution_count": null,
   "id": "467b7f8b-bb16-4208-928e-341d9f66be00",
   "metadata": {},
   "outputs": [],
   "source": [
    "df_csv = pd.read_csv('data.csv', header=0)\n",
    "df_csv"
   ]
  },
  {
   "cell_type": "markdown",
   "id": "aa923ceb-fe73-49dc-b48a-2f21d93beafb",
   "metadata": {},
   "source": [
    "## 4.3. Mengimpor Data dari File Excel\n",
    "\n",
    "Untuk mengimpor data dari file Excel, Anda harus menginstal pustaka tambahan `openpyxl` jika belum terinstal. Anda dapat melakukannya dengan perintah berikut:\n",
    "\n",
    "```bash\n",
    "pip install openpyxl\n",
    "```"
   ]
  },
  {
   "cell_type": "code",
   "execution_count": null,
   "id": "c2c50687-e784-49cc-ad3b-6e026ea9168d",
   "metadata": {},
   "outputs": [],
   "source": [
    "!pip install openpyxl"
   ]
  },
  {
   "cell_type": "code",
   "execution_count": null,
   "id": "7cb99227-bf28-4c2c-918c-ebb023c48afd",
   "metadata": {},
   "outputs": [],
   "source": [
    "# Mengimpor data dari file Excel\n",
    "df_excel = pd.read_excel('data.xlsx', sheet_name='Sheet1')\n",
    "df_excel"
   ]
  },
  {
   "cell_type": "markdown",
   "id": "4ee866e0-95f2-4763-853c-283446e20501",
   "metadata": {},
   "source": [
    "**Penyesuaian Pemilihan Lembar dalam Excel:**\n",
    "\n",
    "Anda dapat menyesuaikan pemilihan lembar Excel dengan menggunakan parameter `sheet_name` saat mengimpor:"
   ]
  },
  {
   "cell_type": "code",
   "execution_count": null,
   "id": "3322850d-e173-428f-a6e8-99ac0ac89cc0",
   "metadata": {},
   "outputs": [],
   "source": [
    "df_sheet2 = pd.read_excel('data.xlsx', sheet_name='Sheet2')\n",
    "df_sheet2"
   ]
  },
  {
   "cell_type": "markdown",
   "id": "f831c5b3-9e0b-4658-94dd-c1d823b8758f",
   "metadata": {},
   "source": [
    "# 5. Indexing dan Subsetting\n",
    "\n",
    "Pustaka Pandas menyediakan berbagai cara untuk mengakses data dalam DataFrame, baik itu untuk memilih kolom, baris, atau kombinasi keduanya. Melalui berbagai teknik indeks dan subset, Anda dapat mengakses data yang diperlukan dengan tepat. Mari kita lihat bagaimana melakukan indeks dan subset data dalam Pandas.\n"
   ]
  },
  {
   "cell_type": "markdown",
   "id": "6f1ac2cc-ca7d-482a-8977-a6289edd9dc9",
   "metadata": {},
   "source": [
    "## 5.1. Memilih Satu Kolom"
   ]
  },
  {
   "cell_type": "code",
   "execution_count": 1,
   "id": "bc8df8ae-3d79-4c9a-be2f-0054fe90dc93",
   "metadata": {},
   "outputs": [
    {
     "data": {
      "text/html": [
       "<div>\n",
       "<style scoped>\n",
       "    .dataframe tbody tr th:only-of-type {\n",
       "        vertical-align: middle;\n",
       "    }\n",
       "\n",
       "    .dataframe tbody tr th {\n",
       "        vertical-align: top;\n",
       "    }\n",
       "\n",
       "    .dataframe thead th {\n",
       "        text-align: right;\n",
       "    }\n",
       "</style>\n",
       "<table border=\"1\" class=\"dataframe\">\n",
       "  <thead>\n",
       "    <tr style=\"text-align: right;\">\n",
       "      <th></th>\n",
       "      <th>Nama</th>\n",
       "      <th>Usia</th>\n",
       "      <th>Pekerjaan</th>\n",
       "    </tr>\n",
       "  </thead>\n",
       "  <tbody>\n",
       "    <tr>\n",
       "      <th>0</th>\n",
       "      <td>Alice</td>\n",
       "      <td>25</td>\n",
       "      <td>Pengembang</td>\n",
       "    </tr>\n",
       "    <tr>\n",
       "      <th>1</th>\n",
       "      <td>Bob</td>\n",
       "      <td>30</td>\n",
       "      <td>Analisis Data</td>\n",
       "    </tr>\n",
       "    <tr>\n",
       "      <th>2</th>\n",
       "      <td>Charlie</td>\n",
       "      <td>22</td>\n",
       "      <td>Desainer</td>\n",
       "    </tr>\n",
       "    <tr>\n",
       "      <th>3</th>\n",
       "      <td>David</td>\n",
       "      <td>28</td>\n",
       "      <td>Manajer</td>\n",
       "    </tr>\n",
       "  </tbody>\n",
       "</table>\n",
       "</div>"
      ],
      "text/plain": [
       "      Nama  Usia      Pekerjaan\n",
       "0    Alice    25     Pengembang\n",
       "1      Bob    30  Analisis Data\n",
       "2  Charlie    22       Desainer\n",
       "3    David    28        Manajer"
      ]
     },
     "execution_count": 1,
     "metadata": {},
     "output_type": "execute_result"
    }
   ],
   "source": [
    "import pandas as pd\n",
    "\n",
    "# Membuat DataFrame contoh\n",
    "data = {\n",
    "    'Nama': ['Alice', 'Bob', 'Charlie', 'David'],\n",
    "    'Usia': [25, 30, 22, 28],\n",
    "    'Pekerjaan': ['Pengembang', 'Analisis Data', 'Desainer', 'Manajer']\n",
    "}\n",
    "df = pd.DataFrame(data)\n",
    "df"
   ]
  },
  {
   "cell_type": "code",
   "execution_count": 16,
   "id": "ba8c9730-e6db-4265-b710-4d589225fe14",
   "metadata": {},
   "outputs": [
    {
     "data": {
      "text/plain": [
       "0      Alice\n",
       "1        Bob\n",
       "2    Charlie\n",
       "3      David\n",
       "Name: Nama, dtype: object"
      ]
     },
     "execution_count": 16,
     "metadata": {},
     "output_type": "execute_result"
    }
   ],
   "source": [
    "# Memilih kolom 'Nama'\n",
    "nama = df['Nama']\n",
    "nama"
   ]
  },
  {
   "cell_type": "markdown",
   "id": "08da6f3f-3119-46da-9df6-0d8d132c315e",
   "metadata": {},
   "source": [
    "## 5.2. Memilih Beberapa Kolom\n",
    "\n",
    "Anda dapat memilih beberapa kolom dengan menyediakan daftar nama kolom yang diinginkan:"
   ]
  },
  {
   "cell_type": "code",
   "execution_count": 3,
   "id": "092ba0f8-014d-4dea-841d-b445ea8e89f0",
   "metadata": {},
   "outputs": [
    {
     "data": {
      "text/html": [
       "<div>\n",
       "<style scoped>\n",
       "    .dataframe tbody tr th:only-of-type {\n",
       "        vertical-align: middle;\n",
       "    }\n",
       "\n",
       "    .dataframe tbody tr th {\n",
       "        vertical-align: top;\n",
       "    }\n",
       "\n",
       "    .dataframe thead th {\n",
       "        text-align: right;\n",
       "    }\n",
       "</style>\n",
       "<table border=\"1\" class=\"dataframe\">\n",
       "  <thead>\n",
       "    <tr style=\"text-align: right;\">\n",
       "      <th></th>\n",
       "      <th>Nama</th>\n",
       "      <th>Usia</th>\n",
       "    </tr>\n",
       "  </thead>\n",
       "  <tbody>\n",
       "    <tr>\n",
       "      <th>0</th>\n",
       "      <td>Alice</td>\n",
       "      <td>25</td>\n",
       "    </tr>\n",
       "    <tr>\n",
       "      <th>1</th>\n",
       "      <td>Bob</td>\n",
       "      <td>30</td>\n",
       "    </tr>\n",
       "    <tr>\n",
       "      <th>2</th>\n",
       "      <td>Charlie</td>\n",
       "      <td>22</td>\n",
       "    </tr>\n",
       "    <tr>\n",
       "      <th>3</th>\n",
       "      <td>David</td>\n",
       "      <td>28</td>\n",
       "    </tr>\n",
       "  </tbody>\n",
       "</table>\n",
       "</div>"
      ],
      "text/plain": [
       "      Nama  Usia\n",
       "0    Alice    25\n",
       "1      Bob    30\n",
       "2  Charlie    22\n",
       "3    David    28"
      ]
     },
     "execution_count": 3,
     "metadata": {},
     "output_type": "execute_result"
    }
   ],
   "source": [
    "# Memilih kolom 'Nama' dan 'Usia'\n",
    "nama_usia = df[['Nama', 'Usia']]\n",
    "nama_usia"
   ]
  },
  {
   "cell_type": "markdown",
   "id": "f71bba08-38c0-4ead-8259-48fae34259dd",
   "metadata": {},
   "source": [
    "## 5.3. Memilih Baris melalui [ ]\n",
    "\n",
    "Anda dapat memilih baris berdasarkan indeks numerik dengan menggunakan tanda kurung siku:"
   ]
  },
  {
   "cell_type": "code",
   "execution_count": 4,
   "id": "bacf211a-e8e1-4541-bdf7-d1e206d3cbb3",
   "metadata": {},
   "outputs": [
    {
     "data": {
      "text/html": [
       "<div>\n",
       "<style scoped>\n",
       "    .dataframe tbody tr th:only-of-type {\n",
       "        vertical-align: middle;\n",
       "    }\n",
       "\n",
       "    .dataframe tbody tr th {\n",
       "        vertical-align: top;\n",
       "    }\n",
       "\n",
       "    .dataframe thead th {\n",
       "        text-align: right;\n",
       "    }\n",
       "</style>\n",
       "<table border=\"1\" class=\"dataframe\">\n",
       "  <thead>\n",
       "    <tr style=\"text-align: right;\">\n",
       "      <th></th>\n",
       "      <th>Nama</th>\n",
       "      <th>Usia</th>\n",
       "      <th>Pekerjaan</th>\n",
       "    </tr>\n",
       "  </thead>\n",
       "  <tbody>\n",
       "    <tr>\n",
       "      <th>1</th>\n",
       "      <td>Bob</td>\n",
       "      <td>30</td>\n",
       "      <td>Analisis Data</td>\n",
       "    </tr>\n",
       "  </tbody>\n",
       "</table>\n",
       "</div>"
      ],
      "text/plain": [
       "  Nama  Usia      Pekerjaan\n",
       "1  Bob    30  Analisis Data"
      ]
     },
     "execution_count": 4,
     "metadata": {},
     "output_type": "execute_result"
    }
   ],
   "source": [
    "# Memilih baris ke-2\n",
    "baris_ke_2 = df[1:2]\n",
    "baris_ke_2"
   ]
  },
  {
   "cell_type": "markdown",
   "id": "1b1b79f4-e1b3-4b66-8831-7d55d45aa3b2",
   "metadata": {},
   "source": [
    "## 5.4. Memilih melalui .loc[] (Berdasarkan Label)\n",
    "\n",
    "Anda dapat memilih baris berdasarkan label indeks menggunakan `.loc[]`:"
   ]
  },
  {
   "cell_type": "code",
   "execution_count": 5,
   "id": "317741e3-2a8d-4a60-bf6e-4b8cab599796",
   "metadata": {},
   "outputs": [
    {
     "data": {
      "text/plain": [
       "Nama                   Bob\n",
       "Usia                    30\n",
       "Pekerjaan    Analisis Data\n",
       "Name: 1, dtype: object"
      ]
     },
     "execution_count": 5,
     "metadata": {},
     "output_type": "execute_result"
    }
   ],
   "source": [
    "# Memilih baris dengan label indeks 1\n",
    "baris_label_1 = df.loc[1]\n",
    "baris_label_1"
   ]
  },
  {
   "cell_type": "markdown",
   "id": "169b3469-d4d5-440e-8a60-98dc759d8dfa",
   "metadata": {},
   "source": [
    "## 5.5. Memilih melalui .iloc[] (Berdasarkan Posisi)\n",
    "\n",
    "Anda dapat memilih baris berdasarkan posisi numerik menggunakan `.iloc[]`:"
   ]
  },
  {
   "cell_type": "code",
   "execution_count": 6,
   "id": "f04f39a2-12fc-4faf-a604-e0aa54adbca1",
   "metadata": {},
   "outputs": [
    {
     "data": {
      "text/plain": [
       "Nama          Charlie\n",
       "Usia               22\n",
       "Pekerjaan    Desainer\n",
       "Name: 2, dtype: object"
      ]
     },
     "execution_count": 6,
     "metadata": {},
     "output_type": "execute_result"
    }
   ],
   "source": [
    "# Memilih baris pada posisi indeks 2\n",
    "baris_posisi_2 = df.iloc[2]\n",
    "baris_posisi_2"
   ]
  },
  {
   "cell_type": "markdown",
   "id": "5eb9ecd2-51d5-4f24-aadd-1e93667db0e9",
   "metadata": {},
   "source": [
    "## 5.6. Indeks Boolean\n",
    "\n",
    "Anda dapat menggunakan indeks boolean untuk memilih baris berdasarkan kondisi tertentu:"
   ]
  },
  {
   "cell_type": "code",
   "execution_count": 7,
   "id": "1b3dc744-baf0-4823-8afe-52b144c8010f",
   "metadata": {},
   "outputs": [
    {
     "data": {
      "text/html": [
       "<div>\n",
       "<style scoped>\n",
       "    .dataframe tbody tr th:only-of-type {\n",
       "        vertical-align: middle;\n",
       "    }\n",
       "\n",
       "    .dataframe tbody tr th {\n",
       "        vertical-align: top;\n",
       "    }\n",
       "\n",
       "    .dataframe thead th {\n",
       "        text-align: right;\n",
       "    }\n",
       "</style>\n",
       "<table border=\"1\" class=\"dataframe\">\n",
       "  <thead>\n",
       "    <tr style=\"text-align: right;\">\n",
       "      <th></th>\n",
       "      <th>Nama</th>\n",
       "      <th>Usia</th>\n",
       "      <th>Pekerjaan</th>\n",
       "    </tr>\n",
       "  </thead>\n",
       "  <tbody>\n",
       "    <tr>\n",
       "      <th>1</th>\n",
       "      <td>Bob</td>\n",
       "      <td>30</td>\n",
       "      <td>Analisis Data</td>\n",
       "    </tr>\n",
       "    <tr>\n",
       "      <th>3</th>\n",
       "      <td>David</td>\n",
       "      <td>28</td>\n",
       "      <td>Manajer</td>\n",
       "    </tr>\n",
       "  </tbody>\n",
       "</table>\n",
       "</div>"
      ],
      "text/plain": [
       "    Nama  Usia      Pekerjaan\n",
       "1    Bob    30  Analisis Data\n",
       "3  David    28        Manajer"
      ]
     },
     "execution_count": 7,
     "metadata": {},
     "output_type": "execute_result"
    }
   ],
   "source": [
    "# Memilih baris dengan usia di atas 25\n",
    "diatas_25 = df[df['Usia'] > 25]\n",
    "diatas_25"
   ]
  },
  {
   "cell_type": "markdown",
   "id": "e49a6cdd-c21a-41d4-9544-e3bbbfccfd2b",
   "metadata": {},
   "source": [
    "# 6. Memanipulasi DataFrame dalam Pandas\n",
    "\n",
    "Pustaka Pandas memungkinkan Anda untuk melakukan berbagai manipulasi pada DataFrame, seperti mentranspose, mengurutkan, menambah atau menghapus kolom, dan banyak lagi. Ini memberi Anda kemampuan untuk merubah dan memodifikasi data dengan fleksibilitas. Mari kita lihat cara-cara memanipulasi DataFrame dalam Pandas."
   ]
  },
  {
   "cell_type": "markdown",
   "id": "e4c0b143-1231-4701-a47b-91e0a48b943b",
   "metadata": {},
   "source": [
    "## 6.1. Transposisi dengan .T\n",
    "\n",
    "Anda dapat mentransposisi DataFrame dengan menggunakan atribut `.T`:"
   ]
  },
  {
   "cell_type": "code",
   "execution_count": 27,
   "id": "dc8f5162-d387-459b-b1a0-98faf3a71579",
   "metadata": {},
   "outputs": [
    {
     "data": {
      "text/html": [
       "<div>\n",
       "<style scoped>\n",
       "    .dataframe tbody tr th:only-of-type {\n",
       "        vertical-align: middle;\n",
       "    }\n",
       "\n",
       "    .dataframe tbody tr th {\n",
       "        vertical-align: top;\n",
       "    }\n",
       "\n",
       "    .dataframe thead th {\n",
       "        text-align: right;\n",
       "    }\n",
       "</style>\n",
       "<table border=\"1\" class=\"dataframe\">\n",
       "  <thead>\n",
       "    <tr style=\"text-align: right;\">\n",
       "      <th></th>\n",
       "      <th>Nama</th>\n",
       "      <th>Usia</th>\n",
       "      <th>Pekerjaan</th>\n",
       "    </tr>\n",
       "  </thead>\n",
       "  <tbody>\n",
       "    <tr>\n",
       "      <th>0</th>\n",
       "      <td>Alice</td>\n",
       "      <td>25</td>\n",
       "      <td>Pengembang</td>\n",
       "    </tr>\n",
       "    <tr>\n",
       "      <th>1</th>\n",
       "      <td>Bob</td>\n",
       "      <td>30</td>\n",
       "      <td>Analisis Data</td>\n",
       "    </tr>\n",
       "    <tr>\n",
       "      <th>2</th>\n",
       "      <td>Charlie</td>\n",
       "      <td>22</td>\n",
       "      <td>Desainer</td>\n",
       "    </tr>\n",
       "    <tr>\n",
       "      <th>3</th>\n",
       "      <td>David</td>\n",
       "      <td>28</td>\n",
       "      <td>Manajer</td>\n",
       "    </tr>\n",
       "  </tbody>\n",
       "</table>\n",
       "</div>"
      ],
      "text/plain": [
       "      Nama  Usia      Pekerjaan\n",
       "0    Alice    25     Pengembang\n",
       "1      Bob    30  Analisis Data\n",
       "2  Charlie    22       Desainer\n",
       "3    David    28        Manajer"
      ]
     },
     "execution_count": 27,
     "metadata": {},
     "output_type": "execute_result"
    }
   ],
   "source": [
    "import pandas as pd\n",
    "\n",
    "# Membuat DataFrame contoh\n",
    "data = {\n",
    "    'Nama': ['Alice', 'Bob', 'Charlie', 'David'],\n",
    "    'Usia': [25, 30, 22, 28],\n",
    "    'Pekerjaan': ['Pengembang', 'Analisis Data', 'Desainer', 'Manajer']\n",
    "}\n",
    "df = pd.DataFrame(data)\n",
    "df"
   ]
  },
  {
   "cell_type": "code",
   "execution_count": 28,
   "id": "ac030f4c-19b5-4846-9abd-a7e19cc3c488",
   "metadata": {},
   "outputs": [
    {
     "data": {
      "text/html": [
       "<div>\n",
       "<style scoped>\n",
       "    .dataframe tbody tr th:only-of-type {\n",
       "        vertical-align: middle;\n",
       "    }\n",
       "\n",
       "    .dataframe tbody tr th {\n",
       "        vertical-align: top;\n",
       "    }\n",
       "\n",
       "    .dataframe thead th {\n",
       "        text-align: right;\n",
       "    }\n",
       "</style>\n",
       "<table border=\"1\" class=\"dataframe\">\n",
       "  <thead>\n",
       "    <tr style=\"text-align: right;\">\n",
       "      <th></th>\n",
       "      <th>0</th>\n",
       "      <th>1</th>\n",
       "      <th>2</th>\n",
       "      <th>3</th>\n",
       "    </tr>\n",
       "  </thead>\n",
       "  <tbody>\n",
       "    <tr>\n",
       "      <th>Nama</th>\n",
       "      <td>Alice</td>\n",
       "      <td>Bob</td>\n",
       "      <td>Charlie</td>\n",
       "      <td>David</td>\n",
       "    </tr>\n",
       "    <tr>\n",
       "      <th>Usia</th>\n",
       "      <td>25</td>\n",
       "      <td>30</td>\n",
       "      <td>22</td>\n",
       "      <td>28</td>\n",
       "    </tr>\n",
       "    <tr>\n",
       "      <th>Pekerjaan</th>\n",
       "      <td>Pengembang</td>\n",
       "      <td>Analisis Data</td>\n",
       "      <td>Desainer</td>\n",
       "      <td>Manajer</td>\n",
       "    </tr>\n",
       "  </tbody>\n",
       "</table>\n",
       "</div>"
      ],
      "text/plain": [
       "                    0              1         2        3\n",
       "Nama            Alice            Bob   Charlie    David\n",
       "Usia               25             30        22       28\n",
       "Pekerjaan  Pengembang  Analisis Data  Desainer  Manajer"
      ]
     },
     "execution_count": 28,
     "metadata": {},
     "output_type": "execute_result"
    }
   ],
   "source": [
    "# Melakukan transposisi DataFrame\n",
    "transposed_df = df.T\n",
    "transposed_df"
   ]
  },
  {
   "cell_type": "markdown",
   "id": "2f1ee4fc-98f1-4de4-8f8f-6001100b269a",
   "metadata": {},
   "source": [
    "## 6.2. Metode .sort_index()\n",
    "\n",
    "Anda dapat mengurutkan DataFrame berdasarkan indeks menggunakan metode `.sort_index()`:"
   ]
  },
  {
   "cell_type": "code",
   "execution_count": 29,
   "id": "658098e9-6960-4b03-bc7b-7797354f8911",
   "metadata": {},
   "outputs": [
    {
     "data": {
      "text/html": [
       "<div>\n",
       "<style scoped>\n",
       "    .dataframe tbody tr th:only-of-type {\n",
       "        vertical-align: middle;\n",
       "    }\n",
       "\n",
       "    .dataframe tbody tr th {\n",
       "        vertical-align: top;\n",
       "    }\n",
       "\n",
       "    .dataframe thead th {\n",
       "        text-align: right;\n",
       "    }\n",
       "</style>\n",
       "<table border=\"1\" class=\"dataframe\">\n",
       "  <thead>\n",
       "    <tr style=\"text-align: right;\">\n",
       "      <th></th>\n",
       "      <th>Nama</th>\n",
       "      <th>Usia</th>\n",
       "      <th>Pekerjaan</th>\n",
       "    </tr>\n",
       "  </thead>\n",
       "  <tbody>\n",
       "    <tr>\n",
       "      <th>0</th>\n",
       "      <td>Alice</td>\n",
       "      <td>25</td>\n",
       "      <td>Pengembang</td>\n",
       "    </tr>\n",
       "    <tr>\n",
       "      <th>1</th>\n",
       "      <td>Bob</td>\n",
       "      <td>30</td>\n",
       "      <td>Analisis Data</td>\n",
       "    </tr>\n",
       "    <tr>\n",
       "      <th>2</th>\n",
       "      <td>Charlie</td>\n",
       "      <td>22</td>\n",
       "      <td>Desainer</td>\n",
       "    </tr>\n",
       "    <tr>\n",
       "      <th>3</th>\n",
       "      <td>David</td>\n",
       "      <td>28</td>\n",
       "      <td>Manajer</td>\n",
       "    </tr>\n",
       "  </tbody>\n",
       "</table>\n",
       "</div>"
      ],
      "text/plain": [
       "      Nama  Usia      Pekerjaan\n",
       "0    Alice    25     Pengembang\n",
       "1      Bob    30  Analisis Data\n",
       "2  Charlie    22       Desainer\n",
       "3    David    28        Manajer"
      ]
     },
     "execution_count": 29,
     "metadata": {},
     "output_type": "execute_result"
    }
   ],
   "source": [
    "# Mengurutkan DataFrame berdasarkan indeks\n",
    "sorted_df = df.sort_index()\n",
    "sorted_df"
   ]
  },
  {
   "cell_type": "markdown",
   "id": "dbebedd9-5afc-406c-879f-8c8bdd776fae",
   "metadata": {},
   "source": [
    "## 6.3. Metode .sort_values()\n",
    "\n",
    "Anda dapat mengurutkan DataFrame berdasarkan nilai kolom menggunakan metode `.sort_values()`:"
   ]
  },
  {
   "cell_type": "code",
   "execution_count": 30,
   "id": "fbee3354-edce-47d0-ad05-ac543ea07e2e",
   "metadata": {},
   "outputs": [
    {
     "data": {
      "text/html": [
       "<div>\n",
       "<style scoped>\n",
       "    .dataframe tbody tr th:only-of-type {\n",
       "        vertical-align: middle;\n",
       "    }\n",
       "\n",
       "    .dataframe tbody tr th {\n",
       "        vertical-align: top;\n",
       "    }\n",
       "\n",
       "    .dataframe thead th {\n",
       "        text-align: right;\n",
       "    }\n",
       "</style>\n",
       "<table border=\"1\" class=\"dataframe\">\n",
       "  <thead>\n",
       "    <tr style=\"text-align: right;\">\n",
       "      <th></th>\n",
       "      <th>Nama</th>\n",
       "      <th>Usia</th>\n",
       "      <th>Pekerjaan</th>\n",
       "    </tr>\n",
       "  </thead>\n",
       "  <tbody>\n",
       "    <tr>\n",
       "      <th>2</th>\n",
       "      <td>Charlie</td>\n",
       "      <td>22</td>\n",
       "      <td>Desainer</td>\n",
       "    </tr>\n",
       "    <tr>\n",
       "      <th>0</th>\n",
       "      <td>Alice</td>\n",
       "      <td>25</td>\n",
       "      <td>Pengembang</td>\n",
       "    </tr>\n",
       "    <tr>\n",
       "      <th>3</th>\n",
       "      <td>David</td>\n",
       "      <td>28</td>\n",
       "      <td>Manajer</td>\n",
       "    </tr>\n",
       "    <tr>\n",
       "      <th>1</th>\n",
       "      <td>Bob</td>\n",
       "      <td>30</td>\n",
       "      <td>Analisis Data</td>\n",
       "    </tr>\n",
       "  </tbody>\n",
       "</table>\n",
       "</div>"
      ],
      "text/plain": [
       "      Nama  Usia      Pekerjaan\n",
       "2  Charlie    22       Desainer\n",
       "0    Alice    25     Pengembang\n",
       "3    David    28        Manajer\n",
       "1      Bob    30  Analisis Data"
      ]
     },
     "execution_count": 30,
     "metadata": {},
     "output_type": "execute_result"
    }
   ],
   "source": [
    "# Mengurutkan DataFrame berdasarkan kolom 'Usia'\n",
    "sorted_by_age = df.sort_values(by='Usia')\n",
    "sorted_by_age"
   ]
  },
  {
   "cell_type": "markdown",
   "id": "9f1693b1-63d0-4cc7-bd72-faaa86ac372c",
   "metadata": {},
   "source": [
    "## 6.4. Fungsi reindex()\n",
    "\n",
    "Anda dapat mengubah ulang indeks DataFrame menggunakan fungsi `reindex()`:"
   ]
  },
  {
   "cell_type": "code",
   "execution_count": 31,
   "id": "48bfadde-e701-4c4f-bad3-663fef38b0d4",
   "metadata": {},
   "outputs": [
    {
     "data": {
      "text/html": [
       "<div>\n",
       "<style scoped>\n",
       "    .dataframe tbody tr th:only-of-type {\n",
       "        vertical-align: middle;\n",
       "    }\n",
       "\n",
       "    .dataframe tbody tr th {\n",
       "        vertical-align: top;\n",
       "    }\n",
       "\n",
       "    .dataframe thead th {\n",
       "        text-align: right;\n",
       "    }\n",
       "</style>\n",
       "<table border=\"1\" class=\"dataframe\">\n",
       "  <thead>\n",
       "    <tr style=\"text-align: right;\">\n",
       "      <th></th>\n",
       "      <th>Nama</th>\n",
       "      <th>Usia</th>\n",
       "      <th>Pekerjaan</th>\n",
       "    </tr>\n",
       "  </thead>\n",
       "  <tbody>\n",
       "    <tr>\n",
       "      <th>3</th>\n",
       "      <td>David</td>\n",
       "      <td>28</td>\n",
       "      <td>Manajer</td>\n",
       "    </tr>\n",
       "    <tr>\n",
       "      <th>2</th>\n",
       "      <td>Charlie</td>\n",
       "      <td>22</td>\n",
       "      <td>Desainer</td>\n",
       "    </tr>\n",
       "    <tr>\n",
       "      <th>1</th>\n",
       "      <td>Bob</td>\n",
       "      <td>30</td>\n",
       "      <td>Analisis Data</td>\n",
       "    </tr>\n",
       "    <tr>\n",
       "      <th>0</th>\n",
       "      <td>Alice</td>\n",
       "      <td>25</td>\n",
       "      <td>Pengembang</td>\n",
       "    </tr>\n",
       "  </tbody>\n",
       "</table>\n",
       "</div>"
      ],
      "text/plain": [
       "      Nama  Usia      Pekerjaan\n",
       "3    David    28        Manajer\n",
       "2  Charlie    22       Desainer\n",
       "1      Bob    30  Analisis Data\n",
       "0    Alice    25     Pengembang"
      ]
     },
     "execution_count": 31,
     "metadata": {},
     "output_type": "execute_result"
    }
   ],
   "source": [
    "# Mengubah ulang indeks DataFrame\n",
    "reindexed_df = df.reindex([3, 2, 1, 0])\n",
    "reindexed_df"
   ]
  },
  {
   "cell_type": "markdown",
   "id": "45c064bb-d603-432c-9f20-bff5014495c7",
   "metadata": {},
   "source": [
    "## 6.5. Menambah Kolom Baru\n",
    "\n",
    "Anda dapat menambahkan kolom baru ke dalam DataFrame:"
   ]
  },
  {
   "cell_type": "code",
   "execution_count": 32,
   "id": "7d69294e-f4b5-4bf3-bebf-a6715c6a5805",
   "metadata": {},
   "outputs": [
    {
     "data": {
      "text/html": [
       "<div>\n",
       "<style scoped>\n",
       "    .dataframe tbody tr th:only-of-type {\n",
       "        vertical-align: middle;\n",
       "    }\n",
       "\n",
       "    .dataframe tbody tr th {\n",
       "        vertical-align: top;\n",
       "    }\n",
       "\n",
       "    .dataframe thead th {\n",
       "        text-align: right;\n",
       "    }\n",
       "</style>\n",
       "<table border=\"1\" class=\"dataframe\">\n",
       "  <thead>\n",
       "    <tr style=\"text-align: right;\">\n",
       "      <th></th>\n",
       "      <th>Nama</th>\n",
       "      <th>Usia</th>\n",
       "      <th>Pekerjaan</th>\n",
       "      <th>Alamat</th>\n",
       "    </tr>\n",
       "  </thead>\n",
       "  <tbody>\n",
       "    <tr>\n",
       "      <th>0</th>\n",
       "      <td>Alice</td>\n",
       "      <td>25</td>\n",
       "      <td>Pengembang</td>\n",
       "      <td>Jalan A</td>\n",
       "    </tr>\n",
       "    <tr>\n",
       "      <th>1</th>\n",
       "      <td>Bob</td>\n",
       "      <td>30</td>\n",
       "      <td>Analisis Data</td>\n",
       "      <td>Jalan B</td>\n",
       "    </tr>\n",
       "    <tr>\n",
       "      <th>2</th>\n",
       "      <td>Charlie</td>\n",
       "      <td>22</td>\n",
       "      <td>Desainer</td>\n",
       "      <td>Jalan C</td>\n",
       "    </tr>\n",
       "    <tr>\n",
       "      <th>3</th>\n",
       "      <td>David</td>\n",
       "      <td>28</td>\n",
       "      <td>Manajer</td>\n",
       "      <td>Jalan D</td>\n",
       "    </tr>\n",
       "  </tbody>\n",
       "</table>\n",
       "</div>"
      ],
      "text/plain": [
       "      Nama  Usia      Pekerjaan   Alamat\n",
       "0    Alice    25     Pengembang  Jalan A\n",
       "1      Bob    30  Analisis Data  Jalan B\n",
       "2  Charlie    22       Desainer  Jalan C\n",
       "3    David    28        Manajer  Jalan D"
      ]
     },
     "execution_count": 32,
     "metadata": {},
     "output_type": "execute_result"
    }
   ],
   "source": [
    "# Menambahkan kolom 'Alamat'\n",
    "alamat = ['Jalan A', 'Jalan B', 'Jalan C', 'Jalan D']\n",
    "df['Alamat'] = alamat\n",
    "df"
   ]
  },
  {
   "cell_type": "markdown",
   "id": "6bd348ed-1d73-4f2f-b585-8999914b399d",
   "metadata": {},
   "source": [
    "## 6.6. Menghapus Kolom yang Ada\n",
    "\n",
    "Anda dapat menghapus kolom yang sudah ada dari DataFrame:"
   ]
  },
  {
   "cell_type": "code",
   "execution_count": 33,
   "id": "d226c0ec-49fa-4c04-a166-1ea039de439d",
   "metadata": {},
   "outputs": [
    {
     "data": {
      "text/html": [
       "<div>\n",
       "<style scoped>\n",
       "    .dataframe tbody tr th:only-of-type {\n",
       "        vertical-align: middle;\n",
       "    }\n",
       "\n",
       "    .dataframe tbody tr th {\n",
       "        vertical-align: top;\n",
       "    }\n",
       "\n",
       "    .dataframe thead th {\n",
       "        text-align: right;\n",
       "    }\n",
       "</style>\n",
       "<table border=\"1\" class=\"dataframe\">\n",
       "  <thead>\n",
       "    <tr style=\"text-align: right;\">\n",
       "      <th></th>\n",
       "      <th>Nama</th>\n",
       "      <th>Usia</th>\n",
       "      <th>Alamat</th>\n",
       "    </tr>\n",
       "  </thead>\n",
       "  <tbody>\n",
       "    <tr>\n",
       "      <th>0</th>\n",
       "      <td>Alice</td>\n",
       "      <td>25</td>\n",
       "      <td>Jalan A</td>\n",
       "    </tr>\n",
       "    <tr>\n",
       "      <th>1</th>\n",
       "      <td>Bob</td>\n",
       "      <td>30</td>\n",
       "      <td>Jalan B</td>\n",
       "    </tr>\n",
       "    <tr>\n",
       "      <th>2</th>\n",
       "      <td>Charlie</td>\n",
       "      <td>22</td>\n",
       "      <td>Jalan C</td>\n",
       "    </tr>\n",
       "    <tr>\n",
       "      <th>3</th>\n",
       "      <td>David</td>\n",
       "      <td>28</td>\n",
       "      <td>Jalan D</td>\n",
       "    </tr>\n",
       "  </tbody>\n",
       "</table>\n",
       "</div>"
      ],
      "text/plain": [
       "      Nama  Usia   Alamat\n",
       "0    Alice    25  Jalan A\n",
       "1      Bob    30  Jalan B\n",
       "2  Charlie    22  Jalan C\n",
       "3    David    28  Jalan D"
      ]
     },
     "execution_count": 33,
     "metadata": {},
     "output_type": "execute_result"
    }
   ],
   "source": [
    "# Menghapus kolom 'Pekerjaan'\n",
    "df_dropped = df.drop('Pekerjaan', axis=1)\n",
    "df_dropped"
   ]
  },
  {
   "cell_type": "markdown",
   "id": "9ccbd8d8-5315-4814-8b88-b5d0e52e9330",
   "metadata": {},
   "source": [
    "## 6.7. Metode .at[] (Berdasarkan Label)\n",
    "\n",
    "Anda dapat mengakses dan memodifikasi nilai dalam DataFrame berdasarkan label menggunakan metode `.at[]`:"
   ]
  },
  {
   "cell_type": "code",
   "execution_count": 34,
   "id": "78d2556f-9992-4bcd-98a4-91236e3b6693",
   "metadata": {},
   "outputs": [
    {
     "data": {
      "text/html": [
       "<div>\n",
       "<style scoped>\n",
       "    .dataframe tbody tr th:only-of-type {\n",
       "        vertical-align: middle;\n",
       "    }\n",
       "\n",
       "    .dataframe tbody tr th {\n",
       "        vertical-align: top;\n",
       "    }\n",
       "\n",
       "    .dataframe thead th {\n",
       "        text-align: right;\n",
       "    }\n",
       "</style>\n",
       "<table border=\"1\" class=\"dataframe\">\n",
       "  <thead>\n",
       "    <tr style=\"text-align: right;\">\n",
       "      <th></th>\n",
       "      <th>Nama</th>\n",
       "      <th>Usia</th>\n",
       "      <th>Pekerjaan</th>\n",
       "      <th>Alamat</th>\n",
       "    </tr>\n",
       "  </thead>\n",
       "  <tbody>\n",
       "    <tr>\n",
       "      <th>0</th>\n",
       "      <td>Alice</td>\n",
       "      <td>25</td>\n",
       "      <td>Pengembang</td>\n",
       "      <td>Jalan A</td>\n",
       "    </tr>\n",
       "    <tr>\n",
       "      <th>1</th>\n",
       "      <td>Bob Smith</td>\n",
       "      <td>30</td>\n",
       "      <td>Analisis Data</td>\n",
       "      <td>Jalan B</td>\n",
       "    </tr>\n",
       "    <tr>\n",
       "      <th>2</th>\n",
       "      <td>Charlie</td>\n",
       "      <td>22</td>\n",
       "      <td>Desainer</td>\n",
       "      <td>Jalan C</td>\n",
       "    </tr>\n",
       "    <tr>\n",
       "      <th>3</th>\n",
       "      <td>David</td>\n",
       "      <td>28</td>\n",
       "      <td>Manajer</td>\n",
       "      <td>Jalan D</td>\n",
       "    </tr>\n",
       "  </tbody>\n",
       "</table>\n",
       "</div>"
      ],
      "text/plain": [
       "        Nama  Usia      Pekerjaan   Alamat\n",
       "0      Alice    25     Pengembang  Jalan A\n",
       "1  Bob Smith    30  Analisis Data  Jalan B\n",
       "2    Charlie    22       Desainer  Jalan C\n",
       "3      David    28        Manajer  Jalan D"
      ]
     },
     "execution_count": 34,
     "metadata": {},
     "output_type": "execute_result"
    }
   ],
   "source": [
    "# Mengakses dan mengubah nilai pada baris 1, kolom 'Nama'\n",
    "df.at[1, 'Nama'] = 'Bob Smith'\n",
    "df"
   ]
  },
  {
   "cell_type": "markdown",
   "id": "b4cfcfdd-35e1-4651-b21b-d3e19285d53d",
   "metadata": {},
   "source": [
    "## 6.8. Metode .iat[] (Berdasarkan Posisi)\n",
    "\n",
    "Anda dapat mengakses dan memodifikasi nilai dalam DataFrame berdasarkan posisi numerik menggunakan metode `.iat[]`:"
   ]
  },
  {
   "cell_type": "code",
   "execution_count": 35,
   "id": "389fbc66-5ff4-44ad-9f10-460754325e5c",
   "metadata": {},
   "outputs": [
    {
     "data": {
      "text/html": [
       "<div>\n",
       "<style scoped>\n",
       "    .dataframe tbody tr th:only-of-type {\n",
       "        vertical-align: middle;\n",
       "    }\n",
       "\n",
       "    .dataframe tbody tr th {\n",
       "        vertical-align: top;\n",
       "    }\n",
       "\n",
       "    .dataframe thead th {\n",
       "        text-align: right;\n",
       "    }\n",
       "</style>\n",
       "<table border=\"1\" class=\"dataframe\">\n",
       "  <thead>\n",
       "    <tr style=\"text-align: right;\">\n",
       "      <th></th>\n",
       "      <th>Nama</th>\n",
       "      <th>Usia</th>\n",
       "      <th>Pekerjaan</th>\n",
       "      <th>Alamat</th>\n",
       "    </tr>\n",
       "  </thead>\n",
       "  <tbody>\n",
       "    <tr>\n",
       "      <th>0</th>\n",
       "      <td>Alice</td>\n",
       "      <td>25</td>\n",
       "      <td>Pengembang</td>\n",
       "      <td>Jalan A</td>\n",
       "    </tr>\n",
       "    <tr>\n",
       "      <th>1</th>\n",
       "      <td>Bob Smith</td>\n",
       "      <td>30</td>\n",
       "      <td>Analisis Data</td>\n",
       "      <td>Jalan B</td>\n",
       "    </tr>\n",
       "    <tr>\n",
       "      <th>2</th>\n",
       "      <td>Charlie</td>\n",
       "      <td>23</td>\n",
       "      <td>Desainer</td>\n",
       "      <td>Jalan C</td>\n",
       "    </tr>\n",
       "    <tr>\n",
       "      <th>3</th>\n",
       "      <td>David</td>\n",
       "      <td>28</td>\n",
       "      <td>Manajer</td>\n",
       "      <td>Jalan D</td>\n",
       "    </tr>\n",
       "  </tbody>\n",
       "</table>\n",
       "</div>"
      ],
      "text/plain": [
       "        Nama  Usia      Pekerjaan   Alamat\n",
       "0      Alice    25     Pengembang  Jalan A\n",
       "1  Bob Smith    30  Analisis Data  Jalan B\n",
       "2    Charlie    23       Desainer  Jalan C\n",
       "3      David    28        Manajer  Jalan D"
      ]
     },
     "execution_count": 35,
     "metadata": {},
     "output_type": "execute_result"
    }
   ],
   "source": [
    "# Mengakses dan mengubah nilai pada baris 2, kolom 1\n",
    "df.iat[2, 1] = 23\n",
    "df"
   ]
  },
  {
   "cell_type": "markdown",
   "id": "8ce84ac9-b539-4a8a-903a-1d9d3ddda4be",
   "metadata": {},
   "source": [
    "## 6.9. Pembaruan Kondisional Nilai\n",
    "\n",
    "Anda dapat melakukan pembaruan kondisional terhadap nilai dalam DataFrame:"
   ]
  },
  {
   "cell_type": "code",
   "execution_count": 42,
   "id": "de87e09e-f701-4563-a492-a16056b733a7",
   "metadata": {},
   "outputs": [
    {
     "data": {
      "text/html": [
       "<div>\n",
       "<style scoped>\n",
       "    .dataframe tbody tr th:only-of-type {\n",
       "        vertical-align: middle;\n",
       "    }\n",
       "\n",
       "    .dataframe tbody tr th {\n",
       "        vertical-align: top;\n",
       "    }\n",
       "\n",
       "    .dataframe thead th {\n",
       "        text-align: right;\n",
       "    }\n",
       "</style>\n",
       "<table border=\"1\" class=\"dataframe\">\n",
       "  <thead>\n",
       "    <tr style=\"text-align: right;\">\n",
       "      <th></th>\n",
       "      <th>Nama</th>\n",
       "      <th>Usia</th>\n",
       "      <th>Pekerjaan</th>\n",
       "      <th>Alamat</th>\n",
       "      <th>Usia_shifted</th>\n",
       "    </tr>\n",
       "  </thead>\n",
       "  <tbody>\n",
       "    <tr>\n",
       "      <th>0</th>\n",
       "      <td>Alice</td>\n",
       "      <td>50</td>\n",
       "      <td>Pengembang</td>\n",
       "      <td>Jalan A</td>\n",
       "      <td>NaN</td>\n",
       "    </tr>\n",
       "    <tr>\n",
       "      <th>1</th>\n",
       "      <td>Bob Smith</td>\n",
       "      <td>60</td>\n",
       "      <td>Analisis Data</td>\n",
       "      <td>Jalan B</td>\n",
       "      <td>50.0</td>\n",
       "    </tr>\n",
       "    <tr>\n",
       "      <th>2</th>\n",
       "      <td>Charlie</td>\n",
       "      <td>24</td>\n",
       "      <td>Desainer</td>\n",
       "      <td>Jalan C</td>\n",
       "      <td>60.0</td>\n",
       "    </tr>\n",
       "    <tr>\n",
       "      <th>3</th>\n",
       "      <td>David</td>\n",
       "      <td>56</td>\n",
       "      <td>Manajer</td>\n",
       "      <td>Jalan D</td>\n",
       "      <td>48.0</td>\n",
       "    </tr>\n",
       "  </tbody>\n",
       "</table>\n",
       "</div>"
      ],
      "text/plain": [
       "        Nama  Usia      Pekerjaan   Alamat  Usia_shifted\n",
       "0      Alice    50     Pengembang  Jalan A           NaN\n",
       "1  Bob Smith    60  Analisis Data  Jalan B          50.0\n",
       "2    Charlie    24       Desainer  Jalan C          60.0\n",
       "3      David    56        Manajer  Jalan D          48.0"
      ]
     },
     "execution_count": 42,
     "metadata": {},
     "output_type": "execute_result"
    }
   ],
   "source": [
    "# Memperbarui usia Charlie menjadi 24 jika pekerjaannya adalah 'Desainer'\n",
    "df.loc[df['Pekerjaan'] == 'Desainer', 'Usia'] = 24\n",
    "df"
   ]
  },
  {
   "cell_type": "markdown",
   "id": "27cd83b8-1d4c-45d5-a367-96211b0a50c8",
   "metadata": {},
   "source": [
    "## 6.10. Metode dropna()\n",
    "\n",
    "Anda dapat menghapus baris dengan nilai yang hilang menggunakan metode `.dropna()`:"
   ]
  },
  {
   "cell_type": "code",
   "execution_count": 37,
   "id": "ee903afa-85ef-4fe9-873e-7d7005d91f78",
   "metadata": {},
   "outputs": [
    {
     "data": {
      "text/html": [
       "<div>\n",
       "<style scoped>\n",
       "    .dataframe tbody tr th:only-of-type {\n",
       "        vertical-align: middle;\n",
       "    }\n",
       "\n",
       "    .dataframe tbody tr th {\n",
       "        vertical-align: top;\n",
       "    }\n",
       "\n",
       "    .dataframe thead th {\n",
       "        text-align: right;\n",
       "    }\n",
       "</style>\n",
       "<table border=\"1\" class=\"dataframe\">\n",
       "  <thead>\n",
       "    <tr style=\"text-align: right;\">\n",
       "      <th></th>\n",
       "      <th>Nama</th>\n",
       "      <th>Usia</th>\n",
       "      <th>Pekerjaan</th>\n",
       "      <th>Alamat</th>\n",
       "    </tr>\n",
       "  </thead>\n",
       "  <tbody>\n",
       "    <tr>\n",
       "      <th>0</th>\n",
       "      <td>Alice</td>\n",
       "      <td>25</td>\n",
       "      <td>Pengembang</td>\n",
       "      <td>Jalan A</td>\n",
       "    </tr>\n",
       "    <tr>\n",
       "      <th>1</th>\n",
       "      <td>Bob Smith</td>\n",
       "      <td>30</td>\n",
       "      <td>Analisis Data</td>\n",
       "      <td>Jalan B</td>\n",
       "    </tr>\n",
       "    <tr>\n",
       "      <th>2</th>\n",
       "      <td>Charlie</td>\n",
       "      <td>24</td>\n",
       "      <td>Desainer</td>\n",
       "      <td>Jalan C</td>\n",
       "    </tr>\n",
       "    <tr>\n",
       "      <th>3</th>\n",
       "      <td>David</td>\n",
       "      <td>28</td>\n",
       "      <td>Manajer</td>\n",
       "      <td>Jalan D</td>\n",
       "    </tr>\n",
       "  </tbody>\n",
       "</table>\n",
       "</div>"
      ],
      "text/plain": [
       "        Nama  Usia      Pekerjaan   Alamat\n",
       "0      Alice    25     Pengembang  Jalan A\n",
       "1  Bob Smith    30  Analisis Data  Jalan B\n",
       "2    Charlie    24       Desainer  Jalan C\n",
       "3      David    28        Manajer  Jalan D"
      ]
     },
     "execution_count": 37,
     "metadata": {},
     "output_type": "execute_result"
    }
   ],
   "source": [
    "# Menghapus baris dengan nilai yang hilang\n",
    "df_cleaned = df.dropna()\n",
    "df_cleaned"
   ]
  },
  {
   "cell_type": "markdown",
   "id": "eafd107a-9c82-49d7-b226-10011eedf99a",
   "metadata": {},
   "source": [
    "## 6.11: Metode fillna()\n",
    "\n",
    "Anda dapat mengisi nilai yang hilang dengan nilai tertentu menggunakan metode `.fillna()`:"
   ]
  },
  {
   "cell_type": "code",
   "execution_count": 38,
   "id": "b9537436-8347-4394-bd86-b946fcd964cc",
   "metadata": {},
   "outputs": [
    {
     "data": {
      "text/html": [
       "<div>\n",
       "<style scoped>\n",
       "    .dataframe tbody tr th:only-of-type {\n",
       "        vertical-align: middle;\n",
       "    }\n",
       "\n",
       "    .dataframe tbody tr th {\n",
       "        vertical-align: top;\n",
       "    }\n",
       "\n",
       "    .dataframe thead th {\n",
       "        text-align: right;\n",
       "    }\n",
       "</style>\n",
       "<table border=\"1\" class=\"dataframe\">\n",
       "  <thead>\n",
       "    <tr style=\"text-align: right;\">\n",
       "      <th></th>\n",
       "      <th>Nama</th>\n",
       "      <th>Usia</th>\n",
       "      <th>Pekerjaan</th>\n",
       "      <th>Alamat</th>\n",
       "    </tr>\n",
       "  </thead>\n",
       "  <tbody>\n",
       "    <tr>\n",
       "      <th>0</th>\n",
       "      <td>Alice</td>\n",
       "      <td>25</td>\n",
       "      <td>Pengembang</td>\n",
       "      <td>Jalan A</td>\n",
       "    </tr>\n",
       "    <tr>\n",
       "      <th>1</th>\n",
       "      <td>Bob Smith</td>\n",
       "      <td>30</td>\n",
       "      <td>Analisis Data</td>\n",
       "      <td>Jalan B</td>\n",
       "    </tr>\n",
       "    <tr>\n",
       "      <th>2</th>\n",
       "      <td>Charlie</td>\n",
       "      <td>24</td>\n",
       "      <td>Desainer</td>\n",
       "      <td>Jalan C</td>\n",
       "    </tr>\n",
       "    <tr>\n",
       "      <th>3</th>\n",
       "      <td>David</td>\n",
       "      <td>28</td>\n",
       "      <td>Manajer</td>\n",
       "      <td>Jalan D</td>\n",
       "    </tr>\n",
       "  </tbody>\n",
       "</table>\n",
       "</div>"
      ],
      "text/plain": [
       "        Nama  Usia      Pekerjaan   Alamat\n",
       "0      Alice    25     Pengembang  Jalan A\n",
       "1  Bob Smith    30  Analisis Data  Jalan B\n",
       "2    Charlie    24       Desainer  Jalan C\n",
       "3      David    28        Manajer  Jalan D"
      ]
     },
     "execution_count": 38,
     "metadata": {},
     "output_type": "execute_result"
    }
   ],
   "source": [
    "# Mengisi nilai yang hilang pada kolom 'Usia' dengan nilai 0\n",
    "df_filled = df.fillna({'Usia': 0})\n",
    "df_filled"
   ]
  },
  {
   "cell_type": "markdown",
   "id": "7b359e03-96cf-4df9-9e06-f9a11418344f",
   "metadata": {},
   "source": [
    "## 6.12. Metode apply()\n",
    "\n",
    "Anda dapat menerapkan fungsi khusus pada kolom atau baris DataFrame menggunakan metode `.apply()`:"
   ]
  },
  {
   "cell_type": "code",
   "execution_count": 39,
   "id": "1ad3f5b9-213e-439b-842b-8f6880fff3eb",
   "metadata": {},
   "outputs": [
    {
     "data": {
      "text/html": [
       "<div>\n",
       "<style scoped>\n",
       "    .dataframe tbody tr th:only-of-type {\n",
       "        vertical-align: middle;\n",
       "    }\n",
       "\n",
       "    .dataframe tbody tr th {\n",
       "        vertical-align: top;\n",
       "    }\n",
       "\n",
       "    .dataframe thead th {\n",
       "        text-align: right;\n",
       "    }\n",
       "</style>\n",
       "<table border=\"1\" class=\"dataframe\">\n",
       "  <thead>\n",
       "    <tr style=\"text-align: right;\">\n",
       "      <th></th>\n",
       "      <th>Nama</th>\n",
       "      <th>Usia</th>\n",
       "      <th>Pekerjaan</th>\n",
       "      <th>Alamat</th>\n",
       "    </tr>\n",
       "  </thead>\n",
       "  <tbody>\n",
       "    <tr>\n",
       "      <th>0</th>\n",
       "      <td>Alice</td>\n",
       "      <td>50</td>\n",
       "      <td>Pengembang</td>\n",
       "      <td>Jalan A</td>\n",
       "    </tr>\n",
       "    <tr>\n",
       "      <th>1</th>\n",
       "      <td>Bob Smith</td>\n",
       "      <td>60</td>\n",
       "      <td>Analisis Data</td>\n",
       "      <td>Jalan B</td>\n",
       "    </tr>\n",
       "    <tr>\n",
       "      <th>2</th>\n",
       "      <td>Charlie</td>\n",
       "      <td>48</td>\n",
       "      <td>Desainer</td>\n",
       "      <td>Jalan C</td>\n",
       "    </tr>\n",
       "    <tr>\n",
       "      <th>3</th>\n",
       "      <td>David</td>\n",
       "      <td>56</td>\n",
       "      <td>Manajer</td>\n",
       "      <td>Jalan D</td>\n",
       "    </tr>\n",
       "  </tbody>\n",
       "</table>\n",
       "</div>"
      ],
      "text/plain": [
       "        Nama  Usia      Pekerjaan   Alamat\n",
       "0      Alice    50     Pengembang  Jalan A\n",
       "1  Bob Smith    60  Analisis Data  Jalan B\n",
       "2    Charlie    48       Desainer  Jalan C\n",
       "3      David    56        Manajer  Jalan D"
      ]
     },
     "execution_count": 39,
     "metadata": {},
     "output_type": "execute_result"
    }
   ],
   "source": [
    "# Menggandakan nilai pada kolom 'Usia'\n",
    "df['Usia'] = df['Usia'].apply(lambda x: x * 2)\n",
    "df"
   ]
  },
  {
   "cell_type": "markdown",
   "id": "21c646ce-d421-4f40-a463-a3c5789f2408",
   "metadata": {},
   "source": [
    "## 6.13. Fungsi shift()\n",
    "\n",
    "Anda dapat menggeser nilai dalam DataFrame menggunakan fungsi `shift()`:"
   ]
  },
  {
   "cell_type": "code",
   "execution_count": 40,
   "id": "7aa5fb48-8340-48ba-9721-eb25cb3bbe1f",
   "metadata": {},
   "outputs": [
    {
     "data": {
      "text/html": [
       "<div>\n",
       "<style scoped>\n",
       "    .dataframe tbody tr th:only-of-type {\n",
       "        vertical-align: middle;\n",
       "    }\n",
       "\n",
       "    .dataframe tbody tr th {\n",
       "        vertical-align: top;\n",
       "    }\n",
       "\n",
       "    .dataframe thead th {\n",
       "        text-align: right;\n",
       "    }\n",
       "</style>\n",
       "<table border=\"1\" class=\"dataframe\">\n",
       "  <thead>\n",
       "    <tr style=\"text-align: right;\">\n",
       "      <th></th>\n",
       "      <th>Nama</th>\n",
       "      <th>Usia</th>\n",
       "      <th>Pekerjaan</th>\n",
       "      <th>Alamat</th>\n",
       "      <th>Usia_shifted</th>\n",
       "    </tr>\n",
       "  </thead>\n",
       "  <tbody>\n",
       "    <tr>\n",
       "      <th>0</th>\n",
       "      <td>Alice</td>\n",
       "      <td>50</td>\n",
       "      <td>Pengembang</td>\n",
       "      <td>Jalan A</td>\n",
       "      <td>NaN</td>\n",
       "    </tr>\n",
       "    <tr>\n",
       "      <th>1</th>\n",
       "      <td>Bob Smith</td>\n",
       "      <td>60</td>\n",
       "      <td>Analisis Data</td>\n",
       "      <td>Jalan B</td>\n",
       "      <td>50.0</td>\n",
       "    </tr>\n",
       "    <tr>\n",
       "      <th>2</th>\n",
       "      <td>Charlie</td>\n",
       "      <td>48</td>\n",
       "      <td>Desainer</td>\n",
       "      <td>Jalan C</td>\n",
       "      <td>60.0</td>\n",
       "    </tr>\n",
       "    <tr>\n",
       "      <th>3</th>\n",
       "      <td>David</td>\n",
       "      <td>56</td>\n",
       "      <td>Manajer</td>\n",
       "      <td>Jalan D</td>\n",
       "      <td>48.0</td>\n",
       "    </tr>\n",
       "  </tbody>\n",
       "</table>\n",
       "</div>"
      ],
      "text/plain": [
       "        Nama  Usia      Pekerjaan   Alamat  Usia_shifted\n",
       "0      Alice    50     Pengembang  Jalan A           NaN\n",
       "1  Bob Smith    60  Analisis Data  Jalan B          50.0\n",
       "2    Charlie    48       Desainer  Jalan C          60.0\n",
       "3      David    56        Manajer  Jalan D          48.0"
      ]
     },
     "execution_count": 40,
     "metadata": {},
     "output_type": "execute_result"
    }
   ],
   "source": [
    "# Menggeser nilai pada kolom 'Usia' ke bawah\n",
    "df['Usia_shifted'] = df['Usia'].shift(1)\n",
    "df"
   ]
  },
  {
   "cell_type": "markdown",
   "id": "39308ba5-021a-4d51-8903-ad3ce383af20",
   "metadata": {},
   "source": [
    "# 7. EDA Statistik dengan Pandas\n",
    "\n",
    "Pustaka Pandas memberikan kemampuan untuk menjelajahi data Anda secara statistik. Dengan menggunakan berbagai fungsi bawaan, Anda dapat dengan cepat mendapatkan wawasan tentang distribusi data, statistik rata-rata, deviasi standar, dan lainnya. Mari kita lihat beberapa cara melakukan analisis data eksploratif statistik dalam Pandas."
   ]
  },
  {
   "cell_type": "markdown",
   "id": "0ceaebed-4059-4773-a5ad-66eaf45d41fe",
   "metadata": {},
   "source": [
    "## 7.1. Fungsi info()\n",
    "Fungsi `info()` memberikan ringkasan tentang DataFrame, termasuk informasi tentang jenis data, jumlah nilai non-null, dan penggunaan memori:"
   ]
  },
  {
   "cell_type": "code",
   "execution_count": 1,
   "id": "af9dada6-48fe-46bd-b773-1ad530cc6852",
   "metadata": {},
   "outputs": [
    {
     "name": "stdout",
     "output_type": "stream",
     "text": [
      "<class 'pandas.core.frame.DataFrame'>\n",
      "RangeIndex: 4 entries, 0 to 3\n",
      "Data columns (total 3 columns):\n",
      " #   Column     Non-Null Count  Dtype \n",
      "---  ------     --------------  ----- \n",
      " 0   Nama       4 non-null      object\n",
      " 1   Usia       4 non-null      int64 \n",
      " 2   Pekerjaan  4 non-null      object\n",
      "dtypes: int64(1), object(2)\n",
      "memory usage: 224.0+ bytes\n"
     ]
    }
   ],
   "source": [
    "import pandas as pd\n",
    "\n",
    "# Membuat DataFrame contoh\n",
    "data = {\n",
    "    'Nama': ['Alice', 'Bob', 'Charlie', 'David'],\n",
    "    'Usia': [25, 30, 22, 27],\n",
    "    'Pekerjaan': ['Pengembang', 'Analisis Data', 'Desainer', 'Manajer']\n",
    "}\n",
    "df = pd.DataFrame(data)\n",
    "\n",
    "# Menampilkan informasi tentang DataFrame\n",
    "df.info()"
   ]
  },
  {
   "cell_type": "markdown",
   "id": "058ecdc9-df3c-4adf-b3da-f3e2860e54b2",
   "metadata": {},
   "source": [
    "## 7.2: Fungsi describe()\n",
    "\n",
    "Fungsi `describe()` memberikan statistik deskriptif tentang kolom numerik dalam DataFrame, seperti mean, deviasi standar, nilai minimum, dan lainnya:"
   ]
  },
  {
   "cell_type": "code",
   "execution_count": 2,
   "id": "034795b2-5bc3-4574-94ef-20834de84f48",
   "metadata": {},
   "outputs": [
    {
     "data": {
      "text/html": [
       "<div>\n",
       "<style scoped>\n",
       "    .dataframe tbody tr th:only-of-type {\n",
       "        vertical-align: middle;\n",
       "    }\n",
       "\n",
       "    .dataframe tbody tr th {\n",
       "        vertical-align: top;\n",
       "    }\n",
       "\n",
       "    .dataframe thead th {\n",
       "        text-align: right;\n",
       "    }\n",
       "</style>\n",
       "<table border=\"1\" class=\"dataframe\">\n",
       "  <thead>\n",
       "    <tr style=\"text-align: right;\">\n",
       "      <th></th>\n",
       "      <th>Usia</th>\n",
       "    </tr>\n",
       "  </thead>\n",
       "  <tbody>\n",
       "    <tr>\n",
       "      <th>count</th>\n",
       "      <td>4.000000</td>\n",
       "    </tr>\n",
       "    <tr>\n",
       "      <th>mean</th>\n",
       "      <td>26.000000</td>\n",
       "    </tr>\n",
       "    <tr>\n",
       "      <th>std</th>\n",
       "      <td>3.366502</td>\n",
       "    </tr>\n",
       "    <tr>\n",
       "      <th>min</th>\n",
       "      <td>22.000000</td>\n",
       "    </tr>\n",
       "    <tr>\n",
       "      <th>25%</th>\n",
       "      <td>24.250000</td>\n",
       "    </tr>\n",
       "    <tr>\n",
       "      <th>50%</th>\n",
       "      <td>26.000000</td>\n",
       "    </tr>\n",
       "    <tr>\n",
       "      <th>75%</th>\n",
       "      <td>27.750000</td>\n",
       "    </tr>\n",
       "    <tr>\n",
       "      <th>max</th>\n",
       "      <td>30.000000</td>\n",
       "    </tr>\n",
       "  </tbody>\n",
       "</table>\n",
       "</div>"
      ],
      "text/plain": [
       "            Usia\n",
       "count   4.000000\n",
       "mean   26.000000\n",
       "std     3.366502\n",
       "min    22.000000\n",
       "25%    24.250000\n",
       "50%    26.000000\n",
       "75%    27.750000\n",
       "max    30.000000"
      ]
     },
     "execution_count": 2,
     "metadata": {},
     "output_type": "execute_result"
    }
   ],
   "source": [
    "# Menampilkan statistik deskriptif\n",
    "deskripsi_statistik = df.describe()\n",
    "deskripsi_statistik"
   ]
  },
  {
   "cell_type": "markdown",
   "id": "96dad7a9-9628-4f51-90ad-5123f66a4244",
   "metadata": {},
   "source": [
    "## 7.3. Fungsi value_counts()\n",
    "\n",
    "Fungsi `value_counts()` memberikan hitungan unik dari nilai dalam kolom:"
   ]
  },
  {
   "cell_type": "code",
   "execution_count": 3,
   "id": "99e82f0c-d81b-469e-8d3e-8d127a77e907",
   "metadata": {},
   "outputs": [
    {
     "data": {
      "text/plain": [
       "Pekerjaan\n",
       "Pengembang       1\n",
       "Analisis Data    1\n",
       "Desainer         1\n",
       "Manajer          1\n",
       "Name: count, dtype: int64"
      ]
     },
     "execution_count": 3,
     "metadata": {},
     "output_type": "execute_result"
    }
   ],
   "source": [
    "# Menampilkan hitungan unik dalam kolom 'Pekerjaan'\n",
    "hitungan_pekerjaan = df['Pekerjaan'].value_counts()\n",
    "hitungan_pekerjaan"
   ]
  },
  {
   "cell_type": "markdown",
   "id": "62e340f6-b531-4ddd-9e88-cbf9925f3bd8",
   "metadata": {},
   "source": [
    "## 7.4. Fungsi mean()\n",
    "\n",
    "Fungsi `mean()` menghitung rata-rata dari nilai dalam kolom:"
   ]
  },
  {
   "cell_type": "code",
   "execution_count": 4,
   "id": "bf0049e9-a9e9-4654-ae9a-f2acff78a7bb",
   "metadata": {},
   "outputs": [
    {
     "name": "stdout",
     "output_type": "stream",
     "text": [
      "Rata-rata Usia: 26.0\n"
     ]
    }
   ],
   "source": [
    "# Menghitung rata-rata usia\n",
    "rata_usia = df['Usia'].mean()\n",
    "print(\"Rata-rata Usia:\", rata_usia)"
   ]
  },
  {
   "cell_type": "markdown",
   "id": "1699badf-9985-4ae8-9b72-fe08ef4c7085",
   "metadata": {},
   "source": [
    "## 7.5. Fungsi std()\n",
    "\n",
    "Fungsi `std()` menghitung deviasi standar dari nilai dalam kolom:"
   ]
  },
  {
   "cell_type": "code",
   "execution_count": 5,
   "id": "02de348a-c459-47a7-93bc-7394ecbde5eb",
   "metadata": {},
   "outputs": [
    {
     "name": "stdout",
     "output_type": "stream",
     "text": [
      "Deviasi Standar Usia: 3.366501646120693\n"
     ]
    }
   ],
   "source": [
    "# Menghitung deviasi standar usia\n",
    "deviasi_standar_usia = df['Usia'].std()\n",
    "print(\"Deviasi Standar Usia:\", deviasi_standar_usia)"
   ]
  },
  {
   "cell_type": "markdown",
   "id": "e1dffc60-0f27-4f89-946d-0aea97e1faff",
   "metadata": {},
   "source": [
    "# 8. Filter DataFrame dalam Pandas\n",
    "\n",
    "Filtering memungkinkan Anda untuk memilih subset dari data yang memenuhi kriteria tertentu. Pustaka Pandas menyediakan berbagai cara untuk melakukan filtering pada DataFrame. Mari kita lihat beberapa cara untuk melakukan filtering dalam Pandas."
   ]
  },
  {
   "cell_type": "markdown",
   "id": "ab9ebd88-af5f-403e-a99d-b4420a37da83",
   "metadata": {},
   "source": [
    "## 8.1. Menggunakan Operator Perbandingan\n",
    "Anda dapat menggunakan operator perbandingan seperti `==`, `>`, `<`, `>=`, dan `<=` untuk membuat kondisi filter:"
   ]
  },
  {
   "cell_type": "code",
   "execution_count": 1,
   "id": "7954bce5-3559-4572-a30d-6a0c4af6fb8f",
   "metadata": {},
   "outputs": [
    {
     "data": {
      "text/html": [
       "<div>\n",
       "<style scoped>\n",
       "    .dataframe tbody tr th:only-of-type {\n",
       "        vertical-align: middle;\n",
       "    }\n",
       "\n",
       "    .dataframe tbody tr th {\n",
       "        vertical-align: top;\n",
       "    }\n",
       "\n",
       "    .dataframe thead th {\n",
       "        text-align: right;\n",
       "    }\n",
       "</style>\n",
       "<table border=\"1\" class=\"dataframe\">\n",
       "  <thead>\n",
       "    <tr style=\"text-align: right;\">\n",
       "      <th></th>\n",
       "      <th>Nama</th>\n",
       "      <th>Usia</th>\n",
       "      <th>Pekerjaan</th>\n",
       "    </tr>\n",
       "  </thead>\n",
       "  <tbody>\n",
       "    <tr>\n",
       "      <th>1</th>\n",
       "      <td>Bob</td>\n",
       "      <td>30</td>\n",
       "      <td>Analisis Data</td>\n",
       "    </tr>\n",
       "    <tr>\n",
       "      <th>3</th>\n",
       "      <td>David</td>\n",
       "      <td>28</td>\n",
       "      <td>Manajer</td>\n",
       "    </tr>\n",
       "  </tbody>\n",
       "</table>\n",
       "</div>"
      ],
      "text/plain": [
       "    Nama  Usia      Pekerjaan\n",
       "1    Bob    30  Analisis Data\n",
       "3  David    28        Manajer"
      ]
     },
     "execution_count": 1,
     "metadata": {},
     "output_type": "execute_result"
    }
   ],
   "source": [
    "import pandas as pd\n",
    "\n",
    "# Membuat DataFrame contoh\n",
    "data = {\n",
    "    'Nama': ['Alice', 'Bob', 'Charlie', 'David'],\n",
    "    'Usia': [25, 30, 22, 28],\n",
    "    'Pekerjaan': ['Pengembang', 'Analisis Data', 'Desainer', 'Manajer']\n",
    "}\n",
    "df = pd.DataFrame(data)\n",
    "\n",
    "# Menggunakan operator perbandingan untuk filtering\n",
    "filtered_df = df[df['Usia'] > 25]\n",
    "filtered_df"
   ]
  },
  {
   "cell_type": "markdown",
   "id": "b59e573e-bf38-4fd7-8ae8-96bb21faa404",
   "metadata": {},
   "source": [
    "## 8.2. Metode isin()\n",
    "\n",
    "Anda dapat menggunakan metode `isin()` untuk memfilter berdasarkan beberapa nilai yang diberikan:"
   ]
  },
  {
   "cell_type": "code",
   "execution_count": 2,
   "id": "c770fded-d511-4027-8404-407e260d74bb",
   "metadata": {},
   "outputs": [
    {
     "data": {
      "text/html": [
       "<div>\n",
       "<style scoped>\n",
       "    .dataframe tbody tr th:only-of-type {\n",
       "        vertical-align: middle;\n",
       "    }\n",
       "\n",
       "    .dataframe tbody tr th {\n",
       "        vertical-align: top;\n",
       "    }\n",
       "\n",
       "    .dataframe thead th {\n",
       "        text-align: right;\n",
       "    }\n",
       "</style>\n",
       "<table border=\"1\" class=\"dataframe\">\n",
       "  <thead>\n",
       "    <tr style=\"text-align: right;\">\n",
       "      <th></th>\n",
       "      <th>Nama</th>\n",
       "      <th>Usia</th>\n",
       "      <th>Pekerjaan</th>\n",
       "    </tr>\n",
       "  </thead>\n",
       "  <tbody>\n",
       "    <tr>\n",
       "      <th>0</th>\n",
       "      <td>Alice</td>\n",
       "      <td>25</td>\n",
       "      <td>Pengembang</td>\n",
       "    </tr>\n",
       "    <tr>\n",
       "      <th>2</th>\n",
       "      <td>Charlie</td>\n",
       "      <td>22</td>\n",
       "      <td>Desainer</td>\n",
       "    </tr>\n",
       "  </tbody>\n",
       "</table>\n",
       "</div>"
      ],
      "text/plain": [
       "      Nama  Usia   Pekerjaan\n",
       "0    Alice    25  Pengembang\n",
       "2  Charlie    22    Desainer"
      ]
     },
     "execution_count": 2,
     "metadata": {},
     "output_type": "execute_result"
    }
   ],
   "source": [
    "# Menggunakan metode isin() untuk filtering\n",
    "pekerjaan_tertentu = ['Pengembang', 'Desainer']\n",
    "filtered_by_pekerjaan = df[df['Pekerjaan'].isin(pekerjaan_tertentu)]\n",
    "filtered_by_pekerjaan"
   ]
  },
  {
   "cell_type": "markdown",
   "id": "e408903c-18f6-4ab4-aa74-dc72d1e8e9c5",
   "metadata": {},
   "source": [
    "## 8.3: Metode query()\n",
    "\n",
    "Metode `query()` memungkinkan Anda untuk mengekspresikan kondisi filtering menggunakan sintaks yang mirip SQL:"
   ]
  },
  {
   "cell_type": "code",
   "execution_count": 3,
   "id": "dc90e7c8-bcff-46ba-ad92-74e6b94b169a",
   "metadata": {},
   "outputs": [
    {
     "data": {
      "text/html": [
       "<div>\n",
       "<style scoped>\n",
       "    .dataframe tbody tr th:only-of-type {\n",
       "        vertical-align: middle;\n",
       "    }\n",
       "\n",
       "    .dataframe tbody tr th {\n",
       "        vertical-align: top;\n",
       "    }\n",
       "\n",
       "    .dataframe thead th {\n",
       "        text-align: right;\n",
       "    }\n",
       "</style>\n",
       "<table border=\"1\" class=\"dataframe\">\n",
       "  <thead>\n",
       "    <tr style=\"text-align: right;\">\n",
       "      <th></th>\n",
       "      <th>Nama</th>\n",
       "      <th>Usia</th>\n",
       "      <th>Pekerjaan</th>\n",
       "    </tr>\n",
       "  </thead>\n",
       "  <tbody>\n",
       "    <tr>\n",
       "      <th>1</th>\n",
       "      <td>Bob</td>\n",
       "      <td>30</td>\n",
       "      <td>Analisis Data</td>\n",
       "    </tr>\n",
       "    <tr>\n",
       "      <th>3</th>\n",
       "      <td>David</td>\n",
       "      <td>28</td>\n",
       "      <td>Manajer</td>\n",
       "    </tr>\n",
       "  </tbody>\n",
       "</table>\n",
       "</div>"
      ],
      "text/plain": [
       "    Nama  Usia      Pekerjaan\n",
       "1    Bob    30  Analisis Data\n",
       "3  David    28        Manajer"
      ]
     },
     "execution_count": 3,
     "metadata": {},
     "output_type": "execute_result"
    }
   ],
   "source": [
    "# Menggunakan metode query() untuk filtering\n",
    "filtered_by_usia = df.query('Usia > 25')\n",
    "filtered_by_usia"
   ]
  },
  {
   "cell_type": "markdown",
   "id": "d6599c67-7677-48b6-9af5-cd201c4d608f",
   "metadata": {},
   "source": [
    "## 8.4. Menggabungkan Kondisi Filtering\n",
    "\n",
    "Anda dapat menggabungkan beberapa kondisi filtering menggunakan operator logika `&` (and) dan `|` (or):"
   ]
  },
  {
   "cell_type": "code",
   "execution_count": 4,
   "id": "0feb2b53-f0af-4662-9553-bc7503e67859",
   "metadata": {},
   "outputs": [
    {
     "data": {
      "text/html": [
       "<div>\n",
       "<style scoped>\n",
       "    .dataframe tbody tr th:only-of-type {\n",
       "        vertical-align: middle;\n",
       "    }\n",
       "\n",
       "    .dataframe tbody tr th {\n",
       "        vertical-align: top;\n",
       "    }\n",
       "\n",
       "    .dataframe thead th {\n",
       "        text-align: right;\n",
       "    }\n",
       "</style>\n",
       "<table border=\"1\" class=\"dataframe\">\n",
       "  <thead>\n",
       "    <tr style=\"text-align: right;\">\n",
       "      <th></th>\n",
       "      <th>Nama</th>\n",
       "      <th>Usia</th>\n",
       "      <th>Pekerjaan</th>\n",
       "    </tr>\n",
       "  </thead>\n",
       "  <tbody>\n",
       "    <tr>\n",
       "      <th>3</th>\n",
       "      <td>David</td>\n",
       "      <td>28</td>\n",
       "      <td>Manajer</td>\n",
       "    </tr>\n",
       "  </tbody>\n",
       "</table>\n",
       "</div>"
      ],
      "text/plain": [
       "    Nama  Usia Pekerjaan\n",
       "3  David    28   Manajer"
      ]
     },
     "execution_count": 4,
     "metadata": {},
     "output_type": "execute_result"
    }
   ],
   "source": [
    "# Menggabungkan kondisi filtering\n",
    "filtered_combined = df[(df['Usia'] > 25) & (df['Pekerjaan'] != 'Analisis Data')]\n",
    "filtered_combined"
   ]
  },
  {
   "cell_type": "markdown",
   "id": "26f3a866-23fc-4f28-b7e9-f0568b88e3b1",
   "metadata": {},
   "source": [
    "## 8.5. Menggunakan Metode loc[] dan iloc[]\n",
    "\n",
    "Metode `loc[]` dan `iloc[]` juga dapat digunakan untuk filtering dengan mengatur kondisi pada baris dan kolom:"
   ]
  },
  {
   "cell_type": "code",
   "execution_count": 5,
   "id": "1bd06ecb-56a4-4d45-afb5-f3aa897fef24",
   "metadata": {},
   "outputs": [
    {
     "data": {
      "text/html": [
       "<div>\n",
       "<style scoped>\n",
       "    .dataframe tbody tr th:only-of-type {\n",
       "        vertical-align: middle;\n",
       "    }\n",
       "\n",
       "    .dataframe tbody tr th {\n",
       "        vertical-align: top;\n",
       "    }\n",
       "\n",
       "    .dataframe thead th {\n",
       "        text-align: right;\n",
       "    }\n",
       "</style>\n",
       "<table border=\"1\" class=\"dataframe\">\n",
       "  <thead>\n",
       "    <tr style=\"text-align: right;\">\n",
       "      <th></th>\n",
       "      <th>Nama</th>\n",
       "      <th>Usia</th>\n",
       "    </tr>\n",
       "  </thead>\n",
       "  <tbody>\n",
       "    <tr>\n",
       "      <th>1</th>\n",
       "      <td>Bob</td>\n",
       "      <td>30</td>\n",
       "    </tr>\n",
       "    <tr>\n",
       "      <th>3</th>\n",
       "      <td>David</td>\n",
       "      <td>28</td>\n",
       "    </tr>\n",
       "  </tbody>\n",
       "</table>\n",
       "</div>"
      ],
      "text/plain": [
       "    Nama  Usia\n",
       "1    Bob    30\n",
       "3  David    28"
      ]
     },
     "execution_count": 5,
     "metadata": {},
     "output_type": "execute_result"
    }
   ],
   "source": [
    "# Menggunakan metode loc[] untuk filtering\n",
    "filtered_loc = df.loc[df['Usia'] > 25, ['Nama', 'Usia']]\n",
    "filtered_loc"
   ]
  },
  {
   "cell_type": "markdown",
   "id": "fc582e8e-11b4-4979-8569-2273b2f57e98",
   "metadata": {},
   "source": [
    "## 8.6. Menggunakan Fungsi apply()\n",
    "\n",
    "Anda dapat menggunakan fungsi `apply()` untuk menerapkan fungsi khusus pada setiap baris atau kolom dan mengembalikan hasil filtering:"
   ]
  },
  {
   "cell_type": "code",
   "execution_count": 6,
   "id": "8419f8a3-58de-4e2b-8690-3c1274bba96e",
   "metadata": {},
   "outputs": [
    {
     "data": {
      "text/html": [
       "<div>\n",
       "<style scoped>\n",
       "    .dataframe tbody tr th:only-of-type {\n",
       "        vertical-align: middle;\n",
       "    }\n",
       "\n",
       "    .dataframe tbody tr th {\n",
       "        vertical-align: top;\n",
       "    }\n",
       "\n",
       "    .dataframe thead th {\n",
       "        text-align: right;\n",
       "    }\n",
       "</style>\n",
       "<table border=\"1\" class=\"dataframe\">\n",
       "  <thead>\n",
       "    <tr style=\"text-align: right;\">\n",
       "      <th></th>\n",
       "      <th>Nama</th>\n",
       "      <th>Usia</th>\n",
       "      <th>Pekerjaan</th>\n",
       "    </tr>\n",
       "  </thead>\n",
       "  <tbody>\n",
       "    <tr>\n",
       "      <th>1</th>\n",
       "      <td>Bob</td>\n",
       "      <td>30</td>\n",
       "      <td>Analisis Data</td>\n",
       "    </tr>\n",
       "  </tbody>\n",
       "</table>\n",
       "</div>"
      ],
      "text/plain": [
       "  Nama  Usia      Pekerjaan\n",
       "1  Bob    30  Analisis Data"
      ]
     },
     "execution_count": 6,
     "metadata": {},
     "output_type": "execute_result"
    }
   ],
   "source": [
    "# Menggunakan fungsi apply() untuk filtering\n",
    "def filter_function(row):\n",
    "    return row['Usia'] > 25 and 'Data' in row['Pekerjaan']\n",
    "\n",
    "filtered_apply = df[df.apply(filter_function, axis=1)]\n",
    "filtered_apply"
   ]
  },
  {
   "cell_type": "markdown",
   "id": "81b52286-edbf-47b7-a727-a3324562a84a",
   "metadata": {},
   "source": [
    "# 9. Iteration dalam DataFrame Pandas\n",
    "\n",
    "Iterasi dalam DataFrame Pandas memungkinkan Anda untuk melakukan pengulangan melalui baris atau kolom dalam DataFrame untuk melakukan berbagai tugas. Meskipun Pandas mendukung iterasi, sangat dianjurkan untuk menghindari iterasi sebisa mungkin dan lebih memilih operasi vektorisasi untuk kinerja yang lebih baik. Namun, ada situasi di mana iterasi diperlukan."
   ]
  },
  {
   "cell_type": "markdown",
   "id": "efca7a5a-a0b9-4668-b942-ca9734a45f6b",
   "metadata": {},
   "source": [
    "## 9.1. Iterasi melalui Baris\n",
    "Anda dapat menggunakan metode `iterrows()` untuk melakukan iterasi melalui baris dalam DataFrame:"
   ]
  },
  {
   "cell_type": "code",
   "execution_count": 1,
   "id": "93bc5e9a-e11b-43d3-b782-cbede3ae3b64",
   "metadata": {},
   "outputs": [
    {
     "name": "stdout",
     "output_type": "stream",
     "text": [
      "Index: 0, Nama: Alice, Usia: 25, Pekerjaan: Pengembang\n",
      "Index: 1, Nama: Bob, Usia: 30, Pekerjaan: Analisis Data\n",
      "Index: 2, Nama: Charlie, Usia: 22, Pekerjaan: Desainer\n",
      "Index: 3, Nama: David, Usia: 28, Pekerjaan: Manajer\n"
     ]
    }
   ],
   "source": [
    "import pandas as pd\n",
    "\n",
    "# Membuat DataFrame contoh\n",
    "data = {\n",
    "    'Nama': ['Alice', 'Bob', 'Charlie', 'David'],\n",
    "    'Usia': [25, 30, 22, 28],\n",
    "    'Pekerjaan': ['Pengembang', 'Analisis Data', 'Desainer', 'Manajer']\n",
    "}\n",
    "df = pd.DataFrame(data)\n",
    "\n",
    "# Iterasi melalui baris dengan iterrows()\n",
    "for index, row in df.iterrows():\n",
    "    print(f\"Index: {index}, Nama: {row['Nama']}, Usia: {row['Usia']}, Pekerjaan: {row['Pekerjaan']}\")"
   ]
  },
  {
   "cell_type": "markdown",
   "id": "7b3f67e6-9f3e-4148-8873-5d72c9db214a",
   "metadata": {},
   "source": [
    "## 9.2. Iterasi melalui Kolom\n",
    "\n",
    "Anda juga dapat melakukan iterasi melalui kolom dalam DataFrame dengan mengakses kolom menggunakan nama.\n",
    "\n",
    "    \n",
    "Dalam kasus ini, Anda akan mendapatkan nilai dalam setiap kolom dalam bentuk Series."
   ]
  },
  {
   "cell_type": "code",
   "execution_count": 2,
   "id": "2a8b36f5-30aa-41f0-b511-94a722ad8876",
   "metadata": {},
   "outputs": [
    {
     "name": "stdout",
     "output_type": "stream",
     "text": [
      "Nama Kolom: Nama\n",
      "0      Alice\n",
      "1        Bob\n",
      "2    Charlie\n",
      "3      David\n",
      "Name: Nama, dtype: object\n",
      "Nama Kolom: Usia\n",
      "0    25\n",
      "1    30\n",
      "2    22\n",
      "3    28\n",
      "Name: Usia, dtype: int64\n",
      "Nama Kolom: Pekerjaan\n",
      "0       Pengembang\n",
      "1    Analisis Data\n",
      "2         Desainer\n",
      "3          Manajer\n",
      "Name: Pekerjaan, dtype: object\n"
     ]
    }
   ],
   "source": [
    "# Iterasi melalui kolom\n",
    "for column in df.columns:\n",
    "    print(f\"Nama Kolom: {column}\")\n",
    "    print(df[column])"
   ]
  },
  {
   "cell_type": "markdown",
   "id": "6168256d-48f8-4941-bb27-415c8d0c3b8f",
   "metadata": {},
   "source": [
    "## 9.3. Iterasi dengan itertuples()\n",
    "\n",
    "Metode `itertuples()` adalah alternatif yang lebih efisien untuk melakukan iterasi melalui baris dalam DataFrame:"
   ]
  },
  {
   "cell_type": "code",
   "execution_count": 3,
   "id": "0b9beaef-ce76-4897-9d89-e261fefd9cd1",
   "metadata": {},
   "outputs": [
    {
     "name": "stdout",
     "output_type": "stream",
     "text": [
      "Index: 0, Nama: Alice, Usia: 25, Pekerjaan: Pengembang\n",
      "Index: 1, Nama: Bob, Usia: 30, Pekerjaan: Analisis Data\n",
      "Index: 2, Nama: Charlie, Usia: 22, Pekerjaan: Desainer\n",
      "Index: 3, Nama: David, Usia: 28, Pekerjaan: Manajer\n"
     ]
    }
   ],
   "source": [
    "# Iterasi dengan itertuples()\n",
    "for row in df.itertuples():\n",
    "    print(f\"Index: {row.Index}, Nama: {row.Nama}, Usia: {row.Usia}, Pekerjaan: {row.Pekerjaan}\")"
   ]
  },
  {
   "cell_type": "markdown",
   "id": "513fd311-e30e-4d8f-861b-ba9a72a17256",
   "metadata": {},
   "source": [
    "# 10. Menggabungkan, Menyisipkan, dan Menggabungkan DataFrame dalam Pandas\n",
    "\n",
    "Dalam analisis data, seringkali Anda perlu menggabungkan atau menggabungkan beberapa DataFrame menjadi satu kesatuan untuk analisis yang lebih komprehensif. Pustaka Pandas menyediakan berbagai cara untuk melakukan operasi ini. Mari kita lihat bagaimana cara menggabungkan, menyisipkan, dan menggabungkan DataFrame dalam Pandas."
   ]
  },
  {
   "cell_type": "markdown",
   "id": "765aa325-06a0-45f0-86fe-fc3625d13296",
   "metadata": {},
   "source": [
    "## 10.1. Menggabungkan DataFrames dengan merge()\n",
    "Fungsi `merge()` memungkinkan Anda untuk menggabungkan DataFrames berdasarkan kolom yang bersama-sama. Ini mirip dengan operasi SQL JOIN:"
   ]
  },
  {
   "cell_type": "code",
   "execution_count": 1,
   "id": "cfd10570-c80b-4ecd-9d8a-cb74e01a7d1d",
   "metadata": {},
   "outputs": [
    {
     "name": "stdout",
     "output_type": "stream",
     "text": [
      "   ID     Nama\n",
      "0   1    Alice\n",
      "1   2      Bob\n",
      "2   3  Charlie \n",
      "\n",
      "   ID      Pekerjaan\n",
      "0   2  Analisis Data\n",
      "1   3       Desainer\n",
      "2   4        Manajer\n"
     ]
    }
   ],
   "source": [
    "import pandas as pd\n",
    "\n",
    "# Membuat DataFrame contoh\n",
    "data1 = {\n",
    "    'ID': [1, 2, 3],\n",
    "    'Nama': ['Alice', 'Bob', 'Charlie']\n",
    "}\n",
    "data2 = {\n",
    "    'ID': [2, 3, 4],\n",
    "    'Pekerjaan': ['Analisis Data', 'Desainer', 'Manajer']\n",
    "}\n",
    "df1 = pd.DataFrame(data1)\n",
    "df2 = pd.DataFrame(data2)\n",
    "print(df1,'\\n')\n",
    "print(df2)"
   ]
  },
  {
   "cell_type": "code",
   "execution_count": 2,
   "id": "94747e52-c934-4e33-8192-4256683bbced",
   "metadata": {},
   "outputs": [
    {
     "name": "stdout",
     "output_type": "stream",
     "text": [
      "   ID     Nama      Pekerjaan\n",
      "0   2      Bob  Analisis Data\n",
      "1   3  Charlie       Desainer\n"
     ]
    }
   ],
   "source": [
    "# Menggabungkan DataFrames berdasarkan kolom 'ID'\n",
    "merged_df = pd.merge(df1, df2, on='ID')\n",
    "print(merged_df)"
   ]
  },
  {
   "cell_type": "markdown",
   "id": "8b8b619d-9a2c-4d7f-9073-45a57c34c750",
   "metadata": {},
   "source": [
    "## 10.2. Menggabungkan DataFrame dengan concat()\n",
    "\n",
    "Fungsi `concat()` memungkinkan Anda menggabungkan beberapa DataFrames secara beruntun:"
   ]
  },
  {
   "cell_type": "code",
   "execution_count": 4,
   "id": "cc4cd3e7-107b-4042-92c5-a2227e8a4001",
   "metadata": {},
   "outputs": [
    {
     "data": {
      "text/html": [
       "<div>\n",
       "<style scoped>\n",
       "    .dataframe tbody tr th:only-of-type {\n",
       "        vertical-align: middle;\n",
       "    }\n",
       "\n",
       "    .dataframe tbody tr th {\n",
       "        vertical-align: top;\n",
       "    }\n",
       "\n",
       "    .dataframe thead th {\n",
       "        text-align: right;\n",
       "    }\n",
       "</style>\n",
       "<table border=\"1\" class=\"dataframe\">\n",
       "  <thead>\n",
       "    <tr style=\"text-align: right;\">\n",
       "      <th></th>\n",
       "      <th>ID</th>\n",
       "      <th>Nama</th>\n",
       "      <th>Pekerjaan</th>\n",
       "    </tr>\n",
       "  </thead>\n",
       "  <tbody>\n",
       "    <tr>\n",
       "      <th>0</th>\n",
       "      <td>1</td>\n",
       "      <td>Alice</td>\n",
       "      <td>NaN</td>\n",
       "    </tr>\n",
       "    <tr>\n",
       "      <th>1</th>\n",
       "      <td>2</td>\n",
       "      <td>Bob</td>\n",
       "      <td>NaN</td>\n",
       "    </tr>\n",
       "    <tr>\n",
       "      <th>2</th>\n",
       "      <td>3</td>\n",
       "      <td>Charlie</td>\n",
       "      <td>NaN</td>\n",
       "    </tr>\n",
       "    <tr>\n",
       "      <th>3</th>\n",
       "      <td>2</td>\n",
       "      <td>NaN</td>\n",
       "      <td>Analisis Data</td>\n",
       "    </tr>\n",
       "    <tr>\n",
       "      <th>4</th>\n",
       "      <td>3</td>\n",
       "      <td>NaN</td>\n",
       "      <td>Desainer</td>\n",
       "    </tr>\n",
       "    <tr>\n",
       "      <th>5</th>\n",
       "      <td>4</td>\n",
       "      <td>NaN</td>\n",
       "      <td>Manajer</td>\n",
       "    </tr>\n",
       "  </tbody>\n",
       "</table>\n",
       "</div>"
      ],
      "text/plain": [
       "   ID     Nama      Pekerjaan\n",
       "0   1    Alice            NaN\n",
       "1   2      Bob            NaN\n",
       "2   3  Charlie            NaN\n",
       "3   2      NaN  Analisis Data\n",
       "4   3      NaN       Desainer\n",
       "5   4      NaN        Manajer"
      ]
     },
     "execution_count": 4,
     "metadata": {},
     "output_type": "execute_result"
    }
   ],
   "source": [
    "# Menggabungkan DataFrames secara beruntun\n",
    "df_concatenated = pd.concat([df1, df2], ignore_index=True)\n",
    "df_concatenated"
   ]
  },
  {
   "cell_type": "code",
   "execution_count": 6,
   "id": "910b770e-7690-4a7b-9a02-e7507e7aa770",
   "metadata": {},
   "outputs": [
    {
     "data": {
      "text/html": [
       "<div>\n",
       "<style scoped>\n",
       "    .dataframe tbody tr th:only-of-type {\n",
       "        vertical-align: middle;\n",
       "    }\n",
       "\n",
       "    .dataframe tbody tr th {\n",
       "        vertical-align: top;\n",
       "    }\n",
       "\n",
       "    .dataframe thead th {\n",
       "        text-align: right;\n",
       "    }\n",
       "</style>\n",
       "<table border=\"1\" class=\"dataframe\">\n",
       "  <thead>\n",
       "    <tr style=\"text-align: right;\">\n",
       "      <th></th>\n",
       "      <th>A</th>\n",
       "      <th>B</th>\n",
       "      <th>C</th>\n",
       "      <th>D</th>\n",
       "    </tr>\n",
       "  </thead>\n",
       "  <tbody>\n",
       "    <tr>\n",
       "      <th>0</th>\n",
       "      <td>A0</td>\n",
       "      <td>B0</td>\n",
       "      <td>C0</td>\n",
       "      <td>D0</td>\n",
       "    </tr>\n",
       "    <tr>\n",
       "      <th>1</th>\n",
       "      <td>A1</td>\n",
       "      <td>B1</td>\n",
       "      <td>C1</td>\n",
       "      <td>D1</td>\n",
       "    </tr>\n",
       "    <tr>\n",
       "      <th>2</th>\n",
       "      <td>A2</td>\n",
       "      <td>B2</td>\n",
       "      <td>C2</td>\n",
       "      <td>D2</td>\n",
       "    </tr>\n",
       "    <tr>\n",
       "      <th>3</th>\n",
       "      <td>A3</td>\n",
       "      <td>B3</td>\n",
       "      <td>C3</td>\n",
       "      <td>D3</td>\n",
       "    </tr>\n",
       "    <tr>\n",
       "      <th>4</th>\n",
       "      <td>A4</td>\n",
       "      <td>B4</td>\n",
       "      <td>C4</td>\n",
       "      <td>D4</td>\n",
       "    </tr>\n",
       "    <tr>\n",
       "      <th>5</th>\n",
       "      <td>A5</td>\n",
       "      <td>B5</td>\n",
       "      <td>C5</td>\n",
       "      <td>D5</td>\n",
       "    </tr>\n",
       "    <tr>\n",
       "      <th>6</th>\n",
       "      <td>A6</td>\n",
       "      <td>B6</td>\n",
       "      <td>C6</td>\n",
       "      <td>D6</td>\n",
       "    </tr>\n",
       "    <tr>\n",
       "      <th>7</th>\n",
       "      <td>A7</td>\n",
       "      <td>B7</td>\n",
       "      <td>C7</td>\n",
       "      <td>D7</td>\n",
       "    </tr>\n",
       "    <tr>\n",
       "      <th>8</th>\n",
       "      <td>A8</td>\n",
       "      <td>B8</td>\n",
       "      <td>C8</td>\n",
       "      <td>D8</td>\n",
       "    </tr>\n",
       "    <tr>\n",
       "      <th>9</th>\n",
       "      <td>A9</td>\n",
       "      <td>B9</td>\n",
       "      <td>C9</td>\n",
       "      <td>D9</td>\n",
       "    </tr>\n",
       "    <tr>\n",
       "      <th>10</th>\n",
       "      <td>A10</td>\n",
       "      <td>B10</td>\n",
       "      <td>C10</td>\n",
       "      <td>D10</td>\n",
       "    </tr>\n",
       "    <tr>\n",
       "      <th>11</th>\n",
       "      <td>A11</td>\n",
       "      <td>B11</td>\n",
       "      <td>C11</td>\n",
       "      <td>D11</td>\n",
       "    </tr>\n",
       "  </tbody>\n",
       "</table>\n",
       "</div>"
      ],
      "text/plain": [
       "      A    B    C    D\n",
       "0    A0   B0   C0   D0\n",
       "1    A1   B1   C1   D1\n",
       "2    A2   B2   C2   D2\n",
       "3    A3   B3   C3   D3\n",
       "4    A4   B4   C4   D4\n",
       "5    A5   B5   C5   D5\n",
       "6    A6   B6   C6   D6\n",
       "7    A7   B7   C7   D7\n",
       "8    A8   B8   C8   D8\n",
       "9    A9   B9   C9   D9\n",
       "10  A10  B10  C10  D10\n",
       "11  A11  B11  C11  D11"
      ]
     },
     "execution_count": 6,
     "metadata": {},
     "output_type": "execute_result"
    }
   ],
   "source": [
    "df1 = pd.DataFrame(\n",
    "    {\n",
    "        \"A\": [\"A0\", \"A1\", \"A2\", \"A3\"],\n",
    "        \"B\": [\"B0\", \"B1\", \"B2\", \"B3\"],\n",
    "        \"C\": [\"C0\", \"C1\", \"C2\", \"C3\"],\n",
    "        \"D\": [\"D0\", \"D1\", \"D2\", \"D3\"],\n",
    "    },\n",
    "    index=[0, 1, 2, 3],\n",
    ")\n",
    "\n",
    "\n",
    "df2 = pd.DataFrame(\n",
    "    {\n",
    "        \"A\": [\"A4\", \"A5\", \"A6\", \"A7\"],\n",
    "        \"B\": [\"B4\", \"B5\", \"B6\", \"B7\"],\n",
    "        \"C\": [\"C4\", \"C5\", \"C6\", \"C7\"],\n",
    "        \"D\": [\"D4\", \"D5\", \"D6\", \"D7\"],\n",
    "    },\n",
    "    index=[4, 5, 6, 7],\n",
    ")\n",
    "\n",
    "\n",
    "df3 = pd.DataFrame(\n",
    "    {\n",
    "        \"A\": [\"A8\", \"A9\", \"A10\", \"A11\"],\n",
    "        \"B\": [\"B8\", \"B9\", \"B10\", \"B11\"],\n",
    "        \"C\": [\"C8\", \"C9\", \"C10\", \"C11\"],\n",
    "        \"D\": [\"D8\", \"D9\", \"D10\", \"D11\"],\n",
    "    },\n",
    "    index=[8, 9, 10, 11],\n",
    ")\n",
    "\n",
    "\n",
    "frames = [df1, df2, df3]\n",
    "\n",
    "result = pd.concat(frames)\n",
    "result"
   ]
  },
  {
   "cell_type": "markdown",
   "id": "4ceff4ed-734f-4d0a-b0a1-8182ad64e52c",
   "metadata": {},
   "source": [
    "## 10.3. Menggabungkan DataFrame dengan join()\n",
    "\n",
    "Fungsi `join()` memungkinkan Anda menggabungkan DataFrames berdasarkan indeks:"
   ]
  },
  {
   "cell_type": "code",
   "execution_count": 5,
   "id": "d407bb9f-8d08-443c-a609-a8176ec9f3f2",
   "metadata": {},
   "outputs": [
    {
     "data": {
      "text/html": [
       "<div>\n",
       "<style scoped>\n",
       "    .dataframe tbody tr th:only-of-type {\n",
       "        vertical-align: middle;\n",
       "    }\n",
       "\n",
       "    .dataframe tbody tr th {\n",
       "        vertical-align: top;\n",
       "    }\n",
       "\n",
       "    .dataframe thead th {\n",
       "        text-align: right;\n",
       "    }\n",
       "</style>\n",
       "<table border=\"1\" class=\"dataframe\">\n",
       "  <thead>\n",
       "    <tr style=\"text-align: right;\">\n",
       "      <th></th>\n",
       "      <th>Nama</th>\n",
       "      <th>Pekerjaan</th>\n",
       "    </tr>\n",
       "    <tr>\n",
       "      <th>ID</th>\n",
       "      <th></th>\n",
       "      <th></th>\n",
       "    </tr>\n",
       "  </thead>\n",
       "  <tbody>\n",
       "    <tr>\n",
       "      <th>2</th>\n",
       "      <td>Bob</td>\n",
       "      <td>Analisis Data</td>\n",
       "    </tr>\n",
       "    <tr>\n",
       "      <th>3</th>\n",
       "      <td>Charlie</td>\n",
       "      <td>Desainer</td>\n",
       "    </tr>\n",
       "  </tbody>\n",
       "</table>\n",
       "</div>"
      ],
      "text/plain": [
       "       Nama      Pekerjaan\n",
       "ID                        \n",
       "2       Bob  Analisis Data\n",
       "3   Charlie       Desainer"
      ]
     },
     "execution_count": 5,
     "metadata": {},
     "output_type": "execute_result"
    }
   ],
   "source": [
    "# Menggabungkan DataFrames berdasarkan indeks\n",
    "df1.set_index('ID', inplace=True)\n",
    "df2.set_index('ID', inplace=True)\n",
    "df_joined = df1.join(df2, how='inner')\n",
    "df_joined"
   ]
  },
  {
   "cell_type": "markdown",
   "id": "2952b06a-623c-4a5e-87be-af3010016614",
   "metadata": {},
   "source": [
    "# 11. Time Series dalam Pandas\n",
    "\n",
    "Time Series adalah serangkaian data yang diambil pada interval waktu tertentu. Pustaka Pandas menyediakan dukungan yang kuat untuk mengelola dan menganalisis data deret waktu. Mari kita lihat cara menggunakan Time Series dalam Pandas."
   ]
  },
  {
   "cell_type": "markdown",
   "id": "141b3188-faf3-4a0f-8825-87c7eb976226",
   "metadata": {},
   "source": [
    "## 11.1. Indexing pada Pandas TimeSeries\n",
    "Anda dapat membuat Time Series dengan menggunakan kolom waktu sebagai indeks:"
   ]
  },
  {
   "cell_type": "code",
   "execution_count": 2,
   "id": "65688495-771c-49b2-9523-37e038a1117c",
   "metadata": {},
   "outputs": [
    {
     "data": {
      "text/plain": [
       "2023-01-01    10\n",
       "2023-01-02    15\n",
       "2023-01-03    20\n",
       "2023-01-04    25\n",
       "2023-01-05    30\n",
       "2023-01-06    35\n",
       "2023-01-07    40\n",
       "2023-01-08    45\n",
       "2023-01-09    50\n",
       "2023-01-10    55\n",
       "Freq: D, dtype: int64"
      ]
     },
     "execution_count": 2,
     "metadata": {},
     "output_type": "execute_result"
    }
   ],
   "source": [
    "import pandas as pd\n",
    "\n",
    "# Membuat Time Series dengan indeks waktu\n",
    "dates = pd.date_range(start='2023-01-01', end='2023-01-10', freq='D')\n",
    "data = [10, 15, 20, 25, 30, 35, 40, 45, 50, 55]\n",
    "ts = pd.Series(data, index=dates)\n",
    "ts"
   ]
  },
  {
   "cell_type": "markdown",
   "id": "198b05f0-4f93-4ee5-95e7-b71d8331d112",
   "metadata": {},
   "source": [
    "## 11.2. Resampling pada Pandas TimeSeries\n",
    "\n",
    "Anda dapat melakukan resampling pada Time Series untuk mengubah frekuensi datanya:"
   ]
  },
  {
   "cell_type": "code",
   "execution_count": 3,
   "id": "63d09097-02ab-4d87-916d-b540e98cefaf",
   "metadata": {},
   "outputs": [
    {
     "data": {
      "text/plain": [
       "2023-01-01     10\n",
       "2023-01-08    210\n",
       "2023-01-15    105\n",
       "Freq: W-SUN, dtype: int64"
      ]
     },
     "execution_count": 3,
     "metadata": {},
     "output_type": "execute_result"
    }
   ],
   "source": [
    "# Resampling Time Series\n",
    "resampled_ts = ts.resample('W').sum()\n",
    "resampled_ts"
   ]
  },
  {
   "cell_type": "markdown",
   "id": "d9cd89bd-0466-4435-8828-a2608f2c825f",
   "metadata": {},
   "source": [
    "## 11.3. Manipulasi pada Pandas TimeSeries\n",
    "\n",
    "Pustaka Pandas menyediakan berbagai fungsi untuk memanipulasi Time Series:"
   ]
  },
  {
   "cell_type": "code",
   "execution_count": 4,
   "id": "cfa5764c-fbf3-44bc-a0a6-5b840f501b3e",
   "metadata": {},
   "outputs": [
    {
     "data": {
      "text/plain": [
       "2023-01-03    20\n",
       "2023-01-04    25\n",
       "2023-01-05    30\n",
       "2023-01-06    35\n",
       "2023-01-07    40\n",
       "2023-01-08    45\n",
       "Freq: D, dtype: int64"
      ]
     },
     "execution_count": 4,
     "metadata": {},
     "output_type": "execute_result"
    }
   ],
   "source": [
    "# Memotong Time Series berdasarkan rentang tanggal\n",
    "subset_ts = ts['2023-01-03':'2023-01-08']\n",
    "subset_ts"
   ]
  },
  {
   "cell_type": "code",
   "execution_count": 5,
   "id": "0d5aef4b-2721-43a0-b260-c3d536f55133",
   "metadata": {},
   "outputs": [
    {
     "data": {
      "text/plain": [
       "2023-01-01     NaN\n",
       "2023-01-02    10.0\n",
       "2023-01-03    15.0\n",
       "2023-01-04    20.0\n",
       "2023-01-05    25.0\n",
       "2023-01-06    30.0\n",
       "2023-01-07    35.0\n",
       "2023-01-08    40.0\n",
       "2023-01-09    45.0\n",
       "2023-01-10    50.0\n",
       "Freq: D, dtype: float64"
      ]
     },
     "execution_count": 5,
     "metadata": {},
     "output_type": "execute_result"
    }
   ],
   "source": [
    "# Menggunakan metode shift() untuk memindahkan data\n",
    "shifted_ts = ts.shift(1)\n",
    "shifted_ts"
   ]
  },
  {
   "cell_type": "code",
   "execution_count": 6,
   "id": "8ae47f61-f50e-4664-9137-0e54e02a21e2",
   "metadata": {},
   "outputs": [
    {
     "data": {
      "text/plain": [
       "2023-01-01         NaN\n",
       "2023-01-02    0.500000\n",
       "2023-01-03    0.333333\n",
       "2023-01-04    0.250000\n",
       "2023-01-05    0.200000\n",
       "2023-01-06    0.166667\n",
       "2023-01-07    0.142857\n",
       "2023-01-08    0.125000\n",
       "2023-01-09    0.111111\n",
       "2023-01-10    0.100000\n",
       "Freq: D, dtype: float64"
      ]
     },
     "execution_count": 6,
     "metadata": {},
     "output_type": "execute_result"
    }
   ],
   "source": [
    "# Menghitung perubahan persentase harian\n",
    "daily_returns = ts.pct_change()\n",
    "daily_returns"
   ]
  }
 ],
 "metadata": {
  "kernelspec": {
   "display_name": "Python 3 (ipykernel)",
   "language": "python",
   "name": "python3"
  },
  "language_info": {
   "codemirror_mode": {
    "name": "ipython",
    "version": 3
   },
   "file_extension": ".py",
   "mimetype": "text/x-python",
   "name": "python",
   "nbconvert_exporter": "python",
   "pygments_lexer": "ipython3",
   "version": "3.9.0"
  }
 },
 "nbformat": 4,
 "nbformat_minor": 5
}
