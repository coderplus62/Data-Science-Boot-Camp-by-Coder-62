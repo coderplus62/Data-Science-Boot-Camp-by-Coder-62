{
 "cells": [
  {
   "cell_type": "markdown",
   "metadata": {},
   "source": [
    "# Dasar-Dasar Seru Pemrograman Python 🐍\n",
    "\n",
    "Selamat datang di modul seru kami tentang pemrograman Python yang keren abis! 🚀 Di modul ini, kita bakal menjelajahi dunia Python yang bikin mata terbelalak, mulai dari yang paling dasar sampai topik-topik level tinggi."
   ]
  },
  {
   "cell_type": "markdown",
   "metadata": {},
   "source": [
    "## Serunya Python dalam Sekejap 🐍\n",
    "Python itu bahasa pemrograman serba bisa yang lagi ngehits banget untuk:"
   ]
  },
  {
   "cell_type": "markdown",
   "metadata": {},
   "source": [
    "### Analisis data\n",
    "<img src='https://media2.giphy.com/media/v1.Y2lkPTc5MGI3NjExMmZiYWQ4aGJtbnM0ejk2YzFndTRqYWtveXdjbXBvM3o3cTA3NXB5eCZlcD12MV9naWZzX3NlYXJjaCZjdD1n/3oKIPEqDGUULpEU0aQ/giphy.gif'>"
   ]
  },
  {
   "cell_type": "markdown",
   "metadata": {},
   "source": [
    "### 🤖 Otomatisasi\n",
    "<img src='https://media.geeksforgeeks.org/wp-content/uploads/20210908102821/refreshingexcelsheet.gif'>"
   ]
  },
  {
   "cell_type": "markdown",
   "metadata": {},
   "source": [
    "### 🧠 Machine Learning dan Data Science\n",
    "<img src='https://miro.medium.com/v2/resize:fit:1358/1*oB3S5yHHhvougJkPXuc8og.gif'>"
   ]
  },
  {
   "cell_type": "markdown",
   "metadata": {},
   "source": [
    "## Apa sih Python Itu? 🐍\n",
    "\n",
    "Python adalah bahasa pemrograman yang canggih dan langsung diinterpretasi yang diciptakan oleh Guido van Rossum pada tahun 1991. Ini adalah bahasa yang vokal soal keterbacaan dan keleluasaan kode, jadi gak heran kalau dia pendek tapi berbobot. Beda banget sama bahasa kayak C atau Java, Python gak maksa kita buat deklarasi tipe data yang ribet.\n",
    "\n",
    "<img src='https://upload.wikimedia.org/wikipedia/commons/thumb/6/66/Guido_van_Rossum_OSCON_2006.jpg/1200px-Guido_van_Rossum_OSCON_2006.jpg'>"
   ]
  },
  {
   "cell_type": "markdown",
   "metadata": {
    "jp-MarkdownHeadingCollapsed": true
   },
   "source": [
    "### Python Dipakai Kemana Aja? 🌐\n",
    "\n",
    "Python punya cakupan yang meluas banget, mulai dari:\n",
    "- 🌐 Pengembangan web (sisi server)\n",
    "- 🖥️ Bikin perangkat lunak (aplikasi GUI, basis data)\n",
    "- 🔬 Perhitungan ilmiah (data raksasa, matematika keren)\n",
    "- 📚 Pendidikan (dari yang pemula sampe mahir)\n",
    "- 🖥️ Antarmuka GUI desktop (library Tk)\n",
    "- 💼 Aplikasi bisnis (ERP, e-commerce)\n",
    "- 🍓 Raspberry Pi dan masih banyak lagi!"
   ]
  },
  {
   "cell_type": "markdown",
   "metadata": {
    "jp-MarkdownHeadingCollapsed": true
   },
   "source": [
    "### Kenapa Harus Pilih Python? 🚀\n",
    "\n",
    "Python punya kelebihan yang ngebuat dia melejit:\n",
    "- 💡 Sintaks yang simpel dan mirip bahasa Inggris\n",
    "- 👩‍🏫 Gak bikin muter-muter pala untuk belajar\n",
    "- 🔓 Gratis dan sumber terbuka (FLOSS)\n",
    "- 🌐 Bisa dipakai di berbagai platform"
   ]
  },
  {
   "cell_type": "markdown",
   "metadata": {},
   "source": [
    "## Sekilas Sejarah Kece Python 🎩\n",
    "\n",
    "Perjalanan Python tuh keren banget:\n",
    "- 🎉 Lahir di tahun 1980-an oleh Guido van Rossum\n",
    "- 🐍 Nggak terinspirasi sama ular, tapi oleh Monty Python!\n",
    "- 🚀 Tonggak besar ada di Python 1.0, 2.0, 3.0\n",
    "- 🕒 Mulai tahun 2008, Python 2.x dan 3.x berjalan berdampingan\n",
    "- 🔄 Modul ini berdasarkan Python 3.x"
   ]
  },
  {
   "cell_type": "markdown",
   "metadata": {},
   "source": [
    "## Python 3 vs. Python 2 🆚\n",
    "Python 3 bawa perubahan seru:\n",
    "- 🔤 String langsung Unicode sebagai default\n",
    "- ➗ Pembagian float jadi default\n",
    "- 🖨️ Fungsi print harus pake tanda kurung\n",
    "- 📥 Fungsi input balikin string\n",
    "- ⚖️ Penanganan error beda pake kata kunci 'as'\n",
    "- 🚀 Ada modul '__future__' buat kompatibilitas mundur"
   ]
  },
  {
   "cell_type": "markdown",
   "metadata": {},
   "source": [
    "## Sumber Daya Keren 📚\n",
    "\n",
    "Mau tahu lebih banyak tentang Python? Cek sumber daya berikut:\n",
    "- [Situs Resmi Python](https://www.python.org/)\n",
    "- [Indeks Paket Python (PyPI)](https://pypi.org/)\n",
    "- [Dokumentasi Python 3](https://docs.python.org/3/)\n",
    "- [Python untuk Ilmu Data](https://www.datacamp.com/community/tutorials/tutorial-python-packages-data-science)\n",
    "\n",
    "Jelajahi keajaiban Python dan bebaskan kreativitasmu! 🚀🐍🎉"
   ]
  }
 ],
 "metadata": {
  "kernelspec": {
   "display_name": "Python 3 (ipykernel)",
   "language": "python",
   "name": "python3"
  },
  "language_info": {
   "codemirror_mode": {
    "name": "ipython",
    "version": 3
   },
   "file_extension": ".py",
   "mimetype": "text/x-python",
   "name": "python",
   "nbconvert_exporter": "python",
   "pygments_lexer": "ipython3",
   "version": "3.9.17"
  }
 },
 "nbformat": 4,
 "nbformat_minor": 4
}
