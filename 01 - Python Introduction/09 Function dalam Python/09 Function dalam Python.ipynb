{
 "cells": [
  {
   "cell_type": "markdown",
   "id": "cc186087-3611-422f-a1db-213cafb30acb",
   "metadata": {},
   "source": [
    "# 1. Built-in Function\n",
    "\n",
    "Python menyediakan kumpulan fungsi bawaan yang kaya untuk melakukan berbagai operasi.\n",
    "Mari kita ringkas beberapa fungsi bawaan penting."
   ]
  },
  {
   "cell_type": "markdown",
   "id": "2c4888a1-b609-4472-bc8f-50aab9714e1c",
   "metadata": {},
   "source": [
    "## 1.1. len() - Mengembalikan panjang (jumlah item) dari sebuah objek"
   ]
  },
  {
   "cell_type": "code",
   "execution_count": null,
   "id": "b9307783-9bb3-4982-ba5d-d460b191ded1",
   "metadata": {},
   "outputs": [],
   "source": [
    "my_list = [10, 20, 30, 40, 50]\n",
    "panjang = len(my_list)\n",
    "print(\"Panjang dari daftar:\", panjang)"
   ]
  },
  {
   "cell_type": "markdown",
   "id": "fa2e06f5-e2f7-41bf-982f-c60996db400c",
   "metadata": {},
   "source": [
    "## 1.2. max() - Mengembalikan nilai terbesar dalam sebuah iterable atau di antara beberapa argumen"
   ]
  },
  {
   "cell_type": "code",
   "execution_count": null,
   "id": "1f80247a-932b-429d-96d5-46e39e8e05db",
   "metadata": {},
   "outputs": [],
   "source": [
    "angka = [15, 25, 10, 35, 5]\n",
    "maksimum = max(angka)\n",
    "print(\"Nilai maksimum:\", maksimum)"
   ]
  },
  {
   "cell_type": "markdown",
   "id": "7c908416-39da-45c5-a39e-18b31ce5cbff",
   "metadata": {},
   "source": [
    "## 1.3. min() - Mengembalikan nilai terkecil dalam sebuah iterable atau di antara beberapa argumen"
   ]
  },
  {
   "cell_type": "code",
   "execution_count": null,
   "id": "ce69f27e-2f56-46ed-9bac-0a8e1efb404a",
   "metadata": {},
   "outputs": [],
   "source": [
    "angka = [15, 25, 10, 35, 5]\n",
    "minimum = min(angka)\n",
    "print(\"Nilai minimum:\", minimum)"
   ]
  },
  {
   "cell_type": "markdown",
   "id": "e5ead63f-44c2-41a7-9abf-226b4b5f7c34",
   "metadata": {},
   "source": [
    "## 1.4. sum() - Mengembalikan jumlah dari semua item dalam sebuah iterable"
   ]
  },
  {
   "cell_type": "code",
   "execution_count": null,
   "id": "b5eeb2e9-5490-4f2a-909d-a93c9a48df4c",
   "metadata": {},
   "outputs": [],
   "source": [
    "angka = [15, 25, 10, 35, 5]\n",
    "total = sum(angka)\n",
    "print(\"Jumlah nilai:\", total)"
   ]
  },
  {
   "cell_type": "markdown",
   "id": "cfabb35e-4387-42d4-bcd0-d3bd9b7c9d7a",
   "metadata": {},
   "source": [
    "## 1.5. sorted() - Mengembalikan daftar yang diurutkan dari iterable yang ditentukan"
   ]
  },
  {
   "cell_type": "code",
   "execution_count": null,
   "id": "fe87ef29-4b27-4937-8960-8c48899cd0af",
   "metadata": {},
   "outputs": [],
   "source": [
    "angka = [15, 25, 10, 35, 5]\n",
    "angka_terurut = sorted(angka)\n",
    "print(\"Angka terurut:\", angka_terurut)"
   ]
  },
  {
   "cell_type": "markdown",
   "id": "ff4a78d3-945c-4b14-805a-28c8e04956cd",
   "metadata": {},
   "source": [
    "## 1.6. any() - Mengembalikan True jika setidaknya satu elemen dari sebuah iterable adalah True"
   ]
  },
  {
   "cell_type": "code",
   "execution_count": null,
   "id": "38e0db07-46e9-4bf0-95dd-7baf09b3e3f9",
   "metadata": {},
   "outputs": [],
   "source": [
    "nilai_bool = [True, False, False, True]\n",
    "ada_true = any(nilai_bool)\n",
    "print(\"Ada True:\", ada_true)"
   ]
  },
  {
   "cell_type": "markdown",
   "id": "230785db-415f-4fc9-9387-55036182ac18",
   "metadata": {},
   "source": [
    "## 1.7. all() - Mengembalikan True jika semua elemen dari sebuah iterable adalah True"
   ]
  },
  {
   "cell_type": "code",
   "execution_count": null,
   "id": "1b5d317a-06a8-440d-854b-cc8b8a8a9a93",
   "metadata": {},
   "outputs": [],
   "source": [
    "semua_true = all(nilai_bool)\n",
    "print(\"Semua True:\", semua_true)"
   ]
  },
  {
   "cell_type": "markdown",
   "id": "6be25bc9-1283-4833-98f1-02f57bd2d4b7",
   "metadata": {},
   "source": [
    "## 1.8. map() - Mengaplikasikan fungsi ke semua item dalam sebuah daftar masukan dan mengembalikan iterator"
   ]
  },
  {
   "cell_type": "code",
   "execution_count": null,
   "id": "53d6fed2-b946-492b-9025-c206fdb24150",
   "metadata": {},
   "outputs": [],
   "source": [
    "angka = [15, 25, 10, 35, 5]\n",
    "\n",
    "def kuadrat(x):\n",
    "    return x ** 2\n",
    "\n",
    "nilai_kuadrat = map(kuadrat, angka)\n",
    "print(\"Nilai kuadrat:\", list(nilai_kuadrat))"
   ]
  },
  {
   "cell_type": "markdown",
   "id": "20b24173-e8ac-472e-9d02-e28848845792",
   "metadata": {},
   "source": [
    "## 1.9. filter() - Memfilter elemen dari sebuah iterable berdasarkan kondisi"
   ]
  },
  {
   "cell_type": "code",
   "execution_count": null,
   "id": "19c54db3-cae5-4d1e-a5da-cba4130cdc4f",
   "metadata": {},
   "outputs": [],
   "source": [
    "angka = [15, 25, 10, 35, 5]\n",
    "\n",
    "def genap(x):\n",
    "    return x % 2 == 0\n",
    "\n",
    "nilai_genap = filter(genap, angka)\n",
    "print(\"Nilai genap:\", list(nilai_genap))"
   ]
  },
  {
   "cell_type": "markdown",
   "id": "1301d325-278c-4bfb-b677-48f7d7b3861a",
   "metadata": {},
   "source": [
    "# 2. User defined functions\n",
    "\n",
    "Fungsi buatan pengguna memungkinkan Anda membuat blok kode yang dapat digunakan ulang.\n",
    "Mari kita jelajahi pembuatan fungsi dengan argumen tunggal dan ganda,\n",
    "argumen default, argumen berpanjang variabel, docstrings, dan fungsi bersarang."
   ]
  },
  {
   "cell_type": "markdown",
   "id": "dfeddd6f-92b0-4075-8bee-c5ccdec8ce21",
   "metadata": {},
   "source": [
    "## 2.1. Fungsi dengan Satu Argumen"
   ]
  },
  {
   "cell_type": "code",
   "execution_count": null,
   "id": "bfaaceb7-506b-48ff-b0c1-7a04491e0b7a",
   "metadata": {},
   "outputs": [],
   "source": [
    "def sapa(nama):\n",
    "    print(\"Halo,\", nama)\n",
    "\n",
    "sapa(\"Alice\")"
   ]
  },
  {
   "cell_type": "markdown",
   "id": "9501d83d-99a2-4a38-8452-5247a8ee30b4",
   "metadata": {},
   "source": [
    "## 2.2. Fungsi dengan Argumen Ganda dan Pernyataan Return"
   ]
  },
  {
   "cell_type": "code",
   "execution_count": null,
   "id": "1738553c-0a66-42c0-9fea-378cbb1a6d7c",
   "metadata": {},
   "outputs": [],
   "source": [
    "def tambah_angka(x, y):\n",
    "    return x + y\n",
    "\n",
    "hasil = tambah_angka(5, 3)\n",
    "print(\"Jumlah:\", hasil)"
   ]
  },
  {
   "cell_type": "markdown",
   "id": "211eab1a-79ef-4f00-8c67-c1567efb14f3",
   "metadata": {},
   "source": [
    "## 2.3. Fungsi dengan Argumen Default"
   ]
  },
  {
   "cell_type": "code",
   "execution_count": null,
   "id": "3d248bf7-ae14-4d18-a4c8-73542def46b3",
   "metadata": {},
   "outputs": [],
   "source": [
    "def pangkat(angka, pangkat=2):\n",
    "    return angka ** pangkat\n",
    "\n",
    "kuadrat = pangkat(3)\n",
    "kubik = pangkat(3, 3)\n",
    "print(\"Kuadrat:\", kuadrat)\n",
    "print(\"Kubik:\", kubik)"
   ]
  },
  {
   "cell_type": "markdown",
   "id": "e060dd41-f911-4dac-b31c-b42a215a4009",
   "metadata": {},
   "source": [
    "## 2.4. Fungsi dengan Argumen Berpanjang Variabel"
   ]
  },
  {
   "cell_type": "code",
   "execution_count": null,
   "id": "a9b3d555-97a6-46e7-ab9d-ef79f0b6c312",
   "metadata": {},
   "outputs": [],
   "source": [
    "def cetak_angka(*args):\n",
    "    for num in args:\n",
    "        print(\"Angka:\", num)\n",
    "\n",
    "cetak_angka(10, 20, 30)"
   ]
  },
  {
   "cell_type": "markdown",
   "id": "43c7e09a-6f73-4202-9c89-0be321d33573",
   "metadata": {},
   "source": [
    "## 2.5. DocStrings"
   ]
  },
  {
   "cell_type": "code",
   "execution_count": null,
   "id": "b45332de-6fcc-4de4-a284-d8b2207c4cf2",
   "metadata": {},
   "outputs": [],
   "source": [
    "def fungsi_saya():\n",
    "    \"\"\"\n",
    "    Ini adalah docstring.\n",
    "    Ini memberikan deskripsi tujuan dan penggunaan fungsi.\n",
    "    \"\"\"\n",
    "    print(\"Fungsi dieksekusi\")\n",
    "\n",
    "print(fungsi_saya.__doc__)  # Menampilkan docstring"
   ]
  },
  {
   "cell_type": "markdown",
   "id": "f0fd21c7-08b5-434c-b169-a646c0ebd6f3",
   "metadata": {},
   "source": [
    "## 2.6. Fungsi Bersarang dan Variabel Non-Lokal"
   ]
  },
  {
   "cell_type": "code",
   "execution_count": null,
   "id": "71179b1c-5cad-45ec-a517-6150a1ad8d28",
   "metadata": {},
   "outputs": [],
   "source": [
    "def fungsi_luar(x):\n",
    "    def fungsi_dalam():\n",
    "        nonlocal x  # Mengakses variabel fungsi luar\n",
    "        x += 10\n",
    "        print(\"Dalam:\", x)\n",
    "    fungsi_dalam()\n",
    "    print(\"Luar:\", x)\n",
    "\n",
    "fungsi_luar(5)"
   ]
  },
  {
   "cell_type": "markdown",
   "id": "717ab82d-9b87-4aec-aaa7-621fa4445556",
   "metadata": {},
   "source": [
    "# 3. Variable Namespace and Scope\n",
    "\n",
    "Variabel dalam Python memiliki namespace dan ruang lingkup masing-masing.\n",
    "Mari kita jelajahi bagaimana nama, namespace, dan ruang lingkup berfungsi."
   ]
  },
  {
   "cell_type": "markdown",
   "id": "53ee6fae-f037-4093-a629-56d20bdeb525",
   "metadata": {},
   "source": [
    "## 3.1. Nama dalam Dunia Python\n",
    "Nama digunakan untuk merujuk pada variabel, fungsi, kelas, modul, dll."
   ]
  },
  {
   "cell_type": "code",
   "execution_count": null,
   "id": "5db03207-5516-4062-a983-1b0e7f7ef771",
   "metadata": {},
   "outputs": [],
   "source": [
    "import math\n",
    "\n",
    "nama_variabel = \"Halo\"\n",
    "nama_fungsi = len\n",
    "nama_modul = math"
   ]
  },
  {
   "cell_type": "markdown",
   "id": "d44d7742-f0d4-4a92-b76d-00a4e62059fb",
   "metadata": {},
   "source": [
    "## 3.2. Namespace\n",
    "Namespace adalah pemetaan nama ke objek. Setiap modul memiliki namespace sendiri."
   ]
  },
  {
   "cell_type": "code",
   "execution_count": null,
   "id": "097a11f7-fcb4-459f-94ff-cd4cebe1d321",
   "metadata": {},
   "outputs": [],
   "source": [
    "import math\n",
    "\n",
    "print(\"Namespace dari modul math:\", math.__dict__)"
   ]
  },
  {
   "cell_type": "markdown",
   "id": "df9c17fe-40c4-4c56-ad8f-4023f58b593b",
   "metadata": {},
   "source": [
    "## 3.3. Ruang Lingkup\n",
    "\n",
    "Ruang lingkup menentukan di mana sebuah nama dapat diakses. \n",
    "\n",
    "Ada empat jenis ruang lingkup: \n",
    "1. Lokal\n",
    "2. Penutupan (Enclosing)\n",
    "3. Global\n",
    "4. Bawaan (Built-in)."
   ]
  },
  {
   "cell_type": "code",
   "execution_count": null,
   "id": "b86c9fdd-a51a-48f0-a66c-17d31c7bb9e4",
   "metadata": {},
   "outputs": [],
   "source": [
    "x = 10  # Ruang lingkup global\n",
    "\n",
    "def fungsi_saya():\n",
    "    y = 5  # Ruang lingkup lokal\n",
    "    print(\"Variabel lokal y:\", y)\n",
    "\n",
    "fungsi_saya()"
   ]
  },
  {
   "cell_type": "code",
   "execution_count": null,
   "id": "8964ea20-94a1-4974-a09d-a1676c3ca0b0",
   "metadata": {},
   "outputs": [],
   "source": [
    "variabel_global = 15  # Ruang lingkup global\n",
    "\n",
    "def fungsi_luar():\n",
    "    variabel_luar = 20  # Ruang lingkup penutupan\n",
    "\n",
    "    def fungsi_dalam():\n",
    "        variabel_lokal = 25  # Ruang lingkup lokal\n",
    "        print(\"Variabel dalam variabel_lokal:\", variabel_lokal)\n",
    "        print(\"Variabel penutupan variabel_luar:\", variabel_luar)\n",
    "        print(\"Variabel global variabel_global:\", variabel_global)\n",
    "\n",
    "    fungsi_dalam()\n",
    "\n",
    "fungsi_luar()"
   ]
  },
  {
   "cell_type": "markdown",
   "id": "ea2e8b7d-e004-4c91-9a87-d09f45fe0beb",
   "metadata": {},
   "source": [
    "### 3.3.1. Mengakses ruang lingkup bawaan (built-in)"
   ]
  },
  {
   "cell_type": "code",
   "execution_count": null,
   "id": "d87dd9ba-f7f1-49b5-9887-9d1415dea8c7",
   "metadata": {},
   "outputs": [],
   "source": [
    "import builtins\n",
    "\n",
    "print(\"Nama ruang lingkup bawaan (built-in):\", dir(builtins))"
   ]
  },
  {
   "cell_type": "markdown",
   "id": "12105a97-a271-4ae7-9fc1-b7607d778586",
   "metadata": {},
   "source": [
    "# 4. Lambda Function\n",
    "\n",
    "Fungsi lambda adalah fungsi kecil dan anonim yang digunakan untuk tugas-tugas sederhana.\n",
    "Mari kita jelajahi fungsi lambda dan bagaimana penggunaannya dengan map(), filter(), dan zip()."
   ]
  },
  {
   "cell_type": "markdown",
   "id": "d77ff55d-988e-4188-a518-cdf5b0f88500",
   "metadata": {},
   "source": [
    "## 4.1. Menggunakan Fungsi Lambda dengan Fungsi map()"
   ]
  },
  {
   "cell_type": "code",
   "execution_count": null,
   "id": "a9440e92-9a76-4ae6-958b-20c1f0c2e8dc",
   "metadata": {},
   "outputs": [],
   "source": [
    "angka = [1, 2, 3, 4, 5]\n",
    "\n",
    "angka_kuadrat = map(lambda x: x ** 2, angka)\n",
    "print(\"Angka-angka kuadrat menggunakan map():\", list(angka_kuadrat))"
   ]
  },
  {
   "cell_type": "markdown",
   "id": "b6ba68fd-a31d-41c1-b382-7d7be0024c2b",
   "metadata": {},
   "source": [
    "## 4.2. Menggunakan Fungsi Lambda dengan Fungsi filter()"
   ]
  },
  {
   "cell_type": "code",
   "execution_count": null,
   "id": "568207ca-95da-4de0-9209-a19480c2ddf8",
   "metadata": {},
   "outputs": [],
   "source": [
    "angka_genap = filter(lambda x: x % 2 == 0, angka)\n",
    "print(\"Angka genap menggunakan filter():\", list(angka_genap))"
   ]
  },
  {
   "cell_type": "markdown",
   "id": "f70de5ca-29c7-4aa3-9458-aa5b9a98e8b6",
   "metadata": {},
   "source": [
    "## 4.3. Menggunakan Fungsi Lambda dengan Fungsi zip()"
   ]
  },
  {
   "cell_type": "code",
   "execution_count": null,
   "id": "08ce5509-fa87-4915-830e-a1495e89b22b",
   "metadata": {},
   "outputs": [],
   "source": [
    "nama = [\"Alice\", \"Bob\", \"Charlie\"]\n",
    "umur = [25, 30, 22]\n",
    "\n",
    "info_person = list(zip(nama, umur))\n",
    "print(\"Informasi orang menggunakan zip():\", info_person)"
   ]
  }
 ],
 "metadata": {
  "kernelspec": {
   "display_name": "Python 3 (ipykernel)",
   "language": "python",
   "name": "python3"
  },
  "language_info": {
   "codemirror_mode": {
    "name": "ipython",
    "version": 3
   },
   "file_extension": ".py",
   "mimetype": "text/x-python",
   "name": "python",
   "nbconvert_exporter": "python",
   "pygments_lexer": "ipython3",
   "version": "3.9.0"
  }
 },
 "nbformat": 4,
 "nbformat_minor": 5
}
