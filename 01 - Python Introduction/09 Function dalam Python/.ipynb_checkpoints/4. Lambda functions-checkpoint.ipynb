{
 "cells": [
  {
   "cell_type": "markdown",
   "id": "724f1bf8-22f6-4f21-a0f6-bfb5bf0e34dc",
   "metadata": {},
   "source": [
    "# Penjelasan tentang Fungsi Lambda dalam Python\n",
    "\n",
    "Fungsi lambda adalah fungsi kecil dan anonim yang digunakan untuk tugas-tugas sederhana.\n",
    "Mari kita jelajahi fungsi lambda dan bagaimana penggunaannya dengan map(), filter(), dan zip()."
   ]
  },
  {
   "cell_type": "markdown",
   "id": "1f6f19a0-a79f-42fa-927c-9b0046c837ad",
   "metadata": {},
   "source": [
    "# 1. Menggunakan Fungsi Lambda dengan Fungsi map()"
   ]
  },
  {
   "cell_type": "code",
   "execution_count": 2,
   "id": "a45d18a9-bf64-47f3-ac5e-1c184fd427b8",
   "metadata": {},
   "outputs": [],
   "source": [
    "angka = [1, 2, 3, 4, 5]"
   ]
  },
  {
   "cell_type": "markdown",
   "id": "fe3bf563-f37f-4db5-b7ea-d0ab77ec7dc9",
   "metadata": {},
   "source": [
    "## Menggunakan fungsi lambda untuk mengkuadratkan setiap angka menggunakan map()"
   ]
  },
  {
   "cell_type": "code",
   "execution_count": 3,
   "id": "0c9c711c-b4a9-42c1-8b90-2e6f88a831a8",
   "metadata": {},
   "outputs": [
    {
     "name": "stdout",
     "output_type": "stream",
     "text": [
      "Angka-angka kuadrat menggunakan map(): [1, 4, 9, 16, 25]\n"
     ]
    }
   ],
   "source": [
    "angka_kuadrat = map(lambda x: x ** 2, angka)\n",
    "print(\"Angka-angka kuadrat menggunakan map():\", list(angka_kuadrat))"
   ]
  },
  {
   "cell_type": "markdown",
   "id": "625f5243-b614-43ce-b0f9-70fd29df39d5",
   "metadata": {},
   "source": [
    "# 2. Menggunakan Fungsi Lambda dengan Fungsi filter()"
   ]
  },
  {
   "cell_type": "markdown",
   "id": "616f433c-54a7-4f5a-962d-aec2db6daec0",
   "metadata": {},
   "source": [
    "## Menggunakan fungsi lambda untuk menyaring angka genap menggunakan filter()"
   ]
  },
  {
   "cell_type": "code",
   "execution_count": 4,
   "id": "e15dfffe-f02c-4dc6-bdca-17257d21ecc5",
   "metadata": {},
   "outputs": [
    {
     "name": "stdout",
     "output_type": "stream",
     "text": [
      "Angka genap menggunakan filter(): [2, 4]\n"
     ]
    }
   ],
   "source": [
    "angka_genap = filter(lambda x: x % 2 == 0, angka)\n",
    "print(\"Angka genap menggunakan filter():\", list(angka_genap))"
   ]
  },
  {
   "cell_type": "markdown",
   "id": "4468a84d-dc58-420b-949b-21e45897acda",
   "metadata": {},
   "source": [
    "# 3. Menggunakan Fungsi Lambda dengan Fungsi zip()"
   ]
  },
  {
   "cell_type": "code",
   "execution_count": 5,
   "id": "cd23f69f-dfaa-4ed5-aed1-8c084ef315bf",
   "metadata": {},
   "outputs": [],
   "source": [
    "nama = [\"Alice\", \"Bob\", \"Charlie\"]\n",
    "umur = [25, 30, 22]"
   ]
  },
  {
   "cell_type": "markdown",
   "id": "3e900dc6-2383-4041-9a09-c4365a085a3c",
   "metadata": {},
   "source": [
    "## Menggunakan fungsi lambda dengan zip() untuk menggabungkan dua daftar"
   ]
  },
  {
   "cell_type": "code",
   "execution_count": 6,
   "id": "4af46303-dde4-432e-8ff8-6d21bcfd8748",
   "metadata": {},
   "outputs": [
    {
     "name": "stdout",
     "output_type": "stream",
     "text": [
      "Informasi orang menggunakan zip(): [('Alice', 25), ('Bob', 30), ('Charlie', 22)]\n"
     ]
    }
   ],
   "source": [
    "info_person = list(zip(nama, umur))\n",
    "print(\"Informasi orang menggunakan zip():\", info_person)"
   ]
  }
 ],
 "metadata": {
  "kernelspec": {
   "display_name": "Python 3 (ipykernel)",
   "language": "python",
   "name": "python3"
  },
  "language_info": {
   "codemirror_mode": {
    "name": "ipython",
    "version": 3
   },
   "file_extension": ".py",
   "mimetype": "text/x-python",
   "name": "python",
   "nbconvert_exporter": "python",
   "pygments_lexer": "ipython3",
   "version": "3.9.17"
  }
 },
 "nbformat": 4,
 "nbformat_minor": 5
}
