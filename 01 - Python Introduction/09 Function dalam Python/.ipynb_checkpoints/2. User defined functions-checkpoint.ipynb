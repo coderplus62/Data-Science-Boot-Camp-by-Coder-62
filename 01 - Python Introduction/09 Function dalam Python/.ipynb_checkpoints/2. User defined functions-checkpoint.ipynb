{
 "cells": [
  {
   "cell_type": "markdown",
   "id": "39687aa9-0572-49e3-ab94-345c9828a989",
   "metadata": {},
   "source": [
    "# Penjelasan Mengenai Fungsi Buatan Pengguna dalam Python\n",
    "\n",
    "Fungsi buatan pengguna memungkinkan Anda membuat blok kode yang dapat digunakan ulang.\n",
    "Mari kita jelajahi pembuatan fungsi dengan argumen tunggal dan ganda,\n",
    "argumen default, argumen berpanjang variabel, docstrings, dan fungsi bersarang."
   ]
  },
  {
   "cell_type": "markdown",
   "id": "9149f749-f7da-4e0b-8fe1-d7641383d510",
   "metadata": {},
   "source": [
    "# 1. Fungsi dengan Satu Argumen"
   ]
  },
  {
   "cell_type": "code",
   "execution_count": 1,
   "id": "76fa2522-0403-4eed-bae1-bac23d76b32a",
   "metadata": {},
   "outputs": [
    {
     "name": "stdout",
     "output_type": "stream",
     "text": [
      "Halo, Alice\n"
     ]
    }
   ],
   "source": [
    "def sapa(nama):\n",
    "    print(\"Halo,\", nama)\n",
    "\n",
    "sapa(\"Alice\")"
   ]
  },
  {
   "cell_type": "markdown",
   "id": "4f23b113-e9e4-48c4-82bc-7a4e9eae7463",
   "metadata": {},
   "source": [
    "# 2. Fungsi dengan Argumen Ganda dan Pernyataan Return"
   ]
  },
  {
   "cell_type": "code",
   "execution_count": 2,
   "id": "7ac1ca1c-446b-4ee8-aca1-260dfbeb578b",
   "metadata": {},
   "outputs": [
    {
     "name": "stdout",
     "output_type": "stream",
     "text": [
      "Jumlah: 8\n"
     ]
    }
   ],
   "source": [
    "def tambah_angka(x, y):\n",
    "    return x + y\n",
    "\n",
    "hasil = tambah_angka(5, 3)\n",
    "print(\"Jumlah:\", hasil)"
   ]
  },
  {
   "cell_type": "markdown",
   "id": "1abae74a-0a12-4177-a051-670c7b32da61",
   "metadata": {},
   "source": [
    "# 3. Fungsi dengan Argumen Default"
   ]
  },
  {
   "cell_type": "code",
   "execution_count": 3,
   "id": "135824fe-866d-49d5-93a4-0c5853206bac",
   "metadata": {},
   "outputs": [
    {
     "name": "stdout",
     "output_type": "stream",
     "text": [
      "Kuadrat: 9\n",
      "Kubik: 27\n"
     ]
    }
   ],
   "source": [
    "def pangkat(angka, pangkat=2):\n",
    "    return angka ** pangkat\n",
    "\n",
    "kuadrat = pangkat(3)\n",
    "kubik = pangkat(3, 3)\n",
    "print(\"Kuadrat:\", kuadrat)\n",
    "print(\"Kubik:\", kubik)"
   ]
  },
  {
   "cell_type": "markdown",
   "id": "18feeb86-9c8a-41d5-ba83-45b5b7eee4e2",
   "metadata": {},
   "source": [
    "# 4. Fungsi dengan Argumen Berpanjang Variabel"
   ]
  },
  {
   "cell_type": "code",
   "execution_count": 4,
   "id": "7365709d-c54e-4454-9e3f-254522beeec4",
   "metadata": {},
   "outputs": [
    {
     "name": "stdout",
     "output_type": "stream",
     "text": [
      "Angka: 10\n",
      "Angka: 20\n",
      "Angka: 30\n"
     ]
    }
   ],
   "source": [
    "def cetak_angka(*args):\n",
    "    for num in args:\n",
    "        print(\"Angka:\", num)\n",
    "\n",
    "cetak_angka(10, 20, 30)"
   ]
  },
  {
   "cell_type": "markdown",
   "id": "aed9594a-fd54-4f8a-ae21-5ae3b8455ab3",
   "metadata": {},
   "source": [
    "# 5. DocStrings"
   ]
  },
  {
   "cell_type": "code",
   "execution_count": 5,
   "id": "60cb8aa2-e060-42bc-8100-2b2c1f2724aa",
   "metadata": {},
   "outputs": [
    {
     "name": "stdout",
     "output_type": "stream",
     "text": [
      "\n",
      "    Ini adalah docstring.\n",
      "    Ini memberikan deskripsi tujuan dan penggunaan fungsi.\n",
      "    \n"
     ]
    }
   ],
   "source": [
    "def fungsi_saya():\n",
    "    \"\"\"\n",
    "    Ini adalah docstring.\n",
    "    Ini memberikan deskripsi tujuan dan penggunaan fungsi.\n",
    "    \"\"\"\n",
    "    print(\"Fungsi dieksekusi\")\n",
    "\n",
    "print(fungsi_saya.__doc__)  # Menampilkan docstring"
   ]
  },
  {
   "cell_type": "markdown",
   "id": "24c1ee26-e041-48ae-9d21-14ce30cf3f6e",
   "metadata": {},
   "source": [
    "# 6. Fungsi Bersarang dan Variabel Non-Lokal"
   ]
  },
  {
   "cell_type": "code",
   "execution_count": 6,
   "id": "9371578a-7ea3-499f-93b1-cca4cfc5124e",
   "metadata": {},
   "outputs": [
    {
     "name": "stdout",
     "output_type": "stream",
     "text": [
      "Dalam: 15\n",
      "Luar: 15\n"
     ]
    }
   ],
   "source": [
    "def fungsi_luar(x):\n",
    "    def fungsi_dalam():\n",
    "        nonlocal x  # Mengakses variabel fungsi luar\n",
    "        x += 10\n",
    "        print(\"Dalam:\", x)\n",
    "    fungsi_dalam()\n",
    "    print(\"Luar:\", x)\n",
    "\n",
    "fungsi_luar(5)"
   ]
  }
 ],
 "metadata": {
  "kernelspec": {
   "display_name": "Python 3 (ipykernel)",
   "language": "python",
   "name": "python3"
  },
  "language_info": {
   "codemirror_mode": {
    "name": "ipython",
    "version": 3
   },
   "file_extension": ".py",
   "mimetype": "text/x-python",
   "name": "python",
   "nbconvert_exporter": "python",
   "pygments_lexer": "ipython3",
   "version": "3.9.17"
  }
 },
 "nbformat": 4,
 "nbformat_minor": 5
}
