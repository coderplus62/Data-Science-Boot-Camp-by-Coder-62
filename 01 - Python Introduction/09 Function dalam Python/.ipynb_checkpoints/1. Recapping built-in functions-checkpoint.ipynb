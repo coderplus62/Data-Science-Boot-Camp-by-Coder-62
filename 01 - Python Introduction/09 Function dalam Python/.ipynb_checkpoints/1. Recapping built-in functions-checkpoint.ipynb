{
 "cells": [
  {
   "cell_type": "markdown",
   "id": "cc186087-3611-422f-a1db-213cafb30acb",
   "metadata": {},
   "source": [
    "# Penjelasan Mengenai Ringkasan: Fungsi Bawaan dalam Python\n",
    "\n",
    "Python menyediakan kumpulan fungsi bawaan yang kaya untuk melakukan berbagai operasi.\n",
    "Mari kita ringkas beberapa fungsi bawaan penting."
   ]
  },
  {
   "cell_type": "markdown",
   "id": "2c4888a1-b609-4472-bc8f-50aab9714e1c",
   "metadata": {},
   "source": [
    "# 1. len() - Mengembalikan panjang (jumlah item) dari sebuah objek"
   ]
  },
  {
   "cell_type": "code",
   "execution_count": 1,
   "id": "b9307783-9bb3-4982-ba5d-d460b191ded1",
   "metadata": {},
   "outputs": [
    {
     "name": "stdout",
     "output_type": "stream",
     "text": [
      "Panjang dari daftar: 5\n"
     ]
    }
   ],
   "source": [
    "my_list = [10, 20, 30, 40, 50]\n",
    "panjang = len(my_list)\n",
    "print(\"Panjang dari daftar:\", panjang)"
   ]
  },
  {
   "cell_type": "markdown",
   "id": "fa2e06f5-e2f7-41bf-982f-c60996db400c",
   "metadata": {},
   "source": [
    "# 2. max() - Mengembalikan nilai terbesar dalam sebuah iterable atau di antara beberapa argumen"
   ]
  },
  {
   "cell_type": "code",
   "execution_count": 2,
   "id": "1f80247a-932b-429d-96d5-46e39e8e05db",
   "metadata": {},
   "outputs": [
    {
     "name": "stdout",
     "output_type": "stream",
     "text": [
      "Nilai maksimum: 35\n"
     ]
    }
   ],
   "source": [
    "angka = [15, 25, 10, 35, 5]\n",
    "maksimum = max(angka)\n",
    "print(\"Nilai maksimum:\", maksimum)"
   ]
  },
  {
   "cell_type": "markdown",
   "id": "7c908416-39da-45c5-a39e-18b31ce5cbff",
   "metadata": {},
   "source": [
    "# 3. min() - Mengembalikan nilai terkecil dalam sebuah iterable atau di antara beberapa argumen"
   ]
  },
  {
   "cell_type": "code",
   "execution_count": 3,
   "id": "ce69f27e-2f56-46ed-9bac-0a8e1efb404a",
   "metadata": {},
   "outputs": [
    {
     "name": "stdout",
     "output_type": "stream",
     "text": [
      "Nilai minimum: 5\n"
     ]
    }
   ],
   "source": [
    "angka = [15, 25, 10, 35, 5]\n",
    "minimum = min(angka)\n",
    "print(\"Nilai minimum:\", minimum)"
   ]
  },
  {
   "cell_type": "markdown",
   "id": "e5ead63f-44c2-41a7-9abf-226b4b5f7c34",
   "metadata": {},
   "source": [
    "# 4. sum() - Mengembalikan jumlah dari semua item dalam sebuah iterable"
   ]
  },
  {
   "cell_type": "code",
   "execution_count": 4,
   "id": "b5eeb2e9-5490-4f2a-909d-a93c9a48df4c",
   "metadata": {},
   "outputs": [
    {
     "name": "stdout",
     "output_type": "stream",
     "text": [
      "Jumlah nilai: 90\n"
     ]
    }
   ],
   "source": [
    "angka = [15, 25, 10, 35, 5]\n",
    "total = sum(angka)\n",
    "print(\"Jumlah nilai:\", total)"
   ]
  },
  {
   "cell_type": "markdown",
   "id": "cfabb35e-4387-42d4-bcd0-d3bd9b7c9d7a",
   "metadata": {},
   "source": [
    "# 5. sorted() - Mengembalikan daftar yang diurutkan dari iterable yang ditentukan"
   ]
  },
  {
   "cell_type": "code",
   "execution_count": 5,
   "id": "fe87ef29-4b27-4937-8960-8c48899cd0af",
   "metadata": {},
   "outputs": [
    {
     "name": "stdout",
     "output_type": "stream",
     "text": [
      "Angka terurut: [5, 10, 15, 25, 35]\n"
     ]
    }
   ],
   "source": [
    "angka = [15, 25, 10, 35, 5]\n",
    "angka_terurut = sorted(angka)\n",
    "print(\"Angka terurut:\", angka_terurut)"
   ]
  },
  {
   "cell_type": "markdown",
   "id": "ff4a78d3-945c-4b14-805a-28c8e04956cd",
   "metadata": {},
   "source": [
    "# 6. any() - Mengembalikan True jika setidaknya satu elemen dari sebuah iterable adalah True"
   ]
  },
  {
   "cell_type": "code",
   "execution_count": 6,
   "id": "38e0db07-46e9-4bf0-95dd-7baf09b3e3f9",
   "metadata": {},
   "outputs": [
    {
     "name": "stdout",
     "output_type": "stream",
     "text": [
      "Ada True: True\n"
     ]
    }
   ],
   "source": [
    "nilai_bool = [True, False, False, True]\n",
    "ada_true = any(nilai_bool)\n",
    "print(\"Ada True:\", ada_true)"
   ]
  },
  {
   "cell_type": "markdown",
   "id": "230785db-415f-4fc9-9387-55036182ac18",
   "metadata": {},
   "source": [
    "# 7. all() - Mengembalikan True jika semua elemen dari sebuah iterable adalah True"
   ]
  },
  {
   "cell_type": "code",
   "execution_count": 7,
   "id": "1b5d317a-06a8-440d-854b-cc8b8a8a9a93",
   "metadata": {},
   "outputs": [
    {
     "name": "stdout",
     "output_type": "stream",
     "text": [
      "Semua True: False\n"
     ]
    }
   ],
   "source": [
    "semua_true = all(nilai_bool)\n",
    "print(\"Semua True:\", semua_true)"
   ]
  },
  {
   "cell_type": "markdown",
   "id": "6be25bc9-1283-4833-98f1-02f57bd2d4b7",
   "metadata": {},
   "source": [
    "# 8. map() - Mengaplikasikan fungsi ke semua item dalam sebuah daftar masukan dan mengembalikan iterator"
   ]
  },
  {
   "cell_type": "code",
   "execution_count": 8,
   "id": "53d6fed2-b946-492b-9025-c206fdb24150",
   "metadata": {},
   "outputs": [
    {
     "name": "stdout",
     "output_type": "stream",
     "text": [
      "Nilai kuadrat: [225, 625, 100, 1225, 25]\n"
     ]
    }
   ],
   "source": [
    "angka = [15, 25, 10, 35, 5]\n",
    "\n",
    "def kuadrat(x):\n",
    "    return x ** 2\n",
    "\n",
    "nilai_kuadrat = map(kuadrat, angka)\n",
    "print(\"Nilai kuadrat:\", list(nilai_kuadrat))"
   ]
  },
  {
   "cell_type": "markdown",
   "id": "20b24173-e8ac-472e-9d02-e28848845792",
   "metadata": {},
   "source": [
    "# 9. filter() - Memfilter elemen dari sebuah iterable berdasarkan kondisi"
   ]
  },
  {
   "cell_type": "code",
   "execution_count": 9,
   "id": "19c54db3-cae5-4d1e-a5da-cba4130cdc4f",
   "metadata": {},
   "outputs": [
    {
     "name": "stdout",
     "output_type": "stream",
     "text": [
      "Nilai genap: [10]\n"
     ]
    }
   ],
   "source": [
    "angka = [15, 25, 10, 35, 5]\n",
    "\n",
    "def genap(x):\n",
    "    return x % 2 == 0\n",
    "\n",
    "nilai_genap = filter(genap, angka)\n",
    "print(\"Nilai genap:\", list(nilai_genap))"
   ]
  }
 ],
 "metadata": {
  "kernelspec": {
   "display_name": "Python 3 (ipykernel)",
   "language": "python",
   "name": "python3"
  },
  "language_info": {
   "codemirror_mode": {
    "name": "ipython",
    "version": 3
   },
   "file_extension": ".py",
   "mimetype": "text/x-python",
   "name": "python",
   "nbconvert_exporter": "python",
   "pygments_lexer": "ipython3",
   "version": "3.9.17"
  }
 },
 "nbformat": 4,
 "nbformat_minor": 5
}
