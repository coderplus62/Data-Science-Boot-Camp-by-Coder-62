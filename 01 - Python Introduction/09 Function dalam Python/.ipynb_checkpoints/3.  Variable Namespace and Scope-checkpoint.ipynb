{
 "cells": [
  {
   "cell_type": "markdown",
   "id": "7c4e288f-4488-4768-b522-9d1b1b764638",
   "metadata": {},
   "source": [
    "# Penjelasan tentang Nama Variabel dan Ruang Lingkup (Scope) dalam Python\n",
    "\n",
    "Variabel dalam Python memiliki namespace dan ruang lingkup masing-masing.\n",
    "Mari kita jelajahi bagaimana nama, namespace, dan ruang lingkup berfungsi."
   ]
  },
  {
   "cell_type": "markdown",
   "id": "91bef6a2-72a6-499c-aebb-494cec84978f",
   "metadata": {},
   "source": [
    "# 1. Nama dalam Dunia Python\n",
    "## Nama digunakan untuk merujuk pada variabel, fungsi, kelas, modul, dll."
   ]
  },
  {
   "cell_type": "code",
   "execution_count": 2,
   "id": "c7aff06c-830c-42b0-b79b-a3e2ac3754d4",
   "metadata": {},
   "outputs": [],
   "source": [
    "import math\n",
    "\n",
    "nama_variabel = \"Halo\"\n",
    "nama_fungsi = len\n",
    "nama_modul = math"
   ]
  },
  {
   "cell_type": "markdown",
   "id": "b6d78230-0388-47d8-ac0a-c6c104adbece",
   "metadata": {},
   "source": [
    "# 2. Namespace\n",
    "## Namespace adalah pemetaan nama ke objek. Setiap modul memiliki namespace sendiri."
   ]
  },
  {
   "cell_type": "code",
   "execution_count": 3,
   "id": "a8db1b37-7ab2-4801-b4c7-1b9d145e4fad",
   "metadata": {},
   "outputs": [
    {
     "name": "stdout",
     "output_type": "stream",
     "text": [
      "Namespace dari modul math: {'__name__': 'math', '__doc__': 'This module provides access to the mathematical functions\\ndefined by the C standard.', '__package__': '', '__loader__': <class '_frozen_importlib.BuiltinImporter'>, '__spec__': ModuleSpec(name='math', loader=<class '_frozen_importlib.BuiltinImporter'>, origin='built-in'), 'acos': <built-in function acos>, 'acosh': <built-in function acosh>, 'asin': <built-in function asin>, 'asinh': <built-in function asinh>, 'atan': <built-in function atan>, 'atan2': <built-in function atan2>, 'atanh': <built-in function atanh>, 'ceil': <built-in function ceil>, 'copysign': <built-in function copysign>, 'cos': <built-in function cos>, 'cosh': <built-in function cosh>, 'degrees': <built-in function degrees>, 'dist': <built-in function dist>, 'erf': <built-in function erf>, 'erfc': <built-in function erfc>, 'exp': <built-in function exp>, 'expm1': <built-in function expm1>, 'fabs': <built-in function fabs>, 'factorial': <built-in function factorial>, 'floor': <built-in function floor>, 'fmod': <built-in function fmod>, 'frexp': <built-in function frexp>, 'fsum': <built-in function fsum>, 'gamma': <built-in function gamma>, 'gcd': <built-in function gcd>, 'hypot': <built-in function hypot>, 'isclose': <built-in function isclose>, 'isfinite': <built-in function isfinite>, 'isinf': <built-in function isinf>, 'isnan': <built-in function isnan>, 'isqrt': <built-in function isqrt>, 'lcm': <built-in function lcm>, 'ldexp': <built-in function ldexp>, 'lgamma': <built-in function lgamma>, 'log': <built-in function log>, 'log1p': <built-in function log1p>, 'log10': <built-in function log10>, 'log2': <built-in function log2>, 'modf': <built-in function modf>, 'pow': <built-in function pow>, 'radians': <built-in function radians>, 'remainder': <built-in function remainder>, 'sin': <built-in function sin>, 'sinh': <built-in function sinh>, 'sqrt': <built-in function sqrt>, 'tan': <built-in function tan>, 'tanh': <built-in function tanh>, 'trunc': <built-in function trunc>, 'prod': <built-in function prod>, 'perm': <built-in function perm>, 'comb': <built-in function comb>, 'nextafter': <built-in function nextafter>, 'ulp': <built-in function ulp>, 'pi': 3.141592653589793, 'e': 2.718281828459045, 'tau': 6.283185307179586, 'inf': inf, 'nan': nan}\n"
     ]
    }
   ],
   "source": [
    "import math\n",
    "\n",
    "print(\"Namespace dari modul math:\", math.__dict__)"
   ]
  },
  {
   "cell_type": "markdown",
   "id": "9d0a2b52-8b3f-4a9e-bcd8-2edccc22c4e2",
   "metadata": {},
   "source": [
    "# 3. Ruang Lingkup\n",
    "\n",
    "## Ruang lingkup menentukan di mana sebuah nama dapat diakses. \n",
    "## Ada empat jenis ruang lingkup: \n",
    "1. Lokal\n",
    "2. Penutupan (Enclosing)\n",
    "3. Global\n",
    "4. Bawaan (Built-in)."
   ]
  },
  {
   "cell_type": "code",
   "execution_count": 4,
   "id": "220b7f6a-b64c-410a-82c1-6580ff098d58",
   "metadata": {},
   "outputs": [
    {
     "name": "stdout",
     "output_type": "stream",
     "text": [
      "Variabel lokal y: 5\n"
     ]
    }
   ],
   "source": [
    "x = 10  # Ruang lingkup global\n",
    "\n",
    "def fungsi_saya():\n",
    "    y = 5  # Ruang lingkup lokal\n",
    "    print(\"Variabel lokal y:\", y)\n",
    "\n",
    "fungsi_saya()"
   ]
  },
  {
   "cell_type": "code",
   "execution_count": 5,
   "id": "c1a4962f-709a-4b37-801b-1cf8a05bc4bc",
   "metadata": {},
   "outputs": [
    {
     "name": "stdout",
     "output_type": "stream",
     "text": [
      "Variabel dalam variabel_lokal: 25\n",
      "Variabel penutupan variabel_luar: 20\n",
      "Variabel global variabel_global: 15\n"
     ]
    }
   ],
   "source": [
    "variabel_global = 15  # Ruang lingkup global\n",
    "\n",
    "def fungsi_luar():\n",
    "    variabel_luar = 20  # Ruang lingkup penutupan\n",
    "\n",
    "    def fungsi_dalam():\n",
    "        variabel_lokal = 25  # Ruang lingkup lokal\n",
    "        print(\"Variabel dalam variabel_lokal:\", variabel_lokal)\n",
    "        print(\"Variabel penutupan variabel_luar:\", variabel_luar)\n",
    "        print(\"Variabel global variabel_global:\", variabel_global)\n",
    "\n",
    "    fungsi_dalam()\n",
    "\n",
    "fungsi_luar()"
   ]
  },
  {
   "cell_type": "markdown",
   "id": "d93c73b5-8a3e-47a4-8b9b-e2f8b77823cc",
   "metadata": {},
   "source": [
    "## Mengakses ruang lingkup bawaan (built-in)"
   ]
  },
  {
   "cell_type": "code",
   "execution_count": 6,
   "id": "96a15f8f-eb43-4f93-8cc0-c53409937276",
   "metadata": {},
   "outputs": [
    {
     "name": "stdout",
     "output_type": "stream",
     "text": [
      "Nama ruang lingkup bawaan (built-in): ['ArithmeticError', 'AssertionError', 'AttributeError', 'BaseException', 'BlockingIOError', 'BrokenPipeError', 'BufferError', 'BytesWarning', 'ChildProcessError', 'ConnectionAbortedError', 'ConnectionError', 'ConnectionRefusedError', 'ConnectionResetError', 'DeprecationWarning', 'EOFError', 'Ellipsis', 'EnvironmentError', 'Exception', 'False', 'FileExistsError', 'FileNotFoundError', 'FloatingPointError', 'FutureWarning', 'GeneratorExit', 'IOError', 'ImportError', 'ImportWarning', 'IndentationError', 'IndexError', 'InterruptedError', 'IsADirectoryError', 'KeyError', 'KeyboardInterrupt', 'LookupError', 'MemoryError', 'ModuleNotFoundError', 'NameError', 'None', 'NotADirectoryError', 'NotImplemented', 'NotImplementedError', 'OSError', 'OverflowError', 'PendingDeprecationWarning', 'PermissionError', 'ProcessLookupError', 'RecursionError', 'ReferenceError', 'ResourceWarning', 'RuntimeError', 'RuntimeWarning', 'StopAsyncIteration', 'StopIteration', 'SyntaxError', 'SyntaxWarning', 'SystemError', 'SystemExit', 'TabError', 'TimeoutError', 'True', 'TypeError', 'UnboundLocalError', 'UnicodeDecodeError', 'UnicodeEncodeError', 'UnicodeError', 'UnicodeTranslateError', 'UnicodeWarning', 'UserWarning', 'ValueError', 'Warning', 'WindowsError', 'ZeroDivisionError', '__IPYTHON__', '__build_class__', '__debug__', '__doc__', '__import__', '__loader__', '__name__', '__package__', '__spec__', 'abs', 'all', 'any', 'ascii', 'bin', 'bool', 'breakpoint', 'bytearray', 'bytes', 'callable', 'chr', 'classmethod', 'compile', 'complex', 'copyright', 'credits', 'delattr', 'dict', 'dir', 'display', 'divmod', 'enumerate', 'eval', 'exec', 'execfile', 'filter', 'float', 'format', 'frozenset', 'get_ipython', 'getattr', 'globals', 'hasattr', 'hash', 'help', 'hex', 'id', 'input', 'int', 'isinstance', 'issubclass', 'iter', 'len', 'license', 'list', 'locals', 'map', 'max', 'memoryview', 'min', 'next', 'object', 'oct', 'open', 'ord', 'pow', 'print', 'property', 'range', 'repr', 'reversed', 'round', 'runfile', 'set', 'setattr', 'slice', 'sorted', 'staticmethod', 'str', 'sum', 'super', 'tuple', 'type', 'vars', 'zip']\n"
     ]
    }
   ],
   "source": [
    "import builtins\n",
    "\n",
    "print(\"Nama ruang lingkup bawaan (built-in):\", dir(builtins))"
   ]
  }
 ],
 "metadata": {
  "kernelspec": {
   "display_name": "Python 3 (ipykernel)",
   "language": "python",
   "name": "python3"
  },
  "language_info": {
   "codemirror_mode": {
    "name": "ipython",
    "version": 3
   },
   "file_extension": ".py",
   "mimetype": "text/x-python",
   "name": "python",
   "nbconvert_exporter": "python",
   "pygments_lexer": "ipython3",
   "version": "3.9.17"
  }
 },
 "nbformat": 4,
 "nbformat_minor": 5
}
