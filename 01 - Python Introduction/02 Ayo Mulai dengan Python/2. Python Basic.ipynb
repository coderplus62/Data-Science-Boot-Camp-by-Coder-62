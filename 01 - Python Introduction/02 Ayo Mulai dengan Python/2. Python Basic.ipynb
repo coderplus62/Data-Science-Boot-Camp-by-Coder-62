{
 "cells": [
  {
   "cell_type": "markdown",
   "id": "c8e77b07-df5c-48e4-8dd9-302d53ec52aa",
   "metadata": {},
   "source": [
    "# 1. Konstanta Literal\n",
    "Konstanta literal adalah nilai tetap yang digunakan dalam kode Python."
   ]
  },
  {
   "cell_type": "code",
   "execution_count": 2,
   "id": "2aad6d1c-35d5-4c84-8223-878efe855906",
   "metadata": {},
   "outputs": [
    {
     "data": {
      "text/plain": [
       "42"
      ]
     },
     "execution_count": 2,
     "metadata": {},
     "output_type": "execute_result"
    }
   ],
   "source": [
    "42"
   ]
  },
  {
   "cell_type": "code",
   "execution_count": 3,
   "id": "c585ce9b-4e4d-42ba-bcd9-5cc63571052c",
   "metadata": {},
   "outputs": [
    {
     "data": {
      "text/plain": [
       "3.14"
      ]
     },
     "execution_count": 3,
     "metadata": {},
     "output_type": "execute_result"
    }
   ],
   "source": [
    "3.14"
   ]
  },
  {
   "cell_type": "code",
   "execution_count": 4,
   "id": "ef69de84-9506-4929-8abd-c57edc20267c",
   "metadata": {},
   "outputs": [
    {
     "data": {
      "text/plain": [
       "'Halo, Dunia!'"
      ]
     },
     "execution_count": 4,
     "metadata": {},
     "output_type": "execute_result"
    }
   ],
   "source": [
    "\"Halo, Dunia!\""
   ]
  },
  {
   "cell_type": "markdown",
   "id": "52b137fe-13cc-46ab-8e1b-a02700154605",
   "metadata": {},
   "source": [
    "# 2. Angka (Bilangan Bulat dan Pecahan)\n",
    "Bilangan bulat dan bilangan pecahan adalah jenis data numerik.\n",
    "\n",
    "Contoh:"
   ]
  },
  {
   "cell_type": "code",
   "execution_count": 9,
   "id": "0722756f-067f-4379-bb05-c0bd9525e075",
   "metadata": {},
   "outputs": [
    {
     "data": {
      "text/plain": [
       "42"
      ]
     },
     "execution_count": 9,
     "metadata": {},
     "output_type": "execute_result"
    }
   ],
   "source": [
    "bilangan_bulat = 42\n",
    "bilangan_bulat"
   ]
  },
  {
   "cell_type": "code",
   "execution_count": 8,
   "id": "1b479df6-be8e-4394-bb2c-d4da0806b6bf",
   "metadata": {},
   "outputs": [
    {
     "data": {
      "text/plain": [
       "3.14"
      ]
     },
     "execution_count": 8,
     "metadata": {},
     "output_type": "execute_result"
    }
   ],
   "source": [
    "bilangan_pecahan = 3.14\n",
    "bilangan_pecahan"
   ]
  },
  {
   "cell_type": "markdown",
   "id": "d35ece45-9b3f-4694-8a2d-fb0ccb7ecdb6",
   "metadata": {},
   "source": []
  },
  {
   "cell_type": "markdown",
   "id": "ef75dc65-0dcd-466a-8f21-8dbbff307e0e",
   "metadata": {},
   "source": [
    "# 3. String\n",
    "String adalah urutan karakter yang diapit oleh tanda kutip tunggal atau ganda.\n",
    "\n",
    "Contoh:"
   ]
  },
  {
   "cell_type": "code",
   "execution_count": 10,
   "id": "467b7679-9106-463e-96e6-1a626cc8bbc8",
   "metadata": {},
   "outputs": [
    {
     "data": {
      "text/plain": [
       "'Alice'"
      ]
     },
     "execution_count": 10,
     "metadata": {},
     "output_type": "execute_result"
    }
   ],
   "source": [
    "nama = \"Alice\"\n",
    "nama"
   ]
  },
  {
   "cell_type": "code",
   "execution_count": 11,
   "id": "281789d3-1352-45be-8f1f-00202c402a10",
   "metadata": {},
   "outputs": [
    {
     "data": {
      "text/plain": [
       "'Halo, Alice'"
      ]
     },
     "execution_count": 11,
     "metadata": {},
     "output_type": "execute_result"
    }
   ],
   "source": [
    "pesan = 'Halo, ' + nama\n",
    "pesan"
   ]
  },
  {
   "cell_type": "markdown",
   "id": "2ef6161b-6281-4d1f-8b4d-ac625c0a6423",
   "metadata": {},
   "source": [
    "# 4. Komentar\n",
    "Komentar adalah catatan dalam kode yang tidak dieksekusi oleh interpreter. Mereka memberikan penjelasan kepada pengembang lain atau kepada diri sendiri.\n",
    "\n",
    "Contoh:"
   ]
  },
  {
   "cell_type": "code",
   "execution_count": 12,
   "id": "04b77a4b-e685-4030-a3a0-245343902093",
   "metadata": {},
   "outputs": [
    {
     "data": {
      "text/plain": [
       "1"
      ]
     },
     "execution_count": 12,
     "metadata": {},
     "output_type": "execute_result"
    }
   ],
   "source": [
    "x = 1 # Ini adalah komentar yang menjelaskan tujuan dari baris kode berikutnya.\n",
    "x"
   ]
  },
  {
   "cell_type": "markdown",
   "id": "06bb2a63-746a-4ec8-bc14-5aff13bd838f",
   "metadata": {},
   "source": [
    "# 5. Fungsi print()\n",
    "Fungsi print() mengeluarkan teks ke konsol.\n",
    "\n",
    "Contoh:"
   ]
  },
  {
   "cell_type": "code",
   "execution_count": 13,
   "id": "a9141d00-4b1f-4e3d-8d07-5cfe3bfe62b7",
   "metadata": {},
   "outputs": [
    {
     "name": "stdout",
     "output_type": "stream",
     "text": [
      "Halo, Dunia!\n"
     ]
    }
   ],
   "source": [
    "print(\"Halo, Dunia!\")"
   ]
  },
  {
   "cell_type": "markdown",
   "id": "7adda6d1-6550-436c-afbc-e06f67b922af",
   "metadata": {},
   "source": []
  },
  {
   "cell_type": "markdown",
   "id": "3882ed00-a258-4c49-91e7-11dc662a0d3e",
   "metadata": {},
   "source": [
    "# 6. Fungsi format()\n",
    "Fungsi format() digunakan untuk pemformatan string.\n",
    "Ia menggantikan placeholder dengan nilai yang diberikan.\n",
    "\n",
    "Contoh:"
   ]
  },
  {
   "cell_type": "code",
   "execution_count": 15,
   "id": "e3210a3c-1ca8-4b0c-ae68-ca6ae27ae788",
   "metadata": {},
   "outputs": [
    {
     "name": "stdout",
     "output_type": "stream",
     "text": [
      "Saya berusia 30 tahun.\n"
     ]
    }
   ],
   "source": [
    "umur = 30\n",
    "pesan_terformat = \"Saya berusia {} tahun.\".format(umur)\n",
    "print(pesan_terformat)"
   ]
  },
  {
   "cell_type": "markdown",
   "id": "d5e2d0d0-10c9-4f1b-a098-2d3c390d9acc",
   "metadata": {},
   "source": [
    "# 7. Escape sequences\n",
    "Escape sequences adalah karakter khusus yang dimulai dengan garis miring terbalik (\\\\).\n",
    "Mereka memungkinkan inklusi karakter yang sulit untuk diketik langsung.\n",
    "\n",
    "Contoh:"
   ]
  },
  {
   "cell_type": "code",
   "execution_count": 23,
   "id": "67e2cdeb-bd1d-4d55-ac97-7a299cc0f53e",
   "metadata": {},
   "outputs": [
    {
     "name": "stdout",
     "output_type": "stream",
     "text": [
      "Garis pertama\n",
      "Ini adalah baris baru: \n"
     ]
    }
   ],
   "source": [
    "teks_escape = \"Garis pertama\\nIni adalah baris baru: \" # \\n = garis baru\n",
    "print(teks_escape)"
   ]
  },
  {
   "cell_type": "markdown",
   "id": "8d0840fb-6b9b-41c3-890c-144a7c639b6e",
   "metadata": {},
   "source": [
    "# 8. Indentasi\n",
    "Indentasi digunakan untuk mengatur blok kode dalam Python.\n",
    "Ini sangat penting untuk mendefinisikan cakupan pernyataan dalam fungsi, perulangan, dll.\n",
    "\n",
    "Contoh:"
   ]
  },
  {
   "cell_type": "code",
   "execution_count": 25,
   "id": "d16c89a0-3bde-4c63-bc0e-489ffe903d9a",
   "metadata": {},
   "outputs": [
    {
     "name": "stdout",
     "output_type": "stream",
     "text": [
      "Anda adalah seorang anak.\n"
     ]
    }
   ],
   "source": [
    "umur = 10\n",
    "if umur < 18:\n",
    "    print(\"Anda adalah seorang anak.\")\n",
    "else:\n",
    "    print(\"Anda adalah seorang dewasa.\")"
   ]
  }
 ],
 "metadata": {
  "kernelspec": {
   "display_name": "Python 3 (ipykernel)",
   "language": "python",
   "name": "python3"
  },
  "language_info": {
   "codemirror_mode": {
    "name": "ipython",
    "version": 3
   },
   "file_extension": ".py",
   "mimetype": "text/x-python",
   "name": "python",
   "nbconvert_exporter": "python",
   "pygments_lexer": "ipython3",
   "version": "3.9.17"
  }
 },
 "nbformat": 4,
 "nbformat_minor": 5
}
