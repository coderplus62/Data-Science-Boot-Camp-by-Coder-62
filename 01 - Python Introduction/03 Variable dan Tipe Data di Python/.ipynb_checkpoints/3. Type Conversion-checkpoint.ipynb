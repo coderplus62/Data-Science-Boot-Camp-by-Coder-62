{
 "cells": [
  {
   "cell_type": "markdown",
   "id": "129019ba-7fae-4837-9081-454419cce923",
   "metadata": {},
   "source": [
    "# 1. Konversi Tipe Data Implisit (Koersi)\n",
    "Konversi tipe data implisit, juga dikenal sebagai koersi, terjadi secara otomatis\n",
    "saat operasi melibatkan tipe data yang berbeda.\n",
    "Python mengubah tipe data nilai untuk sesuai dengan persyaratan operasi.\n",
    "\n",
    "Contoh:"
   ]
  },
  {
   "cell_type": "code",
   "execution_count": 2,
   "id": "af6eedb7-b47b-46b0-9072-773e3b5e9d15",
   "metadata": {},
   "outputs": [
    {
     "name": "stdout",
     "output_type": "stream",
     "text": [
      "10 <class 'int'>\n",
      "3.5 <class 'float'>\n",
      "13.5 <class 'float'>\n"
     ]
    }
   ],
   "source": [
    "int_num = 10\n",
    "float_num = 3.5\n",
    "hasil = int_num + float_num\n",
    "\n",
    "print(int_num, type(int_num))\n",
    "print(float_num, type(float_num))\n",
    "print(hasil, type(hasil))"
   ]
  },
  {
   "cell_type": "markdown",
   "id": "7b04d79e-f65d-47e3-93b9-253d0a1f28e0",
   "metadata": {},
   "source": [
    "# 2. Konversi Tipe Data Eksplisit (Pengecoran)\n",
    "Konversi tipe data eksplisit, juga dikenal sebagai pengecoran, melibatkan pengubahan\n",
    "nilai dari satu tipe data ke tipe lain secara manual.\n",
    "\n",
    "Ini dilakukan menggunakan fungsi bawaan seperti int(), float(), str(), dll.\n",
    "\n",
    "Contoh:"
   ]
  },
  {
   "cell_type": "markdown",
   "id": "88d3110d-bd2f-47db-a711-3698e8a41f5c",
   "metadata": {},
   "source": [
    "## Fungsi int() mengubah string 'umur' menjadi bilangan bulat (integer)."
   ]
  },
  {
   "cell_type": "code",
   "execution_count": 4,
   "id": "a1d9e30d-cc3b-4c7f-86b0-d96e03de65df",
   "metadata": {
    "jp-MarkdownHeadingCollapsed": true
   },
   "outputs": [
    {
     "name": "stdout",
     "output_type": "stream",
     "text": [
      "25 <class 'str'>\n",
      "25 <class 'int'>\n"
     ]
    }
   ],
   "source": [
    "umur = \"25\"\n",
    "print(umur, type(umur))\n",
    "umur = int(umur)\n",
    "print(umur, type(umur))"
   ]
  },
  {
   "cell_type": "code",
   "execution_count": 5,
   "id": "a69ad429-000e-466d-ae59-71ebfa604eb1",
   "metadata": {
    "jp-MarkdownHeadingCollapsed": true
   },
   "outputs": [
    {
     "name": "stdout",
     "output_type": "stream",
     "text": [
      "5.9 <class 'float'>\n",
      "5 <class 'int'>\n"
     ]
    }
   ],
   "source": [
    "tinggi = 5.9\n",
    "print(tinggi, type(tinggi))\n",
    "tinggi = int(tinggi)\n",
    "print(tinggi, type(tinggi))"
   ]
  },
  {
   "cell_type": "markdown",
   "id": "6b370b68-6de5-4b78-ad22-29b8a7b03021",
   "metadata": {},
   "source": [
    "## Contoh konversi tipe data eksplisit lainnya:"
   ]
  },
  {
   "cell_type": "code",
   "execution_count": 6,
   "id": "ffe32986-95d0-4eb9-aa44-587004243139",
   "metadata": {
    "jp-MarkdownHeadingCollapsed": true
   },
   "outputs": [
    {
     "name": "stdout",
     "output_type": "stream",
     "text": [
      "3.14 <class 'float'>\n",
      "3 <class 'int'>\n"
     ]
    }
   ],
   "source": [
    "nilai_float = 3.14\n",
    "print(nilai_float, type(nilai_float))\n",
    "nilai_float = int(nilai_float)  # Mengubah float menjadi int (memotong desimal)\n",
    "print(nilai_float, type(nilai_float))\n"
   ]
  },
  {
   "cell_type": "code",
   "execution_count": 7,
   "id": "4bd2e2b5-cb94-4018-acbe-fad3ae10bb1d",
   "metadata": {
    "jp-MarkdownHeadingCollapsed": true
   },
   "outputs": [
    {
     "name": "stdout",
     "output_type": "stream",
     "text": [
      "42 <class 'int'>\n",
      "42.0 <class 'float'>\n"
     ]
    }
   ],
   "source": [
    "nilai_int = 42\n",
    "print(nilai_int, type(nilai_int))\n",
    "nilai_int = float(nilai_int)  # Mengubah int menjadi float\n",
    "print(nilai_int, type(nilai_int))"
   ]
  }
 ],
 "metadata": {
  "kernelspec": {
   "display_name": "Python 3 (ipykernel)",
   "language": "python",
   "name": "python3"
  },
  "language_info": {
   "codemirror_mode": {
    "name": "ipython",
    "version": 3
   },
   "file_extension": ".py",
   "mimetype": "text/x-python",
   "name": "python",
   "nbconvert_exporter": "python",
   "pygments_lexer": "ipython3",
   "version": "3.9.17"
  }
 },
 "nbformat": 4,
 "nbformat_minor": 5
}
