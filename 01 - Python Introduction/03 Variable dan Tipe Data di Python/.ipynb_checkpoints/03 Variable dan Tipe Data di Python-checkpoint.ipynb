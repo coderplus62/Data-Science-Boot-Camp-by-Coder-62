{
 "cells": [
  {
   "cell_type": "markdown",
   "id": "860886ce-4078-400d-9eeb-6c309f143daf",
   "metadata": {},
   "source": [
    "# 1. Variable"
   ]
  },
  {
   "cell_type": "markdown",
   "id": "e201be67-6c65-4420-802f-e5a00f116549",
   "metadata": {},
   "source": [
    "## 1.1. Pendeklarasian dan Pemberian Nilai Variabel\n",
    "Variabel digunakan untuk menyimpan data di dalam memori untuk digunakan nanti.\n",
    "Mereka diciptakan melalui pemberian nilai dan tidak perlu dideklarasikan secara eksplisit.\n",
    "\n",
    "Contoh:"
   ]
  },
  {
   "cell_type": "code",
   "execution_count": null,
   "id": "c1760caf-b6c7-46b8-b817-c24826e830ac",
   "metadata": {},
   "outputs": [],
   "source": [
    "nama = \"Alice\"  # Di sini, 'nama' adalah variabel yang menyimpan nilai \"Alice\""
   ]
  },
  {
   "cell_type": "markdown",
   "id": "6c8b2298-dea0-4ba2-886c-91cf8655d72a",
   "metadata": {},
   "source": [
    "## 1.2. Konvensi Penamaan Variabel\n",
    "- Variabel dapat memiliki nama yang terdiri dari huruf, angka, dan garis bawah.\n",
    "- Mereka harus dimulai dengan huruf (atau garis bawah) dan bersifat sensitif terhadap huruf besar dan kecil.\n",
    "\n",
    "Konvensi:\n",
    "1. Gunakan nama yang deskriptif agar jelas (misalnya, 'nama' alih-alih 'n')\n",
    "2. Gunakan huruf kecil untuk nama variabel (misalnya, 'umur' alih-alih 'Umur')\n",
    "3. Pisahkan kata-kata dengan garis bawah (misalnya, 'nama_lengkap' alih-alih 'namalengkap')\n",
    "4. Hindari menggunakan kata kunci yang sudah dipesan sebagai nama variabel (misalnya, 'print', 'if', 'while')"
   ]
  },
  {
   "cell_type": "code",
   "execution_count": null,
   "id": "e0e8c515-3990-45b6-8051-865e71943c84",
   "metadata": {
    "jp-MarkdownHeadingCollapsed": true
   },
   "outputs": [],
   "source": [
    "# Nama variabel yang valid:\n",
    "nama_pengguna = \"Bob\"\n",
    "umur = 25\n",
    "_variable_penting = True"
   ]
  },
  {
   "cell_type": "code",
   "execution_count": null,
   "id": "f39fdd7a-8795-46e3-8242-47949827c2b9",
   "metadata": {
    "jp-MarkdownHeadingCollapsed": true
   },
   "outputs": [],
   "source": [
    "# Nama variabel yang tidak valid (dikomentari untuk menghindari kesalahan):\n",
    "1variable = 42  # Tidak boleh dimulai dengan angka\n",
    "my-variable = \"test\"  # Tidak boleh menggunakan tanda hubung\n",
    "for = \"loop\"  # Kata kunci yang sudah dipesan 'for'\n"
   ]
  },
  {
   "cell_type": "markdown",
   "id": "8384fb1f-5fa2-4cc7-ab1d-6f87275e9415",
   "metadata": {},
   "source": [
    "# 2. Data Types"
   ]
  },
  {
   "cell_type": "markdown",
   "id": "84613626-5447-499e-a747-0346147a06d8",
   "metadata": {},
   "source": [
    "## 2.1. Bilangan Bulat (Integer)\n",
    "Bilangan bulat adalah angka tanpa komponen pecahan.\n",
    "\n",
    "Contoh:"
   ]
  },
  {
   "cell_type": "code",
   "execution_count": null,
   "id": "3cbe9ed6-fdae-4a09-af5c-a2e8c76b07ec",
   "metadata": {},
   "outputs": [],
   "source": [
    "umur = 30\n",
    "print(type(umur))"
   ]
  },
  {
   "cell_type": "markdown",
   "id": "9dedfc6a-6668-4eae-b7cc-c9a243b9ec9c",
   "metadata": {},
   "source": [
    "## 2.2. Bilangan Pecahan (Float)\n",
    "Bilangan pecahan adalah angka dengan tanda desimal atau notasi eksponensial.\n",
    "\n",
    "Contoh:"
   ]
  },
  {
   "cell_type": "code",
   "execution_count": null,
   "id": "4bbbf8f0-02b0-413c-b905-0572129192f2",
   "metadata": {},
   "outputs": [],
   "source": [
    "tinggi = 5.9\n",
    "print(type(tinggi))"
   ]
  },
  {
   "cell_type": "markdown",
   "id": "12e23012-8b6c-43f5-8dbb-a71c1b140f7d",
   "metadata": {},
   "source": [
    "## 2.3. String\n",
    "String adalah urutan karakter, diapit oleh tanda kutip tunggal atau ganda.\n",
    "\n",
    "Contoh:"
   ]
  },
  {
   "cell_type": "code",
   "execution_count": null,
   "id": "d1b43cfc-272c-4348-b8c5-2055d9559d66",
   "metadata": {},
   "outputs": [],
   "source": [
    "nama = \"Alice\"\n",
    "print(type(nama))"
   ]
  },
  {
   "cell_type": "markdown",
   "id": "3af58318-5e4f-44e2-bcd9-8f77bdf81404",
   "metadata": {},
   "source": [
    "## 2.4. Boolean\n",
    "Boolean merepresentasikan nilai kebenaran Benar atau Salah.\n",
    "Mereka sering digunakan untuk operasi logika dan perbandingan.\n",
    "\n",
    "Contoh:"
   ]
  },
  {
   "cell_type": "code",
   "execution_count": null,
   "id": "1244a085-9431-4336-913a-5756c3a91241",
   "metadata": {},
   "outputs": [],
   "source": [
    "mahasiswa = True\n",
    "print(type(mahasiswa))"
   ]
  },
  {
   "cell_type": "markdown",
   "id": "7ea33db0-1684-4c8c-af20-64732dcba4ea",
   "metadata": {},
   "source": [
    "## 2.5. Operasi pada String\n",
    "String dapat digabungkan (dikombinasikan) dan dikalikan.\n",
    "Berbagai metode string tersedia untuk manipulasi.\n",
    "\n",
    "Contoh:"
   ]
  },
  {
   "cell_type": "code",
   "execution_count": null,
   "id": "c5692d46-3f7f-4cbd-bb4c-7a5a324537ab",
   "metadata": {},
   "outputs": [],
   "source": [
    "salam = \"Halo\"\n",
    "salam_lengkap = salam + \", \" + nama  # Penggabungan\n",
    "salam_berulang = salam * 3  # Perkalian\n",
    "print(salam_lengkap)\n",
    "print(salam_berulang)"
   ]
  },
  {
   "cell_type": "markdown",
   "id": "b0407508-d52e-4a9b-9eac-fdb27eceedc4",
   "metadata": {},
   "source": [
    "# 3. Type Conversion"
   ]
  },
  {
   "cell_type": "markdown",
   "id": "ed00a12d-aa49-4949-8287-0cc8b09bb2a6",
   "metadata": {},
   "source": [
    "## 3.1. Konversi Tipe Data Implisit (Koersi)\n",
    "Konversi tipe data implisit, juga dikenal sebagai koersi, terjadi secara otomatis\n",
    "saat operasi melibatkan tipe data yang berbeda.\n",
    "Python mengubah tipe data nilai untuk sesuai dengan persyaratan operasi.\n",
    "\n",
    "Contoh:"
   ]
  },
  {
   "cell_type": "code",
   "execution_count": null,
   "id": "9dff9c9c-a17a-4025-be50-ebf7140b1bc2",
   "metadata": {},
   "outputs": [],
   "source": [
    "int_num = 10\n",
    "float_num = 3.5\n",
    "hasil = int_num + float_num\n",
    "\n",
    "print(int_num, type(int_num))\n",
    "print(float_num, type(float_num))\n",
    "print(hasil, type(hasil))"
   ]
  },
  {
   "cell_type": "markdown",
   "id": "1e62eb2f-5acd-4780-90d9-7f1db53c99ea",
   "metadata": {},
   "source": [
    "## 3.2. Konversi Tipe Data Eksplisit (Pengecoran)\n",
    "Konversi tipe data eksplisit, juga dikenal sebagai pengecoran, melibatkan pengubahan\n",
    "nilai dari satu tipe data ke tipe lain secara manual.\n",
    "\n",
    "Ini dilakukan menggunakan fungsi bawaan seperti int(), float(), str(), dll.\n",
    "\n",
    "Contoh:"
   ]
  },
  {
   "cell_type": "markdown",
   "id": "dd715157-4d8d-48f1-be1e-6d35b04279c9",
   "metadata": {},
   "source": [
    "### Fungsi int() mengubah string 'umur' menjadi bilangan bulat (integer)."
   ]
  },
  {
   "cell_type": "code",
   "execution_count": null,
   "id": "5eba1b49-d890-4cb0-b940-396b74680a73",
   "metadata": {
    "jp-MarkdownHeadingCollapsed": true
   },
   "outputs": [],
   "source": [
    "umur = \"25\"\n",
    "print(umur, type(umur))\n",
    "umur = int(umur)\n",
    "print(umur, type(umur))"
   ]
  },
  {
   "cell_type": "code",
   "execution_count": null,
   "id": "297d4049-c84c-4068-865c-6e4735d8dc81",
   "metadata": {
    "jp-MarkdownHeadingCollapsed": true
   },
   "outputs": [],
   "source": [
    "tinggi = 5.9\n",
    "print(tinggi, type(tinggi))\n",
    "tinggi = int(tinggi)\n",
    "print(tinggi, type(tinggi))"
   ]
  },
  {
   "cell_type": "markdown",
   "id": "0ae88af1-277e-4160-a6a8-bcfbf0d5f4ff",
   "metadata": {},
   "source": [
    "### Contoh konversi tipe data eksplisit lainnya:"
   ]
  },
  {
   "cell_type": "code",
   "execution_count": null,
   "id": "92926236-844a-47e2-b15f-90eec157824c",
   "metadata": {
    "jp-MarkdownHeadingCollapsed": true
   },
   "outputs": [],
   "source": [
    "nilai_float = 3.14\n",
    "print(nilai_float, type(nilai_float))\n",
    "nilai_float = int(nilai_float)  # Mengubah float menjadi int (memotong desimal)\n",
    "print(nilai_float, type(nilai_float))\n"
   ]
  },
  {
   "cell_type": "code",
   "execution_count": null,
   "id": "c3ca75bb-0bbf-4d1c-9238-b272cd43e0bd",
   "metadata": {
    "jp-MarkdownHeadingCollapsed": true
   },
   "outputs": [],
   "source": [
    "nilai_int = 42\n",
    "print(nilai_int, type(nilai_int))\n",
    "nilai_int = float(nilai_int)  # Mengubah int menjadi float\n",
    "print(nilai_int, type(nilai_int))"
   ]
  }
 ],
 "metadata": {
  "kernelspec": {
   "display_name": "Python 3 (ipykernel)",
   "language": "python",
   "name": "python3"
  },
  "language_info": {
   "codemirror_mode": {
    "name": "ipython",
    "version": 3
   },
   "file_extension": ".py",
   "mimetype": "text/x-python",
   "name": "python",
   "nbconvert_exporter": "python",
   "pygments_lexer": "ipython3",
   "version": "3.9.0"
  }
 },
 "nbformat": 4,
 "nbformat_minor": 5
}
