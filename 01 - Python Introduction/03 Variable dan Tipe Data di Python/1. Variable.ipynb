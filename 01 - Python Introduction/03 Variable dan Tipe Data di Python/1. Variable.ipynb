{
 "cells": [
  {
   "cell_type": "markdown",
   "id": "e201be67-6c65-4420-802f-e5a00f116549",
   "metadata": {},
   "source": [
    "# 1. Pendeklarasian dan Pemberian Nilai Variabel\n",
    "Variabel digunakan untuk menyimpan data di dalam memori untuk digunakan nanti.\n",
    "Mereka diciptakan melalui pemberian nilai dan tidak perlu dideklarasikan secara eksplisit.\n",
    "\n",
    "Contoh:"
   ]
  },
  {
   "cell_type": "code",
   "execution_count": 1,
   "id": "c1760caf-b6c7-46b8-b817-c24826e830ac",
   "metadata": {},
   "outputs": [],
   "source": [
    "nama = \"Alice\"  # Di sini, 'nama' adalah variabel yang menyimpan nilai \"Alice\""
   ]
  },
  {
   "cell_type": "markdown",
   "id": "6c8b2298-dea0-4ba2-886c-91cf8655d72a",
   "metadata": {},
   "source": [
    "# 2. Konvensi Penamaan Variabel\n",
    "- Variabel dapat memiliki nama yang terdiri dari huruf, angka, dan garis bawah.\n",
    "- Mereka harus dimulai dengan huruf (atau garis bawah) dan bersifat sensitif terhadap huruf besar dan kecil.\n",
    "\n",
    "Konvensi:\n",
    "1. Gunakan nama yang deskriptif agar jelas (misalnya, 'nama' alih-alih 'n')\n",
    "2. Gunakan huruf kecil untuk nama variabel (misalnya, 'umur' alih-alih 'Umur')\n",
    "3. Pisahkan kata-kata dengan garis bawah (misalnya, 'nama_lengkap' alih-alih 'namalengkap')\n",
    "4. Hindari menggunakan kata kunci yang sudah dipesan sebagai nama variabel (misalnya, 'print', 'if', 'while')"
   ]
  },
  {
   "cell_type": "code",
   "execution_count": 2,
   "id": "e0e8c515-3990-45b6-8051-865e71943c84",
   "metadata": {
    "jp-MarkdownHeadingCollapsed": true
   },
   "outputs": [],
   "source": [
    "# Nama variabel yang valid:\n",
    "nama_pengguna = \"Bob\"\n",
    "umur = 25\n",
    "_variable_penting = True"
   ]
  },
  {
   "cell_type": "code",
   "execution_count": 3,
   "id": "f39fdd7a-8795-46e3-8242-47949827c2b9",
   "metadata": {
    "jp-MarkdownHeadingCollapsed": true
   },
   "outputs": [
    {
     "ename": "SyntaxError",
     "evalue": "invalid syntax (3759713616.py, line 2)",
     "output_type": "error",
     "traceback": [
      "\u001b[1;36m  Cell \u001b[1;32mIn[3], line 2\u001b[1;36m\u001b[0m\n\u001b[1;33m    1variable = 42  # Tidak boleh dimulai dengan angka\u001b[0m\n\u001b[1;37m     ^\u001b[0m\n\u001b[1;31mSyntaxError\u001b[0m\u001b[1;31m:\u001b[0m invalid syntax\n"
     ]
    }
   ],
   "source": [
    "# Nama variabel yang tidak valid (dikomentari untuk menghindari kesalahan):\n",
    "1variable = 42  # Tidak boleh dimulai dengan angka\n",
    "my-variable = \"test\"  # Tidak boleh menggunakan tanda hubung\n",
    "for = \"loop\"  # Kata kunci yang sudah dipesan 'for'\n"
   ]
  }
 ],
 "metadata": {
  "kernelspec": {
   "display_name": "Python 3 (ipykernel)",
   "language": "python",
   "name": "python3"
  },
  "language_info": {
   "codemirror_mode": {
    "name": "ipython",
    "version": 3
   },
   "file_extension": ".py",
   "mimetype": "text/x-python",
   "name": "python",
   "nbconvert_exporter": "python",
   "pygments_lexer": "ipython3",
   "version": "3.9.17"
  }
 },
 "nbformat": 4,
 "nbformat_minor": 5
}
