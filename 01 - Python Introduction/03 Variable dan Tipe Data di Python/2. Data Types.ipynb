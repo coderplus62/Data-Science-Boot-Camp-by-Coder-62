{
 "cells": [
  {
   "cell_type": "markdown",
   "id": "21b1cb11-795f-40e1-8381-0522472e517a",
   "metadata": {},
   "source": [
    "# 1. Bilangan Bulat (Integer)\n",
    "Bilangan bulat adalah angka tanpa komponen pecahan.\n",
    "\n",
    "Contoh:"
   ]
  },
  {
   "cell_type": "code",
   "execution_count": 1,
   "id": "2325c1d9-f560-4d63-87db-625d47ef26a3",
   "metadata": {},
   "outputs": [
    {
     "name": "stdout",
     "output_type": "stream",
     "text": [
      "<class 'int'>\n"
     ]
    }
   ],
   "source": [
    "umur = 30\n",
    "print(type(umur))"
   ]
  },
  {
   "cell_type": "markdown",
   "id": "639749be-45a7-4f5d-8e76-3a46a67f75d2",
   "metadata": {},
   "source": [
    "# 2. Bilangan Pecahan (Float)\n",
    "Bilangan pecahan adalah angka dengan tanda desimal atau notasi eksponensial.\n",
    "\n",
    "Contoh:"
   ]
  },
  {
   "cell_type": "code",
   "execution_count": 2,
   "id": "1c0a5877-0227-49bb-aa17-c58c8a5ed59a",
   "metadata": {},
   "outputs": [
    {
     "name": "stdout",
     "output_type": "stream",
     "text": [
      "<class 'float'>\n"
     ]
    }
   ],
   "source": [
    "tinggi = 5.9\n",
    "print(type(tinggi))"
   ]
  },
  {
   "cell_type": "markdown",
   "id": "cd72ef34-7b01-41d1-aaaf-178f2e9273b1",
   "metadata": {},
   "source": [
    "# 3. String\n",
    "String adalah urutan karakter, diapit oleh tanda kutip tunggal atau ganda.\n",
    "\n",
    "Contoh:"
   ]
  },
  {
   "cell_type": "code",
   "execution_count": 3,
   "id": "37a41569-2c42-4e16-86fc-ea3c8580e4ca",
   "metadata": {},
   "outputs": [
    {
     "name": "stdout",
     "output_type": "stream",
     "text": [
      "<class 'str'>\n"
     ]
    }
   ],
   "source": [
    "nama = \"Alice\"\n",
    "print(type(nama))"
   ]
  },
  {
   "cell_type": "markdown",
   "id": "640bbc8e-35aa-4e0c-8a5b-4f4837f42c37",
   "metadata": {},
   "source": [
    "# 4. Boolean\n",
    "Boolean merepresentasikan nilai kebenaran Benar atau Salah.\n",
    "Mereka sering digunakan untuk operasi logika dan perbandingan.\n",
    "\n",
    "Contoh:"
   ]
  },
  {
   "cell_type": "code",
   "execution_count": 4,
   "id": "3b333b16-5dc1-47ee-9d68-e77d9758746e",
   "metadata": {},
   "outputs": [
    {
     "name": "stdout",
     "output_type": "stream",
     "text": [
      "<class 'bool'>\n"
     ]
    }
   ],
   "source": [
    "mahasiswa = True\n",
    "print(type(mahasiswa))"
   ]
  },
  {
   "cell_type": "markdown",
   "id": "1ed160f2-718b-4248-992a-57807f03bfa6",
   "metadata": {},
   "source": [
    "# 5. Operasi pada String\n",
    "String dapat digabungkan (dikombinasikan) dan dikalikan.\n",
    "Berbagai metode string tersedia untuk manipulasi.\n",
    "\n",
    "Contoh:"
   ]
  },
  {
   "cell_type": "code",
   "execution_count": 5,
   "id": "a928df9a-8b3c-422d-bcbe-3f1b0f57f0b9",
   "metadata": {},
   "outputs": [
    {
     "name": "stdout",
     "output_type": "stream",
     "text": [
      "Halo, Alice\n",
      "HaloHaloHalo\n"
     ]
    }
   ],
   "source": [
    "salam = \"Halo\"\n",
    "salam_lengkap = salam + \", \" + nama  # Penggabungan\n",
    "salam_berulang = salam * 3  # Perkalian\n",
    "print(salam_lengkap)\n",
    "print(salam_berulang)"
   ]
  }
 ],
 "metadata": {
  "kernelspec": {
   "display_name": "Python 3 (ipykernel)",
   "language": "python",
   "name": "python3"
  },
  "language_info": {
   "codemirror_mode": {
    "name": "ipython",
    "version": 3
   },
   "file_extension": ".py",
   "mimetype": "text/x-python",
   "name": "python",
   "nbconvert_exporter": "python",
   "pygments_lexer": "ipython3",
   "version": "3.9.17"
  }
 },
 "nbformat": 4,
 "nbformat_minor": 5
}
