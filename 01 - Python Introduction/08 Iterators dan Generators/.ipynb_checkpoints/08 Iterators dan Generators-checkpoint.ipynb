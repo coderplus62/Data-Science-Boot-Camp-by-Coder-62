{
 "cells": [
  {
   "cell_type": "markdown",
   "id": "d8cac2d3-0fbc-4bb7-8858-16adb170f367",
   "metadata": {},
   "source": [
    "# 1. Iterator\n",
    "\n",
    "Iterator menyediakan cara untuk mengulang melalui serangkaian nilai.\n",
    "Mari kita jelajahi cara menggunakan iterables, fungsi enumerate(), fungsi zip(),\n",
    "dan cara membuat iterator kustom."
   ]
  },
  {
   "cell_type": "markdown",
   "id": "e1a67483-7853-429a-ad28-a7c4b6c83f86",
   "metadata": {},
   "source": [
    "## 1.1. iter()"
   ]
  },
  {
   "cell_type": "code",
   "execution_count": 3,
   "id": "35abdea4-0589-4097-8eed-93c443ef56ef",
   "metadata": {},
   "outputs": [
    {
     "name": "stdout",
     "output_type": "stream",
     "text": [
      "Mengulang melalui iterator:\n",
      "1\n",
      "2\n",
      "3\n",
      "4\n",
      "5\n"
     ]
    }
   ],
   "source": [
    "numbers = [1, 2, 3, 4, 5]\n",
    "numbers_iterator = iter(numbers)\n",
    "\n",
    "print(\"Mengulang melalui iterator:\")\n",
    "print(next(numbers_iterator))\n",
    "print(next(numbers_iterator))\n",
    "print(next(numbers_iterator))\n",
    "print(next(numbers_iterator))\n",
    "print(next(numbers_iterator))"
   ]
  },
  {
   "cell_type": "markdown",
   "id": "f3351580-db0e-4c9e-b56f-b6be3f9a3e03",
   "metadata": {},
   "source": [
    "## 1.2. enumerate()"
   ]
  },
  {
   "cell_type": "code",
   "execution_count": 5,
   "id": "b1b5c56c-0ac5-4f1b-ac01-effc6d5fed44",
   "metadata": {},
   "outputs": [
    {
     "name": "stdout",
     "output_type": "stream",
     "text": [
      "Indeks: 0 Buah: apel\n",
      "Indeks: 1 Buah: pisang\n",
      "Indeks: 2 Buah: ceri\n"
     ]
    }
   ],
   "source": [
    "fruits = [\"apel\", \"pisang\", \"ceri\"]\n",
    "\n",
    "for indeks, buah in enumerate(fruits):\n",
    "    print(\"Indeks:\", indeks, \"Buah:\", buah)"
   ]
  },
  {
   "cell_type": "markdown",
   "id": "6bcb0d64-36b6-4b24-9709-37b40cc89538",
   "metadata": {},
   "source": [
    "## 1.3. zip()"
   ]
  },
  {
   "cell_type": "code",
   "execution_count": 7,
   "id": "ea3f13fa-1028-4d34-8328-194ea18aa00c",
   "metadata": {},
   "outputs": [
    {
     "name": "stdout",
     "output_type": "stream",
     "text": [
      "Nama: Alice Umur: 25\n",
      "Nama: Bob Umur: 30\n",
      "Nama: Charlie Umur: 22\n"
     ]
    }
   ],
   "source": [
    "names = [\"Alice\", \"Bob\", \"Charlie\"]\n",
    "ages = [25, 30, 22]\n",
    "\n",
    "for nama, umur in zip(names, ages):\n",
    "    print(\"Nama:\", nama, \"Umur:\", umur)"
   ]
  },
  {
   "cell_type": "markdown",
   "id": "b089387d-4f1f-4eb6-ac77-ee96de235e77",
   "metadata": {},
   "source": [
    "## 1.4. Membuat Iterator Kustom"
   ]
  },
  {
   "cell_type": "code",
   "execution_count": 8,
   "id": "98a4563a-c02e-417d-9bfd-49e89548d259",
   "metadata": {},
   "outputs": [],
   "source": [
    "class CustomIterator:\n",
    "    def __init__(self, start, end):\n",
    "        self.current = start\n",
    "        self.end = end\n",
    "\n",
    "    def __iter__(self):\n",
    "        return self\n",
    "\n",
    "    def __next__(self):\n",
    "        if self.current <= self.end:\n",
    "            nilai = self.current\n",
    "            self.current += 1\n",
    "            return nilai\n",
    "        else:\n",
    "            raise StopIteration\n",
    "\n",
    "iterator_kustom = CustomIterator(1, 5)\n",
    "print(\"Iterator Kustom:\")\n",
    "for num in iterator_kustom:\n",
    "    print(\"Nilai:\", num)"
   ]
  },
  {
   "cell_type": "markdown",
   "id": "6d2466cf-8b41-4564-b7b1-d4a58c4ab366",
   "metadata": {},
   "source": [
    "# 2. Generator\n",
    "\n",
    "Generator menyediakan cara yang hemat memori untuk membuat iterator.\n",
    "Mari kita jelajahi cara menggunakan fungsi generator dan ekspresi generator untuk membuat generator."
   ]
  },
  {
   "cell_type": "markdown",
   "id": "c34422c9-31de-4928-9be4-9f538b65556c",
   "metadata": {},
   "source": [
    "## 2.1. Fungsi Generator"
   ]
  },
  {
   "cell_type": "markdown",
   "id": "9deb1168-583f-4c54-937f-7e7523be129c",
   "metadata": {},
   "source": [
    "### 2.1.1. Menggunakan fungsi generator untuk menghasilkan nilai satu per satu"
   ]
  },
  {
   "cell_type": "code",
   "execution_count": 1,
   "id": "0d629b8c-b791-4328-8289-acc8e5b752fc",
   "metadata": {},
   "outputs": [],
   "source": [
    "def hitung_sampai_batas(batas):\n",
    "    num = 1\n",
    "    while num <= batas:\n",
    "        yield num\n",
    "        num += 1"
   ]
  },
  {
   "cell_type": "markdown",
   "id": "11b8df69-9251-4d77-8362-85d4b94fd41c",
   "metadata": {},
   "source": [
    "### 2.1.2 Menggunakan fungsi generator"
   ]
  },
  {
   "cell_type": "code",
   "execution_count": 2,
   "id": "2051b8e3-fa28-412d-9fb3-f7cd6fb55ad1",
   "metadata": {},
   "outputs": [
    {
     "name": "stdout",
     "output_type": "stream",
     "text": [
      "Menggunakan Fungsi Generator:\n",
      "Nilai: 1\n",
      "Nilai: 2\n",
      "Nilai: 3\n",
      "Nilai: 4\n",
      "Nilai: 5\n"
     ]
    }
   ],
   "source": [
    "counter = hitung_sampai_batas(5)\n",
    "print(\"Menggunakan Fungsi Generator:\")\n",
    "for num in counter:\n",
    "    print(\"Nilai:\", num)"
   ]
  },
  {
   "cell_type": "markdown",
   "id": "e2e0c062-116f-42d6-8bad-fa03d1f51e29",
   "metadata": {},
   "source": [
    "## 2.2. Ekspresi Generator"
   ]
  },
  {
   "cell_type": "code",
   "execution_count": 3,
   "id": "7b84855a-ab2d-48ad-bba3-f81d35497187",
   "metadata": {},
   "outputs": [
    {
     "name": "stdout",
     "output_type": "stream",
     "text": [
      "Menggunakan Ekspresi Generator:\n",
      "Bilangan Genap: 2\n",
      "Bilangan Genap: 4\n",
      "Bilangan Genap: 6\n",
      "Bilangan Genap: 8\n",
      "Bilangan Genap: 10\n"
     ]
    }
   ],
   "source": [
    "bilangan_genap = (x for x in range(1, 11) if x % 2 == 0)\n",
    "\n",
    "print(\"Menggunakan Ekspresi Generator:\")\n",
    "for num in bilangan_genap:\n",
    "    print(\"Bilangan Genap:\", num)"
   ]
  },
  {
   "cell_type": "markdown",
   "id": "35000cf3-b2a7-4a2d-ac12-459752c11d20",
   "metadata": {},
   "source": [
    "## 2.3. Efisiensi Memori"
   ]
  },
  {
   "cell_type": "code",
   "execution_count": 4,
   "id": "0237fc2a-1da1-4bac-a429-3c9af289aafb",
   "metadata": {},
   "outputs": [
    {
     "name": "stdout",
     "output_type": "stream",
     "text": [
      "Penggunaan Memori untuk List: 8448728 byte\n",
      "Penggunaan Memori untuk Generator: 112 byte\n"
     ]
    }
   ],
   "source": [
    "import sys\n",
    "\n",
    "daftar_angka = [x for x in range(1, 1000000)]\n",
    "generator_angka = (x for x in range(1, 1000000))\n",
    "\n",
    "print(\"Penggunaan Memori untuk List:\", sys.getsizeof(daftar_angka), \"byte\")\n",
    "print(\"Penggunaan Memori untuk Generator:\", sys.getsizeof(generator_angka), \"byte\")"
   ]
  }
 ],
 "metadata": {
  "kernelspec": {
   "display_name": "Python 3 (ipykernel)",
   "language": "python",
   "name": "python3"
  },
  "language_info": {
   "codemirror_mode": {
    "name": "ipython",
    "version": 3
   },
   "file_extension": ".py",
   "mimetype": "text/x-python",
   "name": "python",
   "nbconvert_exporter": "python",
   "pygments_lexer": "ipython3",
   "version": "3.9.0"
  }
 },
 "nbformat": 4,
 "nbformat_minor": 5
}
