{
 "cells": [
  {
   "cell_type": "markdown",
   "id": "b0be7298-1117-4dc6-8eab-8413af6d365b",
   "metadata": {},
   "source": [
    "# Penjelasan Mengenai Generator dalam Python\n",
    "\n",
    "Generator menyediakan cara yang hemat memori untuk membuat iterator.\n",
    "Mari kita jelajahi cara menggunakan fungsi generator dan ekspresi generator untuk membuat generator."
   ]
  },
  {
   "cell_type": "markdown",
   "id": "8fbbb6c0-d9df-4f6a-926b-d109c66bc0b2",
   "metadata": {},
   "source": [
    "# 1. Fungsi Generator"
   ]
  },
  {
   "cell_type": "markdown",
   "id": "920004e4-bc7b-48c6-b52a-dc09a12faf78",
   "metadata": {},
   "source": [
    "## Menggunakan fungsi generator untuk menghasilkan nilai satu per satu"
   ]
  },
  {
   "cell_type": "code",
   "execution_count": 1,
   "id": "bcddaf2a-5cfd-4a93-9934-3c25378fb734",
   "metadata": {},
   "outputs": [],
   "source": [
    "def hitung_sampai_batas(batas):\n",
    "    num = 1\n",
    "    while num <= batas:\n",
    "        yield num\n",
    "        num += 1"
   ]
  },
  {
   "cell_type": "markdown",
   "id": "024b3c56-1540-4078-915c-462f4e6ae18f",
   "metadata": {},
   "source": [
    "## Menggunakan fungsi generator"
   ]
  },
  {
   "cell_type": "code",
   "execution_count": 2,
   "id": "1ad6127b-0342-4ccd-a39b-14b0b0dee6fc",
   "metadata": {},
   "outputs": [
    {
     "name": "stdout",
     "output_type": "stream",
     "text": [
      "Menggunakan Fungsi Generator:\n",
      "Nilai: 1\n",
      "Nilai: 2\n",
      "Nilai: 3\n",
      "Nilai: 4\n",
      "Nilai: 5\n"
     ]
    }
   ],
   "source": [
    "counter = hitung_sampai_batas(5)\n",
    "print(\"Menggunakan Fungsi Generator:\")\n",
    "for num in counter:\n",
    "    print(\"Nilai:\", num)"
   ]
  },
  {
   "cell_type": "markdown",
   "id": "1e6f0b82-a5ac-413a-9c3f-e19f8e8bb53d",
   "metadata": {},
   "source": [
    "# 2. Ekspresi Generator"
   ]
  },
  {
   "cell_type": "markdown",
   "id": "621324f5-ebe0-4f19-b1c1-0f9247832370",
   "metadata": {},
   "source": [
    "## Menggunakan ekspresi generator untuk membuat generator secara langsung"
   ]
  },
  {
   "cell_type": "code",
   "execution_count": 3,
   "id": "3bd07cdb-8e86-414e-9b01-6422ece8e552",
   "metadata": {},
   "outputs": [
    {
     "name": "stdout",
     "output_type": "stream",
     "text": [
      "Menggunakan Ekspresi Generator:\n",
      "Bilangan Genap: 2\n",
      "Bilangan Genap: 4\n",
      "Bilangan Genap: 6\n",
      "Bilangan Genap: 8\n",
      "Bilangan Genap: 10\n"
     ]
    }
   ],
   "source": [
    "bilangan_genap = (x for x in range(1, 11) if x % 2 == 0)\n",
    "\n",
    "print(\"Menggunakan Ekspresi Generator:\")\n",
    "for num in bilangan_genap:\n",
    "    print(\"Bilangan Genap:\", num)"
   ]
  },
  {
   "cell_type": "markdown",
   "id": "202f137d-784f-4b89-bbd6-0f06c3a862ac",
   "metadata": {},
   "source": [
    "# 3. Efisiensi Memori"
   ]
  },
  {
   "cell_type": "markdown",
   "id": "1dcbf2aa-3872-4046-a18d-615e45939d9d",
   "metadata": {},
   "source": [
    "## Membandingkan penggunaan memori antara list dan generator"
   ]
  },
  {
   "cell_type": "code",
   "execution_count": 4,
   "id": "43ef9ffe-1729-43d4-bb0b-63bc43205eee",
   "metadata": {},
   "outputs": [
    {
     "name": "stdout",
     "output_type": "stream",
     "text": [
      "Penggunaan Memori untuk List: 8448728 byte\n",
      "Penggunaan Memori untuk Generator: 112 byte\n"
     ]
    }
   ],
   "source": [
    "import sys\n",
    "\n",
    "daftar_angka = [x for x in range(1, 1000000)]\n",
    "generator_angka = (x for x in range(1, 1000000))\n",
    "\n",
    "print(\"Penggunaan Memori untuk List:\", sys.getsizeof(daftar_angka), \"byte\")\n",
    "print(\"Penggunaan Memori untuk Generator:\", sys.getsizeof(generator_angka), \"byte\")"
   ]
  }
 ],
 "metadata": {
  "kernelspec": {
   "display_name": "Python 3 (ipykernel)",
   "language": "python",
   "name": "python3"
  },
  "language_info": {
   "codemirror_mode": {
    "name": "ipython",
    "version": 3
   },
   "file_extension": ".py",
   "mimetype": "text/x-python",
   "name": "python",
   "nbconvert_exporter": "python",
   "pygments_lexer": "ipython3",
   "version": "3.9.17"
  }
 },
 "nbformat": 4,
 "nbformat_minor": 5
}
