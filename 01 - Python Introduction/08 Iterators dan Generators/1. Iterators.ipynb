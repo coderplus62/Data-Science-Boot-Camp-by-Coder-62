{
 "cells": [
  {
   "cell_type": "markdown",
   "id": "d8cac2d3-0fbc-4bb7-8858-16adb170f367",
   "metadata": {},
   "source": [
    "# Penjelasan Mengenai Iterator dalam Python\n",
    "\n",
    "Iterator menyediakan cara untuk mengulang melalui serangkaian nilai.\n",
    "Mari kita jelajahi cara menggunakan iterables, fungsi enumerate(), fungsi zip(),\n",
    "dan cara membuat iterator kustom."
   ]
  },
  {
   "cell_type": "markdown",
   "id": "e1a67483-7853-429a-ad28-a7c4b6c83f86",
   "metadata": {},
   "source": [
    "# 1. Iterables (menggunakan alat iter)"
   ]
  },
  {
   "cell_type": "code",
   "execution_count": 1,
   "id": "8dd8adae-b568-462d-82a6-5ab25b9fdc9c",
   "metadata": {},
   "outputs": [],
   "source": [
    "numbers = [1, 2, 3, 4, 5]"
   ]
  },
  {
   "cell_type": "markdown",
   "id": "eddc45e5-9ece-46c6-920c-508b0425eb44",
   "metadata": {},
   "source": [
    "## Menggunakan fungsi iter() untuk membuat iterator dari daftar"
   ]
  },
  {
   "cell_type": "code",
   "execution_count": 2,
   "id": "85510842-31cf-4558-a1c2-55bf9ee436c8",
   "metadata": {},
   "outputs": [],
   "source": [
    "numbers_iterator = iter(numbers)"
   ]
  },
  {
   "cell_type": "markdown",
   "id": "84810479-1c45-4ba4-8bed-06b4ad99c6ed",
   "metadata": {},
   "source": [
    "## Mengulang melalui iterator menggunakan fungsi next()"
   ]
  },
  {
   "cell_type": "code",
   "execution_count": 3,
   "id": "35abdea4-0589-4097-8eed-93c443ef56ef",
   "metadata": {},
   "outputs": [
    {
     "name": "stdout",
     "output_type": "stream",
     "text": [
      "Mengulang melalui iterator:\n",
      "1\n",
      "2\n",
      "3\n",
      "4\n",
      "5\n"
     ]
    }
   ],
   "source": [
    "print(\"Mengulang melalui iterator:\")\n",
    "print(next(numbers_iterator))\n",
    "print(next(numbers_iterator))\n",
    "print(next(numbers_iterator))\n",
    "print(next(numbers_iterator))\n",
    "print(next(numbers_iterator))"
   ]
  },
  {
   "cell_type": "markdown",
   "id": "f3351580-db0e-4c9e-b56f-b6be3f9a3e03",
   "metadata": {},
   "source": [
    "# 2. Fungsi enumerate()"
   ]
  },
  {
   "cell_type": "code",
   "execution_count": 4,
   "id": "f5b9da29-ea63-4bd3-97f5-295f3af0bf20",
   "metadata": {},
   "outputs": [],
   "source": [
    "fruits = [\"apel\", \"pisang\", \"ceri\"]"
   ]
  },
  {
   "cell_type": "markdown",
   "id": "3e6de590-13e1-43e3-9c96-2800ad894049",
   "metadata": {},
   "source": [
    "## Menggunakan fungsi enumerate() untuk mendapatkan indeks dan nilai"
   ]
  },
  {
   "cell_type": "code",
   "execution_count": 5,
   "id": "b1b5c56c-0ac5-4f1b-ac01-effc6d5fed44",
   "metadata": {},
   "outputs": [
    {
     "name": "stdout",
     "output_type": "stream",
     "text": [
      "Indeks: 0 Buah: apel\n",
      "Indeks: 1 Buah: pisang\n",
      "Indeks: 2 Buah: ceri\n"
     ]
    }
   ],
   "source": [
    "for indeks, buah in enumerate(fruits):\n",
    "    print(\"Indeks:\", indeks, \"Buah:\", buah)"
   ]
  },
  {
   "cell_type": "markdown",
   "id": "6bcb0d64-36b6-4b24-9709-37b40cc89538",
   "metadata": {},
   "source": [
    "# 3. Fungsi zip()"
   ]
  },
  {
   "cell_type": "code",
   "execution_count": 6,
   "id": "90de1e31-2705-48f7-8c0e-43aad573bb1f",
   "metadata": {},
   "outputs": [],
   "source": [
    "names = [\"Alice\", \"Bob\", \"Charlie\"]\n",
    "ages = [25, 30, 22]"
   ]
  },
  {
   "cell_type": "markdown",
   "id": "f34b3290-ce11-4867-820b-d4efe24fb806",
   "metadata": {},
   "source": [
    "## Menggunakan fungsi zip() untuk menggabungkan dua atau lebih daftar"
   ]
  },
  {
   "cell_type": "code",
   "execution_count": 7,
   "id": "ea3f13fa-1028-4d34-8328-194ea18aa00c",
   "metadata": {},
   "outputs": [
    {
     "name": "stdout",
     "output_type": "stream",
     "text": [
      "Nama: Alice Umur: 25\n",
      "Nama: Bob Umur: 30\n",
      "Nama: Charlie Umur: 22\n"
     ]
    }
   ],
   "source": [
    "for nama, umur in zip(names, ages):\n",
    "    print(\"Nama:\", nama, \"Umur:\", umur)"
   ]
  },
  {
   "cell_type": "markdown",
   "id": "b089387d-4f1f-4eb6-ac77-ee96de235e77",
   "metadata": {},
   "source": [
    "# 4. Membuat Iterator Kustom"
   ]
  },
  {
   "cell_type": "code",
   "execution_count": 8,
   "id": "98a4563a-c02e-417d-9bfd-49e89548d259",
   "metadata": {},
   "outputs": [],
   "source": [
    "class CustomIterator:\n",
    "    def __init__(self, start, end):\n",
    "        self.current = start\n",
    "        self.end = end\n",
    "\n",
    "    def __iter__(self):\n",
    "        return self\n",
    "\n",
    "    def __next__(self):\n",
    "        if self.current <= self.end:\n",
    "            nilai = self.current\n",
    "            self.current += 1\n",
    "            return nilai\n",
    "        else:\n",
    "            raise StopIteration"
   ]
  },
  {
   "cell_type": "markdown",
   "id": "9e388713-e59e-4ff2-a4b0-71c0b9d39a2a",
   "metadata": {},
   "source": [
    "## Menggunakan iterator kustom"
   ]
  },
  {
   "cell_type": "code",
   "execution_count": 9,
   "id": "a3e9a129-871b-40c0-bd19-4f4a95bb28eb",
   "metadata": {},
   "outputs": [
    {
     "name": "stdout",
     "output_type": "stream",
     "text": [
      "Iterator Kustom:\n",
      "Nilai: 1\n",
      "Nilai: 2\n",
      "Nilai: 3\n",
      "Nilai: 4\n",
      "Nilai: 5\n"
     ]
    }
   ],
   "source": [
    "iterator_kustom = CustomIterator(1, 5)\n",
    "print(\"Iterator Kustom:\")\n",
    "for num in iterator_kustom:\n",
    "    print(\"Nilai:\", num)"
   ]
  }
 ],
 "metadata": {
  "kernelspec": {
   "display_name": "Python 3 (ipykernel)",
   "language": "python",
   "name": "python3"
  },
  "language_info": {
   "codemirror_mode": {
    "name": "ipython",
    "version": 3
   },
   "file_extension": ".py",
   "mimetype": "text/x-python",
   "name": "python",
   "nbconvert_exporter": "python",
   "pygments_lexer": "ipython3",
   "version": "3.9.17"
  }
 },
 "nbformat": 4,
 "nbformat_minor": 5
}
