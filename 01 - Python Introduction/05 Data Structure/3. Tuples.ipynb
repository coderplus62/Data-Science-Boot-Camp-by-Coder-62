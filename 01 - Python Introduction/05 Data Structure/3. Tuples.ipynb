{
 "cells": [
  {
   "cell_type": "markdown",
   "id": "0d27270e-168f-4cff-b4a1-f28281d85128",
   "metadata": {},
   "source": [
    "# Penjelasan tentang Tuple dalam Python\n",
    "\n",
    "Tuple mirip dengan list, tetapi tidak dapat diubah setelah dibuat (immutable).\n",
    "Mari kita jelajahi cara mengakses elemen-elemen tuple, sifat tak-berubah, menggabungkan tuple,\n",
    "membongkar tuple, dan menggunakan metode pada tuple."
   ]
  },
  {
   "cell_type": "markdown",
   "id": "0690ca89-b1e8-4e68-a115-4abdd69c9b7b",
   "metadata": {},
   "source": [
    "# 1. Mengakses Elemen Tuple"
   ]
  },
  {
   "cell_type": "markdown",
   "id": "b744d69f-7814-4352-869b-d2a93839b628",
   "metadata": {},
   "source": [
    "## Membuat tuple"
   ]
  },
  {
   "cell_type": "code",
   "execution_count": 25,
   "id": "121c8637-46d4-4099-bd9e-631e9fa420fb",
   "metadata": {},
   "outputs": [
    {
     "data": {
      "text/plain": [
       "(10, 20, 30, 40, 50)"
      ]
     },
     "execution_count": 25,
     "metadata": {},
     "output_type": "execute_result"
    }
   ],
   "source": [
    "my_tuple = (10, 20, 30, 40, 50)\n",
    "my_tuple"
   ]
  },
  {
   "cell_type": "markdown",
   "id": "d1275a0b-a524-47dc-8dda-0d84ead7273c",
   "metadata": {},
   "source": [
    "## Mengakses elemen-elemen tuple menggunakan indexing"
   ]
  },
  {
   "cell_type": "code",
   "execution_count": 26,
   "id": "d08a9155-a08d-42f1-9b67-e7120282e9c4",
   "metadata": {},
   "outputs": [
    {
     "name": "stdout",
     "output_type": "stream",
     "text": [
      "10\n",
      "30\n",
      "50\n"
     ]
    }
   ],
   "source": [
    "elemen_pertama = my_tuple[0]     # Akses elemen pertama (10)\n",
    "elemen_ketiga = my_tuple[2]      # Akses elemen ketiga (30)\n",
    "elemen_terakhir = my_tuple[-1]   # Akses elemen terakhir (50)\n",
    "\n",
    "print(elemen_pertama)\n",
    "print(elemen_ketiga)\n",
    "print(elemen_terakhir)"
   ]
  },
  {
   "cell_type": "markdown",
   "id": "b731909c-0dce-4c19-aa03-488bd50fcf90",
   "metadata": {},
   "source": [
    "# 2. Sifat Tak-berubah (Immutability)"
   ]
  },
  {
   "cell_type": "markdown",
   "id": "864c170e-2a7c-4142-b28f-04e59c775828",
   "metadata": {},
   "source": [
    "## Membatalkan komentar pada baris berikut akan menghasilkan error"
   ]
  },
  {
   "cell_type": "code",
   "execution_count": 27,
   "id": "4cb18ca9-4fd0-42eb-93ed-a2d2adfd406f",
   "metadata": {},
   "outputs": [
    {
     "ename": "TypeError",
     "evalue": "'tuple' object does not support item assignment",
     "output_type": "error",
     "traceback": [
      "\u001b[1;31m---------------------------------------------------------------------------\u001b[0m",
      "\u001b[1;31mTypeError\u001b[0m                                 Traceback (most recent call last)",
      "Cell \u001b[1;32mIn[27], line 1\u001b[0m\n\u001b[1;32m----> 1\u001b[0m \u001b[43mmy_tuple\u001b[49m\u001b[43m[\u001b[49m\u001b[38;5;241;43m1\u001b[39;49m\u001b[43m]\u001b[49m \u001b[38;5;241m=\u001b[39m \u001b[38;5;241m25\u001b[39m  \u001b[38;5;66;03m# Error: Tuple tidak dapat diubah\u001b[39;00m\n\u001b[0;32m      2\u001b[0m my_tuple\n",
      "\u001b[1;31mTypeError\u001b[0m: 'tuple' object does not support item assignment"
     ]
    }
   ],
   "source": [
    "my_tuple[1] = 25  # Error: Tuple tidak dapat diubah\n",
    "my_tuple"
   ]
  },
  {
   "cell_type": "markdown",
   "id": "bcbc0408-7453-4902-a2cf-f197f0e66701",
   "metadata": {},
   "source": [
    "# 3. Menggabungkan Tuple"
   ]
  },
  {
   "cell_type": "markdown",
   "id": "1f10cd06-c56c-4a0b-aec2-f7a7c834eb75",
   "metadata": {},
   "source": [
    "## Membuat tuple lain"
   ]
  },
  {
   "cell_type": "code",
   "execution_count": 28,
   "id": "3ee2edd4-a356-4250-aaf1-531ee5245eee",
   "metadata": {},
   "outputs": [
    {
     "data": {
      "text/plain": [
       "(60, 70)"
      ]
     },
     "execution_count": 28,
     "metadata": {},
     "output_type": "execute_result"
    }
   ],
   "source": [
    "another_tuple = (60, 70)\n",
    "another_tuple"
   ]
  },
  {
   "cell_type": "markdown",
   "id": "c696449e-a2a1-43e5-b7fd-2161af53f2d2",
   "metadata": {},
   "source": [
    "## Menggabungkan tuple"
   ]
  },
  {
   "cell_type": "code",
   "execution_count": 29,
   "id": "23c2b234-e6cb-4810-8d4d-83f264b4a62c",
   "metadata": {},
   "outputs": [],
   "source": [
    "tuple_tergabung = my_tuple + another_tuple"
   ]
  },
  {
   "cell_type": "markdown",
   "id": "4834f239-395e-41e8-a2a7-7daca1bbd455",
   "metadata": {},
   "source": [
    "# 4. Membongkar Tuple"
   ]
  },
  {
   "cell_type": "markdown",
   "id": "c601f07d-05f4-4e05-ac00-3eb8a9cbce28",
   "metadata": {},
   "source": [
    "## Membongkar tuple menjadi variabel-variabel"
   ]
  },
  {
   "cell_type": "code",
   "execution_count": 30,
   "id": "83e5b78c-ff81-43db-a8b2-19d23c5ff67c",
   "metadata": {},
   "outputs": [
    {
     "name": "stdout",
     "output_type": "stream",
     "text": [
      "\n",
      "Membongkar Tuple:\n",
      "x: 10\n",
      "y: 20\n",
      "z: 30\n",
      "Sisanya: [40, 50, 60, 70]\n"
     ]
    }
   ],
   "source": [
    "x, y, z, *sisanya = tuple_tergabung\n",
    "print(\"\\nMembongkar Tuple:\")\n",
    "print(\"x:\", x)\n",
    "print(\"y:\", y)\n",
    "print(\"z:\", z)\n",
    "print(\"Sisanya:\", sisanya)"
   ]
  },
  {
   "cell_type": "markdown",
   "id": "f0b06176-2c29-480e-881f-925edbd2c882",
   "metadata": {},
   "source": [
    "# 5. Metode pada Tuple"
   ]
  },
  {
   "cell_type": "markdown",
   "id": "e4a814af-50eb-49f6-be8a-99aa7d97b4d1",
   "metadata": {},
   "source": [
    "## Menghitung kemunculan suatu elemen"
   ]
  },
  {
   "cell_type": "code",
   "execution_count": 31,
   "id": "a95334d8-78e7-4876-b2de-5b291f888cfd",
   "metadata": {},
   "outputs": [
    {
     "name": "stdout",
     "output_type": "stream",
     "text": [
      "\n",
      "Metode pada Tuple:\n",
      "Jumlah 20: 1\n"
     ]
    }
   ],
   "source": [
    "jumlah_20 = my_tuple.count(20)\n",
    "print(\"\\nMetode pada Tuple:\")\n",
    "print(\"Jumlah 20:\", jumlah_20)"
   ]
  },
  {
   "cell_type": "markdown",
   "id": "b2d0f7f0-d6f7-47bf-953b-865f1e7e03ac",
   "metadata": {},
   "source": [
    "## Menemukan indeks suatu elemen"
   ]
  },
  {
   "cell_type": "code",
   "execution_count": 32,
   "id": "274be6c3-f2e0-4b05-8d57-5575828af167",
   "metadata": {},
   "outputs": [
    {
     "name": "stdout",
     "output_type": "stream",
     "text": [
      "Indeks 40: 3\n"
     ]
    }
   ],
   "source": [
    "indeks_40 = my_tuple.index(40)\n",
    "print(\"Indeks 40:\", indeks_40)"
   ]
  }
 ],
 "metadata": {
  "kernelspec": {
   "display_name": "Python 3 (ipykernel)",
   "language": "python",
   "name": "python3"
  },
  "language_info": {
   "codemirror_mode": {
    "name": "ipython",
    "version": 3
   },
   "file_extension": ".py",
   "mimetype": "text/x-python",
   "name": "python",
   "nbconvert_exporter": "python",
   "pygments_lexer": "ipython3",
   "version": "3.9.17"
  }
 },
 "nbformat": 4,
 "nbformat_minor": 5
}
