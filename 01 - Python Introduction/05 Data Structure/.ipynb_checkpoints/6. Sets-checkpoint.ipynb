{
 "cells": [
  {
   "cell_type": "markdown",
   "id": "6569c68a-37c1-48c5-9a75-46030857269b",
   "metadata": {},
   "source": [
    "# Penjelasan tentang Sets dalam Python\n",
    "\n",
    "Sets adalah koleksi tidak terurut dari elemen-elemen unik.\n",
    "Mari kita jelajahi cara membuat set, operasi pada set, dan menggunakan metode-metode set."
   ]
  },
  {
   "cell_type": "markdown",
   "id": "03874a84-f52d-4f2f-80a9-2d1141b26a18",
   "metadata": {},
   "source": [
    "# 1. Membuat Sets"
   ]
  },
  {
   "cell_type": "markdown",
   "id": "b8b53d4d-9020-49a5-804d-5b31eeaf521f",
   "metadata": {},
   "source": [
    "## Membuat set"
   ]
  },
  {
   "cell_type": "code",
   "execution_count": 1,
   "id": "e98d71e6-a926-4dbf-9ef4-23df9a075f48",
   "metadata": {},
   "outputs": [
    {
     "data": {
      "text/plain": [
       "{10, 20, 30, 40, 50}"
      ]
     },
     "execution_count": 1,
     "metadata": {},
     "output_type": "execute_result"
    }
   ],
   "source": [
    "my_set = {10, 20, 30, 40, 50}\n",
    "my_set"
   ]
  },
  {
   "cell_type": "markdown",
   "id": "71387c08-da47-4aef-b11c-ccd3d7f5e937",
   "metadata": {},
   "source": [
    "## Menambahkan elemen ke dalam set menggunakan add()"
   ]
  },
  {
   "cell_type": "code",
   "execution_count": 2,
   "id": "5125439d-010c-45e1-9001-53909806127d",
   "metadata": {},
   "outputs": [
    {
     "name": "stdout",
     "output_type": "stream",
     "text": [
      "Membuat Sets:\n",
      "Set Awal: {50, 20, 40, 10, 60, 30}\n"
     ]
    }
   ],
   "source": [
    "my_set.add(60)  # Tambahkan 60 ke dalam set\n",
    "\n",
    "print(\"Membuat Sets:\")\n",
    "print(\"Set Awal:\", my_set)"
   ]
  },
  {
   "cell_type": "markdown",
   "id": "c67cd8d6-98b3-4ed7-926d-71994f632f85",
   "metadata": {},
   "source": [
    "# 2. Operasi pada Set"
   ]
  },
  {
   "cell_type": "markdown",
   "id": "cc23780b-4139-4a94-b41b-ba2448e758dc",
   "metadata": {},
   "source": [
    "## Memeriksa keanggotaan menggunakan in"
   ]
  },
  {
   "cell_type": "code",
   "execution_count": 3,
   "id": "805f328e-4d6e-405f-bd88-249435acb2ee",
   "metadata": {},
   "outputs": [
    {
     "name": "stdout",
     "output_type": "stream",
     "text": [
      "\n",
      "Operasi pada Set:\n",
      "Apakah 30 ada dalam set? True\n",
      "Apakah 70 tidak ada dalam set? False\n"
     ]
    }
   ],
   "source": [
    "ada = 30 in my_set  # Periksa apakah 30 ada dalam set\n",
    "tidak_ada = 70 in my_set   # Periksa apakah 70 tidak ada dalam set\n",
    "\n",
    "print(\"\\nOperasi pada Set:\")\n",
    "print(\"Apakah 30 ada dalam set?\", ada)\n",
    "print(\"Apakah 70 tidak ada dalam set?\", tidak_ada)"
   ]
  },
  {
   "cell_type": "markdown",
   "id": "46edf9a8-2132-4fd6-af40-801fcac5c517",
   "metadata": {},
   "source": [
    "## Menghapus elemen menggunakan remove()"
   ]
  },
  {
   "cell_type": "code",
   "execution_count": 4,
   "id": "74f582fb-1c79-41f9-a545-024d833be51f",
   "metadata": {},
   "outputs": [
    {
     "name": "stdout",
     "output_type": "stream",
     "text": [
      "Set yang Dimodifikasi setelah Penghapusan: {50, 20, 40, 10, 60}\n"
     ]
    }
   ],
   "source": [
    "my_set.remove(30)  # Hapus 30 dari dalam set\n",
    "\n",
    "print(\"Set yang Dimodifikasi setelah Penghapusan:\", my_set)"
   ]
  },
  {
   "cell_type": "markdown",
   "id": "b56c0600-bb89-45b3-a107-1383e7547baa",
   "metadata": {},
   "source": [
    "# 3. Metode-Metode Set"
   ]
  },
  {
   "cell_type": "markdown",
   "id": "89392377-e4c3-4e83-9d64-c6468c22cfa7",
   "metadata": {},
   "source": [
    "## Membuat set lain"
   ]
  },
  {
   "cell_type": "code",
   "execution_count": 5,
   "id": "31154380-c7b7-486a-a3de-e7b95c050369",
   "metadata": {},
   "outputs": [
    {
     "data": {
      "text/plain": [
       "{40, 50, 60, 70, 80}"
      ]
     },
     "execution_count": 5,
     "metadata": {},
     "output_type": "execute_result"
    }
   ],
   "source": [
    "another_set = {40, 50, 60, 70, 80}\n",
    "another_set"
   ]
  },
  {
   "cell_type": "markdown",
   "id": "1c1391ab-767f-40c0-a6f1-c8a05358a376",
   "metadata": {},
   "source": [
    "## Gabungan set menggunakan union()"
   ]
  },
  {
   "cell_type": "code",
   "execution_count": 6,
   "id": "e18f53e5-4d2a-4f24-99cf-3e34e516a7fa",
   "metadata": {},
   "outputs": [
    {
     "data": {
      "text/plain": [
       "{10, 20, 40, 50, 60, 70, 80}"
      ]
     },
     "execution_count": 6,
     "metadata": {},
     "output_type": "execute_result"
    }
   ],
   "source": [
    "hasil_gabungan = my_set.union(another_set)\n",
    "hasil_gabungan"
   ]
  },
  {
   "cell_type": "markdown",
   "id": "38b462a1-6690-4165-827e-7c79234e64ba",
   "metadata": {},
   "source": [
    "## Irisan set menggunakan intersection()"
   ]
  },
  {
   "cell_type": "code",
   "execution_count": 7,
   "id": "64fc73ae-5e23-4010-bec9-0aae456d81e2",
   "metadata": {},
   "outputs": [
    {
     "data": {
      "text/plain": [
       "{40, 50, 60}"
      ]
     },
     "execution_count": 7,
     "metadata": {},
     "output_type": "execute_result"
    }
   ],
   "source": [
    "hasil_irisan = my_set.intersection(another_set)\n",
    "hasil_irisan"
   ]
  },
  {
   "cell_type": "markdown",
   "id": "9c45a92b-c089-4f42-8a80-902cf663e4bd",
   "metadata": {},
   "source": [
    "## Perbedaan set menggunakan difference()"
   ]
  },
  {
   "cell_type": "code",
   "execution_count": 8,
   "id": "85dc7861-4937-464d-bf30-e013b0094bde",
   "metadata": {},
   "outputs": [
    {
     "data": {
      "text/plain": [
       "{10, 20}"
      ]
     },
     "execution_count": 8,
     "metadata": {},
     "output_type": "execute_result"
    }
   ],
   "source": [
    "hasil_perbedaan = my_set.difference(another_set)\n",
    "hasil_perbedaan"
   ]
  }
 ],
 "metadata": {
  "kernelspec": {
   "display_name": "Python 3 (ipykernel)",
   "language": "python",
   "name": "python3"
  },
  "language_info": {
   "codemirror_mode": {
    "name": "ipython",
    "version": 3
   },
   "file_extension": ".py",
   "mimetype": "text/x-python",
   "name": "python",
   "nbconvert_exporter": "python",
   "pygments_lexer": "ipython3",
   "version": "3.9.17"
  }
 },
 "nbformat": 4,
 "nbformat_minor": 5
}
