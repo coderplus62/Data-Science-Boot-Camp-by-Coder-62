{
 "cells": [
  {
   "cell_type": "markdown",
   "id": "678d7a1b-8533-48d3-89e5-e562cc3b023c",
   "metadata": {},
   "source": [
    "# Penjelasan tentang Array dalam Python\n",
    " Array dalam Python diimplementasikan menggunakan list atau modul array bawaa.n\n",
    "\n",
    " Mari kita gunakan list untuk mendemonstrasikan cara mengakses dan memanipulasi arayr"
   ]
  },
  {
   "cell_type": "markdown",
   "id": "e882b667-52f9-434a-9de1-6f02e80a47d2",
   "metadata": {},
   "source": [
    "# 1. Mengakses Elemen array\n",
    "Membuat array (list)"
   ]
  },
  {
   "cell_type": "code",
   "execution_count": 1,
   "id": "49320a10-b78f-4630-b15a-56f35f7209cd",
   "metadata": {},
   "outputs": [],
   "source": [
    "my_array = [10, 20, 30, 4, 50] "
   ]
  },
  {
   "cell_type": "markdown",
   "id": "afdba155-c0a8-4f71-b8bf-0b4e793a34fc",
   "metadata": {},
   "source": [
    "# Mengakses elemen-elemen array menggunakan indexing"
   ]
  },
  {
   "cell_type": "code",
   "execution_count": 2,
   "id": "7eba66aa-5229-4d6a-8579-65b703b2d2f1",
   "metadata": {},
   "outputs": [
    {
     "data": {
      "text/plain": [
       "10"
      ]
     },
     "execution_count": 2,
     "metadata": {},
     "output_type": "execute_result"
    }
   ],
   "source": [
    "elemen_pertama = my_array[0]     # Mengakses elemen pertama (10)\n",
    "elemen_pertama"
   ]
  },
  {
   "cell_type": "code",
   "execution_count": 3,
   "id": "175111cb-3a02-4307-a980-433c1b7e058a",
   "metadata": {},
   "outputs": [
    {
     "data": {
      "text/plain": [
       "30"
      ]
     },
     "execution_count": 3,
     "metadata": {},
     "output_type": "execute_result"
    }
   ],
   "source": [
    "elemen_ketiga = my_array[2]      # Mengakses elemen ketiga (30)\n",
    "elemen_ketiga"
   ]
  },
  {
   "cell_type": "code",
   "execution_count": 4,
   "id": "2c72b0b4-0664-48c7-bd3e-3f893099eaac",
   "metadata": {},
   "outputs": [
    {
     "data": {
      "text/plain": [
       "50"
      ]
     },
     "execution_count": 4,
     "metadata": {},
     "output_type": "execute_result"
    }
   ],
   "source": [
    "elemen_terakhir = my_array[-1]   # Mengakses elemen terakhir (50)\n",
    "elemen_terakhir"
   ]
  },
  {
   "cell_type": "markdown",
   "id": "191f27f9-f29c-479f-a827-268aed049f84",
   "metadata": {},
   "source": [
    "# 2. Memanipulasi Elemen Array"
   ]
  },
  {
   "cell_type": "code",
   "execution_count": 6,
   "id": "e05bb771-f799-4f00-be59-685b717b52b3",
   "metadata": {
    "jp-MarkdownHeadingCollapsed": true
   },
   "outputs": [
    {
     "data": {
      "text/plain": [
       "[10, 25, 30, 4, 50]"
      ]
     },
     "execution_count": 6,
     "metadata": {},
     "output_type": "execute_result"
    }
   ],
   "source": [
    "# Memodifikasi elemen-elemen array menggunakan indexing\r\n",
    "my_array[1] = 25   # Ubah elemen kedua menjad25my_array\n",
    "my_array "
   ]
  },
  {
   "cell_type": "code",
   "execution_count": 18,
   "id": "67509858-6419-4b81-882c-a91159e1d7e5",
   "metadata": {},
   "outputs": [
    {
     "data": {
      "text/plain": [
       "[10, 25, 4, 50, 60, 60, 60]"
      ]
     },
     "execution_count": 18,
     "metadata": {},
     "output_type": "execute_result"
    }
   ],
   "source": [
    "# Menambahkan elemen ke dalam array menggunakan append()\r",
    "my_array.append(60)\n",
    "my_array"
   ]
  },
  {
   "cell_type": "code",
   "execution_count": 19,
   "id": "b77f5d5e-e3ff-4d8d-9d05-b1058a7153b6",
   "metadata": {},
   "outputs": [
    {
     "data": {
      "text/plain": [
       "[10, 25, 4, 50, 60, 60]"
      ]
     },
     "execution_count": 19,
     "metadata": {},
     "output_type": "execute_result"
    }
   ],
   "source": [
    "# Menghapus elemen dari array menggunakan remove()\n",
    "my_array.remove(60)\n",
    "my_array"
   ]
  },
  {
   "cell_type": "code",
   "execution_count": 21,
   "id": "17812aad-b33b-4ac5-bc2e-309256e8921d",
   "metadata": {},
   "outputs": [
    {
     "data": {
      "text/plain": [
       "[25, 4, 50]"
      ]
     },
     "execution_count": 21,
     "metadata": {},
     "output_type": "execute_result"
    }
   ],
   "source": [
    "# Slicing untuk mendapatkan subset dari array\n",
    "subset_array = my_array[1:4]  # Dapatkan elemen dari indeks 1 hingga 3 (tidak termasusubset_arrayset)\n",
    "subset_array"
   ]
  },
  {
   "cell_type": "code",
   "execution_count": 23,
   "id": "261d19f6-5c55-466a-a76e-69c5da025b88",
   "metadata": {},
   "outputs": [
    {
     "name": "stdout",
     "output_type": "stream",
     "text": [
      "Array yang Dibalikkan: [60, 60, 50, 4, 25, 10]\n"
     ]
    }
   ],
   "source": [
    "# Membalikkan array menggunakan slicing\n",
    "reversed_array = my_array[::-1]  # Balikkan seluruh array\n",
    "print(\"Array yang Dibalikkan:\", reversed_array)"
   ]
  }
 ],
 "metadata": {
  "kernelspec": {
   "display_name": "Python 3 (ipykernel)",
   "language": "python",
   "name": "python3"
  },
  "language_info": {
   "codemirror_mode": {
    "name": "ipython",
    "version": 3
   },
   "file_extension": ".py",
   "mimetype": "text/x-python",
   "name": "python",
   "nbconvert_exporter": "python",
   "pygments_lexer": "ipython3",
   "version": "3.9.17"
  }
 },
 "nbformat": 4,
 "nbformat_minor": 5
}
