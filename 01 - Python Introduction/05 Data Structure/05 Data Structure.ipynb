{
 "cells": [
  {
   "cell_type": "markdown",
   "id": "01d110c2-be74-4946-9d24-ec8dd65b0de0",
   "metadata": {},
   "source": [
    "# 1. Indexing and Slicing"
   ]
  },
  {
   "cell_type": "markdown",
   "id": "5e5db590-17e8-47f8-9c0c-d5842ed1b3f6",
   "metadata": {},
   "source": [
    "## 1.1. Indexing \n",
    "Indexing merujuk pada pengaksesan elemen-elemen individual dari suatu urutan (seperti sebuah list) menggunakan posisi mereka. Di dalam Python, indexing dimulai dari nol, yang berarti elemen pertama memiliki indeks 0. Mari kita pertimbangkan lrikut:ist be"
   ]
  },
  {
   "cell_type": "code",
   "execution_count": null,
   "id": "7d7bae4c-77f3-4d16-8fd5-967ae91cdd4e",
   "metadata": {},
   "outputs": [],
   "source": [
    "my_list = [10, 20, 30,  50]"
   ]
  },
  {
   "cell_type": "markdown",
   "id": "0e231846-5e35-4ef1-9d58-19bc278160f1",
   "metadata": {},
   "source": [
    "Untuk mengakses elemen dengan menggunakan ndiexing"
   ]
  },
  {
   "cell_type": "code",
   "execution_count": null,
   "id": "6637aea0-0d1e-4698-a9db-5b0614a2c0f1",
   "metadata": {},
   "outputs": [],
   "source": [
    "my_list[0] # memberikan elemen pertama (10)"
   ]
  },
  {
   "cell_type": "code",
   "execution_count": null,
   "id": "bb4c5ce9-b78f-4825-9e7d-7457423b4936",
   "metadata": {},
   "outputs": [],
   "source": [
    "my_list[2] # memberikan elemen tiga (30)"
   ]
  },
  {
   "cell_type": "code",
   "execution_count": null,
   "id": "fa71d19a-30c4-43d4-9c81-df405a5f7401",
   "metadata": {},
   "outputs": [],
   "source": [
    "my_list[-1] # memberikan elemen terakhir (50)."
   ]
  },
  {
   "cell_type": "markdown",
   "id": "d9e77832-1af7-4185-9b16-1d3d0a9de1f5",
   "metadata": {},
   "source": [
    "## 1.2. Slicing\r\n",
    "Slicing memungkinkan Anda untuk mengekstrak sebagian dari suatu urutan menggunakan rentang indeks. Sintaks untuk slicing adalah start:stop:step, di mana start adalah indeks awal, stop adalah indeks akhir (eksklusif), dan step adalah selisih antara elemen-elemen.\r\n",
    "\r\n",
    "Menggunakan my_list ysama:ang "
   ]
  },
  {
   "cell_type": "code",
   "execution_count": null,
   "id": "c0013c9b-721b-4b94-9e3f-bf9c362ee4de",
   "metadata": {},
   "outputs": [],
   "source": [
    "my_list = [10, 20, 30, 40, 50]"
   ]
  },
  {
   "cell_type": "markdown",
   "id": "ef8b3a73-7682-4838-b298-d0a4d4944aef",
   "metadata": {},
   "source": [
    "\n",
    "Untuk melakukan slicing pada lit:s"
   ]
  },
  {
   "cell_type": "code",
   "execution_count": null,
   "id": "4fb30667-f984-40dd-b57e-b186bdf7f8b6",
   "metadata": {},
   "outputs": [],
   "source": [
    "my_list[1:4] # memberikan [20, 30, 40]"
   ]
  },
  {
   "cell_type": "code",
   "execution_count": null,
   "id": "a174e268-a8d1-4f3a-a103-11642229906f",
   "metadata": {},
   "outputs": [],
   "source": [
    "my_list[:3] # memberikan [10, 20, 30]"
   ]
  },
  {
   "cell_type": "code",
   "execution_count": null,
   "id": "4a781162-7e2c-462d-8f56-14172c4f62e0",
   "metadata": {},
   "outputs": [],
   "source": [
    "my_list[::2] # memberikan [10, 30, 50]."
   ]
  },
  {
   "cell_type": "markdown",
   "id": "333e57cb-39c1-425b-a501-5cb455fae107",
   "metadata": {},
   "source": [
    "## 1.3. Representasi Visual\n",
    "Berikut adalah representasi visual dari indexing dan slicing pada sebuah list\n",
    "<img title=\"a title\" alt=\"Alt text\" src=\"https://www.scientecheasy.com/wp-content/uploads/2023/01/python-string-slicing.png\">"
   ]
  },
  {
   "cell_type": "markdown",
   "id": "37969621-d6a3-45b0-9c58-de26114afda9",
   "metadata": {},
   "source": [
    "# 2. Array\n",
    " Array dalam Python diimplementasikan menggunakan list atau modul array bawaan\n",
    "\n",
    " Mari kita gunakan list untuk mendemonstrasikan cara mengakses dan memanipulasi array"
   ]
  },
  {
   "cell_type": "markdown",
   "id": "eb03ff08-99ea-40d5-b8f6-216ac58ae190",
   "metadata": {},
   "source": [
    "## 2.1. Mengakses Elemen array"
   ]
  },
  {
   "cell_type": "code",
   "execution_count": null,
   "id": "937e9bd0-3c7c-44b0-89d2-1a010b9fa1da",
   "metadata": {},
   "outputs": [],
   "source": [
    "my_array = [10, 20, 30, 4, 50] "
   ]
  },
  {
   "cell_type": "markdown",
   "id": "2226eb49-6f4d-43f8-8c56-463931913305",
   "metadata": {},
   "source": [
    "## 2.2. Mengakses elemen-elemen array menggunakan indexing"
   ]
  },
  {
   "cell_type": "code",
   "execution_count": null,
   "id": "2e977672-d4c7-4a08-b653-93f051efb3a5",
   "metadata": {},
   "outputs": [],
   "source": [
    "elemen_pertama = my_array[0]     # Mengakses elemen pertama (10)\n",
    "elemen_pertama"
   ]
  },
  {
   "cell_type": "code",
   "execution_count": null,
   "id": "f5bca0e7-99d7-42d2-b81f-746cce2d6c80",
   "metadata": {},
   "outputs": [],
   "source": [
    "elemen_ketiga = my_array[2]      # Mengakses elemen ketiga (30)\n",
    "elemen_ketiga"
   ]
  },
  {
   "cell_type": "code",
   "execution_count": null,
   "id": "a8adcd60-da0b-4164-9f19-1095bc0b15da",
   "metadata": {},
   "outputs": [],
   "source": [
    "elemen_terakhir = my_array[-1]   # Mengakses elemen terakhir (50)\n",
    "elemen_terakhir"
   ]
  },
  {
   "cell_type": "markdown",
   "id": "84b46de3-c7f6-4d0f-ba67-5ad65db12f92",
   "metadata": {},
   "source": [
    "## 2.3. Memanipulasi Elemen Array"
   ]
  },
  {
   "cell_type": "code",
   "execution_count": null,
   "id": "d3fc8955-e589-467e-936c-f4892307b864",
   "metadata": {
    "jp-MarkdownHeadingCollapsed": true
   },
   "outputs": [],
   "source": [
    "# Memodifikasi elemen-elemen array menggunakan indexing\r\n",
    "my_array[1] = 25   # Ubah elemen kedua menjad25my_array\n",
    "my_array "
   ]
  },
  {
   "cell_type": "code",
   "execution_count": null,
   "id": "3afefdeb-ba2b-45f2-81f8-4f5a2314711a",
   "metadata": {},
   "outputs": [],
   "source": [
    "# Menambahkan elemen ke dalam array menggunakan append()\r",
    "my_array.append(60)\n",
    "my_array"
   ]
  },
  {
   "cell_type": "code",
   "execution_count": null,
   "id": "c9e05b2e-d109-474f-b5f5-9c9306e1cffa",
   "metadata": {},
   "outputs": [],
   "source": [
    "# Menghapus elemen dari array menggunakan remove()\n",
    "my_array.remove(60)\n",
    "my_array"
   ]
  },
  {
   "cell_type": "code",
   "execution_count": null,
   "id": "7ce1ac84-d997-45f6-a5e4-abe6204d064d",
   "metadata": {},
   "outputs": [],
   "source": [
    "# Slicing untuk mendapatkan subset dari array\n",
    "subset_array = my_array[1:4]  # Dapatkan elemen dari indeks 1 hingga 3 (tidak termasusubset_arrayset)\n",
    "subset_array"
   ]
  },
  {
   "cell_type": "code",
   "execution_count": null,
   "id": "6485a84e-be89-4528-b2ad-16c1bcaf620c",
   "metadata": {},
   "outputs": [],
   "source": [
    "# Membalikkan array menggunakan slicing\n",
    "reversed_array = my_array[::-1]  # Balikkan seluruh array\n",
    "print(\"Array yang Dibalikkan:\", reversed_array)"
   ]
  },
  {
   "cell_type": "markdown",
   "id": "f6910d6d-1794-489e-a21c-655c1f870a34",
   "metadata": {},
   "source": [
    "# 3. Tuple\n",
    "\n",
    "Tuple mirip dengan list, tetapi tidak dapat diubah setelah dibuat (immutable).\n",
    "Mari kita jelajahi cara mengakses elemen-elemen tuple, sifat tak-berubah, menggabungkan tuple,\n",
    "membongkar tuple, dan menggunakan metode pada tuple."
   ]
  },
  {
   "cell_type": "markdown",
   "id": "5cfbe74e-42e5-4c54-93c4-dece816edf58",
   "metadata": {},
   "source": [
    "## 3.1. Mengakses Elemen Tuple"
   ]
  },
  {
   "cell_type": "markdown",
   "id": "9a3bf409-ef9f-47e9-81bf-4a6d1419aba5",
   "metadata": {},
   "source": [
    "### 3.1.1. Membuat tuple"
   ]
  },
  {
   "cell_type": "code",
   "execution_count": null,
   "id": "53ce2478-ccb2-439a-b4d3-63dab66d3cd2",
   "metadata": {},
   "outputs": [],
   "source": [
    "my_tuple = (10, 20, 30, 40, 50)\n",
    "my_tuple"
   ]
  },
  {
   "cell_type": "markdown",
   "id": "a26c031f-8723-4ade-b478-086e4ca1945e",
   "metadata": {},
   "source": [
    "### 3.1.2. Mengakses elemen-elemen tuple menggunakan indexing"
   ]
  },
  {
   "cell_type": "code",
   "execution_count": null,
   "id": "8de31477-0750-4c3d-9278-0dd4955f6e19",
   "metadata": {},
   "outputs": [],
   "source": [
    "elemen_pertama = my_tuple[0]     # Akses elemen pertama (10)\n",
    "elemen_ketiga = my_tuple[2]      # Akses elemen ketiga (30)\n",
    "elemen_terakhir = my_tuple[-1]   # Akses elemen terakhir (50)\n",
    "\n",
    "print(elemen_pertama)\n",
    "print(elemen_ketiga)\n",
    "print(elemen_terakhir)"
   ]
  },
  {
   "cell_type": "markdown",
   "id": "b891e24d-ae6c-45bc-a257-00dafe3f155b",
   "metadata": {},
   "source": [
    "## 3.2. Sifat Tak-berubah (Immutability)"
   ]
  },
  {
   "cell_type": "code",
   "execution_count": null,
   "id": "f5c8c49a-afc5-4dcc-a7c5-994e6be56768",
   "metadata": {},
   "outputs": [],
   "source": [
    "my_tuple[1] = 25  # Error: Tuple tidak dapat diubah\n",
    "my_tuple"
   ]
  },
  {
   "cell_type": "markdown",
   "id": "9f1219b3-6f7c-4b3b-985e-001d4f05948c",
   "metadata": {},
   "source": [
    "## 3.3. Menggabungkan Tuple"
   ]
  },
  {
   "cell_type": "markdown",
   "id": "19bc9589-797b-4aa5-bead-b89abf3e708e",
   "metadata": {},
   "source": [
    "### 3.3.1 Membuat tuple lain"
   ]
  },
  {
   "cell_type": "code",
   "execution_count": null,
   "id": "1fe06000-051f-4445-a65e-94858e5135d3",
   "metadata": {},
   "outputs": [],
   "source": [
    "another_tuple = (60, 70)\n",
    "another_tuple"
   ]
  },
  {
   "cell_type": "markdown",
   "id": "29f9d1e5-c79b-4a79-b472-ea0ccc7311e4",
   "metadata": {},
   "source": [
    "### 3.3.2 Menggabungkan tuple"
   ]
  },
  {
   "cell_type": "code",
   "execution_count": null,
   "id": "3618fcc1-1f2d-44ad-95cb-d10f8461b00a",
   "metadata": {},
   "outputs": [],
   "source": [
    "tuple_tergabung = my_tuple + another_tuple"
   ]
  },
  {
   "cell_type": "markdown",
   "id": "df431672-7f8c-40e8-9eb3-0a0691015f9a",
   "metadata": {},
   "source": [
    "## 3.4. Membongkar Tuple"
   ]
  },
  {
   "cell_type": "code",
   "execution_count": null,
   "id": "d5f14571-41b3-4573-a227-350155364d5e",
   "metadata": {},
   "outputs": [],
   "source": [
    "x, y, z, *sisanya = tuple_tergabung\n",
    "print(\"\\nMembongkar Tuple:\")\n",
    "print(\"x:\", x)\n",
    "print(\"y:\", y)\n",
    "print(\"z:\", z)\n",
    "print(\"Sisanya:\", sisanya)"
   ]
  },
  {
   "cell_type": "markdown",
   "id": "8ae2efe5-2a10-4ca2-8ff8-1b38ede59be9",
   "metadata": {},
   "source": [
    "## 3.5. Metode pada Tuple"
   ]
  },
  {
   "cell_type": "markdown",
   "id": "153f98e5-cadd-4cc9-9218-24f379d3e904",
   "metadata": {},
   "source": [
    "### 3.5.1. Menghitung kemunculan suatu elemen"
   ]
  },
  {
   "cell_type": "code",
   "execution_count": null,
   "id": "7443baa0-dce1-4431-a380-6e6a272bb9aa",
   "metadata": {},
   "outputs": [],
   "source": [
    "jumlah_20 = my_tuple.count(20)\n",
    "print(\"\\nMetode pada Tuple:\")\n",
    "print(\"Jumlah 20:\", jumlah_20)"
   ]
  },
  {
   "cell_type": "markdown",
   "id": "242268a3-ed73-4f71-8793-dd4f60ce7eb6",
   "metadata": {},
   "source": [
    "### 3.5.2. Menemukan indeks suatu elemen"
   ]
  },
  {
   "cell_type": "code",
   "execution_count": null,
   "id": "7c8edac3-f56d-4673-8d1b-fde481d50eaa",
   "metadata": {},
   "outputs": [],
   "source": [
    "indeks_40 = my_tuple.index(40)\n",
    "print(\"Indeks 40:\", indeks_40)"
   ]
  },
  {
   "cell_type": "markdown",
   "id": "b64e8e4a-4ee6-4621-a77c-2725e6b78a9f",
   "metadata": {},
   "source": [
    "# 4. List\n",
    "\n",
    "List adalah kumpulan terurut yang dapat menampung item dengan tipe yang berbeda.\n",
    "Mari kita jelajahi cara mengakses item-item dalam list, mengubah list, manipulasi list,\n",
    "serta menggunakan list sebagai tumpukan (stacks) dan antrian (queues)."
   ]
  },
  {
   "cell_type": "markdown",
   "id": "030c36f1-4bdb-4d5d-b06a-f5a0cf5e8fcc",
   "metadata": {},
   "source": [
    "## 4.1. Mengakses Item dalam List"
   ]
  },
  {
   "cell_type": "code",
   "execution_count": null,
   "id": "74dceb43-fb05-4956-acf4-5c309bcebec1",
   "metadata": {},
   "outputs": [],
   "source": [
    "my_list = [10, 20, 30, 40, 50]\n",
    "\n",
    "item_pertama = my_list[0]     # Akses item pertama (10)\n",
    "item_ketiga = my_list[2]      # Akses item ketiga (30)\n",
    "item_terakhir = my_list[-1]   # Akses item terakhir (50)\n",
    "\n",
    "print(\"Mengakses Item dalam List:\")\n",
    "print(\"Item Pertama:\", item_pertama)\n",
    "print(\"Item Ketiga:\", item_ketiga)\n",
    "print(\"Item Terakhir:\", item_terakhir)"
   ]
  },
  {
   "cell_type": "markdown",
   "id": "80959485-d25c-4f37-bca3-a76024b7d73c",
   "metadata": {},
   "source": [
    "## 4.2. Mengubah List"
   ]
  },
  {
   "cell_type": "code",
   "execution_count": null,
   "id": "6f1c97ef-1cbb-4639-9746-2967aa00896e",
   "metadata": {},
   "outputs": [],
   "source": [
    "my_list[1] = 25   # Ubah item kedua menjadi 25\n",
    "print(\"\\nMengubah List:\")\n",
    "print(\"List yang Dimodifikasi:\", my_list)"
   ]
  },
  {
   "cell_type": "markdown",
   "id": "8c525496-30c4-43e5-94fe-40ab63204ddd",
   "metadata": {},
   "source": [
    "## 4.3. Manipulasi List"
   ]
  },
  {
   "cell_type": "markdown",
   "id": "8163abca-d1e5-4ace-bc40-9801725ab817",
   "metadata": {},
   "source": [
    "### 4.3.1. Menambahkan item ke akhir list menggunakan append()"
   ]
  },
  {
   "cell_type": "code",
   "execution_count": null,
   "id": "5f820360-ec39-435e-96f3-b384d7182d5c",
   "metadata": {},
   "outputs": [],
   "source": [
    "my_list.append(60)  # Tambahkan 60 ke akhir list"
   ]
  },
  {
   "cell_type": "markdown",
   "id": "9259ad2e-3f05-43b4-a140-9a24cae11073",
   "metadata": {},
   "source": [
    "### 4.3.2. Menghapus item dari list menggunakan remove()"
   ]
  },
  {
   "cell_type": "code",
   "execution_count": null,
   "id": "c8f394a9-0b34-47a9-b2fb-efc8703ca1b1",
   "metadata": {},
   "outputs": [],
   "source": [
    "my_list.remove(30)  # Hapus item 30 dari list\n",
    "\n",
    "print(\"\\nManipulasi List:\")\n",
    "print(\"List yang Dimodifikasi:\", my_list)"
   ]
  },
  {
   "cell_type": "markdown",
   "id": "d27ed3aa-4ce1-4e50-b675-3e9fd967862b",
   "metadata": {},
   "source": [
    "## 4.4. Menggunakan List sebagai Stacks dan Queues"
   ]
  },
  {
   "cell_type": "markdown",
   "id": "e2afc299-df0d-492d-a00e-099ed0d15868",
   "metadata": {},
   "source": [
    "### 4.4.1. Menggunakan list sebagai tumpukan (Last In, First Out)"
   ]
  },
  {
   "cell_type": "code",
   "execution_count": null,
   "id": "7ea678ac-2c29-4895-a94b-a8adc53d8828",
   "metadata": {},
   "outputs": [],
   "source": [
    "stack = []\n",
    "stack.append(1)   # Masukkan 1 (Push 1)\n",
    "stack.append(2)   # Masukkan 2 (Push 2)\n",
    "stack.append(3)   # Masukkan 3 (Push 3)\n",
    "\n",
    "item_terambil = stack.pop()   # Ambil item paling atas (Pop 3)\n",
    "print(\"\\nTumpukan (Stack):\")\n",
    "print(\"Item yang Diambil:\", item_terambil)\n",
    "print(\"Tumpukan yang Tersisa:\", stack)"
   ]
  },
  {
   "cell_type": "markdown",
   "id": "1ebeb699-8ca7-45f1-8e31-a05ebe6a2a4a",
   "metadata": {},
   "source": [
    "### 4.4.2. Menggunakan list sebagai antrian (First In, First Out)"
   ]
  },
  {
   "cell_type": "code",
   "execution_count": null,
   "id": "ccbe89b3-30fa-4bf6-a6ce-1c8fa77f4165",
   "metadata": {},
   "outputs": [],
   "source": [
    "queue = []\n",
    "queue.append(1) # Masukkan 1 (Enqueue 1)\n",
    "queue.append(2) # Masukkan 2 (Enqueue 2)\n",
    "queue.append(3) # Masukkan 3 (Enqueue 3)\n",
    "\n",
    "item_keluar = queue.pop(0) # Keluarkan item depan (Dequeue 1)\n",
    "print(\"\\nAntrian (Queue):\")\n",
    "print(\"Item yang Dikeluarkan:\", item_keluar)\n",
    "print(\"Antrian yang Tersisa:\", queue)"
   ]
  },
  {
   "cell_type": "markdown",
   "id": "52a96109-1534-462b-af8e-014e4234acc7",
   "metadata": {},
   "source": [
    "# 5. Dictionaries\n",
    "\n",
    "Dictionaries adalah koleksi tidak terurut dari pasangan kunci-nilai.\n",
    "Mari kita jelajahi cara membuat dan mengakses dictionaries, mengubahnya,\n",
    "serta menggunakan metode-metode pada dictionaries."
   ]
  },
  {
   "cell_type": "markdown",
   "id": "a4f3f437-6f77-46bd-a6f0-dae97cbe33a5",
   "metadata": {},
   "source": [
    "## 5.1. Membuat dan Mengakses Dictionaries"
   ]
  },
  {
   "cell_type": "code",
   "execution_count": null,
   "id": "aec44c19-ba71-4752-be3d-9834e2d186e2",
   "metadata": {},
   "outputs": [],
   "source": [
    "my_dict = {\n",
    "    \"nama\": \"John\",\n",
    "    \"umur\": 30,\n",
    "    \"kota\": \"New York\"\n",
    "}\n",
    "\n",
    "nama = my_dict[\"nama\"]\n",
    "umur = my_dict[\"umur\"]\n",
    "kota = my_dict[\"kota\"]\n",
    "\n",
    "print(\"Mengakses Dictionaries:\")\n",
    "print(\"Nama:\", nama)\n",
    "print(\"Umur:\", umur)\n",
    "print(\"Kota:\", kota)"
   ]
  },
  {
   "cell_type": "markdown",
   "id": "1decc41d-ae26-433a-a78b-78647db34bdc",
   "metadata": {},
   "source": [
    "## 5.2. Mengubah Dictionaries"
   ]
  },
  {
   "cell_type": "code",
   "execution_count": null,
   "id": "4b071042-44b5-4309-8817-bb93de89d284",
   "metadata": {},
   "outputs": [],
   "source": [
    "my_dict[\"umur\"] = 31   # Ubah umur menjadi 31\n",
    "my_dict"
   ]
  },
  {
   "cell_type": "code",
   "execution_count": null,
   "id": "d1ca264b-69e5-4e2c-9ed5-ed4d9360dd9e",
   "metadata": {},
   "outputs": [],
   "source": [
    "# Mengubah nilai dengan menggunakan kuncinya\n",
    "my_dict['umur'] = 32\n",
    "my_dict"
   ]
  },
  {
   "cell_type": "code",
   "execution_count": null,
   "id": "b1933ed0-9f68-45d4-839c-c34d72c87900",
   "metadata": {},
   "outputs": [],
   "source": [
    "# Menambahkan pasangan kunci-nilai baru\n",
    "my_dict[\"negara\"] = \"USA\"\n",
    "\n",
    "print(\"\\nMengubah Dictionaries:\")\n",
    "print(my_dict)"
   ]
  },
  {
   "cell_type": "markdown",
   "id": "856b8beb-fdbd-4ae8-a969-269cc128f228",
   "metadata": {},
   "source": [
    "## 5.3. Dictionaries Methods"
   ]
  },
  {
   "cell_type": "code",
   "execution_count": null,
   "id": "0a1bdd3f-f5af-4f11-8212-db01f3b86d34",
   "metadata": {},
   "outputs": [],
   "source": [
    "# Mendapatkan semua kunci dengan menggunakan keys()\n",
    "kunci = my_dict.keys()\n",
    "kunci"
   ]
  },
  {
   "cell_type": "code",
   "execution_count": null,
   "id": "754a88cf-af73-4e52-84fb-74da95f26214",
   "metadata": {},
   "outputs": [],
   "source": [
    "# Mendapatkan semua nilai dengan menggunakan values()\n",
    "nilai = my_dict.values()\n",
    "nilai"
   ]
  },
  {
   "cell_type": "code",
   "execution_count": null,
   "id": "7f864294-1cc6-4f13-baa3-c3d8e9fc8c76",
   "metadata": {},
   "outputs": [],
   "source": [
    "# Mendapatkan pasangan kunci-nilai dengan menggunakan items()\n",
    "pasangan = my_dict.items()\n",
    "\n",
    "print(\"\\nMetode-Metode pada Dictionaries:\")\n",
    "print(\"Kunci:\", kunci)\n",
    "print(\"Nilai:\", nilai)\n",
    "print(\"Pasangan:\", pasangan)"
   ]
  },
  {
   "cell_type": "markdown",
   "id": "cd02314b-82f4-4952-88fb-d81312dfea73",
   "metadata": {},
   "source": [
    "# 6. Sets\n",
    "\n",
    "Sets adalah koleksi tidak terurut dari elemen-elemen unik.\n",
    "Mari kita jelajahi cara membuat set, operasi pada set, dan menggunakan metode-metode set."
   ]
  },
  {
   "cell_type": "markdown",
   "id": "237786de-9ed9-4203-bccf-9af27864fcb9",
   "metadata": {},
   "source": [
    "## 6.1. Membuat Sets"
   ]
  },
  {
   "cell_type": "code",
   "execution_count": null,
   "id": "fe4d52c6-966f-4022-9c78-70f2df7eeb33",
   "metadata": {},
   "outputs": [],
   "source": [
    "# Membuat Sets\n",
    "my_set = {10, 20, 30, 40, 50}\n",
    "my_set"
   ]
  },
  {
   "cell_type": "code",
   "execution_count": null,
   "id": "e3f3c9f2-5ff0-4dd0-8313-48ffa5b2f5c6",
   "metadata": {},
   "outputs": [],
   "source": [
    "# Menambahkan elemen ke dalam set menggunakan add()\n",
    "my_set.add(60)  # Tambahkan 60 ke dalam set\n",
    "\n",
    "print(\"Membuat Sets:\")\n",
    "print(\"Set Awal:\", my_set)"
   ]
  },
  {
   "cell_type": "markdown",
   "id": "72e72292-2859-4a00-ad04-c69b376ba2d1",
   "metadata": {},
   "source": [
    "## 6.2. Operasi pada Set"
   ]
  },
  {
   "cell_type": "code",
   "execution_count": null,
   "id": "300affaa-acd3-4b52-a4dc-aae21c7b1f67",
   "metadata": {},
   "outputs": [],
   "source": [
    "# Memeriksa keanggotaan menggunakan in\n",
    "ada = 30 in my_set  # Periksa apakah 30 ada dalam set\n",
    "tidak_ada = 70 in my_set   # Periksa apakah 70 tidak ada dalam set\n",
    "\n",
    "print(\"\\nOperasi pada Set:\")\n",
    "print(\"Apakah 30 ada dalam set?\", ada)\n",
    "print(\"Apakah 70 tidak ada dalam set?\", tidak_ada)"
   ]
  },
  {
   "cell_type": "code",
   "execution_count": null,
   "id": "a1087180-a342-4b77-b381-368bd4b7c774",
   "metadata": {},
   "outputs": [],
   "source": [
    "# Menghapus elemen menggunakan remove()\n",
    "my_set.remove(30)  # Hapus 30 dari dalam set\n",
    "\n",
    "print(\"Set yang Dimodifikasi setelah Penghapusan:\", my_set)"
   ]
  },
  {
   "cell_type": "markdown",
   "id": "11c3b72b-faf6-48d0-8085-ca6d719a1ec3",
   "metadata": {},
   "source": [
    "## 6.3. Metode-Metode Set"
   ]
  },
  {
   "cell_type": "code",
   "execution_count": null,
   "id": "6a5e90d1-750e-4ccf-adb3-2d66aba50cef",
   "metadata": {},
   "outputs": [],
   "source": [
    "# Membuat set lain\n",
    "another_set = {40, 50, 60, 70, 80}\n",
    "another_set"
   ]
  },
  {
   "cell_type": "code",
   "execution_count": null,
   "id": "515d5347-36a6-41d7-9068-f836c72eb29e",
   "metadata": {},
   "outputs": [],
   "source": [
    "# Gabungan set menggunakan union()\n",
    "hasil_gabungan = my_set.union(another_set)\n",
    "hasil_gabungan"
   ]
  },
  {
   "cell_type": "code",
   "execution_count": null,
   "id": "03dc112c-d216-43ae-8756-11bc7a80a03b",
   "metadata": {},
   "outputs": [],
   "source": [
    "# Irisan set menggunakan intersection()\n",
    "hasil_irisan = my_set.intersection(another_set)\n",
    "hasil_irisan"
   ]
  },
  {
   "cell_type": "code",
   "execution_count": null,
   "id": "cd2746e1-36ed-4684-b2cf-b4246173c39e",
   "metadata": {},
   "outputs": [],
   "source": [
    "# Perbedaan set menggunakan difference()\n",
    "hasil_perbedaan = my_set.difference(another_set)\n",
    "hasil_perbedaan"
   ]
  }
 ],
 "metadata": {
  "kernelspec": {
   "display_name": "Python 3 (ipykernel)",
   "language": "python",
   "name": "python3"
  },
  "language_info": {
   "codemirror_mode": {
    "name": "ipython",
    "version": 3
   },
   "file_extension": ".py",
   "mimetype": "text/x-python",
   "name": "python",
   "nbconvert_exporter": "python",
   "pygments_lexer": "ipython3",
   "version": "3.9.0"
  }
 },
 "nbformat": 4,
 "nbformat_minor": 5
}
