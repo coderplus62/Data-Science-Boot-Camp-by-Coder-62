{
 "cells": [
  {
   "cell_type": "markdown",
   "id": "6eb89e8f-b8b0-41da-afc9-6e314ea1b37f",
   "metadata": {},
   "source": [
    "# Konsep Indexing dan Slicing dalam List Python\r\n",
    "\r\n",
    "## Indexing\r\n",
    "\r\n",
    "Indexing merujuk pada pengaksesan elemen-elemen individual dari suatu urutan (seperti sebuah list) menggunakan posisi mereka. Di dalam Python, indexing dimulai dari nol, yang berarti elemen pertama memiliki indeks 0.\r\n",
    "\r\n",
    "Mari kita pertimbangkan lrikut:ist be"
   ]
  },
  {
   "cell_type": "code",
   "execution_count": 6,
   "id": "7d7bae4c-77f3-4d16-8fd5-967ae91cdd4e",
   "metadata": {},
   "outputs": [],
   "source": [
    "my_list = [10, 20, 30,  50]"
   ]
  },
  {
   "cell_type": "markdown",
   "id": "0e231846-5e35-4ef1-9d58-19bc278160f1",
   "metadata": {},
   "source": [
    "Untuk mengakses elemen dengan menggunakan ndiexing"
   ]
  },
  {
   "cell_type": "code",
   "execution_count": 7,
   "id": "6637aea0-0d1e-4698-a9db-5b0614a2c0f1",
   "metadata": {},
   "outputs": [
    {
     "data": {
      "text/plain": [
       "10"
      ]
     },
     "execution_count": 7,
     "metadata": {},
     "output_type": "execute_result"
    }
   ],
   "source": [
    "my_list[0] # memberikan elemen peama (10)"
   ]
  },
  {
   "cell_type": "code",
   "execution_count": 8,
   "id": "bb4c5ce9-b78f-4825-9e7d-7457423b4936",
   "metadata": {},
   "outputs": [
    {
     "data": {
      "text/plain": [
       "30"
      ]
     },
     "execution_count": 8,
     "metadata": {},
     "output_type": "execute_result"
    }
   ],
   "source": [
    "my_list[2] # memberikan elemen tiga (30)"
   ]
  },
  {
   "cell_type": "code",
   "execution_count": 10,
   "id": "fa71d19a-30c4-43d4-9c81-df405a5f7401",
   "metadata": {},
   "outputs": [
    {
     "data": {
      "text/plain": [
       "50"
      ]
     },
     "execution_count": 10,
     "metadata": {},
     "output_type": "execute_result"
    }
   ],
   "source": [
    "my_list[-1] # memberikan elemen terakhir (50)."
   ]
  },
  {
   "cell_type": "markdown",
   "id": "d9e77832-1af7-4185-9b16-1d3d0a9de1f5",
   "metadata": {},
   "source": [
    "\n",
    "## Slicing\r\n",
    "Slicing memungkinkan Anda untuk mengekstrak sebagian dari suatu urutan menggunakan rentang indeks. Sintaks untuk slicing adalah start:stop:step, di mana start adalah indeks awal, stop adalah indeks akhir (eksklusif), dan step adalah selisih antara elemen-elemen.\r\n",
    "\r\n",
    "Menggunakan my_list ysama:ang "
   ]
  },
  {
   "cell_type": "code",
   "execution_count": 12,
   "id": "c0013c9b-721b-4b94-9e3f-bf9c362ee4de",
   "metadata": {},
   "outputs": [],
   "source": [
    "my_list = [10, 20, 30, 40, 50]"
   ]
  },
  {
   "cell_type": "markdown",
   "id": "ef8b3a73-7682-4838-b298-d0a4d4944aef",
   "metadata": {},
   "source": [
    "\n",
    "Untuk melakukan slicing pada lit:s"
   ]
  },
  {
   "cell_type": "code",
   "execution_count": 13,
   "id": "4fb30667-f984-40dd-b57e-b186bdf7f8b6",
   "metadata": {},
   "outputs": [
    {
     "data": {
      "text/plain": [
       "[20, 30, 40]"
      ]
     },
     "execution_count": 13,
     "metadata": {},
     "output_type": "execute_result"
    }
   ],
   "source": [
    "my_list[1:4] # memberikan [20, 30, 40]"
   ]
  },
  {
   "cell_type": "code",
   "execution_count": 14,
   "id": "a174e268-a8d1-4f3a-a103-11642229906f",
   "metadata": {},
   "outputs": [
    {
     "data": {
      "text/plain": [
       "[10, 20, 30]"
      ]
     },
     "execution_count": 14,
     "metadata": {},
     "output_type": "execute_result"
    }
   ],
   "source": [
    "my_list[:3] # memberikan [10, 20, 30]"
   ]
  },
  {
   "cell_type": "code",
   "execution_count": 15,
   "id": "4a781162-7e2c-462d-8f56-14172c4f62e0",
   "metadata": {},
   "outputs": [
    {
     "data": {
      "text/plain": [
       "[10, 30, 50]"
      ]
     },
     "execution_count": 15,
     "metadata": {},
     "output_type": "execute_result"
    }
   ],
   "source": [
    "my_list[::2] # memberikan [10, 30, 50]."
   ]
  },
  {
   "cell_type": "markdown",
   "id": "f5f28d2f-2d07-46fd-8e7e-833aa003d7d9",
   "metadata": {},
   "source": [
    "\r\n",
    "## Representasi Visual\r\n",
    "Berikut adalah representasi visual dari indexing dan slicing pada sebuah list:\r\n",
    "<img src='https://linuxize.com/post/python-reverse-string/indexing_hu43ea4943040bf9b9ce883917fa8006be_16327_768x0_resize_lanczos_3.png'>"
   ]
  }
 ],
 "metadata": {
  "kernelspec": {
   "display_name": "Python 3 (ipykernel)",
   "language": "python",
   "name": "python3"
  },
  "language_info": {
   "codemirror_mode": {
    "name": "ipython",
    "version": 3
   },
   "file_extension": ".py",
   "mimetype": "text/x-python",
   "name": "python",
   "nbconvert_exporter": "python",
   "pygments_lexer": "ipython3",
   "version": "3.9.17"
  }
 },
 "nbformat": 4,
 "nbformat_minor": 5
}
