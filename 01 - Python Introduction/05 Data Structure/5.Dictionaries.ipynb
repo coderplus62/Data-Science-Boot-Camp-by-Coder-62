{
 "cells": [
  {
   "cell_type": "markdown",
   "id": "ab06069f-9cd2-40a0-a8c0-53befb4f332d",
   "metadata": {},
   "source": [
    "# Penjelasan tentang Dictionaries dalam Python\n",
    "\n",
    "Dictionaries adalah koleksi tidak terurut dari pasangan kunci-nilai.\n",
    "Mari kita jelajahi cara membuat dan mengakses dictionaries, mengubahnya,\n",
    "serta menggunakan metode-metode pada dictionaries."
   ]
  },
  {
   "cell_type": "markdown",
   "id": "77b5d6c2-7399-4aa5-a5a9-e0d035b19ce2",
   "metadata": {},
   "source": [
    "# 1. Membuat dan Mengakses Dictionaries"
   ]
  },
  {
   "cell_type": "markdown",
   "id": "d5af31ff-05f7-4ff9-ad2e-b5f543d173c3",
   "metadata": {},
   "source": [
    "## Membuat dictionary"
   ]
  },
  {
   "cell_type": "code",
   "execution_count": 2,
   "id": "9c9a8a75-a569-4de8-bd9d-90264b29b886",
   "metadata": {},
   "outputs": [],
   "source": [
    "my_dict = {\n",
    "    \"nama\": \"John\",\n",
    "    \"umur\": 30,\n",
    "    \"kota\": \"New York\"\n",
    "}"
   ]
  },
  {
   "cell_type": "markdown",
   "id": "1ed6cc84-9033-43a0-b15e-2ad938a4c6c8",
   "metadata": {},
   "source": [
    "## Mengakses nilai dalam dictionary menggunakan kunci"
   ]
  },
  {
   "cell_type": "code",
   "execution_count": 3,
   "id": "8ed3cc06-5a7a-4b85-861e-848df9707ce5",
   "metadata": {},
   "outputs": [
    {
     "name": "stdout",
     "output_type": "stream",
     "text": [
      "Mengakses Dictionaries:\n",
      "Nama: John\n",
      "Umur: 30\n",
      "Kota: New York\n"
     ]
    }
   ],
   "source": [
    "nama = my_dict[\"nama\"]\n",
    "umur = my_dict[\"umur\"]\n",
    "kota = my_dict[\"kota\"]\n",
    "\n",
    "print(\"Mengakses Dictionaries:\")\n",
    "print(\"Nama:\", nama)\n",
    "print(\"Umur:\", umur)\n",
    "print(\"Kota:\", kota)"
   ]
  },
  {
   "cell_type": "markdown",
   "id": "687b124f-f235-4aac-a7e7-6be945672efd",
   "metadata": {},
   "source": [
    "# 2. Mengubah Dictionaries"
   ]
  },
  {
   "cell_type": "markdown",
   "id": "4daf9618-dd3a-4404-b51e-005c2aa0af8a",
   "metadata": {},
   "source": [
    "## Mengubah nilai dengan menggunakan kuncinya"
   ]
  },
  {
   "cell_type": "code",
   "execution_count": 5,
   "id": "7c4d4ce7-2a38-4484-a4d4-12ba1699f996",
   "metadata": {},
   "outputs": [
    {
     "data": {
      "text/plain": [
       "{'nama': 'John', 'umur': 31, 'kota': 'New York'}"
      ]
     },
     "execution_count": 5,
     "metadata": {},
     "output_type": "execute_result"
    }
   ],
   "source": [
    "my_dict[\"umur\"] = 31   # Ubah umur menjadi 31\n",
    "my_dict"
   ]
  },
  {
   "cell_type": "markdown",
   "id": "0b1d880e-7f16-4bcb-920a-ae6d6f64d295",
   "metadata": {},
   "source": [
    "## Menambahkan pasangan kunci-nilai baru"
   ]
  },
  {
   "cell_type": "code",
   "execution_count": 6,
   "id": "c4847cef-d1c3-4d7e-9f6d-43255c96a6f2",
   "metadata": {},
   "outputs": [
    {
     "name": "stdout",
     "output_type": "stream",
     "text": [
      "\n",
      "Mengubah Dictionaries:\n",
      "Dictionary yang Dimodifikasi: {'nama': 'John', 'umur': 31, 'kota': 'New York', 'negara': 'USA'}\n"
     ]
    }
   ],
   "source": [
    "my_dict[\"negara\"] = \"USA\"\n",
    "\n",
    "print(\"\\nMengubah Dictionaries:\")\n",
    "print(\"Dictionary yang Dimodifikasi:\", my_dict)"
   ]
  },
  {
   "cell_type": "markdown",
   "id": "d4897e4a-1e85-4b0d-8363-9367cec79d12",
   "metadata": {},
   "source": [
    "# 3. Metode-Metode pada Dictionaries"
   ]
  },
  {
   "cell_type": "markdown",
   "id": "2dbbbab1-dedf-46fb-9710-25f05bb7a929",
   "metadata": {},
   "source": [
    "## Mendapatkan semua kunci dengan menggunakan keys()"
   ]
  },
  {
   "cell_type": "code",
   "execution_count": 7,
   "id": "6b34608d-e040-442f-817b-6388c4baf34d",
   "metadata": {},
   "outputs": [
    {
     "data": {
      "text/plain": [
       "dict_keys(['nama', 'umur', 'kota', 'negara'])"
      ]
     },
     "execution_count": 7,
     "metadata": {},
     "output_type": "execute_result"
    }
   ],
   "source": [
    "kunci = my_dict.keys()\n",
    "kunci"
   ]
  },
  {
   "cell_type": "markdown",
   "id": "4487d989-f7c1-4a41-9a0b-2e34c80a786a",
   "metadata": {},
   "source": [
    "## Mendapatkan semua nilai dengan menggunakan values()"
   ]
  },
  {
   "cell_type": "code",
   "execution_count": 8,
   "id": "307fa687-2990-44fe-9b8d-57bd5d151aff",
   "metadata": {},
   "outputs": [
    {
     "data": {
      "text/plain": [
       "dict_values(['John', 31, 'New York', 'USA'])"
      ]
     },
     "execution_count": 8,
     "metadata": {},
     "output_type": "execute_result"
    }
   ],
   "source": [
    "nilai = my_dict.values()\n",
    "nilai"
   ]
  },
  {
   "cell_type": "markdown",
   "id": "a452534d-922b-493d-b73c-15671bb5ba01",
   "metadata": {},
   "source": [
    "# Mendapatkan pasangan kunci-nilai dengan menggunakan items()"
   ]
  },
  {
   "cell_type": "code",
   "execution_count": 9,
   "id": "f35ce622-0796-4562-839c-d7690e036143",
   "metadata": {},
   "outputs": [
    {
     "name": "stdout",
     "output_type": "stream",
     "text": [
      "\n",
      "Metode-Metode pada Dictionaries:\n",
      "Kunci: dict_keys(['nama', 'umur', 'kota', 'negara'])\n",
      "Nilai: dict_values(['John', 31, 'New York', 'USA'])\n",
      "Pasangan: dict_items([('nama', 'John'), ('umur', 31), ('kota', 'New York'), ('negara', 'USA')])\n"
     ]
    }
   ],
   "source": [
    "pasangan = my_dict.items()\n",
    "\n",
    "print(\"\\nMetode-Metode pada Dictionaries:\")\n",
    "print(\"Kunci:\", kunci)\n",
    "print(\"Nilai:\", nilai)\n",
    "print(\"Pasangan:\", pasangan)"
   ]
  }
 ],
 "metadata": {
  "kernelspec": {
   "display_name": "Python 3 (ipykernel)",
   "language": "python",
   "name": "python3"
  },
  "language_info": {
   "codemirror_mode": {
    "name": "ipython",
    "version": 3
   },
   "file_extension": ".py",
   "mimetype": "text/x-python",
   "name": "python",
   "nbconvert_exporter": "python",
   "pygments_lexer": "ipython3",
   "version": "3.9.17"
  }
 },
 "nbformat": 4,
 "nbformat_minor": 5
}
