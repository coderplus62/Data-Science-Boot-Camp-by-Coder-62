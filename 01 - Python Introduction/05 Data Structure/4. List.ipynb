{
 "cells": [
  {
   "cell_type": "markdown",
   "id": "9c59e317-d713-495a-99f9-05a01b5c2119",
   "metadata": {},
   "source": [
    "# Penjelasan tentang List dalam Python\n",
    "\n",
    "List adalah kumpulan terurut yang dapat menampung item dengan tipe yang berbeda.\n",
    "Mari kita jelajahi cara mengakses item-item dalam list, mengubah list, manipulasi list,\n",
    "serta menggunakan list sebagai tumpukan (stacks) dan antrian (queues)."
   ]
  },
  {
   "cell_type": "markdown",
   "id": "be7a9539-7be2-426d-80dc-2f9cba583bf1",
   "metadata": {},
   "source": [
    "# 1. Mengakses Item dalam List"
   ]
  },
  {
   "cell_type": "markdown",
   "id": "3a78fec5-fdc5-4376-9add-f9aadd0f5b38",
   "metadata": {},
   "source": [
    "## Membuat list"
   ]
  },
  {
   "cell_type": "code",
   "execution_count": 2,
   "id": "ab2fde63-3f07-440b-ad09-f0f07ae1022a",
   "metadata": {},
   "outputs": [],
   "source": [
    "my_list = [10, 20, 30, 40, 50]"
   ]
  },
  {
   "cell_type": "markdown",
   "id": "9768df64-0c23-4d54-bbf3-939b5f4bbfee",
   "metadata": {},
   "source": [
    "## Mengakses item dalam list menggunakan indexing"
   ]
  },
  {
   "cell_type": "code",
   "execution_count": 3,
   "id": "af923e78-bd66-4f12-a4f4-a3e7e525df16",
   "metadata": {},
   "outputs": [
    {
     "name": "stdout",
     "output_type": "stream",
     "text": [
      "Mengakses Item dalam List:\n",
      "Item Pertama: 10\n",
      "Item Ketiga: 30\n",
      "Item Terakhir: 50\n"
     ]
    }
   ],
   "source": [
    "item_pertama = my_list[0]     # Akses item pertama (10)\n",
    "item_ketiga = my_list[2]      # Akses item ketiga (30)\n",
    "item_terakhir = my_list[-1]   # Akses item terakhir (50)\n",
    "\n",
    "print(\"Mengakses Item dalam List:\")\n",
    "print(\"Item Pertama:\", item_pertama)\n",
    "print(\"Item Ketiga:\", item_ketiga)\n",
    "print(\"Item Terakhir:\", item_terakhir)"
   ]
  },
  {
   "cell_type": "markdown",
   "id": "3018ee70-78b7-43aa-a184-ba27033324a5",
   "metadata": {},
   "source": [
    "# 2. Mengubah List"
   ]
  },
  {
   "cell_type": "markdown",
   "id": "73e57fb9-59d5-4bf3-a3d1-0bde5dad561c",
   "metadata": {},
   "source": [
    "## Memodifikasi item dalam list menggunakan indexing"
   ]
  },
  {
   "cell_type": "code",
   "execution_count": 4,
   "id": "0a73fae4-e1e1-4672-8be0-681da97e86df",
   "metadata": {},
   "outputs": [
    {
     "name": "stdout",
     "output_type": "stream",
     "text": [
      "\n",
      "Mengubah List:\n",
      "List yang Dimodifikasi: [10, 25, 30, 40, 50]\n"
     ]
    }
   ],
   "source": [
    "my_list[1] = 25   # Ubah item kedua menjadi 25\n",
    "print(\"\\nMengubah List:\")\n",
    "print(\"List yang Dimodifikasi:\", my_list)"
   ]
  },
  {
   "cell_type": "markdown",
   "id": "51790534-0106-4fb8-a0a6-35d3a294b2c3",
   "metadata": {},
   "source": [
    "# 3. Manipulasi List"
   ]
  },
  {
   "cell_type": "markdown",
   "id": "fb18f208-2399-4277-9973-e88b30b2e573",
   "metadata": {},
   "source": [
    "# Menambahkan item ke akhir list menggunakan append()"
   ]
  },
  {
   "cell_type": "code",
   "execution_count": 5,
   "id": "965921e7-2266-4eaf-b7a3-283dacacbe4f",
   "metadata": {},
   "outputs": [],
   "source": [
    "my_list.append(60)  # Tambahkan 60 ke akhir list"
   ]
  },
  {
   "cell_type": "markdown",
   "id": "901c7b7c-eba2-4c1a-90ce-04737c3c6bd4",
   "metadata": {},
   "source": [
    "# Menghapus item dari list menggunakan remove()"
   ]
  },
  {
   "cell_type": "code",
   "execution_count": 6,
   "id": "ec2a6f51-14d8-4228-bc22-26b3c86e76ba",
   "metadata": {},
   "outputs": [
    {
     "name": "stdout",
     "output_type": "stream",
     "text": [
      "\n",
      "Manipulasi List:\n",
      "List yang Dimodifikasi: [10, 25, 40, 50, 60]\n"
     ]
    }
   ],
   "source": [
    "my_list.remove(30)  # Hapus item 30 dari list\n",
    "\n",
    "print(\"\\nManipulasi List:\")\n",
    "print(\"List yang Dimodifikasi:\", my_list)"
   ]
  },
  {
   "cell_type": "markdown",
   "id": "f03c945d-8b73-4e83-93a7-6e5c0d7a889a",
   "metadata": {},
   "source": [
    "# 4. Menggunakan List sebagai Stacks dan Queues"
   ]
  },
  {
   "cell_type": "markdown",
   "id": "5c1a70ae-9493-48ef-881d-e117355cb2d8",
   "metadata": {},
   "source": [
    "# Menggunakan list sebagai tumpukan (Last In, First Out)"
   ]
  },
  {
   "cell_type": "code",
   "execution_count": 7,
   "id": "896ba6af-dd3b-42fb-9290-343db60579a3",
   "metadata": {},
   "outputs": [
    {
     "name": "stdout",
     "output_type": "stream",
     "text": [
      "\n",
      "Tumpukan (Stack):\n",
      "Item yang Diambil: 3\n",
      "Tumpukan yang Tersisa: [1, 2]\n"
     ]
    }
   ],
   "source": [
    "stack = []\n",
    "stack.append(1)   # Masukkan 1 (Push 1)\n",
    "stack.append(2)   # Masukkan 2 (Push 2)\n",
    "stack.append(3)   # Masukkan 3 (Push 3)\n",
    "\n",
    "item_terambil = stack.pop()   # Ambil item paling atas (Pop 3)\n",
    "print(\"\\nTumpukan (Stack):\")\n",
    "print(\"Item yang Diambil:\", item_terambil)\n",
    "print(\"Tumpukan yang Tersisa:\", stack)"
   ]
  },
  {
   "cell_type": "markdown",
   "id": "9efc420f-1715-481e-949d-0398766e8f54",
   "metadata": {},
   "source": [
    "# Menggunakan list sebagai antrian (First In, First Out)"
   ]
  },
  {
   "cell_type": "code",
   "execution_count": 8,
   "id": "d05225cd-364f-4305-aeba-8878520f47db",
   "metadata": {},
   "outputs": [
    {
     "name": "stdout",
     "output_type": "stream",
     "text": [
      "\n",
      "Antrian (Queue):\n",
      "Item yang Dikeluarkan: 1\n",
      "Antrian yang Tersisa: [2, 3]\n"
     ]
    }
   ],
   "source": [
    "queue = []\n",
    "queue.append(1) # Masukkan 1 (Enqueue 1)\n",
    "queue.append(2) # Masukkan 2 (Enqueue 2)\n",
    "queue.append(3) # Masukkan 3 (Enqueue 3)\n",
    "\n",
    "item_keluar = queue.pop(0) # Keluarkan item depan (Dequeue 1)\n",
    "print(\"\\nAntrian (Queue):\")\n",
    "print(\"Item yang Dikeluarkan:\", item_keluar)\n",
    "print(\"Antrian yang Tersisa:\", queue)"
   ]
  }
 ],
 "metadata": {
  "kernelspec": {
   "display_name": "Python 3 (ipykernel)",
   "language": "python",
   "name": "python3"
  },
  "language_info": {
   "codemirror_mode": {
    "name": "ipython",
    "version": 3
   },
   "file_extension": ".py",
   "mimetype": "text/x-python",
   "name": "python",
   "nbconvert_exporter": "python",
   "pygments_lexer": "ipython3",
   "version": "3.9.17"
  }
 },
 "nbformat": 4,
 "nbformat_minor": 5
}
