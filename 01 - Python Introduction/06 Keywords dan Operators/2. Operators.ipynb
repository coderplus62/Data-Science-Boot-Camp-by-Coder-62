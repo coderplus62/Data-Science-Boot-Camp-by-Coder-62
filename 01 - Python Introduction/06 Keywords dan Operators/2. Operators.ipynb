{
 "cells": [
  {
   "cell_type": "markdown",
   "id": "bd6abb29-cd4d-485b-a5e8-f19455899d6d",
   "metadata": {},
   "source": [
    "# Penjelasan tentang Operator dalam Python\n",
    "\n",
    "Operator melakukan berbagai operasi pada nilai dan variabel.\n",
    "Mari kita jelajahi operator aritmatika, perbandingan, logika, bitwise, pemberian nilai,\n",
    "operator keanggotaan, operator identitas, dan urutan operator."
   ]
  },
  {
   "cell_type": "markdown",
   "id": "5d08f333-3b5e-48f0-a7f2-ddb49cdd02ff",
   "metadata": {},
   "source": [
    "# 1. Operator Aritmatika"
   ]
  },
  {
   "cell_type": "code",
   "execution_count": 1,
   "id": "bfcba4c4-3be6-4794-bd3f-f11996b74ad2",
   "metadata": {},
   "outputs": [],
   "source": [
    "x = 10\n",
    "y = 3"
   ]
  },
  {
   "cell_type": "markdown",
   "id": "f15affb0-83ea-4d52-84ce-9ae47d14f23b",
   "metadata": {},
   "source": [
    "## Penambahan"
   ]
  },
  {
   "cell_type": "code",
   "execution_count": 2,
   "id": "43d4991c-feb6-49f3-beb2-9ad99fa2cb0b",
   "metadata": {},
   "outputs": [],
   "source": [
    "penambahan = x + y"
   ]
  },
  {
   "cell_type": "markdown",
   "id": "77bb2cf6-d1ac-4d58-ac20-de94a484d6ee",
   "metadata": {},
   "source": [
    "## Pengurangan"
   ]
  },
  {
   "cell_type": "code",
   "execution_count": 3,
   "id": "db6f384a-4673-47df-a472-2effda650af5",
   "metadata": {},
   "outputs": [],
   "source": [
    "pengurangan = x - y"
   ]
  },
  {
   "cell_type": "markdown",
   "id": "5adb2503-9c32-443f-9ce1-c13f3410bc18",
   "metadata": {},
   "source": [
    "## Perkalian"
   ]
  },
  {
   "cell_type": "code",
   "execution_count": 4,
   "id": "e78704c0-26b2-4cd4-a145-fa735bfd4d34",
   "metadata": {},
   "outputs": [],
   "source": [
    "perkalian = x * y"
   ]
  },
  {
   "cell_type": "markdown",
   "id": "b3fcfbd4-da1f-4790-bccc-879caae34465",
   "metadata": {},
   "source": [
    "## Pembagian"
   ]
  },
  {
   "cell_type": "code",
   "execution_count": 5,
   "id": "7b42784e-04c5-4a47-9fc4-d22ca31a26fa",
   "metadata": {},
   "outputs": [],
   "source": [
    "pembagian = x / y"
   ]
  },
  {
   "cell_type": "markdown",
   "id": "7e4ac8fa-2dee-4c7d-8d04-045fd5467048",
   "metadata": {},
   "source": [
    "## Pembagian Lantai"
   ]
  },
  {
   "cell_type": "code",
   "execution_count": 6,
   "id": "59626af6-2465-44f1-bc0b-d38bb0f618b3",
   "metadata": {},
   "outputs": [],
   "source": [
    "pembagian_lantai = x // y"
   ]
  },
  {
   "cell_type": "markdown",
   "id": "10dac1b5-a48e-4da5-bf15-db1d63dc9a5e",
   "metadata": {},
   "source": [
    "## Modulus"
   ]
  },
  {
   "cell_type": "code",
   "execution_count": 7,
   "id": "d48e0241-b9aa-4a5d-b1b9-d6cbc75cddae",
   "metadata": {},
   "outputs": [],
   "source": [
    "modulus = x % y"
   ]
  },
  {
   "cell_type": "markdown",
   "id": "d976f4be-7feb-470d-87ee-662bd20b2b5a",
   "metadata": {},
   "source": [
    "## Eksponensiasi"
   ]
  },
  {
   "cell_type": "code",
   "execution_count": 8,
   "id": "bb3c87e9-1fd0-46ac-86af-12bda5794dea",
   "metadata": {},
   "outputs": [],
   "source": [
    "eksponensiasi = x ** y"
   ]
  },
  {
   "cell_type": "markdown",
   "id": "2b064148-3a13-48ee-a1ad-17a8ef3d45c7",
   "metadata": {},
   "source": [
    "# 2. Operator Perbandingan"
   ]
  },
  {
   "cell_type": "code",
   "execution_count": 9,
   "id": "39e74cd4-d466-47c0-a132-466c1453326d",
   "metadata": {},
   "outputs": [],
   "source": [
    "a = 5\n",
    "b = 7"
   ]
  },
  {
   "cell_type": "markdown",
   "id": "3db2cb4d-e664-4069-9946-6b07205432ab",
   "metadata": {},
   "source": [
    "## Sama dengan"
   ]
  },
  {
   "cell_type": "code",
   "execution_count": 10,
   "id": "a2ae9483-754f-4069-b4bc-e9007d962714",
   "metadata": {},
   "outputs": [],
   "source": [
    "sama_dengan = a == b"
   ]
  },
  {
   "cell_type": "markdown",
   "id": "fddd568e-58e4-4545-b998-6774af59fbb8",
   "metadata": {},
   "source": [
    "## Tidak sama dengan"
   ]
  },
  {
   "cell_type": "code",
   "execution_count": 11,
   "id": "c817a450-05e7-4ee2-9903-e9ac6b922222",
   "metadata": {},
   "outputs": [],
   "source": [
    "tidak_sama_dengan = a != b"
   ]
  },
  {
   "cell_type": "markdown",
   "id": "e45991d6-3386-4abe-9833-cac7eeaeeb17",
   "metadata": {},
   "source": [
    "## Lebih besar dari"
   ]
  },
  {
   "cell_type": "code",
   "execution_count": 12,
   "id": "f549f5b9-2aa4-4cd9-8ad5-2ef7ca0cf743",
   "metadata": {},
   "outputs": [],
   "source": [
    "lebih_besar_dari = a > b"
   ]
  },
  {
   "cell_type": "markdown",
   "id": "0977bf54-3839-48e3-851a-2b36f85ca943",
   "metadata": {},
   "source": [
    "## Lebih kecil dari"
   ]
  },
  {
   "cell_type": "code",
   "execution_count": 13,
   "id": "47801323-278b-44b9-9d4a-b099d89bf07c",
   "metadata": {},
   "outputs": [],
   "source": [
    "lebih_kecil_dari = a < b"
   ]
  },
  {
   "cell_type": "markdown",
   "id": "437d5cc5-8565-4c93-b5cd-8d249f641586",
   "metadata": {},
   "source": [
    "## Lebih besar dari atau sama dengan"
   ]
  },
  {
   "cell_type": "code",
   "execution_count": 14,
   "id": "d86c45f7-2cdf-4e1b-98d0-703655ddf364",
   "metadata": {},
   "outputs": [],
   "source": [
    "lebih_besar_sama_dengan = a >= b"
   ]
  },
  {
   "cell_type": "markdown",
   "id": "7e789fb7-f681-4c2f-ba70-27bcbc063951",
   "metadata": {},
   "source": [
    "## Lebih kecil dari atau sama dengan"
   ]
  },
  {
   "cell_type": "code",
   "execution_count": 15,
   "id": "b87da089-3a4d-43bc-9b9b-6d41e4d98d2d",
   "metadata": {},
   "outputs": [],
   "source": [
    "lebih_kecil_sama_dengan = a <= b"
   ]
  },
  {
   "cell_type": "markdown",
   "id": "0bf531b1-fd0b-4926-bb43-b7a5d4d94247",
   "metadata": {},
   "source": [
    "# 3. Operator Logika"
   ]
  },
  {
   "cell_type": "code",
   "execution_count": 16,
   "id": "acb6cb76-12b2-4f94-919d-2e0f4f328fa1",
   "metadata": {},
   "outputs": [],
   "source": [
    "p = True\n",
    "q = False"
   ]
  },
  {
   "cell_type": "markdown",
   "id": "d8b070d1-412c-4695-86d4-e2577aa37130",
   "metadata": {},
   "source": [
    "## Logika AND"
   ]
  },
  {
   "cell_type": "code",
   "execution_count": 17,
   "id": "4a2477ac-28e5-468f-871a-5f705c0b4449",
   "metadata": {},
   "outputs": [],
   "source": [
    "logika_and = p and q"
   ]
  },
  {
   "cell_type": "markdown",
   "id": "71e15a8e-e3e1-488a-8a46-ec74b4ab9d69",
   "metadata": {},
   "source": [
    "## Logika OR"
   ]
  },
  {
   "cell_type": "code",
   "execution_count": 18,
   "id": "2859ed10-aa3f-48cb-8608-639e809d4f3e",
   "metadata": {},
   "outputs": [],
   "source": [
    "logika_or = p or q"
   ]
  },
  {
   "cell_type": "markdown",
   "id": "2c5eeb3d-858c-4bb5-aee4-28e23d686d0b",
   "metadata": {},
   "source": [
    "## Logika NOT"
   ]
  },
  {
   "cell_type": "code",
   "execution_count": 19,
   "id": "6bbe98f5-10a2-499c-8f4e-12f76cbe5788",
   "metadata": {},
   "outputs": [],
   "source": [
    "logika_not_p = not p\n",
    "logika_not_q = not q"
   ]
  },
  {
   "cell_type": "markdown",
   "id": "df713752-2166-4a1d-84fe-393d02b2934c",
   "metadata": {},
   "source": [
    "# 4. Operator Bitwise"
   ]
  },
  {
   "cell_type": "code",
   "execution_count": 20,
   "id": "e2dedef6-5524-4f11-ae33-d97e1f773329",
   "metadata": {},
   "outputs": [],
   "source": [
    "x = 5\n",
    "y = 3"
   ]
  },
  {
   "cell_type": "markdown",
   "id": "4e547ae7-87c8-471b-80d8-b62640afbcde",
   "metadata": {},
   "source": [
    "## Bitwise AND"
   ]
  },
  {
   "cell_type": "code",
   "execution_count": 21,
   "id": "809219a0-4dce-43b9-b72c-2563038d7bca",
   "metadata": {},
   "outputs": [],
   "source": [
    "bitwise_and = x & y"
   ]
  },
  {
   "cell_type": "markdown",
   "id": "729a6b17-a40b-4b6e-933c-867affb389c4",
   "metadata": {},
   "source": [
    "## Bitwise OR"
   ]
  },
  {
   "cell_type": "code",
   "execution_count": 22,
   "id": "aad54831-1906-48d4-b1dc-69d435f99634",
   "metadata": {},
   "outputs": [],
   "source": [
    "bitwise_or = x | y"
   ]
  },
  {
   "cell_type": "markdown",
   "id": "bd73d455-c682-4176-b90c-031b871da525",
   "metadata": {},
   "source": [
    "## Bitwise XOR"
   ]
  },
  {
   "cell_type": "code",
   "execution_count": 23,
   "id": "2cda2525-d8e6-4107-8bf9-b205c51ac163",
   "metadata": {},
   "outputs": [],
   "source": [
    "bitwise_xor = x ^ y"
   ]
  },
  {
   "cell_type": "markdown",
   "id": "6423c953-5418-44cf-9e5c-b1723bc2ea8f",
   "metadata": {},
   "source": [
    "## Bitwise NOT"
   ]
  },
  {
   "cell_type": "code",
   "execution_count": 24,
   "id": "3a531316-96aa-4e87-9ade-cf2b63a99efe",
   "metadata": {},
   "outputs": [],
   "source": [
    "bitwise_not_x = ~x"
   ]
  },
  {
   "cell_type": "markdown",
   "id": "f7f4fddd-3605-408c-b46b-7e3d73e9f249",
   "metadata": {},
   "source": [
    "## Left Shift"
   ]
  },
  {
   "cell_type": "code",
   "execution_count": 25,
   "id": "68b5d791-083a-41c8-acd9-02b6f00083a3",
   "metadata": {},
   "outputs": [],
   "source": [
    "left_shift = x << y"
   ]
  },
  {
   "cell_type": "markdown",
   "id": "5872cbee-9890-4128-a9e9-b64e5b3a8cd9",
   "metadata": {},
   "source": [
    "## Right Shift"
   ]
  },
  {
   "cell_type": "code",
   "execution_count": 26,
   "id": "bf83806f-4e53-49d0-bb6b-05c0297d40e2",
   "metadata": {},
   "outputs": [],
   "source": [
    "right_shift = x >> y"
   ]
  },
  {
   "cell_type": "markdown",
   "id": "7c68a7d8-6c41-4a38-9111-c8ef8e34cf1d",
   "metadata": {},
   "source": [
    "# 5. Operator Pemberian Nilai"
   ]
  },
  {
   "cell_type": "code",
   "execution_count": 27,
   "id": "baf43feb-5507-459d-905c-f2a9c8221956",
   "metadata": {},
   "outputs": [],
   "source": [
    "a = 10"
   ]
  },
  {
   "cell_type": "markdown",
   "id": "3886ddb1-e039-477b-9753-b95b992c9ea9",
   "metadata": {},
   "source": [
    "## Memberikan"
   ]
  },
  {
   "cell_type": "code",
   "execution_count": 28,
   "id": "ff3b5dd4-69d8-4164-ab33-53bde88e40c6",
   "metadata": {},
   "outputs": [],
   "source": [
    "memberikan = a"
   ]
  },
  {
   "cell_type": "markdown",
   "id": "87beb937-0148-4bca-97b1-ec24f8a4fc04",
   "metadata": {},
   "source": [
    "## Menambah dan Memberikan"
   ]
  },
  {
   "cell_type": "code",
   "execution_count": 29,
   "id": "956c2d65-b625-42ba-9204-f34915820846",
   "metadata": {},
   "outputs": [],
   "source": [
    "tambah_dan_memberikan = a\n",
    "tambah_dan_memberikan += 5"
   ]
  },
  {
   "cell_type": "markdown",
   "id": "e66cd919-bb74-4d72-9251-1a97560d2a31",
   "metadata": {},
   "source": [
    "## Mengurangkan dan Memberikan"
   ]
  },
  {
   "cell_type": "code",
   "execution_count": 30,
   "id": "c1ae4b13-5d8e-448d-8751-338990027ec1",
   "metadata": {},
   "outputs": [],
   "source": [
    "kurang_dan_memberikan = a\n",
    "kurang_dan_memberikan -= 3"
   ]
  },
  {
   "cell_type": "markdown",
   "id": "6949c378-7711-4117-b42d-aced2fe81863",
   "metadata": {},
   "source": [
    "## Mengalikan dan Memberikan"
   ]
  },
  {
   "cell_type": "code",
   "execution_count": 31,
   "id": "5893920a-b3dc-40d5-a7cc-56fd4990283d",
   "metadata": {},
   "outputs": [],
   "source": [
    "kali_dan_memberikan = a\n",
    "kali_dan_memberikan *= 2"
   ]
  },
  {
   "cell_type": "markdown",
   "id": "b3ba1459-4a75-4ea2-8f86-1a45a9584ed1",
   "metadata": {},
   "source": [
    "## Membagi dan Memberikan"
   ]
  },
  {
   "cell_type": "code",
   "execution_count": 32,
   "id": "c0757eb2-93fa-49bc-aa38-21bc48225f5e",
   "metadata": {},
   "outputs": [],
   "source": [
    "bagi_dan_memberikan = a\n",
    "bagi_dan_memberikan /= 4"
   ]
  },
  {
   "cell_type": "markdown",
   "id": "02fa52e8-0313-458c-96cd-5021db9b60c1",
   "metadata": {},
   "source": [
    "# 6. Operator Keanggotaan"
   ]
  },
  {
   "cell_type": "code",
   "execution_count": 33,
   "id": "0a535895-40e3-40cf-b65c-17d310209819",
   "metadata": {},
   "outputs": [],
   "source": [
    "my_list = [1, 2, 3, 4, 5]"
   ]
  },
  {
   "cell_type": "markdown",
   "id": "c837d4c4-fecc-447e-9230-93ca742ea15a",
   "metadata": {},
   "source": [
    "## Keanggotaan - 'in'"
   ]
  },
  {
   "cell_type": "code",
   "execution_count": 34,
   "id": "9dfbe318-c2ab-472b-8dbf-5bfe94d24e5d",
   "metadata": {},
   "outputs": [],
   "source": [
    "keanggotaan_in = 3 in my_list"
   ]
  },
  {
   "cell_type": "markdown",
   "id": "175756ee-8dd7-448f-a26d-f87174360221",
   "metadata": {},
   "source": [
    "## Keanggotaan - 'not in'"
   ]
  },
  {
   "cell_type": "code",
   "execution_count": 35,
   "id": "9de6d70a-9692-4e2c-b69f-c85e09f5762b",
   "metadata": {},
   "outputs": [],
   "source": [
    "keanggotaan_not_in = 6 not in my_list"
   ]
  },
  {
   "cell_type": "markdown",
   "id": "1837aed3-1e9b-45c1-974d-a6ccd7906726",
   "metadata": {},
   "source": [
    "# 7. Operator Identitas"
   ]
  },
  {
   "cell_type": "code",
   "execution_count": 36,
   "id": "d83aef78-e0fb-4929-bd77-9cd997be518e",
   "metadata": {},
   "outputs": [],
   "source": [
    "x = 5\n",
    "y = 5"
   ]
  },
  {
   "cell_type": "markdown",
   "id": "19625f08-b138-422b-9128-b2461e1e29f9",
   "metadata": {},
   "source": [
    "## Identitas - 'is'"
   ]
  },
  {
   "cell_type": "code",
   "execution_count": 37,
   "id": "0f3d62be-fcd5-4108-bf4d-2e7a80bc0f4a",
   "metadata": {},
   "outputs": [],
   "source": [
    "identitas_is = x is y"
   ]
  },
  {
   "cell_type": "markdown",
   "id": "9da16cd0-d671-4356-91af-69492940d2c7",
   "metadata": {},
   "source": [
    "## Identitas - 'is not'"
   ]
  },
  {
   "cell_type": "code",
   "execution_count": 38,
   "id": "d4844a08-5925-4cec-95f5-a4019f54b587",
   "metadata": {},
   "outputs": [
    {
     "name": "stdout",
     "output_type": "stream",
     "text": [
      "\n",
      "Operator Identitas:\n",
      "Identitas adalah: True\n",
      "Identitas bukan: False\n"
     ]
    }
   ],
   "source": [
    "identitas_is_not = x is not y\n",
    "\n",
    "print(\"\\nOperator Identitas:\")\n",
    "print(\"Identitas adalah:\", identitas_is)\n",
    "print(\"Identitas bukan:\", identitas_is_not)"
   ]
  },
  {
   "cell_type": "markdown",
   "id": "8856bc74-cd19-4b6f-9383-4b27afe14be0",
   "metadata": {},
   "source": [
    "# 8. Urutan Operator"
   ]
  },
  {
   "cell_type": "markdown",
   "id": "1beae61c-f229-425c-ba0a-f4421600b730",
   "metadata": {},
   "source": [
    "## Urutan operator: Eksponensiasi > Perkalian > Penambahan"
   ]
  },
  {
   "cell_type": "code",
   "execution_count": 39,
   "id": "da1cab99-557e-4500-a1e5-b30a4165fc25",
   "metadata": {},
   "outputs": [
    {
     "name": "stdout",
     "output_type": "stream",
     "text": [
      "\n",
      "Urutan Operator:\n",
      "Hasil: 22\n"
     ]
    }
   ],
   "source": [
    "hasil = 10 + 3 * 2 ** 2  \n",
    "\n",
    "print(\"\\nUrutan Operator:\")\n",
    "print(\"Hasil:\", hasil)"
   ]
  }
 ],
 "metadata": {
  "kernelspec": {
   "display_name": "Python 3 (ipykernel)",
   "language": "python",
   "name": "python3"
  },
  "language_info": {
   "codemirror_mode": {
    "name": "ipython",
    "version": 3
   },
   "file_extension": ".py",
   "mimetype": "text/x-python",
   "name": "python",
   "nbconvert_exporter": "python",
   "pygments_lexer": "ipython3",
   "version": "3.9.17"
  }
 },
 "nbformat": 4,
 "nbformat_minor": 5
}
