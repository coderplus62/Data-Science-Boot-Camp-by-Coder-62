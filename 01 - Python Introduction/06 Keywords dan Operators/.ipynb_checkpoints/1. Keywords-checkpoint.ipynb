{
 "cells": [
  {
   "cell_type": "markdown",
   "id": "c433590d-f9d7-4341-8515-c1a5cbecd5e7",
   "metadata": {},
   "source": [
    "# Penjelasan tentang Kata Kunci (Keywords) dalam Python\n",
    "\n",
    "Keywords adalah kata-kata yang sudah dipesan dengan makna khusus dalam Python.\n",
    "Mari kita jelajahi beberapa kata kunci umum dalam Python dan penggunaannya."
   ]
  },
  {
   "cell_type": "markdown",
   "id": "7c532d31-6e84-46b5-ad31-f9d84483755d",
   "metadata": {},
   "source": [
    "# Mendefinisikan sebuah fungsi menggunakan kata kunci 'def'"
   ]
  },
  {
   "cell_type": "code",
   "execution_count": 1,
   "id": "650f8409-76ba-4395-ab03-23e8efa8ed74",
   "metadata": {},
   "outputs": [],
   "source": [
    "def fungsi_saya():\n",
    "    return \"Halo, Dunia!\""
   ]
  },
  {
   "cell_type": "markdown",
   "id": "fec3d6f0-72f7-468e-940b-793d90fd821d",
   "metadata": {},
   "source": [
    "# Pernyataan 'if' untuk memeriksa suatu kondisi"
   ]
  },
  {
   "cell_type": "code",
   "execution_count": 2,
   "id": "f5473ebf-1044-4ffe-843f-8e754ebbfbb1",
   "metadata": {},
   "outputs": [
    {
     "name": "stdout",
     "output_type": "stream",
     "text": [
      "x lebih besar dari 5\n"
     ]
    }
   ],
   "source": [
    "x = 10\n",
    "if x > 5:\n",
    "    print(\"x lebih besar dari 5\")"
   ]
  },
  {
   "cell_type": "markdown",
   "id": "c31f1094-0304-4bb5-bd08-aceb7b21f729",
   "metadata": {},
   "source": [
    "# Perulangan 'for' untuk mengulang melalui sebuah urutan"
   ]
  },
  {
   "cell_type": "code",
   "execution_count": 3,
   "id": "16c7eaa1-aca7-43e4-8fc3-32853aef8fbe",
   "metadata": {},
   "outputs": [
    {
     "name": "stdout",
     "output_type": "stream",
     "text": [
      "1\n",
      "2\n",
      "3\n",
      "4\n",
      "5\n"
     ]
    }
   ],
   "source": [
    "my_list = [1, 2, 3, 4, 5]\n",
    "for item in my_list:\n",
    "    print(item)"
   ]
  },
  {
   "cell_type": "markdown",
   "id": "a13e1304-29c9-4caf-aa39-8a59bbc641ed",
   "metadata": {},
   "source": [
    "# Perulangan 'while' untuk menjalankan kode secara berulang"
   ]
  },
  {
   "cell_type": "code",
   "execution_count": 4,
   "id": "7b335124-a099-4f50-8fa4-8c04295edce4",
   "metadata": {},
   "outputs": [
    {
     "name": "stdout",
     "output_type": "stream",
     "text": [
      "Hitung: 0\n",
      "Hitung: 1\n",
      "Hitung: 2\n",
      "Hitung: 3\n",
      "Hitung: 4\n"
     ]
    }
   ],
   "source": [
    "hitung = 0\n",
    "while hitung < 5:\n",
    "    print(\"Hitung:\", hitung)\n",
    "    hitung += 1"
   ]
  },
  {
   "cell_type": "markdown",
   "id": "a9bb4ab8-f64c-4494-b88e-85f04cb576e6",
   "metadata": {},
   "source": [
    "# 'break' dan 'continue' untuk mengontrol alur perulangan"
   ]
  },
  {
   "cell_type": "code",
   "execution_count": 5,
   "id": "a7abe852-a9ab-4ff1-82e9-d543905f7cbc",
   "metadata": {},
   "outputs": [
    {
     "name": "stdout",
     "output_type": "stream",
     "text": [
      "0\n",
      "1\n",
      "2\n",
      "4\n"
     ]
    }
   ],
   "source": [
    "for i in range(10):\n",
    "    if i == 5:\n",
    "        break  # Keluar dari perulangan saat i adalah 5\n",
    "    elif i == 3:\n",
    "        continue  # Lewati iterasi saat i adalah 3\n",
    "    print(i)"
   ]
  },
  {
   "cell_type": "markdown",
   "id": "482cdafd-4b4d-44bd-a469-d8aeaac82ca3",
   "metadata": {},
   "source": [
    "# Pernyataan 'return' untuk keluar dari fungsi dan mengembalikan nilai"
   ]
  },
  {
   "cell_type": "code",
   "execution_count": 6,
   "id": "81beb633-7a66-41c6-a8b2-1de1fca2ce0b",
   "metadata": {},
   "outputs": [
    {
     "name": "stdout",
     "output_type": "stream",
     "text": [
      "Hasil: 7\n"
     ]
    }
   ],
   "source": [
    "def tambah_angka(a, b):\n",
    "    return a + b\n",
    "\n",
    "hasil = tambah_angka(3, 4)\n",
    "print(\"Hasil:\", hasil)"
   ]
  },
  {
   "cell_type": "markdown",
   "id": "728a0cbe-2934-495c-aa41-56a0a38bcd2c",
   "metadata": {},
   "source": [
    "# Kata kunci 'in' untuk pengujian keanggotaan"
   ]
  },
  {
   "cell_type": "code",
   "execution_count": 7,
   "id": "a2c4589d-0b4b-4a0a-8b7f-129beadb1c96",
   "metadata": {},
   "outputs": [
    {
     "name": "stdout",
     "output_type": "stream",
     "text": [
      "Huruf 'y' ada dalam string\n"
     ]
    }
   ],
   "source": [
    "my_string = \"Python\"\n",
    "if 'y' in my_string:\n",
    "    print(\"Huruf 'y' ada dalam string\")"
   ]
  },
  {
   "cell_type": "markdown",
   "id": "0290db28-bc8f-4249-a7b6-cb43ad7ce76d",
   "metadata": {},
   "source": [
    "# Kata kunci 'is' untuk pembandingan identitas objek"
   ]
  },
  {
   "cell_type": "code",
   "execution_count": 8,
   "id": "89d98615-4634-40c4-b190-33eaa31fb198",
   "metadata": {},
   "outputs": [
    {
     "name": "stdout",
     "output_type": "stream",
     "text": [
      "x dan y merujuk pada objek yang sama\n"
     ]
    }
   ],
   "source": [
    "x = [1, 2, 3]\n",
    "y = x\n",
    "if x is y:\n",
    "    print(\"x dan y merujuk pada objek yang sama\")"
   ]
  },
  {
   "cell_type": "markdown",
   "id": "5c7a4e79-fd4d-453b-9a36-06720c2160f9",
   "metadata": {},
   "source": [
    "# 'and', 'or', dan 'not' untuk operasi boolean"
   ]
  },
  {
   "cell_type": "code",
   "execution_count": 9,
   "id": "74866191-71e2-4e26-a22e-e93a80bd3fe2",
   "metadata": {},
   "outputs": [
    {
     "name": "stdout",
     "output_type": "stream",
     "text": [
      "a adalah True dan b adalah False\n"
     ]
    }
   ],
   "source": [
    "a = True\n",
    "b = False\n",
    "if a and not b:\n",
    "    print(\"a adalah True dan b adalah False\")"
   ]
  },
  {
   "cell_type": "markdown",
   "id": "24b8f8cf-e0b4-4ae9-b489-45b8d008532c",
   "metadata": {},
   "source": [
    "# Kata kunci 'None' untuk merepresentasikan ketiadaan nilai"
   ]
  },
  {
   "cell_type": "code",
   "execution_count": 10,
   "id": "033447d3-cd20-4622-b8b4-406666bebe96",
   "metadata": {},
   "outputs": [
    {
     "name": "stdout",
     "output_type": "stream",
     "text": [
      "Nilai adalah None\n"
     ]
    }
   ],
   "source": [
    "nilai = None\n",
    "if nilai is None:\n",
    "    print(\"Nilai adalah None\")"
   ]
  },
  {
   "cell_type": "markdown",
   "id": "cbe84a9e-f702-4a23-b209-32fa633c87bb",
   "metadata": {},
   "source": [
    "# Kata kunci 'assert' untuk asersi saat debugging"
   ]
  },
  {
   "cell_type": "code",
   "execution_count": 11,
   "id": "38cb2390-b92c-46fc-b9c1-947d2b10c2ee",
   "metadata": {},
   "outputs": [],
   "source": [
    "assert 5 > 2, \"Aseri gagal: 5 tidak lebih besar dari 2\""
   ]
  },
  {
   "cell_type": "markdown",
   "id": "61327ceb-da30-4f85-a248-2bb450044a12",
   "metadata": {},
   "source": [
    "# Kata kunci 'with' untuk pengelolaan konteks"
   ]
  },
  {
   "cell_type": "code",
   "execution_count": 15,
   "id": "c585e4ea-06b8-4722-9baf-e71e6269e6dd",
   "metadata": {},
   "outputs": [
    {
     "name": "stdout",
     "output_type": "stream",
     "text": [
      "Konten Berkas: Line1\n",
      "Line2\n",
      "Line3\n",
      "Line4\n"
     ]
    }
   ],
   "source": [
    "with open(\"file.txt\", \"r\") as berkas:\n",
    "    konten = berkas.read()\n",
    "    print(\"Konten Berkas:\", konten)"
   ]
  }
 ],
 "metadata": {
  "kernelspec": {
   "display_name": "Python 3 (ipykernel)",
   "language": "python",
   "name": "python3"
  },
  "language_info": {
   "codemirror_mode": {
    "name": "ipython",
    "version": 3
   },
   "file_extension": ".py",
   "mimetype": "text/x-python",
   "name": "python",
   "nbconvert_exporter": "python",
   "pygments_lexer": "ipython3",
   "version": "3.9.17"
  }
 },
 "nbformat": 4,
 "nbformat_minor": 5
}
