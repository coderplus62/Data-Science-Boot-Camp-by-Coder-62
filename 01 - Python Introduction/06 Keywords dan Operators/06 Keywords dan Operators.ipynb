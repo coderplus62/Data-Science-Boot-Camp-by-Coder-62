{
 "cells": [
  {
   "cell_type": "markdown",
   "id": "c433590d-f9d7-4341-8515-c1a5cbecd5e7",
   "metadata": {},
   "source": [
    "# 1. Keywords\n",
    "\n",
    "Keywords adalah kata-kata yang sudah dipesan dengan makna khusus dalam Python.\n",
    "Mari kita jelajahi beberapa kata kunci umum dalam Python dan penggunaannya."
   ]
  },
  {
   "cell_type": "markdown",
   "id": "7c532d31-6e84-46b5-ad31-f9d84483755d",
   "metadata": {},
   "source": [
    "## 1.1. 'def' untuk mendefinisikan sebuah fungsi menggunakan kata kunci "
   ]
  },
  {
   "cell_type": "code",
   "execution_count": 1,
   "id": "650f8409-76ba-4395-ab03-23e8efa8ed74",
   "metadata": {},
   "outputs": [],
   "source": [
    "def fungsi_saya():\n",
    "    return \"Halo, Dunia!\""
   ]
  },
  {
   "cell_type": "markdown",
   "id": "fec3d6f0-72f7-468e-940b-793d90fd821d",
   "metadata": {},
   "source": [
    "## 1.2. 'if' untuk memeriksa suatu kondisi"
   ]
  },
  {
   "cell_type": "code",
   "execution_count": 2,
   "id": "f5473ebf-1044-4ffe-843f-8e754ebbfbb1",
   "metadata": {},
   "outputs": [
    {
     "name": "stdout",
     "output_type": "stream",
     "text": [
      "x lebih besar dari 5\n"
     ]
    }
   ],
   "source": [
    "x = 10\n",
    "if x > 5:\n",
    "    print(\"x lebih besar dari 5\")"
   ]
  },
  {
   "cell_type": "markdown",
   "id": "c31f1094-0304-4bb5-bd08-aceb7b21f729",
   "metadata": {},
   "source": [
    "## 1.3. 'for' untuk mengulang melalui sebuah urutan"
   ]
  },
  {
   "cell_type": "code",
   "execution_count": 3,
   "id": "16c7eaa1-aca7-43e4-8fc3-32853aef8fbe",
   "metadata": {},
   "outputs": [
    {
     "name": "stdout",
     "output_type": "stream",
     "text": [
      "1\n",
      "2\n",
      "3\n",
      "4\n",
      "5\n"
     ]
    }
   ],
   "source": [
    "my_list = [1, 2, 3, 4, 5]\n",
    "for item in my_list:\n",
    "    print(item)"
   ]
  },
  {
   "cell_type": "markdown",
   "id": "a13e1304-29c9-4caf-aa39-8a59bbc641ed",
   "metadata": {},
   "source": [
    "## 1.4. 'while' untuk menjalankan kode secara berulang"
   ]
  },
  {
   "cell_type": "code",
   "execution_count": 4,
   "id": "7b335124-a099-4f50-8fa4-8c04295edce4",
   "metadata": {},
   "outputs": [
    {
     "name": "stdout",
     "output_type": "stream",
     "text": [
      "Hitung: 0\n",
      "Hitung: 1\n",
      "Hitung: 2\n",
      "Hitung: 3\n",
      "Hitung: 4\n"
     ]
    }
   ],
   "source": [
    "hitung = 0\n",
    "while hitung < 5:\n",
    "    print(\"Hitung:\", hitung)\n",
    "    hitung += 1"
   ]
  },
  {
   "cell_type": "markdown",
   "id": "a9bb4ab8-f64c-4494-b88e-85f04cb576e6",
   "metadata": {},
   "source": [
    "## 1.5. 'break' dan 'continue' untuk mengontrol alur perulangan"
   ]
  },
  {
   "cell_type": "code",
   "execution_count": 5,
   "id": "a7abe852-a9ab-4ff1-82e9-d543905f7cbc",
   "metadata": {},
   "outputs": [
    {
     "name": "stdout",
     "output_type": "stream",
     "text": [
      "0\n",
      "1\n",
      "2\n",
      "4\n"
     ]
    }
   ],
   "source": [
    "for i in range(10):\n",
    "    if i == 5:\n",
    "        break  # Keluar dari perulangan saat i adalah 5\n",
    "    elif i == 3:\n",
    "        continue  # Lewati iterasi saat i adalah 3\n",
    "    print(i)"
   ]
  },
  {
   "cell_type": "markdown",
   "id": "482cdafd-4b4d-44bd-a469-d8aeaac82ca3",
   "metadata": {},
   "source": [
    "## 1.6. 'return' untuk keluar dari fungsi dan mengembalikan nilai"
   ]
  },
  {
   "cell_type": "code",
   "execution_count": 6,
   "id": "81beb633-7a66-41c6-a8b2-1de1fca2ce0b",
   "metadata": {},
   "outputs": [
    {
     "name": "stdout",
     "output_type": "stream",
     "text": [
      "Hasil: 7\n"
     ]
    }
   ],
   "source": [
    "def tambah_angka(a, b):\n",
    "    return a + b\n",
    "\n",
    "hasil = tambah_angka(3, 4)\n",
    "print(\"Hasil:\", hasil)"
   ]
  },
  {
   "cell_type": "markdown",
   "id": "728a0cbe-2934-495c-aa41-56a0a38bcd2c",
   "metadata": {},
   "source": [
    "## 1.7. 'in' untuk pengujian keanggotaan"
   ]
  },
  {
   "cell_type": "code",
   "execution_count": 7,
   "id": "a2c4589d-0b4b-4a0a-8b7f-129beadb1c96",
   "metadata": {},
   "outputs": [
    {
     "name": "stdout",
     "output_type": "stream",
     "text": [
      "Huruf 'y' ada dalam string\n"
     ]
    }
   ],
   "source": [
    "my_string = \"Python\"\n",
    "if 'y' in my_string:\n",
    "    print(\"Huruf 'y' ada dalam string\")"
   ]
  },
  {
   "cell_type": "markdown",
   "id": "0290db28-bc8f-4249-a7b6-cb43ad7ce76d",
   "metadata": {},
   "source": [
    "## 1.8. 'is' untuk pembandingan identitas objek"
   ]
  },
  {
   "cell_type": "code",
   "execution_count": 8,
   "id": "89d98615-4634-40c4-b190-33eaa31fb198",
   "metadata": {},
   "outputs": [
    {
     "name": "stdout",
     "output_type": "stream",
     "text": [
      "x dan y merujuk pada objek yang sama\n"
     ]
    }
   ],
   "source": [
    "x = [1, 2, 3]\n",
    "y = x\n",
    "if x is y:\n",
    "    print(\"x dan y merujuk pada objek yang sama\")"
   ]
  },
  {
   "cell_type": "markdown",
   "id": "5c7a4e79-fd4d-453b-9a36-06720c2160f9",
   "metadata": {},
   "source": [
    "## 1.9. 'and', 'or', dan 'not' untuk operasi boolean"
   ]
  },
  {
   "cell_type": "code",
   "execution_count": 9,
   "id": "74866191-71e2-4e26-a22e-e93a80bd3fe2",
   "metadata": {},
   "outputs": [
    {
     "name": "stdout",
     "output_type": "stream",
     "text": [
      "a adalah True dan b adalah False\n"
     ]
    }
   ],
   "source": [
    "a = True\n",
    "b = False\n",
    "if a and not b:\n",
    "    print(\"a adalah True dan b adalah False\")"
   ]
  },
  {
   "cell_type": "markdown",
   "id": "24b8f8cf-e0b4-4ae9-b489-45b8d008532c",
   "metadata": {},
   "source": [
    "## 1.10. 'None' untuk merepresentasikan ketiadaan nilai"
   ]
  },
  {
   "cell_type": "code",
   "execution_count": 10,
   "id": "033447d3-cd20-4622-b8b4-406666bebe96",
   "metadata": {},
   "outputs": [
    {
     "name": "stdout",
     "output_type": "stream",
     "text": [
      "Nilai adalah None\n"
     ]
    }
   ],
   "source": [
    "nilai = None\n",
    "if nilai is None:\n",
    "    print(\"Nilai adalah None\")"
   ]
  },
  {
   "cell_type": "markdown",
   "id": "cbe84a9e-f702-4a23-b209-32fa633c87bb",
   "metadata": {},
   "source": [
    "## 1.11. 'assert' untuk asersi saat debugging"
   ]
  },
  {
   "cell_type": "code",
   "execution_count": 11,
   "id": "38cb2390-b92c-46fc-b9c1-947d2b10c2ee",
   "metadata": {},
   "outputs": [],
   "source": [
    "assert 5 > 2, \"Aseri gagal: 5 tidak lebih besar dari 2\""
   ]
  },
  {
   "cell_type": "markdown",
   "id": "61327ceb-da30-4f85-a248-2bb450044a12",
   "metadata": {},
   "source": [
    "## 1.12. 'with' untuk pengelolaan konteks"
   ]
  },
  {
   "cell_type": "code",
   "execution_count": 15,
   "id": "c585e4ea-06b8-4722-9baf-e71e6269e6dd",
   "metadata": {},
   "outputs": [
    {
     "name": "stdout",
     "output_type": "stream",
     "text": [
      "Konten Berkas: Line1\n",
      "Line2\n",
      "Line3\n",
      "Line4\n"
     ]
    }
   ],
   "source": [
    "with open(\"file.txt\", \"r\") as berkas:\n",
    "    konten = berkas.read()\n",
    "    print(\"Konten Berkas:\", konten)"
   ]
  },
  {
   "cell_type": "markdown",
   "id": "3e204362-7398-41a7-bcc0-908f5adcac67",
   "metadata": {},
   "source": [
    "# 2. Operator\n",
    "\n",
    "Operator melakukan berbagai operasi pada nilai dan variabel.\n",
    "Mari kita jelajahi operator aritmatika, perbandingan, logika, bitwise, pemberian nilai,\n",
    "operator keanggotaan, operator identitas, dan urutan operator."
   ]
  },
  {
   "cell_type": "markdown",
   "id": "f41e7622-bb27-44a6-b699-3d54bab7a3bb",
   "metadata": {},
   "source": [
    "## 2.1. Operator Aritmatika"
   ]
  },
  {
   "cell_type": "code",
   "execution_count": 1,
   "id": "fb54463e-37f9-4788-81a7-4dfdc8155130",
   "metadata": {},
   "outputs": [],
   "source": [
    "x = 10\n",
    "y = 3"
   ]
  },
  {
   "cell_type": "code",
   "execution_count": 2,
   "id": "dc52c2a5-0ed9-4c81-845c-10f0aba013f1",
   "metadata": {},
   "outputs": [],
   "source": [
    "penambahan = x + y"
   ]
  },
  {
   "cell_type": "code",
   "execution_count": 3,
   "id": "3a77bdb1-048f-4978-9cf9-28e586d14ed2",
   "metadata": {},
   "outputs": [],
   "source": [
    "pengurangan = x - y"
   ]
  },
  {
   "cell_type": "code",
   "execution_count": null,
   "id": "bbc8acaa-6011-4692-86fd-f8b08f53826e",
   "metadata": {},
   "outputs": [],
   "source": [
    "pengurangan = x - y"
   ]
  },
  {
   "cell_type": "code",
   "execution_count": 4,
   "id": "03b3e22f-73ef-4da5-b95a-ee3551703cb8",
   "metadata": {},
   "outputs": [],
   "source": [
    "perkalian = x * y"
   ]
  },
  {
   "cell_type": "code",
   "execution_count": 5,
   "id": "353ad83e-a584-4ccf-9910-4c4daba12584",
   "metadata": {},
   "outputs": [],
   "source": [
    "pembagian = x / y"
   ]
  },
  {
   "cell_type": "code",
   "execution_count": 6,
   "id": "356c9522-0abb-4347-8f61-6a10bbaf412b",
   "metadata": {},
   "outputs": [],
   "source": [
    "pembagian_floor = x // y"
   ]
  },
  {
   "cell_type": "code",
   "execution_count": 7,
   "id": "942b8684-3613-4da2-b503-707efa4d9760",
   "metadata": {},
   "outputs": [],
   "source": [
    "modulus = x % y"
   ]
  },
  {
   "cell_type": "code",
   "execution_count": 8,
   "id": "05157f28-a8b7-4493-a5c7-550587fd867d",
   "metadata": {},
   "outputs": [],
   "source": [
    "eksponensiasi = x ** y"
   ]
  },
  {
   "cell_type": "markdown",
   "id": "acde5600-88cb-40dc-8a14-1dd92f6eae53",
   "metadata": {},
   "source": [
    "## 2.2. Operator Perbandingan"
   ]
  },
  {
   "cell_type": "code",
   "execution_count": 9,
   "id": "8aa66bbc-e2d7-4474-a4f4-829ba2e3a390",
   "metadata": {},
   "outputs": [],
   "source": [
    "a = 5\n",
    "b = 7"
   ]
  },
  {
   "cell_type": "code",
   "execution_count": 10,
   "id": "079fca97-3a88-4b19-8409-f6a12dba8541",
   "metadata": {},
   "outputs": [],
   "source": [
    "sama_dengan = a == b"
   ]
  },
  {
   "cell_type": "code",
   "execution_count": 11,
   "id": "85288789-d3d5-4296-a4d4-a17b7c53f50a",
   "metadata": {},
   "outputs": [],
   "source": [
    "tidak_sama_dengan = a != b"
   ]
  },
  {
   "cell_type": "code",
   "execution_count": 12,
   "id": "475e33d0-1741-4fe4-a6c1-5c133aa2049c",
   "metadata": {},
   "outputs": [],
   "source": [
    "lebih_besar_dari = a > b"
   ]
  },
  {
   "cell_type": "code",
   "execution_count": 13,
   "id": "24fc1707-79b8-4909-9784-f0473c958764",
   "metadata": {},
   "outputs": [],
   "source": [
    "lebih_kecil_dari = a < b"
   ]
  },
  {
   "cell_type": "code",
   "execution_count": 14,
   "id": "047ff477-f2c5-488d-bb37-43725434549e",
   "metadata": {},
   "outputs": [],
   "source": [
    "lebih_besar_sama_dengan = a >= b"
   ]
  },
  {
   "cell_type": "code",
   "execution_count": 15,
   "id": "86f4dbb9-5ca1-4a0e-97c1-aa8b54933249",
   "metadata": {},
   "outputs": [],
   "source": [
    "lebih_kecil_sama_dengan = a <= b"
   ]
  },
  {
   "cell_type": "markdown",
   "id": "7a25046a-637c-4aa6-b66e-3e7d7fbac78c",
   "metadata": {},
   "source": [
    "## 2.3. Operator Logika"
   ]
  },
  {
   "cell_type": "code",
   "execution_count": 16,
   "id": "b947f694-3689-4147-b668-db9db4133c46",
   "metadata": {},
   "outputs": [],
   "source": [
    "p = True\n",
    "q = False"
   ]
  },
  {
   "cell_type": "code",
   "execution_count": 17,
   "id": "a5ca01cd-c0f1-4ef9-804e-5e7f7790cfc6",
   "metadata": {},
   "outputs": [],
   "source": [
    "logika_and = p and q"
   ]
  },
  {
   "cell_type": "code",
   "execution_count": 18,
   "id": "f17ea13a-b99b-4303-a950-05b56af45c76",
   "metadata": {},
   "outputs": [],
   "source": [
    "logika_or = p or q"
   ]
  },
  {
   "cell_type": "code",
   "execution_count": 19,
   "id": "c95ec510-8ced-408c-963d-6858ae55c58f",
   "metadata": {},
   "outputs": [],
   "source": [
    "logika_not_p = not p\n",
    "logika_not_q = not q"
   ]
  },
  {
   "cell_type": "markdown",
   "id": "3c32afd3-0829-49fd-8573-ac3aa0dea9e2",
   "metadata": {},
   "source": [
    "## 2.4. Operator Bitwise"
   ]
  },
  {
   "cell_type": "code",
   "execution_count": 20,
   "id": "9551b27a-923b-4302-be32-b6cb9893152f",
   "metadata": {},
   "outputs": [],
   "source": [
    "x = 5\n",
    "y = 3"
   ]
  },
  {
   "cell_type": "code",
   "execution_count": 21,
   "id": "8df7178c-7c3d-468e-86d5-1b0024c4651e",
   "metadata": {},
   "outputs": [],
   "source": [
    "bitwise_and = x & y"
   ]
  },
  {
   "cell_type": "code",
   "execution_count": 22,
   "id": "99189bbc-0333-47c7-b832-8b7643692bbd",
   "metadata": {},
   "outputs": [],
   "source": [
    "bitwise_or = x | y"
   ]
  },
  {
   "cell_type": "code",
   "execution_count": 23,
   "id": "013d3ebf-b0c9-43bd-8d85-71b87382d4cd",
   "metadata": {},
   "outputs": [],
   "source": [
    "bitwise_xor = x ^ y"
   ]
  },
  {
   "cell_type": "code",
   "execution_count": 24,
   "id": "2dd669c8-5575-4598-a448-b101b77e12e9",
   "metadata": {},
   "outputs": [],
   "source": [
    "bitwise_not_x = ~x"
   ]
  },
  {
   "cell_type": "code",
   "execution_count": 25,
   "id": "e2ae5509-703b-4352-bd27-606748f09d1f",
   "metadata": {},
   "outputs": [],
   "source": [
    "left_shift = x << y"
   ]
  },
  {
   "cell_type": "code",
   "execution_count": 26,
   "id": "025a8a7b-3372-4996-a1fb-e75f5d10d1a8",
   "metadata": {},
   "outputs": [],
   "source": [
    "right_shift = x >> y"
   ]
  },
  {
   "cell_type": "markdown",
   "id": "f46cec3c-c950-4135-af9a-578f8b797fc4",
   "metadata": {},
   "source": [
    "## 2.5. Operator Pemberian Nilai"
   ]
  },
  {
   "cell_type": "code",
   "execution_count": 27,
   "id": "fdeeb496-76c2-439a-add5-9b8c8014138c",
   "metadata": {},
   "outputs": [],
   "source": [
    "a = 10"
   ]
  },
  {
   "cell_type": "code",
   "execution_count": 28,
   "id": "f23a9fbd-db06-4c41-ac3e-a078857e79d5",
   "metadata": {},
   "outputs": [],
   "source": [
    "memberikan = a"
   ]
  },
  {
   "cell_type": "code",
   "execution_count": 29,
   "id": "82d4f0cf-90f3-4345-a6ec-d902986d9a3e",
   "metadata": {},
   "outputs": [],
   "source": [
    "tambah_dan_memberikan = a\n",
    "tambah_dan_memberikan += 5"
   ]
  },
  {
   "cell_type": "code",
   "execution_count": 30,
   "id": "2d63681e-bbbb-4e72-9d78-1bf617b01cfa",
   "metadata": {},
   "outputs": [],
   "source": [
    "kurang_dan_memberikan = a\n",
    "kurang_dan_memberikan -= 3"
   ]
  },
  {
   "cell_type": "code",
   "execution_count": 31,
   "id": "c0c27209-b52a-469c-a274-062eab628e15",
   "metadata": {},
   "outputs": [],
   "source": [
    "kali_dan_memberikan = a\n",
    "kali_dan_memberikan *= 2"
   ]
  },
  {
   "cell_type": "code",
   "execution_count": 32,
   "id": "f36fc7b9-93a3-4178-a8d4-7073e397620b",
   "metadata": {},
   "outputs": [],
   "source": [
    "bagi_dan_memberikan = a\n",
    "bagi_dan_memberikan /= 4"
   ]
  },
  {
   "cell_type": "markdown",
   "id": "cdca1045-b1fc-48c2-98fd-e53939c9bff1",
   "metadata": {},
   "source": [
    "## 2.6. Operator Keanggotaan"
   ]
  },
  {
   "cell_type": "code",
   "execution_count": 33,
   "id": "ac6ea49c-7102-4c1c-a65e-5a67f36b18a4",
   "metadata": {},
   "outputs": [],
   "source": [
    "my_list = [1, 2, 3, 4, 5]"
   ]
  },
  {
   "cell_type": "code",
   "execution_count": 34,
   "id": "579b8ced-5e79-42fd-8a5f-7da2babc79bf",
   "metadata": {},
   "outputs": [],
   "source": [
    "keanggotaan_in = 3 in my_list"
   ]
  },
  {
   "cell_type": "code",
   "execution_count": 35,
   "id": "ef52d3f5-e793-4195-9d33-0ce1420cef79",
   "metadata": {},
   "outputs": [],
   "source": [
    "keanggotaan_not_in = 6 not in my_list"
   ]
  },
  {
   "cell_type": "markdown",
   "id": "7a300ab1-6740-4623-a1f9-01f8284a1cbc",
   "metadata": {},
   "source": [
    "## 2.7. Operator Identitas"
   ]
  },
  {
   "cell_type": "code",
   "execution_count": 36,
   "id": "81d7a63c-8df5-42c6-97a5-b24ec7fd21c6",
   "metadata": {},
   "outputs": [],
   "source": [
    "x = 5\n",
    "y = 5"
   ]
  },
  {
   "cell_type": "code",
   "execution_count": 37,
   "id": "8c6411b2-0415-41f3-a7a4-97dd1756e98d",
   "metadata": {},
   "outputs": [],
   "source": [
    "identitas_is = x is y"
   ]
  },
  {
   "cell_type": "code",
   "execution_count": 38,
   "id": "a1534e9b-b990-4de7-ab86-71d6b49345fa",
   "metadata": {},
   "outputs": [
    {
     "name": "stdout",
     "output_type": "stream",
     "text": [
      "\n",
      "Operator Identitas:\n",
      "Identitas adalah: True\n",
      "Identitas bukan: False\n"
     ]
    }
   ],
   "source": [
    "identitas_is_not = x is not y\n",
    "\n",
    "print(\"\\nOperator Identitas:\")\n",
    "print(\"Identitas adalah:\", identitas_is)\n",
    "print(\"Identitas bukan:\", identitas_is_not)"
   ]
  },
  {
   "cell_type": "markdown",
   "id": "f8e87d8a-b4e6-4e5a-8cb4-7b299c717012",
   "metadata": {},
   "source": [
    "## 2.8. Urutan Operator"
   ]
  },
  {
   "cell_type": "markdown",
   "id": "0581ffaf-1152-46fb-9358-7412f38cd7c2",
   "metadata": {},
   "source": [
    "### Urutan operator: Eksponensiasi > Perkalian > Penambahan"
   ]
  },
  {
   "cell_type": "code",
   "execution_count": 39,
   "id": "6a18b8e7-fc8b-4ff6-a046-936508dcde8a",
   "metadata": {},
   "outputs": [
    {
     "name": "stdout",
     "output_type": "stream",
     "text": [
      "\n",
      "Urutan Operator:\n",
      "Hasil: 22\n"
     ]
    }
   ],
   "source": [
    "hasil = 10 + 3 * 2 ** 2  \n",
    "\n",
    "print(\"\\nUrutan Operator:\")\n",
    "print(\"Hasil:\", hasil)"
   ]
  }
 ],
 "metadata": {
  "kernelspec": {
   "display_name": "Python 3 (ipykernel)",
   "language": "python",
   "name": "python3"
  },
  "language_info": {
   "codemirror_mode": {
    "name": "ipython",
    "version": 3
   },
   "file_extension": ".py",
   "mimetype": "text/x-python",
   "name": "python",
   "nbconvert_exporter": "python",
   "pygments_lexer": "ipython3",
   "version": "3.9.0"
  }
 },
 "nbformat": 4,
 "nbformat_minor": 5
}
