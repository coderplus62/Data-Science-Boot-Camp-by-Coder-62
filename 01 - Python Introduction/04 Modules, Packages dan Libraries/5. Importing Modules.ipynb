{
 "cells": [
  {
   "cell_type": "markdown",
   "id": "4812c426-5bf4-4149-acde-1c91c01928b1",
   "metadata": {},
   "source": [
    "# 1. Pernyataan Impor\n",
    "Pernyataan impor memungkinkan kamu untuk mengimpor seluruh modul. Kamu dapat mengakses atribut-atribut modul dengan menggunakan nama modul sebagai awalan."
   ]
  },
  {
   "cell_type": "code",
   "execution_count": 1,
   "id": "b66f143d-8598-4bcd-8cb7-25af500ee70c",
   "metadata": {},
   "outputs": [
    {
     "name": "stdout",
     "output_type": "stream",
     "text": [
      "Nilai Pi: 3.141592653589793\n",
      "Akar Kuadrat dari 16: 4.0\n"
     ]
    }
   ],
   "source": [
    "import math\n",
    "\n",
    "# Menggunakan modul math\n",
    "print(\"Nilai Pi:\", math.pi)\n",
    "print(\"Akar Kuadrat dari 16:\", math.sqrt(16))"
   ]
  },
  {
   "cell_type": "markdown",
   "id": "5b17012e-9b48-4c42-a8b5-ddf1be917635",
   "metadata": {},
   "source": [
    "# 2. Impor Selektif\n",
    "Impor selektif memungkinkan Anda untuk mengimpor atribut-atribut tertentu dari suatu modul. Hal ini dapat mengurangi penggunaan memori dan membuat kode Anda lebih mudah dibaca."
   ]
  },
  {
   "cell_type": "code",
   "execution_count": 2,
   "id": "d035ef74-360a-4365-9251-a8a7121d3213",
   "metadata": {},
   "outputs": [
    {
     "name": "stdout",
     "output_type": "stream",
     "text": [
      "Bilangan Acak: 7\n"
     ]
    }
   ],
   "source": [
    "from random import randint\n",
    "\n",
    "# Menggunakan fungsi randint secara langsung\n",
    "bilangan_acak = randint(1, 10)\n",
    "print(\"Bilangan Acak:\", bilangan_acak)"
   ]
  },
  {
   "cell_type": "markdown",
   "id": "33814a3b-4c31-4803-a1da-a14a1b793fe0",
   "metadata": {},
   "source": [
    "# 3. Pencarian Modul\n",
    "Python mencari modul dalam direktori-direktori tertentu.\n",
    "Daftar sys.path menunjukkan direktori-direktori di mana Python mencari modul."
   ]
  },
  {
   "cell_type": "code",
   "execution_count": 3,
   "id": "2d96f4ae-2940-4349-822e-a933f877be53",
   "metadata": {},
   "outputs": [
    {
     "name": "stdout",
     "output_type": "stream",
     "text": [
      "Pencarian modul:\n",
      "C:\\Users\\Sastra\\OneDrive\\1. Projects\\Basic Python 3.x.x\\04 Modules, Packages and Libraries\n",
      "C:\\Users\\Sastra\\miniconda3\\envs\\coder+62\\python39.zip\n",
      "C:\\Users\\Sastra\\miniconda3\\envs\\coder+62\\DLLs\n",
      "C:\\Users\\Sastra\\miniconda3\\envs\\coder+62\\lib\n",
      "C:\\Users\\Sastra\\miniconda3\\envs\\coder+62\n",
      "\n",
      "C:\\Users\\Sastra\\miniconda3\\envs\\coder+62\\lib\\site-packages\n",
      "C:\\Users\\Sastra\\miniconda3\\envs\\coder+62\\lib\\site-packages\\win32\n",
      "C:\\Users\\Sastra\\miniconda3\\envs\\coder+62\\lib\\site-packages\\win32\\lib\n",
      "C:\\Users\\Sastra\\miniconda3\\envs\\coder+62\\lib\\site-packages\\Pythonwin\n"
     ]
    }
   ],
   "source": [
    "import sys\n",
    "\n",
    "print(\"Pencarian modul:\")\n",
    "for path in sys.path:\n",
    "    print(path)"
   ]
  },
  {
   "cell_type": "code",
   "execution_count": null,
   "id": "9800ffdd-71d5-4cea-9599-9d66937c88ef",
   "metadata": {},
   "outputs": [],
   "source": []
  }
 ],
 "metadata": {
  "kernelspec": {
   "display_name": "Python 3 (ipykernel)",
   "language": "python",
   "name": "python3"
  },
  "language_info": {
   "codemirror_mode": {
    "name": "ipython",
    "version": 3
   },
   "file_extension": ".py",
   "mimetype": "text/x-python",
   "name": "python",
   "nbconvert_exporter": "python",
   "pygments_lexer": "ipython3",
   "version": "3.9.17"
  }
 },
 "nbformat": 4,
 "nbformat_minor": 5
}
