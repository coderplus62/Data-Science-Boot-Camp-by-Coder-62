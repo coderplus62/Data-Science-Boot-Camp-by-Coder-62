{
 "cells": [
  {
   "cell_type": "markdown",
   "id": "c017a5c8-3284-4a26-a91a-4b54de50dcce",
   "metadata": {},
   "source": [
    "# Mengimpor Modul Standar"
   ]
  },
  {
   "cell_type": "code",
   "execution_count": 2,
   "id": "8abd8cdc-64a0-4de6-a143-22eaa126910b",
   "metadata": {},
   "outputs": [],
   "source": [
    "import math\n",
    "import random\n",
    "import datetime\n",
    "import sys"
   ]
  },
  {
   "cell_type": "markdown",
   "id": "300cc95e-f1f2-4a0a-95af-f5af7b5e9af9",
   "metadata": {},
   "source": [
    "# Menggunakan Modul math"
   ]
  },
  {
   "cell_type": "code",
   "execution_count": 3,
   "id": "727f7626-4496-4b1e-b682-311c4fe47351",
   "metadata": {},
   "outputs": [
    {
     "name": "stdout",
     "output_type": "stream",
     "text": [
      "Sin(45°): 0.7071067811865476\n",
      "Cos(45°): 0.7071067811865476\n"
     ]
    }
   ],
   "source": [
    "sudut = 45  # dalam derajat\n",
    "radian = math.radians(sudut)  # Mengonversi derajat ke radian\n",
    "nilai_sin = math.sin(radian)\n",
    "nilai_cos = math.cos(radian)\n",
    "print(f\"Sin({sudut}°): {nilai_sin}\")\n",
    "print(f\"Cos({sudut}°): {nilai_cos}\")"
   ]
  },
  {
   "cell_type": "markdown",
   "id": "40e4cd59-30d4-4da7-8058-33ae4887cdca",
   "metadata": {},
   "source": [
    "# Menggunakan Modul random"
   ]
  },
  {
   "cell_type": "code",
   "execution_count": 4,
   "id": "62c94b94-5d9d-4c4a-a943-09d871ed7c47",
   "metadata": {},
   "outputs": [
    {
     "name": "stdout",
     "output_type": "stream",
     "text": [
      "Bilangan Acak: 6\n"
     ]
    }
   ],
   "source": [
    "bilangan_acak = random.randint(1, 10)  # Menghasilkan bilangan bulat acak antara 1 dan 10\n",
    "print(f\"Bilangan Acak: {bilangan_acak}\")"
   ]
  },
  {
   "cell_type": "markdown",
   "id": "edea0df4-43f6-4472-a3df-fa7a7c3531f7",
   "metadata": {},
   "source": [
    "# Menggunakan Modul datetime"
   ]
  },
  {
   "cell_type": "code",
   "execution_count": 5,
   "id": "a9f95df8-ae23-47d3-9aba-629a28fafd0a",
   "metadata": {},
   "outputs": [
    {
     "name": "stdout",
     "output_type": "stream",
     "text": [
      "Tanggal Sekarang: 2023-08-15\n",
      "Waktu Sekarang: 23:19:33.931220\n"
     ]
    }
   ],
   "source": [
    "tanggal_sekarang = datetime.datetime.now().date()\n",
    "waktu_sekarang = datetime.datetime.now().time()\n",
    "print(f\"Tanggal Sekarang: {tanggal_sekarang}\")\n",
    "print(f\"Waktu Sekarang: {waktu_sekarang}\")"
   ]
  },
  {
   "cell_type": "markdown",
   "id": "fa40859f-3be0-4fe1-b171-2ec47d3c29b4",
   "metadata": {},
   "source": [
    "# Menggunakan Modul sys"
   ]
  },
  {
   "cell_type": "code",
   "execution_count": 6,
   "id": "44bb7768-5496-4bb0-a166-db35c3170f48",
   "metadata": {},
   "outputs": [
    {
     "name": "stdout",
     "output_type": "stream",
     "text": [
      "Versi Python: 3.9.17 (main, Jul  5 2023, 20:47:11) [MSC v.1916 64 bit (AMD64)]\n",
      "Platform: win32\n",
      "Argumen Baris Perintah: ['C:\\\\Users\\\\Sastra\\\\miniconda3\\\\envs\\\\coder+62\\\\lib\\\\site-packages\\\\ipykernel_launcher.py', '-f', 'C:\\\\Users\\\\Sastra\\\\AppData\\\\Roaming\\\\jupyter\\\\runtime\\\\kernel-cbbf91de-2c47-438c-8400-e5a3e3120ff3.json']\n"
     ]
    }
   ],
   "source": [
    "print(\"Versi Python:\", sys.version)\n",
    "print(\"Platform:\", sys.platform)\n",
    "print(\"Argumen Baris Perintah:\", sys.argv)"
   ]
  }
 ],
 "metadata": {
  "kernelspec": {
   "display_name": "Python 3 (ipykernel)",
   "language": "python",
   "name": "python3"
  },
  "language_info": {
   "codemirror_mode": {
    "name": "ipython",
    "version": 3
   },
   "file_extension": ".py",
   "mimetype": "text/x-python",
   "name": "python",
   "nbconvert_exporter": "python",
   "pygments_lexer": "ipython3",
   "version": "3.9.17"
  }
 },
 "nbformat": 4,
 "nbformat_minor": 5
}
