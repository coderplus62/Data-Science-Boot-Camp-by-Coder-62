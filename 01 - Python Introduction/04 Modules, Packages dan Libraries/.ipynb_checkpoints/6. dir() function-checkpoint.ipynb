{
 "cells": [
  {
   "cell_type": "markdown",
   "id": "df43c823-8d77-4bb8-9951-c579c890200a",
   "metadata": {},
   "source": [
    "# Fungsi dir()\n",
    "Fungsi dir() mengembalikan daftar yang diurutkan dari atribut dan metode untuk sebuah objek.\n",
    "Untuk objek bawaan, itu akan menampilkan atribut dan metode yang tersedia."
   ]
  },
  {
   "cell_type": "markdown",
   "id": "52524210-3d90-42a7-ad9f-521ca0b43684",
   "metadata": {},
   "source": [
    "# Menggunakan dir() dengan sebuah modul"
   ]
  },
  {
   "cell_type": "code",
   "execution_count": null,
   "id": "791197c0-f4ac-4df2-a8df-bf00416de89b",
   "metadata": {},
   "outputs": [],
   "source": [
    "import math\n",
    "\n",
    "# Dapatkan daftar atribut dan metode dalam modul math\n",
    "atribut_math = dir(math)\n",
    "print(\"Atribut dan metode dalam modul math:\")\n",
    "for atribut in atribut_math:\n",
    "    print(atribut)"
   ]
  },
  {
   "cell_type": "markdown",
   "id": "fce90bf2-9dda-4c24-a1a7-c89c85463c19",
   "metadata": {},
   "source": [
    "# Menggunakan dir() dengan sebuah objek kustom"
   ]
  },
  {
   "cell_type": "code",
   "execution_count": 1,
   "id": "6521b5ea-ec4b-4d13-be0a-f33c2bced5ac",
   "metadata": {},
   "outputs": [
    {
     "name": "stdout",
     "output_type": "stream",
     "text": [
      "\n",
      "Atribut dan metode dalam instance KelasSaya:\n",
      "__class__\n",
      "__delattr__\n",
      "__dict__\n",
      "__dir__\n",
      "__doc__\n",
      "__eq__\n",
      "__format__\n",
      "__ge__\n",
      "__getattribute__\n",
      "__gt__\n",
      "__hash__\n",
      "__init__\n",
      "__init_subclass__\n",
      "__le__\n",
      "__lt__\n",
      "__module__\n",
      "__ne__\n",
      "__new__\n",
      "__reduce__\n",
      "__reduce_ex__\n",
      "__repr__\n",
      "__setattr__\n",
      "__sizeof__\n",
      "__str__\n",
      "__subclasshook__\n",
      "__weakref__\n",
      "metode_saya\n",
      "variabel_saya\n"
     ]
    }
   ],
   "source": [
    "class KelasSaya:\n",
    "    def __init__(self):\n",
    "        self.variabel_saya = 42\n",
    "    \n",
    "    def metode_saya(self):\n",
    "        return \"Halo, Dunia!\"\n",
    "\n",
    "instance_saya = KelasSaya()\n",
    "\n",
    "# Dapatkan daftar atribut dan metode dalam instance KelasSaya\n",
    "atribut_instance = dir(instance_saya)\n",
    "print(\"\\nAtribut dan metode dalam instance KelasSaya:\")\n",
    "for atribut in atribut_instance:\n",
    "    print(atribut)"
   ]
  }
 ],
 "metadata": {
  "kernelspec": {
   "display_name": "Python 3 (ipykernel)",
   "language": "python",
   "name": "python3"
  },
  "language_info": {
   "codemirror_mode": {
    "name": "ipython",
    "version": 3
   },
   "file_extension": ".py",
   "mimetype": "text/x-python",
   "name": "python",
   "nbconvert_exporter": "python",
   "pygments_lexer": "ipython3",
   "version": "3.9.17"
  }
 },
 "nbformat": 4,
 "nbformat_minor": 5
}
