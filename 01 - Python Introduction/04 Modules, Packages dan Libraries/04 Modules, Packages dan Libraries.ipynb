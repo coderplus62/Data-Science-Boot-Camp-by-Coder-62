{
 "cells": [
  {
   "cell_type": "markdown",
   "id": "02e4da06-d53a-4763-830a-b9c4be35bebb",
   "metadata": {},
   "source": [
    "# 1. Function"
   ]
  },
  {
   "cell_type": "markdown",
   "id": "4da8180c-6041-4a27-a8e4-28c747228cd8",
   "metadata": {},
   "source": [
    "## 1.1. Fungsi untuk Matematika Umum"
   ]
  },
  {
   "cell_type": "code",
   "execution_count": null,
   "id": "a9d8897e-0452-4120-8cac-6eaf3ba0a9ab",
   "metadata": {},
   "outputs": [],
   "source": [
    "def tambah(a, b):\n",
    "    \"\"\"Mengembalikan hasil penjumlahan dua bilangan.\"\"\"\n",
    "    return a + b\n",
    "\n",
    "def kurang(a, b):\n",
    "    \"\"\"Mengembalikan selisih antara dua bilangan.\"\"\"\n",
    "    return a - b\n",
    "\n",
    "def kali(a, b):\n",
    "    \"\"\"Mengembalikan hasil perkalian dua bilangan.\"\"\"\n",
    "    return a * b\n",
    "\n",
    "def bagi(a, b):\n",
    "    \"\"\"Mengembalikan hasil dari pembagian dua bilangan.\"\"\"\n",
    "    if b != 0:\n",
    "        return a / b\n",
    "    else:\n",
    "        return \"Tidak dapat dibagi dengan nol\"\n",
    "\n",
    "# Contoh Matematika Umum\n",
    "print(\"Hasil Penjumlahan:\", tambah(5, 3))\n",
    "print(\"Selisih:\", kurang(10, 4))\n",
    "print(\"Hasil Perkalian:\", kali(6, 2))\n",
    "print(\"Hasil Pembagian:\", bagi(15, 3))"
   ]
  },
  {
   "cell_type": "markdown",
   "id": "52491e7e-d06d-4021-a414-e0313e1408d4",
   "metadata": {},
   "source": [
    "## 1.2. Fungsi untuk Konsep Dasar Fisika"
   ]
  },
  {
   "cell_type": "code",
   "execution_count": null,
   "id": "20a46024-3561-4da2-90f7-284a3d902795",
   "metadata": {},
   "outputs": [],
   "source": [
    "def kecepatan(jarak, waktu):\n",
    "    \"\"\"Menghitung kecepatan berdasarkan jarak dan waktu.\"\"\"\n",
    "    return jarak / waktu\n",
    "\n",
    "def percepatan(kecepatan_awal, kecepatan_akhir, waktu):\n",
    "    \"\"\"Menghitung percepatan menggunakan kecepatan awal dan akhir, serta waktu.\"\"\"\n",
    "    return (kecepatan_akhir - kecepatan_awal) / waktu\n",
    "\n",
    "def gaya(massa, percepatan):\n",
    "    \"\"\"Menghitung gaya menggunakan massa dan percepatan.\"\"\"\n",
    "    return massa * percepatan\n",
    "\n",
    "# Contoh Konsep Dasar Fisika\n",
    "print(\"Kecepatan:\", kecepatan(100, 20))\n",
    "print(\"Percepatan:\", percepatan(10, 30, 5))\n",
    "print(\"Gaya:\", gaya(5, 10))"
   ]
  },
  {
   "cell_type": "markdown",
   "id": "224cfc09-dbdd-4ad1-b220-b57f7cdee37d",
   "metadata": {},
   "source": [
    "# 2. Module"
   ]
  },
  {
   "cell_type": "markdown",
   "id": "22a73ebb-b40d-43fe-b0cf-386f1a266783",
   "metadata": {},
   "source": [
    "## 2.1. Mengimpor Modul Standar"
   ]
  },
  {
   "cell_type": "code",
   "execution_count": null,
   "id": "6d6c3d05-9264-4286-bcd4-b57bee5ddec8",
   "metadata": {},
   "outputs": [],
   "source": [
    "import math\n",
    "import random\n",
    "import datetime\n",
    "import sys"
   ]
  },
  {
   "cell_type": "markdown",
   "id": "a535cd1b-87ad-4e09-9cd3-bceb9ba9c914",
   "metadata": {},
   "source": [
    "## 2.2. Menggunakan Modul math"
   ]
  },
  {
   "cell_type": "code",
   "execution_count": null,
   "id": "38309235-024c-481c-b4d5-49a626691c67",
   "metadata": {},
   "outputs": [],
   "source": [
    "sudut = 45  # dalam derajat\n",
    "radian = math.radians(sudut)  # Mengonversi derajat ke radian\n",
    "nilai_sin = math.sin(radian)\n",
    "nilai_cos = math.cos(radian)\n",
    "print(f\"Sin({sudut}°): {nilai_sin}\")\n",
    "print(f\"Cos({sudut}°): {nilai_cos}\")"
   ]
  },
  {
   "cell_type": "markdown",
   "id": "7817b4d0-b805-4772-a2be-f6061f53437b",
   "metadata": {},
   "source": [
    "## 2.3. Menggunakan Modul random"
   ]
  },
  {
   "cell_type": "code",
   "execution_count": null,
   "id": "198600c8-0ca8-466b-a810-97cac74c2e1c",
   "metadata": {},
   "outputs": [],
   "source": [
    "bilangan_acak = random.randint(1, 10)  # Menghasilkan bilangan bulat acak antara 1 dan 10\n",
    "print(f\"Bilangan Acak: {bilangan_acak}\")"
   ]
  },
  {
   "cell_type": "markdown",
   "id": "90e007e7-0f87-42cc-8f0f-1aac473d90f1",
   "metadata": {},
   "source": [
    "## 2.4. Menggunakan Modul datetime"
   ]
  },
  {
   "cell_type": "code",
   "execution_count": null,
   "id": "c96050c9-a1ee-4fdb-a720-2bf4c5aff93c",
   "metadata": {},
   "outputs": [],
   "source": [
    "tanggal_sekarang = datetime.datetime.now().date()\n",
    "waktu_sekarang = datetime.datetime.now().time()\n",
    "print(f\"Tanggal Sekarang: {tanggal_sekarang}\")\n",
    "print(f\"Waktu Sekarang: {waktu_sekarang}\")"
   ]
  },
  {
   "cell_type": "markdown",
   "id": "e73b58c5-1bf2-47b3-bbaf-afc129ca3e88",
   "metadata": {},
   "source": [
    "## 2.5. Menggunakan Modul sys"
   ]
  },
  {
   "cell_type": "code",
   "execution_count": null,
   "id": "f2890f33-7715-4661-b383-3e48157a304c",
   "metadata": {
    "scrolled": true
   },
   "outputs": [],
   "source": [
    "print(\"Versi Python:\", sys.version)\n",
    "print(\"Platform:\", sys.platform)\n",
    "print(\"Argumen Baris Perintah:\", sys.argv)"
   ]
  },
  {
   "cell_type": "markdown",
   "id": "123b5ad9-052d-4ff9-99f3-3f64a400ad24",
   "metadata": {},
   "source": [
    "# 3. Package"
   ]
  },
  {
   "cell_type": "markdown",
   "id": "8eb29883-572c-4889-beb6-95a60440b22f",
   "metadata": {},
   "source": [
    "## 3.1. Mengimpor Modul dari Paket\n",
    "Misalkan Anda memiliki paket bernama 'my_package' dengan submodule 'module1' dan 'module2'.\n",
    "\n",
    "Struktur paket seharusnya seperti berikut:\n",
    "\n",
    "my_package/\n",
    "├── __init__.py\n",
    "├── module1.py\n",
    "└── module2.py"
   ]
  },
  {
   "cell_type": "markdown",
   "id": "d5bc9e99-ef51-4c1b-a814-dd904ba79fec",
   "metadata": {},
   "source": [
    "## 3.2. Mengimpor modul dari paket"
   ]
  },
  {
   "cell_type": "code",
   "execution_count": null,
   "id": "1b474957-dbad-4780-8815-fe3aa3b0b80b",
   "metadata": {
    "jp-MarkdownHeadingCollapsed": true
   },
   "outputs": [],
   "source": [
    "from my_package import module1, module2\n",
    "print(module1.tambah(5, 3))  # Menggunakan fungsi dari module1\n",
    "print(module2.kali(6, 2))  # Menggunakan fungsi dari module2"
   ]
  },
  {
   "cell_type": "markdown",
   "id": "9cce8fef-f091-4dbd-a864-e7981d73d393",
   "metadata": {},
   "source": [
    "## 3.3. Mengimpor Seluruh Paket"
   ]
  },
  {
   "cell_type": "code",
   "execution_count": null,
   "id": "d817a908-4cc8-4152-930f-ca8a55acb98a",
   "metadata": {
    "jp-MarkdownHeadingCollapsed": true
   },
   "outputs": [],
   "source": [
    "import my_package\n",
    "print(my_package.module1.kurang(10, 4))\n",
    "print(my_package.module2.bagi(15, 3))"
   ]
  },
  {
   "cell_type": "markdown",
   "id": "e2834435-7c6b-473c-964f-f00d6187ba1e",
   "metadata": {},
   "source": [
    "## 3.4. Memberi Nama Baru pada Modul dan Paket"
   ]
  },
  {
   "cell_type": "code",
   "execution_count": null,
   "id": "6abe2aaf-cbf8-4fb4-b80f-2543587f5279",
   "metadata": {
    "jp-MarkdownHeadingCollapsed": true
   },
   "outputs": [],
   "source": [
    "import my_package.module1 as m1\n",
    "import my_package.module2 as m2\n",
    "print(m1.tambah(7, 2))\n",
    "print(m2.kali(4, 5))"
   ]
  },
  {
   "cell_type": "markdown",
   "id": "49450a54-12c0-4a1d-badd-e794bd311673",
   "metadata": {},
   "source": [
    "# 4. External Libraries"
   ]
  },
  {
   "cell_type": "markdown",
   "id": "27d782b5-b5da-49b2-8ff9-fcfd3a968afd",
   "metadata": {},
   "source": [
    "## 4.1. Buka Terminal\n",
    "\n",
    "- Pada Windows: Tekan `Win + R`, ketik `cmd`, dan tekan Enter.\n",
    "- Pada macOS dan Linux: Cari aplikasi Terminal dalam aplikasi Anda."
   ]
  },
  {
   "cell_type": "markdown",
   "id": "fa7f128d-2649-466f-8eb1-bffe47254272",
   "metadata": {},
   "source": [
    "## 4.2. Periksa Versi Pip (Opsional) dan Kemudian Instal\n",
    "\n",
    "Sebelum menginstal paket apa pun, sebaiknya periksa apakah Anda sudah memiliki `pip` terinstal dan versi apa yang Anda miliki:\n",
    "\n",
    "\n",
    "```sh\n",
    "pip --version\n",
    "```\n",
    "Instal numpy\n",
    "```sh\n",
    "pip install numpy\n",
    "```\n",
    "Instal pandas\n",
    "```sh\n",
    "pip install pandas\n",
    "```\n",
    "Instal matplotlib\n",
    "```sh\n",
    "pip install matplotlib\n",
    "```"
   ]
  },
  {
   "cell_type": "markdown",
   "id": "c5da92ef-07f0-417b-a392-bc54d3bb6fcb",
   "metadata": {},
   "source": [
    "## 4.3. Verifikasi\n",
    "Anda dapat memeriksa bahwa pustaka-pustaka tersebut terinstal dengan benar dengan menjalankan Python di terminal Anda:\n",
    "\n",
    "```sh\n",
    "python\n",
    "```\n",
    "Kemudian, di dalam interpreter Python, coba untuk mengimpor setiap pustaka:\n",
    "```python\n",
    "import numpy\n",
    "import pandas\n",
    "import matplotlib\n",
    "```"
   ]
  },
  {
   "cell_type": "markdown",
   "id": "0cdaa637-7f76-43dd-bae4-fb187164f6ac",
   "metadata": {},
   "source": [
    "### Lebih Banyak tentang Pustaka\n",
    "<img src=\"libraries.png\">"
   ]
  },
  {
   "cell_type": "markdown",
   "id": "6a63a797-6bb5-442d-92de-3e27d9dd7615",
   "metadata": {},
   "source": [
    "# 5. Import Module"
   ]
  },
  {
   "cell_type": "markdown",
   "id": "e21dbabe-df8b-4963-abfd-fa5af41dd46b",
   "metadata": {},
   "source": [
    "## 5.1. Pernyataan Impor\n",
    "Pernyataan impor memungkinkan kamu untuk mengimpor seluruh modul. Kamu dapat mengakses atribut-atribut modul dengan menggunakan nama modul sebagai awalan."
   ]
  },
  {
   "cell_type": "code",
   "execution_count": null,
   "id": "ce467d6a-87d0-460a-9d3c-2dd4280bc79d",
   "metadata": {},
   "outputs": [],
   "source": [
    "import math\n",
    "\n",
    "# Menggunakan modul math\n",
    "print(\"Nilai Pi:\", math.pi)\n",
    "print(\"Akar Kuadrat dari 16:\", math.sqrt(16))"
   ]
  },
  {
   "cell_type": "markdown",
   "id": "88375542-cb90-46dd-bb87-61810441cd5d",
   "metadata": {},
   "source": [
    "## 5.2. Impor Selektif\n",
    "Impor selektif memungkinkan Anda untuk mengimpor atribut-atribut tertentu dari suatu modul. Hal ini dapat mengurangi penggunaan memori dan membuat kode Anda lebih mudah dibaca."
   ]
  },
  {
   "cell_type": "code",
   "execution_count": null,
   "id": "133fa7f3-af08-4afc-b1b9-c74950513f31",
   "metadata": {},
   "outputs": [],
   "source": [
    "from random import randint\n",
    "\n",
    "# Menggunakan fungsi randint secara langsung\n",
    "bilangan_acak = randint(1, 10)\n",
    "print(\"Bilangan Acak:\", bilangan_acak)"
   ]
  },
  {
   "cell_type": "markdown",
   "id": "7101b336-c60d-473c-b437-9a23283c8da9",
   "metadata": {},
   "source": [
    "## 5.3. Pencarian Modul\n",
    "Python mencari modul dalam direktori-direktori tertentu.\n",
    "Daftar sys.path menunjukkan direktori-direktori di mana Python mencari modul."
   ]
  },
  {
   "cell_type": "code",
   "execution_count": null,
   "id": "abe3dd44-2882-4645-ba61-2b99d6e5a5b9",
   "metadata": {},
   "outputs": [],
   "source": [
    "import sys\n",
    "\n",
    "print(\"Pencarian modul:\")\n",
    "for path in sys.path:\n",
    "    print(path)"
   ]
  },
  {
   "cell_type": "markdown",
   "id": "e7b3f388-f1c8-4cfc-af40-825229e8176a",
   "metadata": {},
   "source": [
    "# 6. dir() Function\n",
    "Fungsi dir() mengembalikan daftar yang diurutkan dari atribut dan metode untuk sebuah objek.\n",
    "Untuk objek bawaan, itu akan menampilkan atribut dan metode yang tersedia."
   ]
  },
  {
   "cell_type": "markdown",
   "id": "245c829e-d815-445e-8bd1-bf6f288c8cbd",
   "metadata": {},
   "source": [
    "## 6.1. Menggunakan dir() dengan sebuah modul"
   ]
  },
  {
   "cell_type": "code",
   "execution_count": null,
   "id": "e1d5c28c-eac9-47e3-8f20-345cea1178b5",
   "metadata": {},
   "outputs": [],
   "source": [
    "import math\n",
    "\n",
    "# Dapatkan daftar atribut dan metode dalam modul math\n",
    "atribut_math = dir(math)\n",
    "print(\"Atribut dan metode dalam modul math:\")\n",
    "for atribut in atribut_math:\n",
    "    print(atribut)"
   ]
  },
  {
   "cell_type": "markdown",
   "id": "fa903237-986a-463b-8be3-2af3f7fb59bc",
   "metadata": {},
   "source": [
    "## 6.2. Menggunakan dir() dengan sebuah objek kustom"
   ]
  },
  {
   "cell_type": "code",
   "execution_count": null,
   "id": "92fe26df-aaf1-4c6c-be32-71e9d5308444",
   "metadata": {},
   "outputs": [],
   "source": [
    "class KelasSaya:\n",
    "    def __init__(self):\n",
    "        self.variabel_saya = 42\n",
    "    \n",
    "    def metode_saya(self):\n",
    "        return \"Halo, Dunia!\"\n",
    "\n",
    "instance_saya = KelasSaya()\n",
    "\n",
    "# Dapatkan daftar atribut dan metode dalam instance KelasSaya\n",
    "atribut_instance = dir(instance_saya)\n",
    "print(\"\\nAtribut dan metode dalam instance KelasSaya:\")\n",
    "for atribut in atribut_instance:\n",
    "    print(atribut)"
   ]
  }
 ],
 "metadata": {
  "kernelspec": {
   "display_name": "Python 3 (ipykernel)",
   "language": "python",
   "name": "python3"
  },
  "language_info": {
   "codemirror_mode": {
    "name": "ipython",
    "version": 3
   },
   "file_extension": ".py",
   "mimetype": "text/x-python",
   "name": "python",
   "nbconvert_exporter": "python",
   "pygments_lexer": "ipython3",
   "version": "3.9.0"
  }
 },
 "nbformat": 4,
 "nbformat_minor": 5
}
