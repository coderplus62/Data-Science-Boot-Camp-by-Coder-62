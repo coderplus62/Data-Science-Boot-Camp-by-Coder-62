{
 "cells": [
  {
   "cell_type": "markdown",
   "id": "4da8180c-6041-4a27-a8e4-28c747228cd8",
   "metadata": {},
   "source": [
    "# Fungsi untuk Matematika Umum"
   ]
  },
  {
   "cell_type": "code",
   "execution_count": 1,
   "id": "a9d8897e-0452-4120-8cac-6eaf3ba0a9ab",
   "metadata": {},
   "outputs": [
    {
     "name": "stdout",
     "output_type": "stream",
     "text": [
      "Hasil Penjumlahan: 8\n",
      "Selisih: 6\n",
      "Hasil Perkalian: 12\n",
      "Hasil Pembagian: 5.0\n"
     ]
    }
   ],
   "source": [
    "def tambah(a, b):\n",
    "    \"\"\"Mengembalikan hasil penjumlahan dua bilangan.\"\"\"\n",
    "    return a + b\n",
    "\n",
    "def kurang(a, b):\n",
    "    \"\"\"Mengembalikan selisih antara dua bilangan.\"\"\"\n",
    "    return a - b\n",
    "\n",
    "def kali(a, b):\n",
    "    \"\"\"Mengembalikan hasil perkalian dua bilangan.\"\"\"\n",
    "    return a * b\n",
    "\n",
    "def bagi(a, b):\n",
    "    \"\"\"Mengembalikan hasil dari pembagian dua bilangan.\"\"\"\n",
    "    if b != 0:\n",
    "        return a / b\n",
    "    else:\n",
    "        return \"Tidak dapat dibagi dengan nol\"\n",
    "\n",
    "# Contoh Matematika Umum\n",
    "print(\"Hasil Penjumlahan:\", tambah(5, 3))\n",
    "print(\"Selisih:\", kurang(10, 4))\n",
    "print(\"Hasil Perkalian:\", kali(6, 2))\n",
    "print(\"Hasil Pembagian:\", bagi(15, 3))"
   ]
  },
  {
   "cell_type": "markdown",
   "id": "52491e7e-d06d-4021-a414-e0313e1408d4",
   "metadata": {},
   "source": [
    "# Fungsi untuk Konsep Dasar Fisika"
   ]
  },
  {
   "cell_type": "code",
   "execution_count": 2,
   "id": "20a46024-3561-4da2-90f7-284a3d902795",
   "metadata": {},
   "outputs": [
    {
     "name": "stdout",
     "output_type": "stream",
     "text": [
      "Kecepatan: 5.0\n",
      "Percepatan: 4.0\n",
      "Gaya: 50\n"
     ]
    }
   ],
   "source": [
    "def kecepatan(jarak, waktu):\n",
    "    \"\"\"Menghitung kecepatan berdasarkan jarak dan waktu.\"\"\"\n",
    "    return jarak / waktu\n",
    "\n",
    "def percepatan(kecepatan_awal, kecepatan_akhir, waktu):\n",
    "    \"\"\"Menghitung percepatan menggunakan kecepatan awal dan akhir, serta waktu.\"\"\"\n",
    "    return (kecepatan_akhir - kecepatan_awal) / waktu\n",
    "\n",
    "def gaya(massa, percepatan):\n",
    "    \"\"\"Menghitung gaya menggunakan massa dan percepatan.\"\"\"\n",
    "    return massa * percepatan\n",
    "\n",
    "# Contoh Konsep Dasar Fisika\n",
    "print(\"Kecepatan:\", kecepatan(100, 20))\n",
    "print(\"Percepatan:\", percepatan(10, 30, 5))\n",
    "print(\"Gaya:\", gaya(5, 10))"
   ]
  }
 ],
 "metadata": {
  "kernelspec": {
   "display_name": "Python 3 (ipykernel)",
   "language": "python",
   "name": "python3"
  },
  "language_info": {
   "codemirror_mode": {
    "name": "ipython",
    "version": 3
   },
   "file_extension": ".py",
   "mimetype": "text/x-python",
   "name": "python",
   "nbconvert_exporter": "python",
   "pygments_lexer": "ipython3",
   "version": "3.9.17"
  }
 },
 "nbformat": 4,
 "nbformat_minor": 5
}
