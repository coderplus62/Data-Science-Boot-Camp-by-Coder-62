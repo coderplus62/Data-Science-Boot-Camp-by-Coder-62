{
 "cells": [
  {
   "cell_type": "markdown",
   "id": "65bbac93-1338-4146-8a22-cdc8d53fecaf",
   "metadata": {},
   "source": [
    "# Mengimpor Modul dari Paket\n",
    "Misalkan Anda memiliki paket bernama 'my_package' dengan submodule 'module1' dan 'module2'.\n",
    "\n",
    "Struktur paket seharusnya seperti berikut:\n",
    "\n",
    "my_package/\n",
    "├── __init__.py\n",
    "├── module1.py\n",
    "└── module2.py"
   ]
  },
  {
   "cell_type": "markdown",
   "id": "a7d7f993-23d8-429f-9343-b68c914628b3",
   "metadata": {},
   "source": [
    "# Mengimpor modul dari paket"
   ]
  },
  {
   "cell_type": "code",
   "execution_count": 2,
   "id": "8017c70c-5d53-4708-97b1-77c3c7e2c36c",
   "metadata": {
    "jp-MarkdownHeadingCollapsed": true
   },
   "outputs": [
    {
     "name": "stdout",
     "output_type": "stream",
     "text": [
      "8\n",
      "12\n"
     ]
    }
   ],
   "source": [
    "from my_package import module1, module2\n",
    "print(module1.tambah(5, 3))  # Menggunakan fungsi dari module1\n",
    "print(module2.kali(6, 2))  # Menggunakan fungsi dari module2"
   ]
  },
  {
   "cell_type": "markdown",
   "id": "dd35225e-334e-45d7-8a88-3cfc37aa78dd",
   "metadata": {},
   "source": [
    "# Mengimpor Seluruh Paket"
   ]
  },
  {
   "cell_type": "code",
   "execution_count": 3,
   "id": "7a679616-9ccc-4bcb-875f-5c8b0f9ff9cd",
   "metadata": {
    "jp-MarkdownHeadingCollapsed": true
   },
   "outputs": [
    {
     "name": "stdout",
     "output_type": "stream",
     "text": [
      "6\n",
      "5.0\n"
     ]
    }
   ],
   "source": [
    "import my_package\n",
    "print(my_package.module1.kurang(10, 4))\n",
    "print(my_package.module2.bagi(15, 3))"
   ]
  },
  {
   "cell_type": "markdown",
   "id": "f276a1dc-3200-468e-90e1-9d51df537d91",
   "metadata": {},
   "source": [
    "# Memberi Nama Baru pada Modul dan Paket"
   ]
  },
  {
   "cell_type": "code",
   "execution_count": 4,
   "id": "955ea60b-fd30-43ee-8f6c-a2f031075cde",
   "metadata": {
    "jp-MarkdownHeadingCollapsed": true
   },
   "outputs": [
    {
     "name": "stdout",
     "output_type": "stream",
     "text": [
      "9\n",
      "20\n"
     ]
    }
   ],
   "source": [
    "import my_package.module1 as m1\n",
    "import my_package.module2 as m2\n",
    "print(m1.tambah(7, 2))\n",
    "print(m2.kali(4, 5))"
   ]
  }
 ],
 "metadata": {
  "kernelspec": {
   "display_name": "Python 3 (ipykernel)",
   "language": "python",
   "name": "python3"
  },
  "language_info": {
   "codemirror_mode": {
    "name": "ipython",
    "version": 3
   },
   "file_extension": ".py",
   "mimetype": "text/x-python",
   "name": "python",
   "nbconvert_exporter": "python",
   "pygments_lexer": "ipython3",
   "version": "3.9.17"
  }
 },
 "nbformat": 4,
 "nbformat_minor": 5
}
