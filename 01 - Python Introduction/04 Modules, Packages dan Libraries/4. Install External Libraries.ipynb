{
 "cells": [
  {
   "cell_type": "markdown",
   "id": "005629d1-ac20-4412-b28c-8ee0e2eda4c1",
   "metadata": {},
   "source": [
    "# Menginstal Pustaka Menggunakan pip\n",
    "\n",
    "## Pengantar\n",
    "\n",
    "[Pip](https://pip.pypa.io/en/stable/) adalah pengelola paket untuk Python yang memungkinkan Anda dengan mudah menginstal dan mengelola pustaka dan paket pihak ketiga. Dalam panduan ini, kami akan memandu Anda melalui langkah-langkah untuk menginstal pustaka `numpy`, `pandas`, dan `matplotlib` menggunakan `pip`.\n",
    "\n",
    "## Langkah Instalasi"
   ]
  },
  {
   "cell_type": "markdown",
   "id": "b0ba79b8-2b52-4f7a-bb9a-f5e73f7ea136",
   "metadata": {},
   "source": [
    "### 1. Buka Terminal\n",
    "\n",
    "- Pada Windows: Tekan `Win + R`, ketik `cmd`, dan tekan Enter.\n",
    "- Pada macOS dan Linux: Cari aplikasi Terminal dalam aplikasi Anda."
   ]
  },
  {
   "cell_type": "markdown",
   "id": "448ddfe9-9432-4f20-ad06-a3f39f05ab60",
   "metadata": {},
   "source": [
    "### 2. Periksa Versi Pip (Opsional) dan Kemudian Instal\n",
    "\n",
    "Sebelum menginstal paket apa pun, sebaiknya periksa apakah Anda sudah memiliki `pip` terinstal dan versi apa yang Anda miliki:\n",
    "\n",
    "\n",
    "```sh\n",
    "pip --version\n",
    "```\n",
    "Instal numpy\n",
    "```sh\n",
    "pip install numpy\n",
    "```\n",
    "Instal pandas\n",
    "```sh\n",
    "pip install pandas\n",
    "```\n",
    "Instal matplotlib\n",
    "```sh\n",
    "pip install matplotlib\n",
    "```"
   ]
  },
  {
   "cell_type": "markdown",
   "id": "d314cf1c-00ea-4631-80ea-d5eb4a0059aa",
   "metadata": {},
   "source": [
    "### 3. Verifikasi\n",
    "Anda dapat memeriksa bahwa pustaka-pustaka tersebut terinstal dengan benar dengan menjalankan Python di terminal Anda:\n",
    "\n",
    "```sh\n",
    "python\n",
    "```\n",
    "Kemudian, di dalam interpreter Python, coba untuk mengimpor setiap pustaka:\n",
    "```python\n",
    "import numpy\n",
    "import pandas\n",
    "import matplotlib\n",
    "```"
   ]
  },
  {
   "cell_type": "markdown",
   "id": "6f4ba546-b80a-4360-8c67-bfcd9bf481c3",
   "metadata": {},
   "source": [
    "## Lebih Banyak tentang Pustaka\n",
    "<img src=\"libraries.png\">"
   ]
  }
 ],
 "metadata": {
  "kernelspec": {
   "display_name": "Python 3 (ipykernel)",
   "language": "python",
   "name": "python3"
  },
  "language_info": {
   "codemirror_mode": {
    "name": "ipython",
    "version": 3
   },
   "file_extension": ".py",
   "mimetype": "text/x-python",
   "name": "python",
   "nbconvert_exporter": "python",
   "pygments_lexer": "ipython3",
   "version": "3.9.17"
  }
 },
 "nbformat": 4,
 "nbformat_minor": 5
}
