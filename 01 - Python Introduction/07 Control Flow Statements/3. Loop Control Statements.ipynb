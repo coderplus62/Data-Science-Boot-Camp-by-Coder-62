{
 "cells": [
  {
   "cell_type": "markdown",
   "id": "ad3af274-922e-41b9-a1c5-d6e9d3746256",
   "metadata": {},
   "source": [
    "# Penjelasan Mengenai Pernyataan Kontrol Perulangan dalam Python\n",
    "\n",
    "Pernyataan kontrol perulangan memungkinkan Anda mengontrol eksekusi dari perulangan.\n",
    "Mari kita jelajahi kata kunci break, kata kunci continue, dan kata kunci pass."
   ]
  },
  {
   "cell_type": "markdown",
   "id": "a2f5e240-b45c-4b41-8fa7-5e0e7edd6ae6",
   "metadata": {},
   "source": [
    "# 1. Kata Kunci break"
   ]
  },
  {
   "cell_type": "markdown",
   "id": "9150202e-3933-4e0e-85a4-1029bd7953b4",
   "metadata": {},
   "source": [
    "## Menggunakan kata kunci break untuk keluar dari perulangan secara prematur"
   ]
  },
  {
   "cell_type": "code",
   "execution_count": 6,
   "id": "021c7ad6-885d-430b-9433-dd4394dfcf5f",
   "metadata": {},
   "outputs": [
    {
     "name": "stdout",
     "output_type": "stream",
     "text": [
      "Nilai: 0\n",
      "Nilai: 1\n",
      "Nilai: 2\n"
     ]
    }
   ],
   "source": [
    "for i in range(5):\n",
    "    if i == 3:\n",
    "        break\n",
    "    print(\"Nilai:\", i)"
   ]
  },
  {
   "cell_type": "markdown",
   "id": "8e5fab72-2ea4-49af-9365-b8f432009d9e",
   "metadata": {},
   "source": [
    "# 2. Kata Kunci continue"
   ]
  },
  {
   "cell_type": "markdown",
   "id": "6605545d-e622-4b13-8391-e0be13a0c256",
   "metadata": {},
   "source": [
    "## Menggunakan kata kunci continue untuk melompati iterasi saat ini dan melanjutkan ke iterasi berikutnya"
   ]
  },
  {
   "cell_type": "code",
   "execution_count": 7,
   "id": "5c9d2a74-5e2b-4885-853a-41aba5dd4875",
   "metadata": {},
   "outputs": [
    {
     "name": "stdout",
     "output_type": "stream",
     "text": [
      "Nilai: 0\n",
      "Nilai: 1\n",
      "Nilai: 3\n",
      "Nilai: 4\n"
     ]
    }
   ],
   "source": [
    "for i in range(5):\n",
    "    if i == 2:\n",
    "        continue\n",
    "    print(\"Nilai:\", i)"
   ]
  },
  {
   "cell_type": "markdown",
   "id": "8a42d93a-721a-4cdf-877b-ac440aabe00a",
   "metadata": {},
   "source": [
    "# 3. Kata Kunci pass"
   ]
  },
  {
   "cell_type": "markdown",
   "id": "65d3e9d5-afbd-465a-90c5-2d906f050f65",
   "metadata": {},
   "source": [
    "## Menggunakan kata kunci pass sebagai penanda untuk kode yang akan ditulis di kemudian hari"
   ]
  },
  {
   "cell_type": "code",
   "execution_count": 8,
   "id": "d04342b7-c0a1-418d-9562-966ea1de35de",
   "metadata": {},
   "outputs": [],
   "source": [
    "for i in range(3):\n",
    "    pass  # Saat ini, perulangan ini belum melakukan apa-apa"
   ]
  },
  {
   "cell_type": "markdown",
   "id": "ef65d8ed-5c84-4b62-be20-570ef2e8ac41",
   "metadata": {},
   "source": [
    "## Menggunakan pass dalam fungsi atau kelas yang kosong"
   ]
  },
  {
   "cell_type": "code",
   "execution_count": 9,
   "id": "d74db0c6-6ec8-43d6-af00-59d39effce7a",
   "metadata": {},
   "outputs": [],
   "source": [
    "def my_function():\n",
    "    pass  # Fungsi tanpa kode apapun\n",
    "\n",
    "class MyClass:\n",
    "    pass  # Definisi kelas tanpa atribut/metode apapun"
   ]
  }
 ],
 "metadata": {
  "kernelspec": {
   "display_name": "Python 3 (ipykernel)",
   "language": "python",
   "name": "python3"
  },
  "language_info": {
   "codemirror_mode": {
    "name": "ipython",
    "version": 3
   },
   "file_extension": ".py",
   "mimetype": "text/x-python",
   "name": "python",
   "nbconvert_exporter": "python",
   "pygments_lexer": "ipython3",
   "version": "3.9.17"
  }
 },
 "nbformat": 4,
 "nbformat_minor": 5
}
