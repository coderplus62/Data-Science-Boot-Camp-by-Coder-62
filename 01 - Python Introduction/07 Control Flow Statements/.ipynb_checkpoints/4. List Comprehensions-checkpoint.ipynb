{
 "cells": [
  {
   "cell_type": "markdown",
   "id": "628851e7-c4d2-4922-9422-88997baef518",
   "metadata": {},
   "source": [
    "# Penjelasan Mengenai List Comprehensions dalam Python\n",
    "\n",
    "List comprehensions menyediakan cara ringkas untuk membuat daftar.\n",
    "Mari kita jelajahi bagaimana menggunakan list comprehensions untuk membuat dan memanipulasi daftar."
   ]
  },
  {
   "cell_type": "markdown",
   "id": "fb2066a6-aa15-4fe2-83c4-ff7aea4f66eb",
   "metadata": {},
   "source": [
    "# Cara tradisional untuk membuat daftar kuadrat"
   ]
  },
  {
   "cell_type": "code",
   "execution_count": 1,
   "id": "02bf2679-c906-4f04-ad95-9646a96a9c5f",
   "metadata": {},
   "outputs": [
    {
     "name": "stdout",
     "output_type": "stream",
     "text": [
      "Kuadrat menggunakan metode tradisional: [1, 4, 9, 16, 25]\n"
     ]
    }
   ],
   "source": [
    "numbers = [1, 2, 3, 4, 5]\n",
    "squares = []\n",
    "for num in numbers:\n",
    "    squares.append(num ** 2)\n",
    "print(\"Kuadrat menggunakan metode tradisional:\", squares)"
   ]
  },
  {
   "cell_type": "markdown",
   "id": "821476d5-d791-4a53-bac6-a7937fcf4c8a",
   "metadata": {},
   "source": [
    "# Menggunakan list comprehension untuk membuat daftar kuadrat"
   ]
  },
  {
   "cell_type": "code",
   "execution_count": 2,
   "id": "97aa87a1-c114-4c9b-8b7e-59e08d06de1f",
   "metadata": {},
   "outputs": [
    {
     "name": "stdout",
     "output_type": "stream",
     "text": [
      "Kuadrat menggunakan list comprehension: [1, 4, 9, 16, 25]\n"
     ]
    }
   ],
   "source": [
    "squares_comp = [num ** 2 for num in numbers]\n",
    "print(\"Kuadrat menggunakan list comprehension:\", squares_comp)"
   ]
  },
  {
   "cell_type": "markdown",
   "id": "3ab31f88-d959-49c1-a51b-3aed39fc4e74",
   "metadata": {},
   "source": [
    "# List comprehension dengan ekspresi kondisional"
   ]
  },
  {
   "cell_type": "code",
   "execution_count": 3,
   "id": "5b818b07-0f4c-4718-a8f7-e3f62e90d21c",
   "metadata": {},
   "outputs": [
    {
     "name": "stdout",
     "output_type": "stream",
     "text": [
      "Kuadrat bilangan genap menggunakan list comprehension: [4, 16]\n"
     ]
    }
   ],
   "source": [
    "even_squares = [num ** 2 for num in numbers if num % 2 == 0]\n",
    "print(\"Kuadrat bilangan genap menggunakan list comprehension:\", even_squares)"
   ]
  },
  {
   "cell_type": "markdown",
   "id": "065407c5-1b8a-48c6-acc7-6ce3bc4790dc",
   "metadata": {},
   "source": [
    "# Membuat daftar tuple menggunakan list comprehension"
   ]
  },
  {
   "cell_type": "code",
   "execution_count": 4,
   "id": "41a22d81-844f-49dd-b79a-c233da57e7aa",
   "metadata": {},
   "outputs": [
    {
     "name": "stdout",
     "output_type": "stream",
     "text": [
      "Pasangan menggunakan list comprehension: [(0, 0), (0, 1), (0, 2), (1, 0), (1, 1), (1, 2), (2, 0), (2, 1), (2, 2)]\n"
     ]
    }
   ],
   "source": [
    "pairs = [(x, y) for x in range(3) for y in range(3)]\n",
    "print(\"Pasangan menggunakan list comprehension:\", pairs)"
   ]
  },
  {
   "cell_type": "markdown",
   "id": "66be67d3-2abc-4f4b-a668-57863977ec66",
   "metadata": {},
   "source": [
    "# Meluruhkan daftar 2D menjadi daftar 1D menggunakan list comprehension"
   ]
  },
  {
   "cell_type": "code",
   "execution_count": 5,
   "id": "33b26797-73b3-468a-bf8f-264d6a758fbd",
   "metadata": {},
   "outputs": [
    {
     "name": "stdout",
     "output_type": "stream",
     "text": [
      "Matrix diluruhkan menggunakan list comprehension: [1, 2, 3, 4, 5, 6, 7, 8, 9]\n"
     ]
    }
   ],
   "source": [
    "matrix = [[1, 2, 3], [4, 5, 6], [7, 8, 9]]\n",
    "flattened = [num for row in matrix for num in row]\n",
    "print(\"Matrix diluruhkan menggunakan list comprehension:\", flattened)"
   ]
  },
  {
   "cell_type": "markdown",
   "id": "cd074873-8279-4c90-bfcb-e13c89c5e49b",
   "metadata": {},
   "source": [
    "# Menggunakan list comprehension untuk menyaring elemen-elemen"
   ]
  },
  {
   "cell_type": "code",
   "execution_count": 6,
   "id": "d0d23ed7-1ed0-49ad-818c-c0243140eb44",
   "metadata": {},
   "outputs": [
    {
     "name": "stdout",
     "output_type": "stream",
     "text": [
      "Angka-angka yang disaring menggunakan list comprehension: [40, 50]\n"
     ]
    }
   ],
   "source": [
    "numbers = [10, 20, 30, 40, 50]\n",
    "filtered = [num for num in numbers if num > 30]\n",
    "print(\"Angka-angka yang disaring menggunakan list comprehension:\", filtered)"
   ]
  }
 ],
 "metadata": {
  "kernelspec": {
   "display_name": "Python 3 (ipykernel)",
   "language": "python",
   "name": "python3"
  },
  "language_info": {
   "codemirror_mode": {
    "name": "ipython",
    "version": 3
   },
   "file_extension": ".py",
   "mimetype": "text/x-python",
   "name": "python",
   "nbconvert_exporter": "python",
   "pygments_lexer": "ipython3",
   "version": "3.9.17"
  }
 },
 "nbformat": 4,
 "nbformat_minor": 5
}
