{
 "cells": [
  {
   "cell_type": "markdown",
   "id": "574c8355-e06a-4a88-8fd0-a59e4f58d206",
   "metadata": {},
   "source": [
    "# 1. If Else (Conditional Statement)\n",
    "\n",
    "Pernyataan kondisional memungkinkan Anda mengontrol alur program Anda berdasarkan kondisi-kondisi tertentu.\n",
    "Mari kita jelajahi pernyataan if, klausa elif, dan klausa else."
   ]
  },
  {
   "cell_type": "markdown",
   "id": "2e93cd7e-97a9-4f1e-9f46-fd7509768410",
   "metadata": {},
   "source": [
    "## 1.1. Pernyataan if"
   ]
  },
  {
   "cell_type": "code",
   "execution_count": null,
   "id": "a2c6bedf-508c-452e-8661-2e07a8e4904d",
   "metadata": {},
   "outputs": [],
   "source": [
    "x = 10"
   ]
  },
  {
   "cell_type": "code",
   "execution_count": null,
   "id": "86d2af2a-991c-42aa-9d6a-4a3f1a679150",
   "metadata": {},
   "outputs": [],
   "source": [
    "# Menggunakan pernyataan if untuk memeriksa suatu kondisi\n",
    "if x > 5:\n",
    "    print(\"x lebih besar dari 5\")"
   ]
  },
  {
   "cell_type": "markdown",
   "id": "2f7bdd76-f3b2-49de-b803-52a126e6eba9",
   "metadata": {},
   "source": [
    "## 1.2. Klausa else"
   ]
  },
  {
   "cell_type": "code",
   "execution_count": null,
   "id": "87e958be-acba-4ff8-aef6-75c3daf0341b",
   "metadata": {},
   "outputs": [],
   "source": [
    "# Menggunakan klausa else untuk menangani kasus lain\n",
    "z = 8\n",
    "\n",
    "if z > 10:\n",
    "    print(\"z lebih besar dari 10\")\n",
    "else:\n",
    "    print(\"z tidak lebih besar dari 10\")"
   ]
  },
  {
   "cell_type": "markdown",
   "id": "36c8bb90-f30e-4402-a1eb-7314a5b3154e",
   "metadata": {},
   "source": [
    "## 1.3. Klausa elif"
   ]
  },
  {
   "cell_type": "code",
   "execution_count": null,
   "id": "f0cb822b-7cea-4989-bc6a-37fbbd546552",
   "metadata": {},
   "outputs": [],
   "source": [
    "# Menggunakan klausa elif untuk beberapa kondisi\n",
    "y = 3\n",
    "\n",
    "if y > 5:\n",
    "    print(\"y lebih besar dari 5\")\n",
    "elif y == 5:\n",
    "    print(\"y sama dengan 5\")\n",
    "else:\n",
    "    print(\"y kurang dari 5\")"
   ]
  },
  {
   "cell_type": "code",
   "execution_count": null,
   "id": "45f92e1f-7b69-4044-8fd6-659739dde669",
   "metadata": {},
   "outputs": [],
   "source": [
    "# Menggunakan operator logika untuk menggabungkan kondisi-kondisi\n",
    "a = 15\n",
    "b = 20\n",
    "\n",
    "if a > 10 and b > 10:\n",
    "    print(\"Baik 'a' maupun 'b' lebih besar dari 10\")\n",
    "elif a > 10 or b > 10:\n",
    "    print(\"Setidaknya salah satu dari 'a' atau 'b' lebih besar dari 10\")\n",
    "else:\n",
    "    print(\"Tidak ada 'a' maupun 'b' yang lebih besar dari 10\")"
   ]
  },
  {
   "cell_type": "markdown",
   "id": "f28c2a97-09f3-4075-b8d9-0cfc94c7f22c",
   "metadata": {},
   "source": [
    "# 2. Operator\n",
    "\n",
    "Operator melakukan berbagai operasi pada nilai dan variabel.\n",
    "Mari kita jelajahi operator aritmatika, perbandingan, logika, bitwise, pemberian nilai,\n",
    "operator keanggotaan, operator identitas, dan urutan operator."
   ]
  },
  {
   "cell_type": "markdown",
   "id": "23100b10-4f34-426d-817a-cd1e9659b5d5",
   "metadata": {},
   "source": [
    "## 2.1. Operator Aritmatika"
   ]
  },
  {
   "cell_type": "code",
   "execution_count": null,
   "id": "e0c2c481-682a-4260-be27-ffd97e26c053",
   "metadata": {},
   "outputs": [],
   "source": [
    "x = 10\n",
    "y = 3"
   ]
  },
  {
   "cell_type": "code",
   "execution_count": null,
   "id": "905bacc9-15fc-4709-b420-9c92ca7223c9",
   "metadata": {},
   "outputs": [],
   "source": [
    "penambahan = x + y"
   ]
  },
  {
   "cell_type": "code",
   "execution_count": null,
   "id": "b7ce605b-4b17-4ebd-ac82-b2178de6d54d",
   "metadata": {},
   "outputs": [],
   "source": [
    "pengurangan = x - y"
   ]
  },
  {
   "cell_type": "code",
   "execution_count": null,
   "id": "c20940e6-1edf-469a-ab95-c394785950c6",
   "metadata": {},
   "outputs": [],
   "source": [
    "pengurangan = x - y"
   ]
  },
  {
   "cell_type": "code",
   "execution_count": null,
   "id": "3c9fbf81-3a77-49d1-84ff-a796f7c24921",
   "metadata": {},
   "outputs": [],
   "source": [
    "perkalian = x * y"
   ]
  },
  {
   "cell_type": "code",
   "execution_count": null,
   "id": "404e3468-b40a-4203-9475-ec06ee8bd515",
   "metadata": {},
   "outputs": [],
   "source": [
    "pembagian = x / y"
   ]
  },
  {
   "cell_type": "code",
   "execution_count": null,
   "id": "81fe232a-00c3-47ab-a4d4-c4042ec5f85e",
   "metadata": {},
   "outputs": [],
   "source": [
    "pembagian_floor = x // y"
   ]
  },
  {
   "cell_type": "code",
   "execution_count": null,
   "id": "625db9cc-c3a4-4820-a65c-0be7b3fc5148",
   "metadata": {},
   "outputs": [],
   "source": [
    "modulus = x % y"
   ]
  },
  {
   "cell_type": "code",
   "execution_count": null,
   "id": "b3a6fa4c-198c-4fcb-86f4-b99297234bfc",
   "metadata": {},
   "outputs": [],
   "source": [
    "eksponensiasi = x ** y"
   ]
  },
  {
   "cell_type": "markdown",
   "id": "7d2af3c3-8624-4766-8851-e58626d44389",
   "metadata": {},
   "source": [
    "## 2.2. Operator Perbandingan"
   ]
  },
  {
   "cell_type": "code",
   "execution_count": null,
   "id": "535e4639-fe1c-4eec-b7b1-51332d697982",
   "metadata": {},
   "outputs": [],
   "source": [
    "a = 5\n",
    "b = 7"
   ]
  },
  {
   "cell_type": "code",
   "execution_count": null,
   "id": "a1c6ce76-0a60-42f7-a7cb-5df0c3924ab9",
   "metadata": {},
   "outputs": [],
   "source": [
    "sama_dengan = a == b"
   ]
  },
  {
   "cell_type": "code",
   "execution_count": null,
   "id": "59eab383-b8ad-49c9-9284-df804e5e451c",
   "metadata": {},
   "outputs": [],
   "source": [
    "tidak_sama_dengan = a != b"
   ]
  },
  {
   "cell_type": "code",
   "execution_count": null,
   "id": "187c5d2d-6c60-4758-94dd-5511191924b4",
   "metadata": {},
   "outputs": [],
   "source": [
    "lebih_besar_dari = a > b"
   ]
  },
  {
   "cell_type": "code",
   "execution_count": null,
   "id": "d6ea882a-c8d2-4702-84f5-9c33c38c0fe8",
   "metadata": {},
   "outputs": [],
   "source": [
    "lebih_kecil_dari = a < b"
   ]
  },
  {
   "cell_type": "code",
   "execution_count": null,
   "id": "db335e48-879b-45a3-bb92-b719e60fb2ca",
   "metadata": {},
   "outputs": [],
   "source": [
    "lebih_besar_sama_dengan = a >= b"
   ]
  },
  {
   "cell_type": "code",
   "execution_count": null,
   "id": "8c866cc2-51c9-4bc2-b9c2-6d2d4d38dd47",
   "metadata": {},
   "outputs": [],
   "source": [
    "lebih_kecil_sama_dengan = a <= b"
   ]
  },
  {
   "cell_type": "markdown",
   "id": "23ce880f-3f83-4cda-aa5c-346b8d7750d5",
   "metadata": {},
   "source": [
    "## 2.3. Operator Logika"
   ]
  },
  {
   "cell_type": "code",
   "execution_count": null,
   "id": "d4ff11d1-790b-4c17-ad9c-60f158221b62",
   "metadata": {},
   "outputs": [],
   "source": [
    "p = True\n",
    "q = False"
   ]
  },
  {
   "cell_type": "code",
   "execution_count": null,
   "id": "cc55bf05-173f-4b17-826c-00e94a9565dc",
   "metadata": {},
   "outputs": [],
   "source": [
    "logika_and = p and q"
   ]
  },
  {
   "cell_type": "code",
   "execution_count": null,
   "id": "7cfc34e3-181c-4875-88a9-97b759493e98",
   "metadata": {},
   "outputs": [],
   "source": [
    "logika_or = p or q"
   ]
  },
  {
   "cell_type": "code",
   "execution_count": null,
   "id": "3be4f243-6bd0-4a9c-ac50-694ba428e614",
   "metadata": {},
   "outputs": [],
   "source": [
    "logika_not_p = not p\n",
    "logika_not_q = not q"
   ]
  },
  {
   "cell_type": "markdown",
   "id": "14289e5c-de5b-42ee-8c62-cab7d42d7555",
   "metadata": {},
   "source": [
    "## 2.4. Operator Bitwise"
   ]
  },
  {
   "cell_type": "code",
   "execution_count": null,
   "id": "67821848-894d-4c4d-87e5-399c12f6031d",
   "metadata": {},
   "outputs": [],
   "source": [
    "x = 5\n",
    "y = 3"
   ]
  },
  {
   "cell_type": "code",
   "execution_count": null,
   "id": "95e6329c-984d-44a2-bed4-8143659bdcfe",
   "metadata": {},
   "outputs": [],
   "source": [
    "bitwise_and = x & y"
   ]
  },
  {
   "cell_type": "code",
   "execution_count": null,
   "id": "e3c12c5f-57b8-40d0-898f-359b489586aa",
   "metadata": {},
   "outputs": [],
   "source": [
    "bitwise_or = x | y"
   ]
  },
  {
   "cell_type": "code",
   "execution_count": null,
   "id": "3997ff8a-b8e1-4ed1-b067-8b74ce1b8032",
   "metadata": {},
   "outputs": [],
   "source": [
    "bitwise_xor = x ^ y"
   ]
  },
  {
   "cell_type": "code",
   "execution_count": null,
   "id": "9223f332-39ad-462c-96d5-caf1fa022f56",
   "metadata": {},
   "outputs": [],
   "source": [
    "bitwise_not_x = ~x"
   ]
  },
  {
   "cell_type": "code",
   "execution_count": null,
   "id": "f8f8c184-af26-4412-96bb-c52bf4a96afd",
   "metadata": {},
   "outputs": [],
   "source": [
    "left_shift = x << y"
   ]
  },
  {
   "cell_type": "code",
   "execution_count": null,
   "id": "9ae3dbfc-42c9-426e-ac65-da18e4567703",
   "metadata": {},
   "outputs": [],
   "source": [
    "right_shift = x >> y"
   ]
  },
  {
   "cell_type": "markdown",
   "id": "aef3aa14-c971-4f41-abce-7311034b36fb",
   "metadata": {},
   "source": [
    "## 2.5. Operator Pemberian Nilai"
   ]
  },
  {
   "cell_type": "code",
   "execution_count": null,
   "id": "f1275a3d-0904-4ce0-acdd-d5aa37eb1b83",
   "metadata": {},
   "outputs": [],
   "source": [
    "a = 10"
   ]
  },
  {
   "cell_type": "code",
   "execution_count": null,
   "id": "c73c07cf-42dc-4571-8652-1b135bcf941c",
   "metadata": {},
   "outputs": [],
   "source": [
    "memberikan = a"
   ]
  },
  {
   "cell_type": "code",
   "execution_count": null,
   "id": "2bdd9039-06f5-4e04-a813-5d47de9733b5",
   "metadata": {},
   "outputs": [],
   "source": [
    "tambah_dan_memberikan = a\n",
    "tambah_dan_memberikan += 5"
   ]
  },
  {
   "cell_type": "code",
   "execution_count": null,
   "id": "ab452a3b-3d7c-4686-b88f-b1184812cd6f",
   "metadata": {},
   "outputs": [],
   "source": [
    "kurang_dan_memberikan = a\n",
    "kurang_dan_memberikan -= 3"
   ]
  },
  {
   "cell_type": "code",
   "execution_count": null,
   "id": "c1778803-d10f-4195-bd93-15fb284f34aa",
   "metadata": {},
   "outputs": [],
   "source": [
    "kali_dan_memberikan = a\n",
    "kali_dan_memberikan *= 2"
   ]
  },
  {
   "cell_type": "code",
   "execution_count": null,
   "id": "a7ad1ccf-e165-44e5-8e64-5dafd9c67137",
   "metadata": {},
   "outputs": [],
   "source": [
    "bagi_dan_memberikan = a\n",
    "bagi_dan_memberikan /= 4"
   ]
  },
  {
   "cell_type": "markdown",
   "id": "19549288-45af-4204-a117-9bd895d78291",
   "metadata": {},
   "source": [
    "## 2.6. Operator Keanggotaan"
   ]
  },
  {
   "cell_type": "code",
   "execution_count": null,
   "id": "cb831f6a-4d7e-4c9a-9ad3-33f1589e5720",
   "metadata": {},
   "outputs": [],
   "source": [
    "my_list = [1, 2, 3, 4, 5]"
   ]
  },
  {
   "cell_type": "code",
   "execution_count": null,
   "id": "8c7e21b7-5545-4687-bc34-4f3394a310d3",
   "metadata": {},
   "outputs": [],
   "source": [
    "keanggotaan_in = 3 in my_list"
   ]
  },
  {
   "cell_type": "code",
   "execution_count": null,
   "id": "775bc3c5-d7b4-4758-9814-46cb7b818215",
   "metadata": {},
   "outputs": [],
   "source": [
    "keanggotaan_not_in = 6 not in my_list"
   ]
  },
  {
   "cell_type": "markdown",
   "id": "5c186c79-3ba3-4eea-9af0-5340fd5f3a68",
   "metadata": {},
   "source": [
    "## 2.7. Operator Identitas"
   ]
  },
  {
   "cell_type": "code",
   "execution_count": null,
   "id": "a91eed6f-3e6f-4231-97fc-2f732d3a945d",
   "metadata": {},
   "outputs": [],
   "source": [
    "x = 5\n",
    "y = 5"
   ]
  },
  {
   "cell_type": "code",
   "execution_count": null,
   "id": "5e332cf2-454a-46b2-94e3-b5fb93aa4b9c",
   "metadata": {},
   "outputs": [],
   "source": [
    "identitas_is = x is y"
   ]
  },
  {
   "cell_type": "code",
   "execution_count": null,
   "id": "f1b57d42-3ea4-43c2-a632-294ed33b70c5",
   "metadata": {},
   "outputs": [],
   "source": [
    "identitas_is_not = x is not y\n",
    "\n",
    "print(\"\\nOperator Identitas:\")\n",
    "print(\"Identitas adalah:\", identitas_is)\n",
    "print(\"Identitas bukan:\", identitas_is_not)"
   ]
  },
  {
   "cell_type": "markdown",
   "id": "7c782e09-e849-4f91-8376-d4f35102f49c",
   "metadata": {},
   "source": [
    "## 2.8. Urutan Operator"
   ]
  },
  {
   "cell_type": "markdown",
   "id": "bc6ec29e-fcfc-47df-861c-f0ce73d063e7",
   "metadata": {},
   "source": [
    "### Urutan operator: Eksponensiasi > Perkalian > Penambahan"
   ]
  },
  {
   "cell_type": "code",
   "execution_count": null,
   "id": "fbabedd4-511b-4a69-ac5f-c45fd6afd1e8",
   "metadata": {},
   "outputs": [],
   "source": [
    "hasil = 10 + 3 * 2 ** 2  \n",
    "\n",
    "print(\"\\nUrutan Operator:\")\n",
    "print(\"Hasil:\", hasil)"
   ]
  },
  {
   "cell_type": "markdown",
   "id": "08ce085e-d62d-4e71-9b7a-da3ba8a224f2",
   "metadata": {},
   "source": [
    "# 3. Loop Control Statements\n",
    "\n",
    "Pernyataan kontrol perulangan memungkinkan Anda mengontrol eksekusi dari perulangan.\n",
    "Mari kita jelajahi kata kunci break, kata kunci continue, dan kata kunci pass."
   ]
  },
  {
   "cell_type": "markdown",
   "id": "116d95ac-c79b-40b1-a4d5-b73be373dcc7",
   "metadata": {},
   "source": [
    "## 3.1. Kata Kunci break"
   ]
  },
  {
   "cell_type": "code",
   "execution_count": null,
   "id": "55a442f3-a6b0-4b2b-be33-c91d7b65ba92",
   "metadata": {},
   "outputs": [],
   "source": [
    "# Menggunakan kata kunci break untuk keluar dari perulangan secara prematur\n",
    "for i in range(5):\n",
    "    if i == 3:\n",
    "        break\n",
    "    print(\"Nilai:\", i)"
   ]
  },
  {
   "cell_type": "markdown",
   "id": "36bdddf5-4f7f-48b4-b074-06031d59e85f",
   "metadata": {},
   "source": [
    "## 3.2. Kata Kunci continue"
   ]
  },
  {
   "cell_type": "code",
   "execution_count": null,
   "id": "d707e828-7e4c-415c-8181-1654de048d7b",
   "metadata": {},
   "outputs": [],
   "source": [
    "# Menggunakan kata kunci continue untuk melompati iterasi saat ini dan melanjutkan ke iterasi berikutnya\n",
    "for i in range(5):\n",
    "    if i == 2:\n",
    "        continue\n",
    "    print(\"Nilai:\", i)"
   ]
  },
  {
   "cell_type": "markdown",
   "id": "4e781b5f-cb4b-4780-8fe1-5fe8c75d1be6",
   "metadata": {},
   "source": [
    "## 3.3. Kata Kunci pass"
   ]
  },
  {
   "cell_type": "code",
   "execution_count": null,
   "id": "7eb425bc-c05f-4e65-bd99-691e39b8a2fa",
   "metadata": {},
   "outputs": [],
   "source": [
    "# Menggunakan kata kunci pass sebagai penanda untuk kode yang akan ditulis di kemudian hari\n",
    "for i in range(3):\n",
    "    pass  # Saat ini, perulangan ini belum melakukan apa-apa"
   ]
  },
  {
   "cell_type": "code",
   "execution_count": null,
   "id": "2b26dcd2-34bc-4480-b76a-cbc0274d48af",
   "metadata": {},
   "outputs": [],
   "source": [
    "# Menggunakan pass dalam fungsi atau kelas yang kosong\n",
    "def my_function():\n",
    "    pass  # Fungsi tanpa kode apapun\n",
    "\n",
    "class MyClass:\n",
    "    pass  # Definisi kelas tanpa atribut/metode apapun"
   ]
  },
  {
   "cell_type": "markdown",
   "id": "ab251b9c-7cd0-4640-b5d4-1324374aec2c",
   "metadata": {},
   "source": [
    "# 4. List Comprehensions\n",
    "\n",
    "List comprehensions menyediakan cara ringkas untuk membuat daftar.\n",
    "Mari kita jelajahi bagaimana menggunakan list comprehensions untuk membuat dan memanipulasi daftar."
   ]
  },
  {
   "cell_type": "markdown",
   "id": "b8c09bb7-5d19-4d35-bd78-d88f3c25ef7e",
   "metadata": {},
   "source": [
    "## 4.1. Cara tradisional untuk membuat daftar kuadrat"
   ]
  },
  {
   "cell_type": "code",
   "execution_count": null,
   "id": "91f86c40-70c8-4010-84a0-1f0a09c30528",
   "metadata": {},
   "outputs": [],
   "source": [
    "numbers = [1, 2, 3, 4, 5]\n",
    "squares = []\n",
    "for num in numbers:\n",
    "    squares.append(num ** 2)\n",
    "print(\"Kuadrat menggunakan metode tradisional:\", squares)"
   ]
  },
  {
   "cell_type": "markdown",
   "id": "745107c2-719b-4d39-9026-212724d55f67",
   "metadata": {},
   "source": [
    "## 4.2. Menggunakan list comprehension untuk membuat daftar kuadrat"
   ]
  },
  {
   "cell_type": "code",
   "execution_count": null,
   "id": "88c74de0-0888-44b1-9de4-c0e0e37d91c7",
   "metadata": {},
   "outputs": [],
   "source": [
    "squares_comp = [num ** 2 for num in numbers]\n",
    "print(\"Kuadrat menggunakan list comprehension:\", squares_comp)"
   ]
  },
  {
   "cell_type": "markdown",
   "id": "0acc92f2-9c51-4af5-9bc8-85e868912c92",
   "metadata": {},
   "source": [
    "## 4.3. List comprehension dengan ekspresi kondisional"
   ]
  },
  {
   "cell_type": "code",
   "execution_count": null,
   "id": "753cbe58-e1e3-4703-a95a-0e54c9ddbe5b",
   "metadata": {},
   "outputs": [],
   "source": [
    "even_squares = [num ** 2 for num in numbers if num % 2 == 0]\n",
    "print(\"Kuadrat bilangan genap menggunakan list comprehension:\", even_squares)"
   ]
  },
  {
   "cell_type": "markdown",
   "id": "8d2ad5a7-ff1b-43ac-a8d2-f5ee41426b0d",
   "metadata": {},
   "source": [
    "## 4.4. Membuat daftar tuple menggunakan list comprehension"
   ]
  },
  {
   "cell_type": "code",
   "execution_count": null,
   "id": "0fc67cb9-2251-4140-984d-832e6ccf429a",
   "metadata": {},
   "outputs": [],
   "source": [
    "pairs = [(x, y) for x in range(3) for y in range(3)]\n",
    "print(\"Pasangan menggunakan list comprehension:\", pairs)"
   ]
  },
  {
   "cell_type": "markdown",
   "id": "b5f2b0a5-b9d2-4d0b-be31-3a1f20693d60",
   "metadata": {},
   "source": [
    "## 4.5. Meluruhkan daftar 2D menjadi daftar 1D menggunakan list comprehension"
   ]
  },
  {
   "cell_type": "code",
   "execution_count": null,
   "id": "fd3a1397-3564-4ea2-a16b-4dd0912c4873",
   "metadata": {},
   "outputs": [],
   "source": [
    "matrix = [[1, 2, 3], [4, 5, 6], [7, 8, 9]]\n",
    "flattened = [num for row in matrix for num in row]\n",
    "print(\"Matrix diluruhkan menggunakan list comprehension:\", flattened)"
   ]
  },
  {
   "cell_type": "markdown",
   "id": "13c345ce-f258-4f4c-b7f1-66fc67df1a59",
   "metadata": {},
   "source": [
    "## 4.6. Menggunakan list comprehension untuk menyaring elemen-elemen"
   ]
  },
  {
   "cell_type": "code",
   "execution_count": null,
   "id": "9d1a3c0c-e42d-464b-bd28-317f8b42337f",
   "metadata": {},
   "outputs": [],
   "source": [
    "numbers = [10, 20, 30, 40, 50]\n",
    "filtered = [num for num in numbers if num > 30]\n",
    "print(\"Angka-angka yang disaring menggunakan list comprehension:\", filtered)"
   ]
  }
 ],
 "metadata": {
  "kernelspec": {
   "display_name": "Python 3 (ipykernel)",
   "language": "python",
   "name": "python3"
  },
  "language_info": {
   "codemirror_mode": {
    "name": "ipython",
    "version": 3
   },
   "file_extension": ".py",
   "mimetype": "text/x-python",
   "name": "python",
   "nbconvert_exporter": "python",
   "pygments_lexer": "ipython3",
   "version": "3.9.0"
  }
 },
 "nbformat": 4,
 "nbformat_minor": 5
}
