{
 "cells": [
  {
   "cell_type": "markdown",
   "id": "574c8355-e06a-4a88-8fd0-a59e4f58d206",
   "metadata": {},
   "source": [
    "# Penjelasan Mengenai Pernyataan Kondisional dalam Python\n",
    "\n",
    "Pernyataan kondisional memungkinkan Anda mengontrol alur program Anda berdasarkan kondisi-kondisi tertentu.\n",
    "Mari kita jelajahi pernyataan if, klausa elif, dan klausa else."
   ]
  },
  {
   "cell_type": "markdown",
   "id": "2e93cd7e-97a9-4f1e-9f46-fd7509768410",
   "metadata": {},
   "source": [
    "# 1. Pernyataan if"
   ]
  },
  {
   "cell_type": "code",
   "execution_count": 1,
   "id": "a2c6bedf-508c-452e-8661-2e07a8e4904d",
   "metadata": {},
   "outputs": [],
   "source": [
    "x = 10"
   ]
  },
  {
   "cell_type": "markdown",
   "id": "6652e5fe-7221-4ba7-9cf9-ddf3c3a5706b",
   "metadata": {},
   "source": [
    "## Menggunakan pernyataan if untuk memeriksa suatu kondisi"
   ]
  },
  {
   "cell_type": "code",
   "execution_count": 2,
   "id": "86d2af2a-991c-42aa-9d6a-4a3f1a679150",
   "metadata": {},
   "outputs": [
    {
     "name": "stdout",
     "output_type": "stream",
     "text": [
      "x lebih besar dari 5\n"
     ]
    }
   ],
   "source": [
    "if x > 5:\n",
    "    print(\"x lebih besar dari 5\")"
   ]
  },
  {
   "cell_type": "markdown",
   "id": "36c8bb90-f30e-4402-a1eb-7314a5b3154e",
   "metadata": {},
   "source": [
    "# 2. Klausa elif"
   ]
  },
  {
   "cell_type": "code",
   "execution_count": 3,
   "id": "b9f9f840-ca3b-4c0e-80a6-9cc75d062ba2",
   "metadata": {},
   "outputs": [],
   "source": [
    "y = 3"
   ]
  },
  {
   "cell_type": "markdown",
   "id": "5d7c907a-75b7-4d64-b160-b022720dd294",
   "metadata": {},
   "source": [
    "## Menggunakan klausa elif untuk beberapa kondisi"
   ]
  },
  {
   "cell_type": "code",
   "execution_count": 4,
   "id": "f0cb822b-7cea-4989-bc6a-37fbbd546552",
   "metadata": {},
   "outputs": [
    {
     "name": "stdout",
     "output_type": "stream",
     "text": [
      "y kurang dari 5\n"
     ]
    }
   ],
   "source": [
    "if y > 5:\n",
    "    print(\"y lebih besar dari 5\")\n",
    "elif y == 5:\n",
    "    print(\"y sama dengan 5\")\n",
    "else:\n",
    "    print(\"y kurang dari 5\")"
   ]
  },
  {
   "cell_type": "markdown",
   "id": "2f7bdd76-f3b2-49de-b803-52a126e6eba9",
   "metadata": {},
   "source": [
    "# 3. Klausa else"
   ]
  },
  {
   "cell_type": "code",
   "execution_count": 5,
   "id": "75361ad0-0419-4251-9478-19b21e3064a0",
   "metadata": {},
   "outputs": [],
   "source": [
    "z = 8"
   ]
  },
  {
   "cell_type": "markdown",
   "id": "cbf4e2b8-5981-4f0b-9768-5aa86f47bb1e",
   "metadata": {},
   "source": [
    "## Menggunakan klausa else untuk menangani kasus lain"
   ]
  },
  {
   "cell_type": "code",
   "execution_count": 6,
   "id": "87e958be-acba-4ff8-aef6-75c3daf0341b",
   "metadata": {},
   "outputs": [
    {
     "name": "stdout",
     "output_type": "stream",
     "text": [
      "z tidak lebih besar dari 10\n"
     ]
    }
   ],
   "source": [
    "if z > 10:\n",
    "    print(\"z lebih besar dari 10\")\n",
    "else:\n",
    "    print(\"z tidak lebih besar dari 10\")"
   ]
  },
  {
   "cell_type": "markdown",
   "id": "29f3a06f-bcd8-4d11-bc06-682ada7be3cd",
   "metadata": {},
   "source": [
    "## Menggabungkan kondisi-kondisi"
   ]
  },
  {
   "cell_type": "code",
   "execution_count": 7,
   "id": "25bdf101-8ccc-40a4-9778-27248b1e6536",
   "metadata": {},
   "outputs": [],
   "source": [
    "a = 15\n",
    "b = 20"
   ]
  },
  {
   "cell_type": "markdown",
   "id": "6cfa626d-dc18-45a0-91a0-41ff8e2b58a6",
   "metadata": {},
   "source": [
    "## Menggunakan operator logika untuk menggabungkan kondisi-kondisi"
   ]
  },
  {
   "cell_type": "code",
   "execution_count": 8,
   "id": "45f92e1f-7b69-4044-8fd6-659739dde669",
   "metadata": {},
   "outputs": [
    {
     "name": "stdout",
     "output_type": "stream",
     "text": [
      "Baik 'a' maupun 'b' lebih besar dari 10\n"
     ]
    }
   ],
   "source": [
    "if a > 10 and b > 10:\n",
    "    print(\"Baik 'a' maupun 'b' lebih besar dari 10\")\n",
    "elif a > 10 or b > 10:\n",
    "    print(\"Setidaknya salah satu dari 'a' atau 'b' lebih besar dari 10\")\n",
    "else:\n",
    "    print(\"Tidak ada 'a' maupun 'b' yang lebih besar dari 10\")"
   ]
  }
 ],
 "metadata": {
  "kernelspec": {
   "display_name": "Python 3 (ipykernel)",
   "language": "python",
   "name": "python3"
  },
  "language_info": {
   "codemirror_mode": {
    "name": "ipython",
    "version": 3
   },
   "file_extension": ".py",
   "mimetype": "text/x-python",
   "name": "python",
   "nbconvert_exporter": "python",
   "pygments_lexer": "ipython3",
   "version": "3.9.17"
  }
 },
 "nbformat": 4,
 "nbformat_minor": 5
}
