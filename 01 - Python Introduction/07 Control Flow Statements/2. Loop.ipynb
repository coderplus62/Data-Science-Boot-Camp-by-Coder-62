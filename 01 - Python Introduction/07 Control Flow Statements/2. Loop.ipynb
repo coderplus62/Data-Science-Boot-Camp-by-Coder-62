{
 "cells": [
  {
   "cell_type": "markdown",
   "id": "acb4ea8b-b36f-46d8-bbe2-7d0eb708360d",
   "metadata": {},
   "source": [
    "# Penjelasan Mengenai Perulangan dalam Python\n",
    "\n",
    "Perulangan memungkinkan Anda untuk menjalankan blok kode secara berulang.\n",
    "Mari kita jelajahi perulangan while, perulangan for, fungsi range(),\n",
    "dan bagaimana melakukan perulangan melalui daftar (lists), string, kamus (dictionaries), dan perulangan bersarang."
   ]
  },
  {
   "cell_type": "markdown",
   "id": "2f6266ac-2a6b-452f-864a-7a5089c9ac1e",
   "metadata": {},
   "source": [
    "# 1. Pernyataan while"
   ]
  },
  {
   "cell_type": "code",
   "execution_count": 1,
   "id": "90fa1c4e-4cc6-463c-ad7c-7559728093e2",
   "metadata": {},
   "outputs": [],
   "source": [
    "count = 0"
   ]
  },
  {
   "cell_type": "markdown",
   "id": "3fa2a632-48d1-4e07-a43f-447fe56b0d79",
   "metadata": {},
   "source": [
    "## Menggunakan perulangan while untuk mengulangi kode selama suatu kondisi benar"
   ]
  },
  {
   "cell_type": "code",
   "execution_count": 2,
   "id": "c82e1391-c2d3-4bab-a3c0-095a9058bc4a",
   "metadata": {},
   "outputs": [
    {
     "name": "stdout",
     "output_type": "stream",
     "text": [
      "Count: 0\n",
      "Count: 1\n",
      "Count: 2\n",
      "Count: 3\n",
      "Count: 4\n"
     ]
    }
   ],
   "source": [
    "while count < 5:\n",
    "    print(\"Count:\", count)\n",
    "    count += 1"
   ]
  },
  {
   "cell_type": "markdown",
   "id": "5f9fb552-5a11-4001-a1b4-477dcfd49ec9",
   "metadata": {},
   "source": [
    "# 2. Pernyataan for"
   ]
  },
  {
   "cell_type": "markdown",
   "id": "7dd4da33-2c81-464b-a7ea-78578829a1d9",
   "metadata": {},
   "source": [
    "## Menggunakan perulangan for untuk mengulangi melalui suatu urutan (misalnya, range)"
   ]
  },
  {
   "cell_type": "code",
   "execution_count": 3,
   "id": "ce29629e-f843-4af0-9df8-33da38c1b20a",
   "metadata": {},
   "outputs": [
    {
     "name": "stdout",
     "output_type": "stream",
     "text": [
      "Nilai: 0\n",
      "Nilai: 1\n",
      "Nilai: 2\n",
      "Nilai: 3\n",
      "Nilai: 4\n"
     ]
    }
   ],
   "source": [
    "for i in range(5):\n",
    "    print(\"Nilai:\", i)"
   ]
  },
  {
   "cell_type": "markdown",
   "id": "6334faec-08b3-464f-91b3-af1e9f717b74",
   "metadata": {},
   "source": [
    "# 3. Fungsi range()"
   ]
  },
  {
   "cell_type": "markdown",
   "id": "22dc1164-7c9d-42e4-827c-c576418048e5",
   "metadata": {},
   "source": [
    "## Menggunakan fungsi range() untuk membuat urutan angka"
   ]
  },
  {
   "cell_type": "code",
   "execution_count": 4,
   "id": "3bb81848-1a94-4a49-b475-d66365b987ee",
   "metadata": {},
   "outputs": [
    {
     "name": "stdout",
     "output_type": "stream",
     "text": [
      "Angka: [1, 2, 3, 4, 5]\n"
     ]
    }
   ],
   "source": [
    "numbers = list(range(1, 6))  # Membuat daftar angka dari 1 hingga 5\n",
    "print(\"Angka:\", numbers)"
   ]
  },
  {
   "cell_type": "markdown",
   "id": "db8713c1-cdfc-4481-a634-3e2dfe645311",
   "metadata": {},
   "source": [
    "# 4. Melakukan Perulangan Melalui Daftar (Lists)"
   ]
  },
  {
   "cell_type": "code",
   "execution_count": 5,
   "id": "a1a12e68-232d-4bfe-aa29-a8811ce9e0eb",
   "metadata": {},
   "outputs": [],
   "source": [
    "my_list = [10, 20, 30, 40, 50]"
   ]
  },
  {
   "cell_type": "markdown",
   "id": "63a97407-d08a-4bcc-a57e-58774ee6512c",
   "metadata": {},
   "source": [
    "## Menggunakan perulangan for untuk mengulangi melalui daftar"
   ]
  },
  {
   "cell_type": "code",
   "execution_count": 6,
   "id": "891eaa98-dc34-416e-8f77-f4e660b72019",
   "metadata": {},
   "outputs": [
    {
     "name": "stdout",
     "output_type": "stream",
     "text": [
      "Item: 10\n",
      "Item: 20\n",
      "Item: 30\n",
      "Item: 40\n",
      "Item: 50\n"
     ]
    }
   ],
   "source": [
    "for item in my_list:\n",
    "    print(\"Item:\", item)"
   ]
  },
  {
   "cell_type": "markdown",
   "id": "2750a49d-e281-4fe6-b5e9-cdd53b4f3619",
   "metadata": {},
   "source": [
    "# 5. Melakukan Perulangan Melalui String"
   ]
  },
  {
   "cell_type": "code",
   "execution_count": 7,
   "id": "5a7b3b22-ae0d-4a69-898c-ab89bdd7b720",
   "metadata": {},
   "outputs": [],
   "source": [
    "my_string = \"Python\""
   ]
  },
  {
   "cell_type": "markdown",
   "id": "2a853545-258a-4eae-835d-3da005670a39",
   "metadata": {},
   "source": [
    "## Menggunakan perulangan for untuk mengulangi melalui string"
   ]
  },
  {
   "cell_type": "code",
   "execution_count": 8,
   "id": "20028906-3b3c-4f07-9a0a-46cf8512645f",
   "metadata": {},
   "outputs": [
    {
     "name": "stdout",
     "output_type": "stream",
     "text": [
      "Karakter: P\n",
      "Karakter: y\n",
      "Karakter: t\n",
      "Karakter: h\n",
      "Karakter: o\n",
      "Karakter: n\n"
     ]
    }
   ],
   "source": [
    "for char in my_string:\n",
    "    print(\"Karakter:\", char)"
   ]
  },
  {
   "cell_type": "markdown",
   "id": "9d601b00-7110-4fda-acfa-92454230931e",
   "metadata": {},
   "source": [
    "# 6. Melakukan Perulangan Melalui Kamus (Dictionaries)"
   ]
  },
  {
   "cell_type": "code",
   "execution_count": 9,
   "id": "8a693484-b394-48b3-b947-6804a1890ca8",
   "metadata": {},
   "outputs": [],
   "source": [
    "my_dict = {\"a\": 1, \"b\": 2, \"c\": 3}"
   ]
  },
  {
   "cell_type": "markdown",
   "id": "1845ef8e-e022-45de-9a57-bdcde4e034f6",
   "metadata": {},
   "source": [
    "## Menggunakan perulangan for untuk mengulangi melalui kunci-kunci kamus (dictionaries)"
   ]
  },
  {
   "cell_type": "code",
   "execution_count": 10,
   "id": "ffe30c41-d070-4a43-8389-2c82fd74440b",
   "metadata": {},
   "outputs": [
    {
     "name": "stdout",
     "output_type": "stream",
     "text": [
      "Kunci: a Nilai: 1\n",
      "Kunci: b Nilai: 2\n",
      "Kunci: c Nilai: 3\n"
     ]
    }
   ],
   "source": [
    "for key in my_dict:\n",
    "    value = my_dict[key]\n",
    "    print(\"Kunci:\", key, \"Nilai:\", value)"
   ]
  },
  {
   "cell_type": "markdown",
   "id": "4937e973-ce99-4137-a408-426710f764e9",
   "metadata": {},
   "source": [
    "# 7. Perulangan Bersarang"
   ]
  },
  {
   "cell_type": "markdown",
   "id": "b3da8d01-f112-4870-b950-c61862788cb7",
   "metadata": {},
   "source": [
    "## Menggunakan perulangan bersarang untuk membuat tabel perkalian"
   ]
  },
  {
   "cell_type": "code",
   "execution_count": 11,
   "id": "c5a7ab53-c1c6-45db-bb9b-77c477ee1560",
   "metadata": {},
   "outputs": [
    {
     "name": "stdout",
     "output_type": "stream",
     "text": [
      "1 * 1 = 1\n",
      "1 * 2 = 2\n",
      "1 * 3 = 3\n",
      "1 * 4 = 4\n",
      "1 * 5 = 5\n",
      "2 * 1 = 2\n",
      "2 * 2 = 4\n",
      "2 * 3 = 6\n",
      "2 * 4 = 8\n",
      "2 * 5 = 10\n",
      "3 * 1 = 3\n",
      "3 * 2 = 6\n",
      "3 * 3 = 9\n",
      "3 * 4 = 12\n",
      "3 * 5 = 15\n",
      "4 * 1 = 4\n",
      "4 * 2 = 8\n",
      "4 * 3 = 12\n",
      "4 * 4 = 16\n",
      "4 * 5 = 20\n",
      "5 * 1 = 5\n",
      "5 * 2 = 10\n",
      "5 * 3 = 15\n",
      "5 * 4 = 20\n",
      "5 * 5 = 25\n"
     ]
    }
   ],
   "source": [
    "for i in range(1, 6):\n",
    "    for j in range(1, 6):\n",
    "        result = i * j\n",
    "        print(f\"{i} * {j} = {result}\")"
   ]
  }
 ],
 "metadata": {
  "kernelspec": {
   "display_name": "Python 3 (ipykernel)",
   "language": "python",
   "name": "python3"
  },
  "language_info": {
   "codemirror_mode": {
    "name": "ipython",
    "version": 3
   },
   "file_extension": ".py",
   "mimetype": "text/x-python",
   "name": "python",
   "nbconvert_exporter": "python",
   "pygments_lexer": "ipython3",
   "version": "3.9.17"
  }
 },
 "nbformat": 4,
 "nbformat_minor": 5
}
