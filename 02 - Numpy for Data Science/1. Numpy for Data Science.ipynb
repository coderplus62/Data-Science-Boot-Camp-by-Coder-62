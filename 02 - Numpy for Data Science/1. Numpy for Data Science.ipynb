{
 "cells": [
  {
   "cell_type": "markdown",
   "id": "f4f94988-97bb-4d83-acc7-198bf901bdc9",
   "metadata": {},
   "source": [
    "# 1. NumPy Arrays (Array Berdimensi N)\n",
    "Array NumPy, juga dikenal sebagai ndarray, adalah struktur data fundamental dalam NumPy.\n",
    "Mereka adalah kumpulan elemen yang tersusun dalam bentuk matriks dengan dimensi yang dapat diatur."
   ]
  },
  {
   "cell_type": "code",
   "execution_count": 2,
   "id": "b8de6288-28b0-4078-8b92-c938c07e0bce",
   "metadata": {},
   "outputs": [
    {
     "name": "stdout",
     "output_type": "stream",
     "text": [
      "Array 1D: [1 2 3 4 5]\n",
      "Array 2D: [[1 2 3]\n",
      " [4 5 6]]\n",
      "Array 3D: [[[1 2]\n",
      "  [3 4]]\n",
      "\n",
      " [[5 6]\n",
      "  [7 8]]]\n"
     ]
    }
   ],
   "source": [
    "# Import library NumPy\n",
    "import numpy as np\n",
    "\n",
    "# Membuat array 1D\n",
    "arr_1d = np.array([1, 2, 3, 4, 5])\n",
    "# Membuat array 2D\n",
    "arr_2d = np.array([[1, 2, 3], [4, 5, 6]])\n",
    "\n",
    "# Array NumPy dapat memiliki dimensi yang lebih tinggi juga.\n",
    "# Membuat array 3D\n",
    "arr_3d = np.array([[[1, 2], [3, 4]], [[5, 6], [7, 8]]])\n",
    "\n",
    "print('Array 1D:', arr_1d)\n",
    "print('Array 2D:', arr_2d)\n",
    "print('Array 3D:', arr_3d)"
   ]
  },
  {
   "cell_type": "code",
   "execution_count": 3,
   "id": "6e45f912-07b4-4103-a384-e5fc054a604a",
   "metadata": {},
   "outputs": [
    {
     "name": "stdout",
     "output_type": "stream",
     "text": [
      "Array 1D: (5,)\n",
      "Array 2D: (2, 3)\n",
      "Array 3D: (2, 2, 2)\n"
     ]
    }
   ],
   "source": [
    "# kamu dapat menggunakan atribut 'shape' untuk melihat dimensi array.\n",
    "shape_arr_1d = arr_1d.shape\n",
    "shape_arr_2d = arr_2d.shape\n",
    "shape_arr_3d = arr_3d.shape\n",
    "\n",
    "print('Array 1D:', shape_arr_1d)\n",
    "print('Array 2D:', shape_arr_2d)\n",
    "print('Array 3D:', shape_arr_3d)"
   ]
  },
  {
   "cell_type": "code",
   "execution_count": 5,
   "id": "21c14c5f-d816-4b32-81d3-21e2df9fffaa",
   "metadata": {},
   "outputs": [
    {
     "data": {
      "text/plain": [
       "2"
      ]
     },
     "execution_count": 5,
     "metadata": {},
     "output_type": "execute_result"
    }
   ],
   "source": [
    "# kamu juga dapat menggunakan fungsi len() untuk mendapatkan panjang array dalam dimensi pertama.\n",
    "panjang_dimensi_pertama = len(arr_3d)  # Hasilnya 2 karena ada dua matriks dalam dimensi pertama\n",
    "panjang_dimensi_pertama"
   ]
  },
  {
   "cell_type": "code",
   "execution_count": 6,
   "id": "52508b69-c3da-4552-8ce7-7c105aac3335",
   "metadata": {},
   "outputs": [
    {
     "data": {
      "text/plain": [
       "array([5, 7, 9])"
      ]
     },
     "execution_count": 6,
     "metadata": {},
     "output_type": "execute_result"
    }
   ],
   "source": [
    "# Array NumPy memungkinkan operasi matematika yang efisien pada seluruh array atau elemen-elemennya.\n",
    "arr1 = np.array([1, 2, 3])\n",
    "arr2 = np.array([4, 5, 6])\n",
    "hasil_penjumlahan = arr1 + arr2  # Menghasilkan [5, 7, 9]\n",
    "hasil_penjumlahan"
   ]
  },
  {
   "cell_type": "markdown",
   "id": "ef1f8e3e-6cf5-439e-8b6d-e98550115e65",
   "metadata": {},
   "source": [
    "# 2. Pembuatan Array Menggunakan Fungsi Bawaan\n",
    "NumPy menyediakan berbagai fungsi bawaan untuk membuat array dengan berbagai bentuk dan isi."
   ]
  },
  {
   "cell_type": "code",
   "execution_count": 1,
   "id": "978de5e8-c06e-4376-9dd8-2160006c79fb",
   "metadata": {},
   "outputs": [
    {
     "data": {
      "text/plain": [
       "array([0.97765708, 0.12866118, 0.42888503, 0.40974849, 0.80930577])"
      ]
     },
     "execution_count": 1,
     "metadata": {},
     "output_type": "execute_result"
    }
   ],
   "source": [
    "# Import pustaka NumPy\n",
    "import numpy as np\n",
    "\n",
    "# Membuat array 1D dengan angka acak\n",
    "arr_random = np.random.rand(5)  # Array 1D dengan 5 angka acak antara 0 dan 1\n",
    "arr_random"
   ]
  },
  {
   "cell_type": "code",
   "execution_count": 2,
   "id": "d53732f3-f9d2-477a-a5db-12d9e4282f5c",
   "metadata": {},
   "outputs": [
    {
     "data": {
      "text/plain": [
       "array([[0.93093234, 0.81576116, 0.98601009, 0.46431546],\n",
       "       [0.98798754, 0.64873114, 0.26377099, 0.24390898],\n",
       "       [0.6650918 , 0.51211004, 0.61272848, 0.86416687]])"
      ]
     },
     "execution_count": 2,
     "metadata": {},
     "output_type": "execute_result"
    }
   ],
   "source": [
    "# Membuat array 2D dengan angka acak\n",
    "arr_random_2d = np.random.rand(3, 4)  # Array 2D dengan 3 baris dan 4 kolom angka acak\n",
    "arr_random_2d"
   ]
  },
  {
   "cell_type": "code",
   "execution_count": 3,
   "id": "58d7f5e4-461e-4364-8d07-13d4f61312a5",
   "metadata": {},
   "outputs": [
    {
     "data": {
      "text/plain": [
       "array([0, 1, 2, 3, 4, 5, 6, 7, 8, 9])"
      ]
     },
     "execution_count": 3,
     "metadata": {},
     "output_type": "execute_result"
    }
   ],
   "source": [
    "# Membuat array 1D dengan urutan angka\n",
    "arr_range = np.arange(10)  # Array 1D dengan angka 0 hingga 9\n",
    "arr_range"
   ]
  },
  {
   "cell_type": "code",
   "execution_count": 4,
   "id": "898f2b09-5b0d-4f65-8d02-9c83f94aad96",
   "metadata": {},
   "outputs": [
    {
     "data": {
      "text/plain": [
       "array([0.  , 0.25, 0.5 , 0.75, 1.  ])"
      ]
     },
     "execution_count": 4,
     "metadata": {},
     "output_type": "execute_result"
    }
   ],
   "source": [
    "# Membuat array 1D dengan angka dalam interval tertentu\n",
    "arr_linspace = np.linspace(0, 1, 5)  # Array 1D dengan 5 angka antara 0 dan 1\n",
    "arr_linspace"
   ]
  },
  {
   "cell_type": "code",
   "execution_count": 5,
   "id": "32d8f1c8-0531-4ec8-afad-d44ddb101b74",
   "metadata": {},
   "outputs": [
    {
     "data": {
      "text/plain": [
       "array([[1., 0., 0.],\n",
       "       [0., 1., 0.],\n",
       "       [0., 0., 1.]])"
      ]
     },
     "execution_count": 5,
     "metadata": {},
     "output_type": "execute_result"
    }
   ],
   "source": [
    "# Membuat array identitas (matrix identitas)\n",
    "arr_identity = np.eye(3)  # Matriks identitas 3x3\n",
    "arr_identity"
   ]
  },
  {
   "cell_type": "code",
   "execution_count": 6,
   "id": "421ce66e-2ffc-455e-a3fe-f0f72f26df78",
   "metadata": {},
   "outputs": [
    {
     "name": "stdout",
     "output_type": "stream",
     "text": [
      "Zeros: [0. 0. 0. 0.]\n",
      "Ones: [[1. 1. 1.]\n",
      " [1. 1. 1.]]\n"
     ]
    }
   ],
   "source": [
    "# Membuat array dengan semua elemen bernilai nol atau satu\n",
    "arr_zeros = np.zeros(4)  # Array 1D dengan 4 elemen bernilai 0\n",
    "arr_ones = np.ones((2, 3))  # Array 2D dengan 2 baris dan 3 kolom, semua elemen bernilai 1\n",
    "\n",
    "print('Zeros:', arr_zeros)\n",
    "print('Ones:', arr_ones)"
   ]
  },
  {
   "cell_type": "code",
   "execution_count": 7,
   "id": "495c6fdd-78f1-440b-b623-80cb76fa4174",
   "metadata": {},
   "outputs": [
    {
     "name": "stdout",
     "output_type": "stream",
     "text": [
      "Array awal: [ 0  1  2  3  4  5  6  7  8  9 10 11]\n",
      "Array reshaped: [[ 0  1  2  3]\n",
      " [ 4  5  6  7]\n",
      " [ 8  9 10 11]]\n"
     ]
    }
   ],
   "source": [
    "# Fungsi-fungsi ini memudahkan pembuatan array dengan berbagai karakteristik, yang berguna untuk analisis data dan komputasi ilmiah.\n",
    "\n",
    "# kamu juga dapat mengubah bentuk array dengan menggunakan metode reshape.\n",
    "arr_to_reshape = np.arange(12)  # Membuat array 1D dengan 12 elemen\n",
    "reshaped_arr = arr_to_reshape.reshape(3, 4)  # Mengubahnya menjadi array 2D dengan 3 baris dan 4 kolom\n",
    "\n",
    "print('Array awal:', arr_to_reshape)\n",
    "print('Array reshaped:', reshaped_arr)"
   ]
  },
  {
   "cell_type": "markdown",
   "id": "7ae54f1d-9e46-4792-aac9-e04b0ffd5f1b",
   "metadata": {},
   "source": [
    "## 3. Random Sampling dalam NumPy\n",
    "NumPy menyediakan fungsi untuk menghasilkan angka acak dari berbagai distribusi."
   ]
  },
  {
   "cell_type": "code",
   "execution_count": 2,
   "id": "ecaebd55-3946-476b-822e-cbd79ec6132e",
   "metadata": {},
   "outputs": [
    {
     "data": {
      "text/plain": [
       "array([[ 2.25418719, -2.04033063, -0.65345299],\n",
       "       [-0.89533699,  2.05498587, -1.13978748],\n",
       "       [ 0.22189331, -0.29945803, -0.09438236]])"
      ]
     },
     "execution_count": 2,
     "metadata": {},
     "output_type": "execute_result"
    }
   ],
   "source": [
    "# Import pustaka NumPy\n",
    "import numpy as np\n",
    "\n",
    "# Menghasilkan matriks 3x3 dengan angka acak dari distribusi normal dengan rata-rata 0 dan deviasi standar 1\n",
    "random_normal = np.random.normal(0, 1, size=(3, 3))\n",
    "random_normal"
   ]
  },
  {
   "cell_type": "code",
   "execution_count": 3,
   "id": "9e28a73b-6eaa-4f83-98aa-fe36fc5f0e59",
   "metadata": {},
   "outputs": [
    {
     "data": {
      "text/plain": [
       "array([0.77233006, 0.17552804, 0.64861479, 0.79646052, 0.41992364])"
      ]
     },
     "execution_count": 3,
     "metadata": {},
     "output_type": "execute_result"
    }
   ],
   "source": [
    "# Menghasilkan array dengan 5 angka acak dari distribusi uniform antara 0 dan 1\n",
    "random_uniform = np.random.uniform(0, 1, size=5)\n",
    "random_uniform"
   ]
  },
  {
   "cell_type": "code",
   "execution_count": 4,
   "id": "9043d9b8-c478-45a0-90bb-52dce2f4c1f8",
   "metadata": {},
   "outputs": [
    {
     "data": {
      "text/plain": [
       "array([[ 6,  3,  2,  9],\n",
       "       [10, 10,  4,  5]])"
      ]
     },
     "execution_count": 4,
     "metadata": {},
     "output_type": "execute_result"
    }
   ],
   "source": [
    "# Menghasilkan matriks 2x4 dengan angka acak bulat antara 1 dan 10\n",
    "random_integers = np.random.randint(1, 11, size=(2, 4))\n",
    "random_integers"
   ]
  },
  {
   "cell_type": "code",
   "execution_count": 11,
   "id": "a4643ad0-168e-4e46-a42e-48f76c0d745c",
   "metadata": {},
   "outputs": [
    {
     "name": "stdout",
     "output_type": "stream",
     "text": [
      "Array awal: [1 2 3 4 5]\n",
      "Array shuffled: [4 5 3 1 2]\n"
     ]
    }
   ],
   "source": [
    "# kamu juga dapat mengacak urutan elemen dalam array.\n",
    "arr_to_shuffle = np.array([1, 2, 3, 4, 5])\n",
    "print('Array awal:', arr_to_shuffle)\n",
    "np.random.shuffle(arr_to_shuffle)\n",
    "print('Array shuffled:', arr_to_shuffle)"
   ]
  },
  {
   "cell_type": "markdown",
   "id": "e5fed4a8-f278-419c-8a3c-900ea3ffdc37",
   "metadata": {},
   "source": [
    "# 4. Atribut dan Metode Array dalam NumPy\n",
    "Array dalam NumPy memiliki berbagai atribut dan metode yang dapat membantu kamu mengakses informasi dan melakukan operasi pada array."
   ]
  },
  {
   "cell_type": "code",
   "execution_count": 1,
   "id": "cf31e0b5-cfc0-43c4-8c7d-4c43761ba5c0",
   "metadata": {},
   "outputs": [],
   "source": [
    "# Import pustaka NumPy\n",
    "import numpy as np\n",
    "\n",
    "# Membuat array contoh\n",
    "example_array = np.array([[1, 2, 3], [4, 5, 6]])\n",
    "example_array"
   ]
  },
  {
   "cell_type": "code",
   "execution_count": 2,
   "id": "cdab1ab1-cabe-4fde-8eff-ceef292135d3",
   "metadata": {},
   "outputs": [],
   "source": [
    "# Mengakses atribut 'shape'\n",
    "# Atribut 'shape' memberikan dimensi array dalam bentuk tuple. Misalnya, (2, 3) berarti 2 baris dan 3 kolom.\n",
    "shape = example_array.shape\n",
    "shape"
   ]
  },
  {
   "cell_type": "code",
   "execution_count": 3,
   "id": "0fbe0113-a4b2-428c-8528-8741e799c9e9",
   "metadata": {},
   "outputs": [],
   "source": [
    "# Mengakses atribut 'ndim'\n",
    "# Atribut 'ndim' memberikan jumlah dimensi array.\n",
    "dimension = example_array.ndim\n",
    "dimension"
   ]
  },
  {
   "cell_type": "code",
   "execution_count": 4,
   "id": "f1dc613d-031c-4d3a-92a9-5e7a1502a5f6",
   "metadata": {},
   "outputs": [],
   "source": [
    "# Mengakses atribut 'size'\n",
    "# Atribut 'size' memberikan total jumlah elemen dalam array.\n",
    "size = example_array.size\n",
    "size"
   ]
  },
  {
   "cell_type": "code",
   "execution_count": 5,
   "id": "f43ae0a9-4a51-4b93-a8c8-52d1c7db6773",
   "metadata": {},
   "outputs": [],
   "source": [
    "# Mengakses atribut 'dtype'\n",
    "# Atribut 'dtype' memberikan tipe data elemen dalam array.\n",
    "data_type = example_array.dtype\n",
    "data_type"
   ]
  },
  {
   "cell_type": "code",
   "execution_count": 10,
   "id": "d17f5b5f-ce92-445f-9f11-e754be0133b7",
   "metadata": {},
   "outputs": [
    {
     "name": "stdout",
     "output_type": "stream",
     "text": [
      "Max value 6\n",
      "Min value 1\n"
     ]
    }
   ],
   "source": [
    "# Menggunakan metode 'max' dan 'min'\n",
    "# Metode 'max' mengembalikan nilai maksimum dalam array, dan 'min' mengembalikan nilai minimum.\n",
    "max_value = example_array.max()\n",
    "min_value = example_array.min()\n",
    "\n",
    "print('Max value', max_value)\n",
    "print('Min value', min_value)"
   ]
  },
  {
   "cell_type": "code",
   "execution_count": 7,
   "id": "aea6bf87-28ee-4213-99b5-caa711f99c9a",
   "metadata": {},
   "outputs": [],
   "source": [
    "# Menggunakan metode 'sum'\n",
    "# Metode 'sum' mengembalikan jumlah semua nilai dalam array.\n",
    "sum_values = example_array.sum()\n",
    "sum_values"
   ]
  },
  {
   "cell_type": "code",
   "execution_count": 8,
   "id": "45e0a5ff-bdf6-4725-a2b7-d92e5f0732cf",
   "metadata": {},
   "outputs": [],
   "source": [
    "# Menggunakan metode 'mean'\n",
    "# Metode 'mean' mengembalikan rata-rata dari semua nilai dalam array.\n",
    "mean_value = example_array.mean()\n",
    "mean_value"
   ]
  },
  {
   "cell_type": "code",
   "execution_count": 11,
   "id": "d5c449c6-c5aa-4cff-8068-f9ea28859034",
   "metadata": {},
   "outputs": [
    {
     "name": "stdout",
     "output_type": "stream",
     "text": [
      "Standard Deviation: 1.707825127659933\n",
      "Variance: 2.9166666666666665\n"
     ]
    }
   ],
   "source": [
    "# Menggunakan metode 'std' dan 'var'\n",
    "# Metode 'std' mengembalikan deviasi standar dari semua nilai dalam array, dan 'var' mengembalikan varians.\n",
    "standard_deviation = example_array.std()\n",
    "variance = example_array.var()\n",
    "\n",
    "print('Standard Deviation:', standard_deviation)\n",
    "print('Variance:', variance)"
   ]
  },
  {
   "cell_type": "markdown",
   "id": "143326b2-365c-46d7-9860-80dbd00bf7df",
   "metadata": {},
   "source": [
    "# 5. Manipulasi Array dalam NumPy\n",
    "Manipulasi array adalah operasi yang melibatkan mengubah bentuk, menggabungkan, dan memisahkan array."
   ]
  },
  {
   "cell_type": "code",
   "execution_count": 2,
   "id": "2906088d-ffff-44b4-bb7b-c45ca46210df",
   "metadata": {},
   "outputs": [
    {
     "data": {
      "text/plain": [
       "array([[1, 2, 3],\n",
       "       [4, 5, 6],\n",
       "       [7, 8, 9]])"
      ]
     },
     "execution_count": 2,
     "metadata": {},
     "output_type": "execute_result"
    }
   ],
   "source": [
    "# Import pustaka NumPy\n",
    "import numpy as np\n",
    "\n",
    "# Membuat array contoh\n",
    "example_array = np.array([[1, 2, 3], [4, 5, 6], [7, 8, 9]])\n",
    "example_array"
   ]
  },
  {
   "cell_type": "code",
   "execution_count": 3,
   "id": "9bc85931-1ad1-4460-ae2e-a7774c4e43ba",
   "metadata": {},
   "outputs": [
    {
     "data": {
      "text/plain": [
       "array([[1],\n",
       "       [2],\n",
       "       [3],\n",
       "       [4],\n",
       "       [5],\n",
       "       [6],\n",
       "       [7],\n",
       "       [8],\n",
       "       [9]])"
      ]
     },
     "execution_count": 3,
     "metadata": {},
     "output_type": "execute_result"
    }
   ],
   "source": [
    "# Menggunakan metode 'reshape'\n",
    "# Metode 'reshape' mengubah bentuk array menjadi bentuk yang diinginkan.\n",
    "reshaped_array = example_array.reshape(9, 1)\n",
    "reshaped_array"
   ]
  },
  {
   "cell_type": "code",
   "execution_count": 4,
   "id": "d799383f-8a2d-4767-9f72-3332fbc9fa79",
   "metadata": {},
   "outputs": [
    {
     "data": {
      "text/plain": [
       "array([1, 2, 3, 4, 5, 6, 7, 8, 9])"
      ]
     },
     "execution_count": 4,
     "metadata": {},
     "output_type": "execute_result"
    }
   ],
   "source": [
    "# Menggunakan metode 'flatten'\n",
    "# Metode 'flatten' mengubah array berdimensi N menjadi array 1D.\n",
    "flattened_array = example_array.flatten()\n",
    "flattened_array"
   ]
  },
  {
   "cell_type": "code",
   "execution_count": 5,
   "id": "034dd2fe-2755-4f20-9996-9266d50b2fec",
   "metadata": {},
   "outputs": [
    {
     "data": {
      "text/plain": [
       "array([[1, 4, 7],\n",
       "       [2, 5, 8],\n",
       "       [3, 6, 9]])"
      ]
     },
     "execution_count": 5,
     "metadata": {},
     "output_type": "execute_result"
    }
   ],
   "source": [
    "# Menggunakan metode 'transpose'\n",
    "# Metode 'transpose' menukar baris dan kolom dalam array.\n",
    "transposed_array = example_array.transpose()\n",
    "transposed_array"
   ]
  },
  {
   "cell_type": "code",
   "execution_count": 6,
   "id": "b767faa7-ddd1-493e-811d-ff00743258ef",
   "metadata": {},
   "outputs": [
    {
     "name": "stdout",
     "output_type": "stream",
     "text": [
      "[[1 2 3]\n",
      " [4 5 6]]\n",
      "[1 2 3 4 5 6]\n"
     ]
    }
   ],
   "source": [
    "# Menggunakan metode 'vstack' dan 'hstack'\n",
    "# Metode 'vstack' menggabungkan array secara vertikal, dan 'hstack' menggabungkan array secara horizontal.\n",
    "array1 = np.array([1, 2, 3])\n",
    "array2 = np.array([4, 5, 6])\n",
    "vertical_stack = np.vstack((array1, array2))\n",
    "horizontal_stack = np.hstack((array1, array2))\n",
    "\n",
    "print(vertical_stack)\n",
    "print(horizontal_stack)"
   ]
  },
  {
   "cell_type": "code",
   "execution_count": 7,
   "id": "634e4403-a2bf-4be8-b7c9-269502bdc4f1",
   "metadata": {},
   "outputs": [
    {
     "data": {
      "text/plain": [
       "[array([[1],\n",
       "        [4],\n",
       "        [7]]),\n",
       " array([[2],\n",
       "        [5],\n",
       "        [8]]),\n",
       " array([[3],\n",
       "        [6],\n",
       "        [9]])]"
      ]
     },
     "execution_count": 7,
     "metadata": {},
     "output_type": "execute_result"
    }
   ],
   "source": [
    "# Menggunakan metode 'split'\n",
    "# Metode 'split' memisahkan array menjadi bagian-bagian dengan ukuran tertentu.\n",
    "split_arrays = np.split(example_array, 3, axis=1)\n",
    "split_arrays"
   ]
  },
  {
   "cell_type": "code",
   "execution_count": 8,
   "id": "d2f0e264-1142-4c90-9d51-528a9c7e7239",
   "metadata": {},
   "outputs": [
    {
     "data": {
      "text/plain": [
       "array([[1, 2, 3],\n",
       "       [7, 8, 9]])"
      ]
     },
     "execution_count": 8,
     "metadata": {},
     "output_type": "execute_result"
    }
   ],
   "source": [
    "# Menggunakan metode 'delete'\n",
    "# Metode 'delete' menghapus baris atau kolom tertentu dari array.\n",
    "new_array = np.delete(example_array, 1, axis=0)\n",
    "new_array"
   ]
  },
  {
   "cell_type": "markdown",
   "id": "3ba6da75-ce76-4465-b45c-cf6c13c611aa",
   "metadata": {},
   "source": [
    "# 6. Pengindeksan dan Pengulangan Array dalam NumPy\n",
    "Pengindeksan memungkinkan kamu mengakses elemen tertentu dalam array, sementara pengulangan memungkinkan kamu mengulangi elemen dalam array."
   ]
  },
  {
   "cell_type": "code",
   "execution_count": 2,
   "id": "d9f0b083-7c7d-4747-90d8-34f3e3952fc6",
   "metadata": {},
   "outputs": [
    {
     "data": {
      "text/plain": [
       "array([1, 2, 3, 4, 5])"
      ]
     },
     "execution_count": 2,
     "metadata": {},
     "output_type": "execute_result"
    }
   ],
   "source": [
    "# Import pustaka NumPy\n",
    "import numpy as np\n",
    "\n",
    "# Membuat array contoh\n",
    "example_array = np.array([1, 2, 3, 4, 5])\n",
    "example_array"
   ]
  },
  {
   "cell_type": "code",
   "execution_count": 3,
   "id": "dcbc245e-6711-4779-a749-82962f821e11",
   "metadata": {},
   "outputs": [
    {
     "name": "stdout",
     "output_type": "stream",
     "text": [
      "1\n",
      "[2 3 4]\n"
     ]
    }
   ],
   "source": [
    "# Pengindeksan dan Subsetting\n",
    "elemen_pertama = example_array[0]  # Mengakses elemen pertama (indeks 0)\n",
    "subset_array = example_array[1:4]  # Mengambil subset dari indeks 1 hingga 3 (indeks 4 tidak termasuk)\n",
    "\n",
    "print(elemen_pertama)\n",
    "print(subset_array)"
   ]
  },
  {
   "cell_type": "code",
   "execution_count": 4,
   "id": "38d9a515-e9dd-4507-9881-4b8d3a1eee21",
   "metadata": {},
   "outputs": [
    {
     "name": "stdout",
     "output_type": "stream",
     "text": [
      "[False False  True  True  True]\n",
      "[3 4 5]\n"
     ]
    }
   ],
   "source": [
    "# Boolean Indexing\n",
    "boolean_mask = example_array > 2  # Membuat masker boolean berdasarkan kondisi\n",
    "filtered_array = example_array[boolean_mask]  # Mengambil elemen yang memenuhi kondisi\n",
    "\n",
    "print(boolean_mask)\n",
    "print(filtered_array)"
   ]
  },
  {
   "cell_type": "code",
   "execution_count": 5,
   "id": "fec38906-0d57-41a0-b30c-83164be4938d",
   "metadata": {},
   "outputs": [
    {
     "name": "stdout",
     "output_type": "stream",
     "text": [
      "1\n",
      "2\n",
      "3\n",
      "4\n",
      "5\n"
     ]
    }
   ],
   "source": [
    "# Pengulangan\n",
    "for elemen in example_array:\n",
    "    print(elemen)"
   ]
  },
  {
   "cell_type": "code",
   "execution_count": 6,
   "id": "402af57e-61cb-4f68-8786-c0ae9fff61f7",
   "metadata": {},
   "outputs": [
    {
     "name": "stdout",
     "output_type": "stream",
     "text": [
      "[[1 2 3]\n",
      " [4 5 6]\n",
      " [7 8 9]]\n",
      "1\n",
      "[4 5 6]\n",
      "[3 6 9]\n"
     ]
    }
   ],
   "source": [
    "# Pengindeksan dan Pengulangan dalam Array Multidimensi\n",
    "multidimensional_array = np.array([[1, 2, 3], [4, 5, 6], [7, 8, 9]])\n",
    "\n",
    "elemen_pertama = multidimensional_array[0, 0]  # Mengakses elemen pertama\n",
    "baris_kedua = multidimensional_array[1, :]  # Mengakses semua elemen dalam baris kedua\n",
    "kolom_ketiga = multidimensional_array[:, 2]  # Mengakses semua elemen dalam kolom ketiga\n",
    "\n",
    "print(multidimensional_array)\n",
    "print(elemen_pertama)\n",
    "print(baris_kedua)\n",
    "print(kolom_ketiga)"
   ]
  },
  {
   "cell_type": "code",
   "execution_count": 7,
   "id": "bd89da0d-ac6f-4c90-bb8d-58875db4c584",
   "metadata": {},
   "outputs": [
    {
     "name": "stdout",
     "output_type": "stream",
     "text": [
      "1\n",
      "2\n",
      "3\n",
      "4\n",
      "5\n",
      "6\n",
      "7\n",
      "8\n",
      "9\n"
     ]
    }
   ],
   "source": [
    "# Pengulangan dalam array multidimensi\n",
    "for baris in multidimensional_array:\n",
    "    for elemen in baris:\n",
    "        print(elemen)"
   ]
  }
 ],
 "metadata": {
  "kernelspec": {
   "display_name": "Python 3 (ipykernel)",
   "language": "python",
   "name": "python3"
  },
  "language_info": {
   "codemirror_mode": {
    "name": "ipython",
    "version": 3
   },
   "file_extension": ".py",
   "mimetype": "text/x-python",
   "name": "python",
   "nbconvert_exporter": "python",
   "pygments_lexer": "ipython3",
   "version": "3.9.0"
  }
 },
 "nbformat": 4,
 "nbformat_minor": 5
}
