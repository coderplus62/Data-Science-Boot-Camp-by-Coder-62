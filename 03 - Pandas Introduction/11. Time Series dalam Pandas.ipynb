{
 "cells": [
  {
   "cell_type": "markdown",
   "id": "66b90ed0-dc94-49ef-904b-28a5f35b6639",
   "metadata": {},
   "source": [
    "# **Time Series dalam Pandas**\n",
    "\n",
    "Time Series adalah serangkaian data yang diambil pada interval waktu tertentu. Pustaka Pandas menyediakan dukungan yang kuat untuk mengelola dan menganalisis data deret waktu. Mari kita lihat cara menggunakan Time Series dalam Pandas."
   ]
  },
  {
   "cell_type": "markdown",
   "id": "76e16576-3ccc-492d-82c1-a1a6f802a24c",
   "metadata": {},
   "source": [
    "## **Langkah 11.1: Indexing pada Pandas TimeSeries**\n",
    "Anda dapat membuat Time Series dengan menggunakan kolom waktu sebagai indeks:"
   ]
  },
  {
   "cell_type": "code",
   "execution_count": 2,
   "id": "728d1b84-2058-4416-98c4-00a3cf1e4c55",
   "metadata": {},
   "outputs": [
    {
     "data": {
      "text/plain": [
       "2023-01-01    10\n",
       "2023-01-02    15\n",
       "2023-01-03    20\n",
       "2023-01-04    25\n",
       "2023-01-05    30\n",
       "2023-01-06    35\n",
       "2023-01-07    40\n",
       "2023-01-08    45\n",
       "2023-01-09    50\n",
       "2023-01-10    55\n",
       "Freq: D, dtype: int64"
      ]
     },
     "execution_count": 2,
     "metadata": {},
     "output_type": "execute_result"
    }
   ],
   "source": [
    "import pandas as pd\n",
    "\n",
    "# Membuat Time Series dengan indeks waktu\n",
    "dates = pd.date_range(start='2023-01-01', end='2023-01-10', freq='D')\n",
    "data = [10, 15, 20, 25, 30, 35, 40, 45, 50, 55]\n",
    "ts = pd.Series(data, index=dates)\n",
    "ts"
   ]
  },
  {
   "cell_type": "markdown",
   "id": "eca468b9-a55d-4d2e-9dae-2dc9e9df8257",
   "metadata": {},
   "source": [
    "## **Langkah 11.2: Resampling pada Pandas TimeSeries**\n",
    "\n",
    "Anda dapat melakukan resampling pada Time Series untuk mengubah frekuensi datanya:"
   ]
  },
  {
   "cell_type": "code",
   "execution_count": 3,
   "id": "4c42abf2-2fa2-4401-94c3-f622d04d689e",
   "metadata": {},
   "outputs": [
    {
     "data": {
      "text/plain": [
       "2023-01-01     10\n",
       "2023-01-08    210\n",
       "2023-01-15    105\n",
       "Freq: W-SUN, dtype: int64"
      ]
     },
     "execution_count": 3,
     "metadata": {},
     "output_type": "execute_result"
    }
   ],
   "source": [
    "# Resampling Time Series\n",
    "resampled_ts = ts.resample('W').sum()\n",
    "resampled_ts"
   ]
  },
  {
   "cell_type": "markdown",
   "id": "b25d6bb2-ca6d-468c-bbc0-6e825cd1fc70",
   "metadata": {},
   "source": [
    "## **Langkah 11.3: Manipulasi pada Pandas TimeSeries**\n",
    "\n",
    "Pustaka Pandas menyediakan berbagai fungsi untuk memanipulasi Time Series:"
   ]
  },
  {
   "cell_type": "code",
   "execution_count": 4,
   "id": "7dcf1059-19f1-44ee-9be8-4b8875ceaa5f",
   "metadata": {},
   "outputs": [
    {
     "data": {
      "text/plain": [
       "2023-01-03    20\n",
       "2023-01-04    25\n",
       "2023-01-05    30\n",
       "2023-01-06    35\n",
       "2023-01-07    40\n",
       "2023-01-08    45\n",
       "Freq: D, dtype: int64"
      ]
     },
     "execution_count": 4,
     "metadata": {},
     "output_type": "execute_result"
    }
   ],
   "source": [
    "# Memotong Time Series berdasarkan rentang tanggal\n",
    "subset_ts = ts['2023-01-03':'2023-01-08']\n",
    "subset_ts"
   ]
  },
  {
   "cell_type": "code",
   "execution_count": 5,
   "id": "35fd9d96-0761-4d57-92a8-a13e55d40573",
   "metadata": {},
   "outputs": [
    {
     "data": {
      "text/plain": [
       "2023-01-01     NaN\n",
       "2023-01-02    10.0\n",
       "2023-01-03    15.0\n",
       "2023-01-04    20.0\n",
       "2023-01-05    25.0\n",
       "2023-01-06    30.0\n",
       "2023-01-07    35.0\n",
       "2023-01-08    40.0\n",
       "2023-01-09    45.0\n",
       "2023-01-10    50.0\n",
       "Freq: D, dtype: float64"
      ]
     },
     "execution_count": 5,
     "metadata": {},
     "output_type": "execute_result"
    }
   ],
   "source": [
    "# Menggunakan metode shift() untuk memindahkan data\n",
    "shifted_ts = ts.shift(1)\n",
    "shifted_ts"
   ]
  },
  {
   "cell_type": "code",
   "execution_count": 6,
   "id": "092aa4ec-4dfd-41bf-9f48-9eec94c4762b",
   "metadata": {},
   "outputs": [
    {
     "data": {
      "text/plain": [
       "2023-01-01         NaN\n",
       "2023-01-02    0.500000\n",
       "2023-01-03    0.333333\n",
       "2023-01-04    0.250000\n",
       "2023-01-05    0.200000\n",
       "2023-01-06    0.166667\n",
       "2023-01-07    0.142857\n",
       "2023-01-08    0.125000\n",
       "2023-01-09    0.111111\n",
       "2023-01-10    0.100000\n",
       "Freq: D, dtype: float64"
      ]
     },
     "execution_count": 6,
     "metadata": {},
     "output_type": "execute_result"
    }
   ],
   "source": [
    "# Menghitung perubahan persentase harian\n",
    "daily_returns = ts.pct_change()\n",
    "daily_returns"
   ]
  }
 ],
 "metadata": {
  "kernelspec": {
   "display_name": "Python 3 (ipykernel)",
   "language": "python",
   "name": "python3"
  },
  "language_info": {
   "codemirror_mode": {
    "name": "ipython",
    "version": 3
   },
   "file_extension": ".py",
   "mimetype": "text/x-python",
   "name": "python",
   "nbconvert_exporter": "python",
   "pygments_lexer": "ipython3",
   "version": "3.9.17"
  }
 },
 "nbformat": 4,
 "nbformat_minor": 5
}
