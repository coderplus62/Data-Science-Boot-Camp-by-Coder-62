{
 "cells": [
  {
   "cell_type": "markdown",
   "id": "0b46b8e6-92e1-4e1c-a311-2647927e74b9",
   "metadata": {},
   "source": [
    "# **Indexing dan Subsetting dalam Pandas: Mengakses Data dengan Tepat**\n",
    "\n",
    "Pustaka Pandas menyediakan berbagai cara untuk mengakses data dalam DataFrame, baik itu untuk memilih kolom, baris, atau kombinasi keduanya. Melalui berbagai teknik indeks dan subset, Anda dapat mengakses data yang diperlukan dengan tepat. Mari kita lihat bagaimana melakukan indeks dan subset data dalam Pandas.\n"
   ]
  },
  {
   "cell_type": "markdown",
   "id": "469d7ee2-bc37-47bc-ae1d-b69167dc6234",
   "metadata": {},
   "source": [
    "## **Langkah 5.1: Memilih Satu Kolom**"
   ]
  },
  {
   "cell_type": "code",
   "execution_count": 1,
   "id": "ee3bcca4-f76c-47fe-bb30-90a41d4926d3",
   "metadata": {},
   "outputs": [
    {
     "data": {
      "text/html": [
       "<div>\n",
       "<style scoped>\n",
       "    .dataframe tbody tr th:only-of-type {\n",
       "        vertical-align: middle;\n",
       "    }\n",
       "\n",
       "    .dataframe tbody tr th {\n",
       "        vertical-align: top;\n",
       "    }\n",
       "\n",
       "    .dataframe thead th {\n",
       "        text-align: right;\n",
       "    }\n",
       "</style>\n",
       "<table border=\"1\" class=\"dataframe\">\n",
       "  <thead>\n",
       "    <tr style=\"text-align: right;\">\n",
       "      <th></th>\n",
       "      <th>Nama</th>\n",
       "      <th>Usia</th>\n",
       "      <th>Pekerjaan</th>\n",
       "    </tr>\n",
       "  </thead>\n",
       "  <tbody>\n",
       "    <tr>\n",
       "      <th>0</th>\n",
       "      <td>Alice</td>\n",
       "      <td>25</td>\n",
       "      <td>Pengembang</td>\n",
       "    </tr>\n",
       "    <tr>\n",
       "      <th>1</th>\n",
       "      <td>Bob</td>\n",
       "      <td>30</td>\n",
       "      <td>Analisis Data</td>\n",
       "    </tr>\n",
       "    <tr>\n",
       "      <th>2</th>\n",
       "      <td>Charlie</td>\n",
       "      <td>22</td>\n",
       "      <td>Desainer</td>\n",
       "    </tr>\n",
       "    <tr>\n",
       "      <th>3</th>\n",
       "      <td>David</td>\n",
       "      <td>28</td>\n",
       "      <td>Manajer</td>\n",
       "    </tr>\n",
       "  </tbody>\n",
       "</table>\n",
       "</div>"
      ],
      "text/plain": [
       "      Nama  Usia      Pekerjaan\n",
       "0    Alice    25     Pengembang\n",
       "1      Bob    30  Analisis Data\n",
       "2  Charlie    22       Desainer\n",
       "3    David    28        Manajer"
      ]
     },
     "execution_count": 1,
     "metadata": {},
     "output_type": "execute_result"
    }
   ],
   "source": [
    "import pandas as pd\n",
    "\n",
    "# Membuat DataFrame contoh\n",
    "data = {\n",
    "    'Nama': ['Alice', 'Bob', 'Charlie', 'David'],\n",
    "    'Usia': [25, 30, 22, 28],\n",
    "    'Pekerjaan': ['Pengembang', 'Analisis Data', 'Desainer', 'Manajer']\n",
    "}\n",
    "df = pd.DataFrame(data)\n",
    "df"
   ]
  },
  {
   "cell_type": "code",
   "execution_count": 16,
   "id": "7d3c32bf-31cf-49ba-bc16-13842cc7c0d2",
   "metadata": {},
   "outputs": [
    {
     "data": {
      "text/plain": [
       "0      Alice\n",
       "1        Bob\n",
       "2    Charlie\n",
       "3      David\n",
       "Name: Nama, dtype: object"
      ]
     },
     "execution_count": 16,
     "metadata": {},
     "output_type": "execute_result"
    }
   ],
   "source": [
    "# Memilih kolom 'Nama'\n",
    "nama = df['Nama']\n",
    "nama"
   ]
  },
  {
   "cell_type": "markdown",
   "id": "a1bb6f8e-21f3-46bf-99e9-482c17ccbc01",
   "metadata": {},
   "source": [
    "## **Langkah 5.2: Memilih Beberapa Kolom**\n",
    "\n",
    "Anda dapat memilih beberapa kolom dengan menyediakan daftar nama kolom yang diinginkan:"
   ]
  },
  {
   "cell_type": "code",
   "execution_count": 3,
   "id": "c691c4fa-eba8-4fc9-914b-c5fee5faf587",
   "metadata": {},
   "outputs": [
    {
     "data": {
      "text/html": [
       "<div>\n",
       "<style scoped>\n",
       "    .dataframe tbody tr th:only-of-type {\n",
       "        vertical-align: middle;\n",
       "    }\n",
       "\n",
       "    .dataframe tbody tr th {\n",
       "        vertical-align: top;\n",
       "    }\n",
       "\n",
       "    .dataframe thead th {\n",
       "        text-align: right;\n",
       "    }\n",
       "</style>\n",
       "<table border=\"1\" class=\"dataframe\">\n",
       "  <thead>\n",
       "    <tr style=\"text-align: right;\">\n",
       "      <th></th>\n",
       "      <th>Nama</th>\n",
       "      <th>Usia</th>\n",
       "    </tr>\n",
       "  </thead>\n",
       "  <tbody>\n",
       "    <tr>\n",
       "      <th>0</th>\n",
       "      <td>Alice</td>\n",
       "      <td>25</td>\n",
       "    </tr>\n",
       "    <tr>\n",
       "      <th>1</th>\n",
       "      <td>Bob</td>\n",
       "      <td>30</td>\n",
       "    </tr>\n",
       "    <tr>\n",
       "      <th>2</th>\n",
       "      <td>Charlie</td>\n",
       "      <td>22</td>\n",
       "    </tr>\n",
       "    <tr>\n",
       "      <th>3</th>\n",
       "      <td>David</td>\n",
       "      <td>28</td>\n",
       "    </tr>\n",
       "  </tbody>\n",
       "</table>\n",
       "</div>"
      ],
      "text/plain": [
       "      Nama  Usia\n",
       "0    Alice    25\n",
       "1      Bob    30\n",
       "2  Charlie    22\n",
       "3    David    28"
      ]
     },
     "execution_count": 3,
     "metadata": {},
     "output_type": "execute_result"
    }
   ],
   "source": [
    "# Memilih kolom 'Nama' dan 'Usia'\n",
    "nama_usia = df[['Nama', 'Usia']]\n",
    "nama_usia"
   ]
  },
  {
   "cell_type": "markdown",
   "id": "64ae9666-77c2-45a8-8ec0-d174982587e7",
   "metadata": {},
   "source": [
    "## **Langkah 5.3: Memilih Baris melalui []**\n",
    "\n",
    "Anda dapat memilih baris berdasarkan indeks numerik dengan menggunakan tanda kurung siku:"
   ]
  },
  {
   "cell_type": "code",
   "execution_count": 4,
   "id": "4a3618e1-048a-4aac-b85b-028c63e3a976",
   "metadata": {},
   "outputs": [
    {
     "data": {
      "text/html": [
       "<div>\n",
       "<style scoped>\n",
       "    .dataframe tbody tr th:only-of-type {\n",
       "        vertical-align: middle;\n",
       "    }\n",
       "\n",
       "    .dataframe tbody tr th {\n",
       "        vertical-align: top;\n",
       "    }\n",
       "\n",
       "    .dataframe thead th {\n",
       "        text-align: right;\n",
       "    }\n",
       "</style>\n",
       "<table border=\"1\" class=\"dataframe\">\n",
       "  <thead>\n",
       "    <tr style=\"text-align: right;\">\n",
       "      <th></th>\n",
       "      <th>Nama</th>\n",
       "      <th>Usia</th>\n",
       "      <th>Pekerjaan</th>\n",
       "    </tr>\n",
       "  </thead>\n",
       "  <tbody>\n",
       "    <tr>\n",
       "      <th>1</th>\n",
       "      <td>Bob</td>\n",
       "      <td>30</td>\n",
       "      <td>Analisis Data</td>\n",
       "    </tr>\n",
       "  </tbody>\n",
       "</table>\n",
       "</div>"
      ],
      "text/plain": [
       "  Nama  Usia      Pekerjaan\n",
       "1  Bob    30  Analisis Data"
      ]
     },
     "execution_count": 4,
     "metadata": {},
     "output_type": "execute_result"
    }
   ],
   "source": [
    "# Memilih baris ke-2\n",
    "baris_ke_2 = df[1:2]\n",
    "baris_ke_2"
   ]
  },
  {
   "cell_type": "markdown",
   "id": "dd8ec9ab-9022-4151-a4e6-2a79f69e182b",
   "metadata": {},
   "source": [
    "## **Langkah 5.4: Memilih melalui .loc[] (Berdasarkan Label)**\n",
    "\n",
    "Anda dapat memilih baris berdasarkan label indeks menggunakan `.loc[]`:"
   ]
  },
  {
   "cell_type": "code",
   "execution_count": 5,
   "id": "d4fea5f0-29b9-4f77-89a7-61bfcce1f05b",
   "metadata": {},
   "outputs": [
    {
     "data": {
      "text/plain": [
       "Nama                   Bob\n",
       "Usia                    30\n",
       "Pekerjaan    Analisis Data\n",
       "Name: 1, dtype: object"
      ]
     },
     "execution_count": 5,
     "metadata": {},
     "output_type": "execute_result"
    }
   ],
   "source": [
    "# Memilih baris dengan label indeks 1\n",
    "baris_label_1 = df.loc[1]\n",
    "baris_label_1"
   ]
  },
  {
   "cell_type": "markdown",
   "id": "3028dff6-e3b8-4799-975d-249c5d3287f5",
   "metadata": {},
   "source": [
    "## **Langkah 5.5: Memilih melalui .iloc[] (Berdasarkan Posisi)**\n",
    "\n",
    "Anda dapat memilih baris berdasarkan posisi numerik menggunakan `.iloc[]`:"
   ]
  },
  {
   "cell_type": "code",
   "execution_count": 6,
   "id": "b6e6b798-5bc3-4690-bc19-fa7f1c266dc1",
   "metadata": {},
   "outputs": [
    {
     "data": {
      "text/plain": [
       "Nama          Charlie\n",
       "Usia               22\n",
       "Pekerjaan    Desainer\n",
       "Name: 2, dtype: object"
      ]
     },
     "execution_count": 6,
     "metadata": {},
     "output_type": "execute_result"
    }
   ],
   "source": [
    "# Memilih baris pada posisi indeks 2\n",
    "baris_posisi_2 = df.iloc[2]\n",
    "baris_posisi_2"
   ]
  },
  {
   "cell_type": "markdown",
   "id": "e1d06bba-60a8-4e5e-9852-215cb20deaf3",
   "metadata": {},
   "source": [
    "## **Langkah 5.5: Indeks Boolean**\n",
    "\n",
    "Anda dapat menggunakan indeks boolean untuk memilih baris berdasarkan kondisi tertentu:"
   ]
  },
  {
   "cell_type": "code",
   "execution_count": 7,
   "id": "31b58dea-343f-4d59-8a0d-d16907b78663",
   "metadata": {},
   "outputs": [
    {
     "data": {
      "text/html": [
       "<div>\n",
       "<style scoped>\n",
       "    .dataframe tbody tr th:only-of-type {\n",
       "        vertical-align: middle;\n",
       "    }\n",
       "\n",
       "    .dataframe tbody tr th {\n",
       "        vertical-align: top;\n",
       "    }\n",
       "\n",
       "    .dataframe thead th {\n",
       "        text-align: right;\n",
       "    }\n",
       "</style>\n",
       "<table border=\"1\" class=\"dataframe\">\n",
       "  <thead>\n",
       "    <tr style=\"text-align: right;\">\n",
       "      <th></th>\n",
       "      <th>Nama</th>\n",
       "      <th>Usia</th>\n",
       "      <th>Pekerjaan</th>\n",
       "    </tr>\n",
       "  </thead>\n",
       "  <tbody>\n",
       "    <tr>\n",
       "      <th>1</th>\n",
       "      <td>Bob</td>\n",
       "      <td>30</td>\n",
       "      <td>Analisis Data</td>\n",
       "    </tr>\n",
       "    <tr>\n",
       "      <th>3</th>\n",
       "      <td>David</td>\n",
       "      <td>28</td>\n",
       "      <td>Manajer</td>\n",
       "    </tr>\n",
       "  </tbody>\n",
       "</table>\n",
       "</div>"
      ],
      "text/plain": [
       "    Nama  Usia      Pekerjaan\n",
       "1    Bob    30  Analisis Data\n",
       "3  David    28        Manajer"
      ]
     },
     "execution_count": 7,
     "metadata": {},
     "output_type": "execute_result"
    }
   ],
   "source": [
    "# Memilih baris dengan usia di atas 25\n",
    "diatas_25 = df[df['Usia'] > 25]\n",
    "diatas_25"
   ]
  }
 ],
 "metadata": {
  "kernelspec": {
   "display_name": "Python 3 (ipykernel)",
   "language": "python",
   "name": "python3"
  },
  "language_info": {
   "codemirror_mode": {
    "name": "ipython",
    "version": 3
   },
   "file_extension": ".py",
   "mimetype": "text/x-python",
   "name": "python",
   "nbconvert_exporter": "python",
   "pygments_lexer": "ipython3",
   "version": "3.9.17"
  }
 },
 "nbformat": 4,
 "nbformat_minor": 5
}
