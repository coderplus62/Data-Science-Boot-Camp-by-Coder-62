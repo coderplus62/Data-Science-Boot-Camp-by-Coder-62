{
 "cells": [
  {
   "cell_type": "markdown",
   "id": "c2ac5d2a-61ea-4cbc-93b7-9a09b6b6d53c",
   "metadata": {},
   "source": [
    "# Pandas DataFrame: Mengelola Data dalam Bentuk Tabel\n",
    "\n",
    "Pandas DataFrame adalah salah satu struktur data paling penting yang ditawarkan oleh pustaka Pandas. Ini merupakan struktur data dua dimensi yang mirip dengan tabel dalam database atau lembar kerja Excel. DataFrame memungkinkan kita untuk menyimpan, mengelola, dan menganalisis data dalam bentuk yang lebih terstruktur dan mudah dimengerti. Mari kita lihat bagaimana bekerja dengan Pandas DataFrame."
   ]
  },
  {
   "cell_type": "code",
   "execution_count": 3,
   "id": "fdf2fde3-6165-4061-a5ed-81ef529f9e24",
   "metadata": {},
   "outputs": [
    {
     "data": {
      "text/html": [
       "<div>\n",
       "<style scoped>\n",
       "    .dataframe tbody tr th:only-of-type {\n",
       "        vertical-align: middle;\n",
       "    }\n",
       "\n",
       "    .dataframe tbody tr th {\n",
       "        vertical-align: top;\n",
       "    }\n",
       "\n",
       "    .dataframe thead th {\n",
       "        text-align: right;\n",
       "    }\n",
       "</style>\n",
       "<table border=\"1\" class=\"dataframe\">\n",
       "  <thead>\n",
       "    <tr style=\"text-align: right;\">\n",
       "      <th></th>\n",
       "      <th>Nama</th>\n",
       "      <th>Usia</th>\n",
       "      <th>Pekerjaan</th>\n",
       "    </tr>\n",
       "  </thead>\n",
       "  <tbody>\n",
       "    <tr>\n",
       "      <th>0</th>\n",
       "      <td>Alice</td>\n",
       "      <td>25</td>\n",
       "      <td>Pengembang</td>\n",
       "    </tr>\n",
       "    <tr>\n",
       "      <th>1</th>\n",
       "      <td>Bob</td>\n",
       "      <td>30</td>\n",
       "      <td>Analisis Data</td>\n",
       "    </tr>\n",
       "    <tr>\n",
       "      <th>2</th>\n",
       "      <td>Charlie</td>\n",
       "      <td>22</td>\n",
       "      <td>Desainer</td>\n",
       "    </tr>\n",
       "    <tr>\n",
       "      <th>3</th>\n",
       "      <td>David</td>\n",
       "      <td>28</td>\n",
       "      <td>Manajer</td>\n",
       "    </tr>\n",
       "  </tbody>\n",
       "</table>\n",
       "</div>"
      ],
      "text/plain": [
       "      Nama  Usia      Pekerjaan\n",
       "0    Alice    25     Pengembang\n",
       "1      Bob    30  Analisis Data\n",
       "2  Charlie    22       Desainer\n",
       "3    David    28        Manajer"
      ]
     },
     "execution_count": 3,
     "metadata": {},
     "output_type": "execute_result"
    }
   ],
   "source": [
    "import pandas as pd\n",
    "# Membuat dictionary dengan data\n",
    "data = {\n",
    "    'Nama': ['Alice', 'Bob', 'Charlie', 'David'],\n",
    "    'Usia': [25, 30, 22, 28],\n",
    "    'Pekerjaan': ['Pengembang', 'Analisis Data', 'Desainer', 'Manajer']\n",
    "}\n",
    "\n",
    "# Membuat DataFrame dari dictionary\n",
    "df = pd.DataFrame(data)\n",
    "df"
   ]
  },
  {
   "cell_type": "code",
   "execution_count": 5,
   "id": "921155ba-9c79-4aa6-a2aa-d88f7572cfc3",
   "metadata": {},
   "outputs": [
    {
     "data": {
      "text/plain": [
       "Nama              Alice\n",
       "Usia                 25\n",
       "Pekerjaan    Pengembang\n",
       "Name: 0, dtype: object"
      ]
     },
     "execution_count": 5,
     "metadata": {},
     "output_type": "execute_result"
    }
   ],
   "source": [
    "# Mengakses baris pertama (indeks 0)\n",
    "first_row = df.loc[0]\n",
    "first_row"
   ]
  },
  {
   "cell_type": "code",
   "execution_count": 6,
   "id": "5942d0e2-2e80-42f5-8bf2-124394a506a8",
   "metadata": {},
   "outputs": [
    {
     "data": {
      "text/plain": [
       "0      Alice\n",
       "1        Bob\n",
       "2    Charlie\n",
       "3      David\n",
       "Name: Nama, dtype: object"
      ]
     },
     "execution_count": 6,
     "metadata": {},
     "output_type": "execute_result"
    }
   ],
   "source": [
    "# Mengakses kolom 'Nama'\n",
    "names = df['Nama']\n",
    "names"
   ]
  },
  {
   "cell_type": "code",
   "execution_count": 7,
   "id": "7b39bbc5-8d31-4882-a87b-9aa5b4d49d31",
   "metadata": {},
   "outputs": [
    {
     "data": {
      "text/plain": [
       "30"
      ]
     },
     "execution_count": 7,
     "metadata": {},
     "output_type": "execute_result"
    }
   ],
   "source": [
    "# Mengakses data pada baris ke-2 dan kolom 'Usia'\n",
    "age_of_second_person = df.at[1, 'Usia']\n",
    "age_of_second_person"
   ]
  },
  {
   "cell_type": "code",
   "execution_count": 8,
   "id": "e5180de7-e7ff-4f5c-9992-be15750561c8",
   "metadata": {},
   "outputs": [
    {
     "data": {
      "text/html": [
       "<div>\n",
       "<style scoped>\n",
       "    .dataframe tbody tr th:only-of-type {\n",
       "        vertical-align: middle;\n",
       "    }\n",
       "\n",
       "    .dataframe tbody tr th {\n",
       "        vertical-align: top;\n",
       "    }\n",
       "\n",
       "    .dataframe thead th {\n",
       "        text-align: right;\n",
       "    }\n",
       "</style>\n",
       "<table border=\"1\" class=\"dataframe\">\n",
       "  <thead>\n",
       "    <tr style=\"text-align: right;\">\n",
       "      <th></th>\n",
       "      <th>Nama</th>\n",
       "      <th>Usia</th>\n",
       "      <th>Pekerjaan</th>\n",
       "    </tr>\n",
       "  </thead>\n",
       "  <tbody>\n",
       "    <tr>\n",
       "      <th>1</th>\n",
       "      <td>Bob</td>\n",
       "      <td>30</td>\n",
       "      <td>Analisis Data</td>\n",
       "    </tr>\n",
       "    <tr>\n",
       "      <th>3</th>\n",
       "      <td>David</td>\n",
       "      <td>28</td>\n",
       "      <td>Manajer</td>\n",
       "    </tr>\n",
       "  </tbody>\n",
       "</table>\n",
       "</div>"
      ],
      "text/plain": [
       "    Nama  Usia      Pekerjaan\n",
       "1    Bob    30  Analisis Data\n",
       "3  David    28        Manajer"
      ]
     },
     "execution_count": 8,
     "metadata": {},
     "output_type": "execute_result"
    }
   ],
   "source": [
    "# Mengambil baris dengan usia di atas 25\n",
    "above_25 = df[df['Usia'] > 25]\n",
    "above_25"
   ]
  },
  {
   "cell_type": "code",
   "execution_count": 9,
   "id": "35c6364e-21e2-4c14-b8ba-5d8efb08a842",
   "metadata": {},
   "outputs": [
    {
     "data": {
      "text/plain": [
       "26.25"
      ]
     },
     "execution_count": 9,
     "metadata": {},
     "output_type": "execute_result"
    }
   ],
   "source": [
    "# Menghitung rata-rata usia\n",
    "average_age = df['Usia'].mean()\n",
    "average_age"
   ]
  },
  {
   "cell_type": "code",
   "execution_count": 10,
   "id": "408cf17e-7d34-41b5-a34f-7329556585f5",
   "metadata": {},
   "outputs": [],
   "source": [
    "# Menyimpan DataFrame ke file CSV\n",
    "df.to_csv('data.csv', index=False)"
   ]
  },
  {
   "cell_type": "code",
   "execution_count": 12,
   "id": "0324a53d-afdb-44cf-a461-a84aed5cceec",
   "metadata": {},
   "outputs": [
    {
     "data": {
      "text/html": [
       "<div>\n",
       "<style scoped>\n",
       "    .dataframe tbody tr th:only-of-type {\n",
       "        vertical-align: middle;\n",
       "    }\n",
       "\n",
       "    .dataframe tbody tr th {\n",
       "        vertical-align: top;\n",
       "    }\n",
       "\n",
       "    .dataframe thead th {\n",
       "        text-align: right;\n",
       "    }\n",
       "</style>\n",
       "<table border=\"1\" class=\"dataframe\">\n",
       "  <thead>\n",
       "    <tr style=\"text-align: right;\">\n",
       "      <th></th>\n",
       "      <th>Nama</th>\n",
       "      <th>Usia</th>\n",
       "      <th>Pekerjaan</th>\n",
       "    </tr>\n",
       "  </thead>\n",
       "  <tbody>\n",
       "    <tr>\n",
       "      <th>0</th>\n",
       "      <td>Alice</td>\n",
       "      <td>25</td>\n",
       "      <td>Pengembang</td>\n",
       "    </tr>\n",
       "    <tr>\n",
       "      <th>1</th>\n",
       "      <td>Bob</td>\n",
       "      <td>30</td>\n",
       "      <td>Analisis Data</td>\n",
       "    </tr>\n",
       "    <tr>\n",
       "      <th>2</th>\n",
       "      <td>Charlie</td>\n",
       "      <td>22</td>\n",
       "      <td>Desainer</td>\n",
       "    </tr>\n",
       "    <tr>\n",
       "      <th>3</th>\n",
       "      <td>David</td>\n",
       "      <td>28</td>\n",
       "      <td>Manajer</td>\n",
       "    </tr>\n",
       "  </tbody>\n",
       "</table>\n",
       "</div>"
      ],
      "text/plain": [
       "      Nama  Usia      Pekerjaan\n",
       "0    Alice    25     Pengembang\n",
       "1      Bob    30  Analisis Data\n",
       "2  Charlie    22       Desainer\n",
       "3    David    28        Manajer"
      ]
     },
     "execution_count": 12,
     "metadata": {},
     "output_type": "execute_result"
    }
   ],
   "source": [
    "# Memuat DataFrame dari file CSV\n",
    "loaded_df = pd.read_csv('data.csv')\n",
    "loaded_df"
   ]
  },
  {
   "cell_type": "code",
   "execution_count": null,
   "id": "84ff59d2-06da-4b79-979b-8e7c86fde336",
   "metadata": {},
   "outputs": [],
   "source": []
  }
 ],
 "metadata": {
  "kernelspec": {
   "display_name": "Python 3 (ipykernel)",
   "language": "python",
   "name": "python3"
  },
  "language_info": {
   "codemirror_mode": {
    "name": "ipython",
    "version": 3
   },
   "file_extension": ".py",
   "mimetype": "text/x-python",
   "name": "python",
   "nbconvert_exporter": "python",
   "pygments_lexer": "ipython3",
   "version": "3.9.17"
  }
 },
 "nbformat": 4,
 "nbformat_minor": 5
}
