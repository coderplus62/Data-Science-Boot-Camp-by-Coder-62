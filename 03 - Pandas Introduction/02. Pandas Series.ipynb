{
 "cells": [
  {
   "cell_type": "markdown",
   "id": "e1b4ea3d-99ab-40a3-a785-bf6b42216954",
   "metadata": {},
   "source": [
    "# Pandas Series: Operasi Sederhana pada Pandas Series\n",
    "\n",
    "Pandas Series adalah struktur data satu dimensi yang merupakan bagian penting dari pustaka Pandas. Ini mirip dengan array atau list dalam Python, tetapi memiliki keunggulan dalam integrasi dengan banyak fitur Pandas. Mari kita lihat beberapa operasi sederhana yang dapat kita lakukan dengan Pandas Series."
   ]
  },
  {
   "cell_type": "code",
   "execution_count": 1,
   "id": "3d280813-0e32-419f-9629-d84e20561c54",
   "metadata": {},
   "outputs": [
    {
     "data": {
      "text/plain": [
       "0    10\n",
       "1    20\n",
       "2    30\n",
       "3    40\n",
       "4    50\n",
       "dtype: int64"
      ]
     },
     "execution_count": 1,
     "metadata": {},
     "output_type": "execute_result"
    }
   ],
   "source": [
    "import pandas as pd\n",
    "\n",
    "# Membuat Pandas Series dari list\n",
    "data = [10, 20, 30, 40, 50]\n",
    "series = pd.Series(data)\n",
    "series"
   ]
  },
  {
   "cell_type": "code",
   "execution_count": 2,
   "id": "be4ae1e7-fd43-42f3-8dba-696e98a09a42",
   "metadata": {},
   "outputs": [
    {
     "data": {
      "text/plain": [
       "a    10\n",
       "b    20\n",
       "c    30\n",
       "d    40\n",
       "e    50\n",
       "dtype: int64"
      ]
     },
     "execution_count": 2,
     "metadata": {},
     "output_type": "execute_result"
    }
   ],
   "source": [
    "# Membuat Pandas Series dengan label kustom\n",
    "data_dict = {'a': 10, 'b': 20, 'c': 30, 'd': 40, 'e': 50}\n",
    "custom_series = pd.Series(data_dict)\n",
    "custom_series"
   ]
  },
  {
   "cell_type": "code",
   "execution_count": 3,
   "id": "55bd723e-7a6a-404e-8fbe-fabe4db19afb",
   "metadata": {},
   "outputs": [
    {
     "data": {
      "text/plain": [
       "0    15\n",
       "1    25\n",
       "2    35\n",
       "3    45\n",
       "4    55\n",
       "dtype: int64"
      ]
     },
     "execution_count": 3,
     "metadata": {},
     "output_type": "execute_result"
    }
   ],
   "source": [
    "# Operasi penambahan\n",
    "result_add = series + 5\n",
    "result_add"
   ]
  },
  {
   "cell_type": "code",
   "execution_count": 4,
   "id": "8190678b-fd1b-4c74-9f9e-ec27b1af0fd4",
   "metadata": {},
   "outputs": [
    {
     "data": {
      "text/plain": [
       "a     0\n",
       "b    10\n",
       "c    20\n",
       "d    30\n",
       "e    40\n",
       "dtype: int64"
      ]
     },
     "execution_count": 4,
     "metadata": {},
     "output_type": "execute_result"
    }
   ],
   "source": [
    "# Operasi pengurangan\n",
    "result_subtract = custom_series - 10\n",
    "result_subtract"
   ]
  },
  {
   "cell_type": "code",
   "execution_count": 5,
   "id": "dc53d8a4-16d1-4c99-830a-3c0b2f6cd895",
   "metadata": {},
   "outputs": [
    {
     "data": {
      "text/plain": [
       "0     20\n",
       "1     40\n",
       "2     60\n",
       "3     80\n",
       "4    100\n",
       "dtype: int64"
      ]
     },
     "execution_count": 5,
     "metadata": {},
     "output_type": "execute_result"
    }
   ],
   "source": [
    "# Operasi perkalian\n",
    "result_multiply = series * 2\n",
    "result_multiply"
   ]
  },
  {
   "cell_type": "code",
   "execution_count": 6,
   "id": "f4229d3c-82c6-4940-a080-e778db204181",
   "metadata": {},
   "outputs": [
    {
     "data": {
      "text/plain": [
       "a     3.333333\n",
       "b     6.666667\n",
       "c    10.000000\n",
       "d    13.333333\n",
       "e    16.666667\n",
       "dtype: float64"
      ]
     },
     "execution_count": 6,
     "metadata": {},
     "output_type": "execute_result"
    }
   ],
   "source": [
    "# Operasi pembagian\n",
    "result_divide = custom_series / 3\n",
    "result_divide"
   ]
  },
  {
   "cell_type": "code",
   "execution_count": 7,
   "id": "3b46ea83-e871-426c-9991-0bc51c138b8d",
   "metadata": {},
   "outputs": [
    {
     "name": "stdout",
     "output_type": "stream",
     "text": [
      "Nilai Maksimum dalam series: 50\n",
      "Nilai Minimum dalam custom_series: 10\n",
      "Jumlah semua nilai dalam series: 150\n"
     ]
    }
   ],
   "source": [
    "max_value = series.max()  # Nilai maksimum dalam series\n",
    "min_value = custom_series.min()  # Nilai minimum dalam custom_series\n",
    "sum_values = series.sum()  # Jumlah semua nilai dalam series\n",
    "\n",
    "print(\"Nilai Maksimum dalam series:\", max_value)\n",
    "print(\"Nilai Minimum dalam custom_series:\", min_value)\n",
    "print(\"Jumlah semua nilai dalam series:\", sum_values)"
   ]
  }
 ],
 "metadata": {
  "kernelspec": {
   "display_name": "Python 3 (ipykernel)",
   "language": "python",
   "name": "python3"
  },
  "language_info": {
   "codemirror_mode": {
    "name": "ipython",
    "version": 3
   },
   "file_extension": ".py",
   "mimetype": "text/x-python",
   "name": "python",
   "nbconvert_exporter": "python",
   "pygments_lexer": "ipython3",
   "version": "3.9.17"
  }
 },
 "nbformat": 4,
 "nbformat_minor": 5
}
