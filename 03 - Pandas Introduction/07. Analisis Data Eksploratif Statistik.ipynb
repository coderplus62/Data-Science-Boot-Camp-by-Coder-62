{
 "cells": [
  {
   "cell_type": "markdown",
   "id": "96eba664-b52d-440c-a109-caac7e0b8f2d",
   "metadata": {},
   "source": [
    "# **Analisis Data Eksploratif Statistik dengan Pandas: Menjelajahi Data Secara Statistik**\n",
    "\n",
    "Pustaka Pandas memberikan kemampuan untuk menjelajahi data Anda secara statistik. Dengan menggunakan berbagai fungsi bawaan, Anda dapat dengan cepat mendapatkan wawasan tentang distribusi data, statistik rata-rata, deviasi standar, dan lainnya. Mari kita lihat beberapa cara melakukan analisis data eksploratif statistik dalam Pandas."
   ]
  },
  {
   "cell_type": "markdown",
   "id": "5ec16ae7-51d3-475d-81c8-cbd6f4f13974",
   "metadata": {},
   "source": [
    "## **Langkah 7.1: Fungsi info()**\n",
    "Fungsi `info()` memberikan ringkasan tentang DataFrame, termasuk informasi tentang jenis data, jumlah nilai non-null, dan penggunaan memori:"
   ]
  },
  {
   "cell_type": "code",
   "execution_count": 1,
   "id": "80dea5d1-9d72-4a8f-a096-4c680c257d54",
   "metadata": {},
   "outputs": [
    {
     "name": "stdout",
     "output_type": "stream",
     "text": [
      "<class 'pandas.core.frame.DataFrame'>\n",
      "RangeIndex: 4 entries, 0 to 3\n",
      "Data columns (total 3 columns):\n",
      " #   Column     Non-Null Count  Dtype \n",
      "---  ------     --------------  ----- \n",
      " 0   Nama       4 non-null      object\n",
      " 1   Usia       4 non-null      int64 \n",
      " 2   Pekerjaan  4 non-null      object\n",
      "dtypes: int64(1), object(2)\n",
      "memory usage: 224.0+ bytes\n"
     ]
    }
   ],
   "source": [
    "import pandas as pd\n",
    "\n",
    "# Membuat DataFrame contoh\n",
    "data = {\n",
    "    'Nama': ['Alice', 'Bob', 'Charlie', 'David'],\n",
    "    'Usia': [25, 30, 22, 27],\n",
    "    'Pekerjaan': ['Pengembang', 'Analisis Data', 'Desainer', 'Manajer']\n",
    "}\n",
    "df = pd.DataFrame(data)\n",
    "\n",
    "# Menampilkan informasi tentang DataFrame\n",
    "df.info()"
   ]
  },
  {
   "cell_type": "markdown",
   "id": "0a3f11da-4fa0-4c21-a9c8-346eb23ecc4d",
   "metadata": {},
   "source": [
    "## **Langkah 7.2: Fungsi describe()**\n",
    "\n",
    "Fungsi `describe()` memberikan statistik deskriptif tentang kolom numerik dalam DataFrame, seperti mean, deviasi standar, nilai minimum, dan lainnya:"
   ]
  },
  {
   "cell_type": "code",
   "execution_count": 2,
   "id": "76f433aa-a7a3-4590-888a-069fd99b10c9",
   "metadata": {},
   "outputs": [
    {
     "data": {
      "text/html": [
       "<div>\n",
       "<style scoped>\n",
       "    .dataframe tbody tr th:only-of-type {\n",
       "        vertical-align: middle;\n",
       "    }\n",
       "\n",
       "    .dataframe tbody tr th {\n",
       "        vertical-align: top;\n",
       "    }\n",
       "\n",
       "    .dataframe thead th {\n",
       "        text-align: right;\n",
       "    }\n",
       "</style>\n",
       "<table border=\"1\" class=\"dataframe\">\n",
       "  <thead>\n",
       "    <tr style=\"text-align: right;\">\n",
       "      <th></th>\n",
       "      <th>Usia</th>\n",
       "    </tr>\n",
       "  </thead>\n",
       "  <tbody>\n",
       "    <tr>\n",
       "      <th>count</th>\n",
       "      <td>4.000000</td>\n",
       "    </tr>\n",
       "    <tr>\n",
       "      <th>mean</th>\n",
       "      <td>26.000000</td>\n",
       "    </tr>\n",
       "    <tr>\n",
       "      <th>std</th>\n",
       "      <td>3.366502</td>\n",
       "    </tr>\n",
       "    <tr>\n",
       "      <th>min</th>\n",
       "      <td>22.000000</td>\n",
       "    </tr>\n",
       "    <tr>\n",
       "      <th>25%</th>\n",
       "      <td>24.250000</td>\n",
       "    </tr>\n",
       "    <tr>\n",
       "      <th>50%</th>\n",
       "      <td>26.000000</td>\n",
       "    </tr>\n",
       "    <tr>\n",
       "      <th>75%</th>\n",
       "      <td>27.750000</td>\n",
       "    </tr>\n",
       "    <tr>\n",
       "      <th>max</th>\n",
       "      <td>30.000000</td>\n",
       "    </tr>\n",
       "  </tbody>\n",
       "</table>\n",
       "</div>"
      ],
      "text/plain": [
       "            Usia\n",
       "count   4.000000\n",
       "mean   26.000000\n",
       "std     3.366502\n",
       "min    22.000000\n",
       "25%    24.250000\n",
       "50%    26.000000\n",
       "75%    27.750000\n",
       "max    30.000000"
      ]
     },
     "execution_count": 2,
     "metadata": {},
     "output_type": "execute_result"
    }
   ],
   "source": [
    "# Menampilkan statistik deskriptif\n",
    "deskripsi_statistik = df.describe()\n",
    "deskripsi_statistik"
   ]
  },
  {
   "cell_type": "markdown",
   "id": "269fa1e9-bc02-4e2e-942f-57072b8c0977",
   "metadata": {},
   "source": [
    "## **Langkah 7.3: Fungsi value_counts()**\n",
    "\n",
    "Fungsi `value_counts()` memberikan hitungan unik dari nilai dalam kolom:"
   ]
  },
  {
   "cell_type": "code",
   "execution_count": 3,
   "id": "7b491d16-4ce3-4533-bad9-92ee75fea7d5",
   "metadata": {},
   "outputs": [
    {
     "data": {
      "text/plain": [
       "Pekerjaan\n",
       "Pengembang       1\n",
       "Analisis Data    1\n",
       "Desainer         1\n",
       "Manajer          1\n",
       "Name: count, dtype: int64"
      ]
     },
     "execution_count": 3,
     "metadata": {},
     "output_type": "execute_result"
    }
   ],
   "source": [
    "# Menampilkan hitungan unik dalam kolom 'Pekerjaan'\n",
    "hitungan_pekerjaan = df['Pekerjaan'].value_counts()\n",
    "hitungan_pekerjaan"
   ]
  },
  {
   "cell_type": "markdown",
   "id": "29142501-1e9a-462a-8f36-438632cbb77a",
   "metadata": {},
   "source": [
    "## **Langkah 7.4: Fungsi mean()**\n",
    "\n",
    "Fungsi `mean()` menghitung rata-rata dari nilai dalam kolom:"
   ]
  },
  {
   "cell_type": "code",
   "execution_count": 4,
   "id": "5c2bdee3-c444-4833-b6ba-2bc5a78f9091",
   "metadata": {},
   "outputs": [
    {
     "name": "stdout",
     "output_type": "stream",
     "text": [
      "Rata-rata Usia: 26.0\n"
     ]
    }
   ],
   "source": [
    "# Menghitung rata-rata usia\n",
    "rata_usia = df['Usia'].mean()\n",
    "print(\"Rata-rata Usia:\", rata_usia)"
   ]
  },
  {
   "cell_type": "markdown",
   "id": "e3df6b97-8610-4cb5-a9b7-c08d2b0f5907",
   "metadata": {},
   "source": [
    "## **Langkah 7.5: Fungsi std()**\n",
    "\n",
    "Fungsi `std()` menghitung deviasi standar dari nilai dalam kolom:"
   ]
  },
  {
   "cell_type": "code",
   "execution_count": 5,
   "id": "2b62f5ac-43ca-4b9d-88dd-5d27d84b5734",
   "metadata": {},
   "outputs": [
    {
     "name": "stdout",
     "output_type": "stream",
     "text": [
      "Deviasi Standar Usia: 3.366501646120693\n"
     ]
    }
   ],
   "source": [
    "# Menghitung deviasi standar usia\n",
    "deviasi_standar_usia = df['Usia'].std()\n",
    "print(\"Deviasi Standar Usia:\", deviasi_standar_usia)"
   ]
  }
 ],
 "metadata": {
  "kernelspec": {
   "display_name": "Python 3 (ipykernel)",
   "language": "python",
   "name": "python3"
  },
  "language_info": {
   "codemirror_mode": {
    "name": "ipython",
    "version": 3
   },
   "file_extension": ".py",
   "mimetype": "text/x-python",
   "name": "python",
   "nbconvert_exporter": "python",
   "pygments_lexer": "ipython3",
   "version": "3.9.17"
  }
 },
 "nbformat": 4,
 "nbformat_minor": 5
}
