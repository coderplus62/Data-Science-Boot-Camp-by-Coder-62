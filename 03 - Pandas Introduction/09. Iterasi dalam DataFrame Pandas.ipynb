{
 "cells": [
  {
   "cell_type": "markdown",
   "id": "306ffe57-2dc7-499c-9373-9ed61533f9a7",
   "metadata": {},
   "source": [
    "# **Iterasi dalam DataFrame Pandas**\n",
    "\n",
    "Iterasi dalam DataFrame Pandas memungkinkan Anda untuk melakukan pengulangan melalui baris atau kolom dalam DataFrame untuk melakukan berbagai tugas. Meskipun Pandas mendukung iterasi, sangat dianjurkan untuk menghindari iterasi sebisa mungkin dan lebih memilih operasi vektorisasi untuk kinerja yang lebih baik. Namun, ada situasi di mana iterasi diperlukan."
   ]
  },
  {
   "cell_type": "markdown",
   "id": "bef74a88-78a6-454e-8fd0-0f06bbcf4e6e",
   "metadata": {},
   "source": [
    "## **Langkah 9.1: Iterasi melalui Baris**\n",
    "Anda dapat menggunakan metode `iterrows()` untuk melakukan iterasi melalui baris dalam DataFrame:"
   ]
  },
  {
   "cell_type": "code",
   "execution_count": 1,
   "id": "b30dd224-752b-48a6-9d69-8af7237127a5",
   "metadata": {},
   "outputs": [
    {
     "name": "stdout",
     "output_type": "stream",
     "text": [
      "Index: 0, Nama: Alice, Usia: 25, Pekerjaan: Pengembang\n",
      "Index: 1, Nama: Bob, Usia: 30, Pekerjaan: Analisis Data\n",
      "Index: 2, Nama: Charlie, Usia: 22, Pekerjaan: Desainer\n",
      "Index: 3, Nama: David, Usia: 28, Pekerjaan: Manajer\n"
     ]
    }
   ],
   "source": [
    "import pandas as pd\n",
    "\n",
    "# Membuat DataFrame contoh\n",
    "data = {\n",
    "    'Nama': ['Alice', 'Bob', 'Charlie', 'David'],\n",
    "    'Usia': [25, 30, 22, 28],\n",
    "    'Pekerjaan': ['Pengembang', 'Analisis Data', 'Desainer', 'Manajer']\n",
    "}\n",
    "df = pd.DataFrame(data)\n",
    "\n",
    "# Iterasi melalui baris dengan iterrows()\n",
    "for index, row in df.iterrows():\n",
    "    print(f\"Index: {index}, Nama: {row['Nama']}, Usia: {row['Usia']}, Pekerjaan: {row['Pekerjaan']}\")"
   ]
  },
  {
   "cell_type": "markdown",
   "id": "9ad3e175-5c29-44a1-bc17-a37551c1e12e",
   "metadata": {},
   "source": [
    "## **Langkah 9.2: Iterasi melalui Kolom**\n",
    "\n",
    "Anda juga dapat melakukan iterasi melalui kolom dalam DataFrame dengan mengakses kolom menggunakan nama.\n",
    "\n",
    "    \n",
    "Dalam kasus ini, Anda akan mendapatkan nilai dalam setiap kolom dalam bentuk Series."
   ]
  },
  {
   "cell_type": "code",
   "execution_count": 2,
   "id": "c060cdff-3557-485f-8e0a-c6f137eda830",
   "metadata": {},
   "outputs": [
    {
     "name": "stdout",
     "output_type": "stream",
     "text": [
      "Nama Kolom: Nama\n",
      "0      Alice\n",
      "1        Bob\n",
      "2    Charlie\n",
      "3      David\n",
      "Name: Nama, dtype: object\n",
      "Nama Kolom: Usia\n",
      "0    25\n",
      "1    30\n",
      "2    22\n",
      "3    28\n",
      "Name: Usia, dtype: int64\n",
      "Nama Kolom: Pekerjaan\n",
      "0       Pengembang\n",
      "1    Analisis Data\n",
      "2         Desainer\n",
      "3          Manajer\n",
      "Name: Pekerjaan, dtype: object\n"
     ]
    }
   ],
   "source": [
    "# Iterasi melalui kolom\n",
    "for column in df.columns:\n",
    "    print(f\"Nama Kolom: {column}\")\n",
    "    print(df[column])"
   ]
  },
  {
   "cell_type": "markdown",
   "id": "affc2a1c-9e7d-4490-b897-581659131f01",
   "metadata": {},
   "source": [
    "## **Langkah 9.3: Iterasi dengan itertuples()**\n",
    "\n",
    "Metode `itertuples()` adalah alternatif yang lebih efisien untuk melakukan iterasi melalui baris dalam DataFrame:"
   ]
  },
  {
   "cell_type": "code",
   "execution_count": 3,
   "id": "e5d4b94c-72d8-47a4-a8f6-e53ea4899b01",
   "metadata": {},
   "outputs": [
    {
     "name": "stdout",
     "output_type": "stream",
     "text": [
      "Index: 0, Nama: Alice, Usia: 25, Pekerjaan: Pengembang\n",
      "Index: 1, Nama: Bob, Usia: 30, Pekerjaan: Analisis Data\n",
      "Index: 2, Nama: Charlie, Usia: 22, Pekerjaan: Desainer\n",
      "Index: 3, Nama: David, Usia: 28, Pekerjaan: Manajer\n"
     ]
    }
   ],
   "source": [
    "# Iterasi dengan itertuples()\n",
    "for row in df.itertuples():\n",
    "    print(f\"Index: {row.Index}, Nama: {row.Nama}, Usia: {row.Usia}, Pekerjaan: {row.Pekerjaan}\")"
   ]
  }
 ],
 "metadata": {
  "kernelspec": {
   "display_name": "Python 3 (ipykernel)",
   "language": "python",
   "name": "python3"
  },
  "language_info": {
   "codemirror_mode": {
    "name": "ipython",
    "version": 3
   },
   "file_extension": ".py",
   "mimetype": "text/x-python",
   "name": "python",
   "nbconvert_exporter": "python",
   "pygments_lexer": "ipython3",
   "version": "3.9.17"
  }
 },
 "nbformat": 4,
 "nbformat_minor": 5
}
