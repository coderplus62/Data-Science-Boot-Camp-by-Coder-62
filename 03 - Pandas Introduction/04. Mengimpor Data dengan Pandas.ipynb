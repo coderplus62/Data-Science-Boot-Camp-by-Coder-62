{
 "cells": [
  {
   "cell_type": "markdown",
   "id": "6be40cf0-2e21-4084-943f-906f58a3af24",
   "metadata": {},
   "source": [
    "# **Mengimpor Data dengan Pandas: CSV dan Excel**\n",
    "\n",
    "Pustaka Pandas memungkinkan Anda mengimpor data dari berbagai sumber, seperti file CSV dan Excel. Ini memungkinkan Anda untuk membaca data secara efisien ke dalam Pandas DataFrame, yang memudahkan analisis dan manipulasi lebih lanjut. Mari kita jelajahi cara mengimpor data dari file CSV dan Excel menggunakan Pandas."
   ]
  },
  {
   "cell_type": "markdown",
   "id": "66851614-7d51-415a-8d55-ac466bc2f0bb",
   "metadata": {},
   "source": [
    "## **Langkah 4.1: Mengimpor Data dari File CSV**\n",
    "Berikut adalah bagaimana Anda dapat mengimpor file CSV ke dalam DataFrame:"
   ]
  },
  {
   "cell_type": "code",
   "execution_count": null,
   "id": "f96dbae2-6885-4b2c-96c2-0774e73e8fb9",
   "metadata": {},
   "outputs": [],
   "source": [
    "import pandas as pd\n",
    "df_csv = pd.read_csv('data.csv')\n",
    "df_csv"
   ]
  },
  {
   "cell_type": "markdown",
   "id": "ea410b6e-5e2d-4b06-99bf-03742b0b5490",
   "metadata": {},
   "source": [
    "## **Langkah 4.2: Menyesuaikan Pengimporan Pandas**\n",
    "\n",
    "Anda dapat menyesuaikan cara Pandas mengimpor data dengan menggunakan berbagai parameter. Misalnya, jika baris pertama dalam file CSV adalah baris header, Anda dapat mengaturnya dengan parameter `header`:"
   ]
  },
  {
   "cell_type": "code",
   "execution_count": null,
   "id": "dddc01e0-aa9c-4195-81bf-4c840c31f29c",
   "metadata": {},
   "outputs": [],
   "source": [
    "df_csv = pd.read_csv('data.csv', header=0)\n",
    "df_csv"
   ]
  },
  {
   "cell_type": "markdown",
   "id": "5fada695-3194-457f-bd5c-0920f3092938",
   "metadata": {},
   "source": [
    "## **Langkah 4.3: Mengimpor Data dari File Excel**\n",
    "\n",
    "Untuk mengimpor data dari file Excel, Anda harus menginstal pustaka tambahan `openpyxl` jika belum terinstal. Anda dapat melakukannya dengan perintah berikut:\n",
    "\n",
    "```bash\n",
    "pip install openpyxl\n",
    "```"
   ]
  },
  {
   "cell_type": "code",
   "execution_count": null,
   "id": "15c26b5a-8987-43c8-8458-2895f9c58eaa",
   "metadata": {},
   "outputs": [],
   "source": [
    "!pip install openpyxl"
   ]
  },
  {
   "cell_type": "code",
   "execution_count": null,
   "id": "2f3a6d3d-d5cf-495c-af4f-d3729a52e0fe",
   "metadata": {},
   "outputs": [],
   "source": [
    "# Mengimpor data dari file Excel\n",
    "df_excel = pd.read_excel('data.xlsx', sheet_name='Sheet1')\n",
    "df_excel"
   ]
  },
  {
   "cell_type": "markdown",
   "id": "aabc69b5-454c-4322-bebb-033fd5f5f6e2",
   "metadata": {},
   "source": [
    "**Penyesuaian Pemilihan Lembar dalam Excel:**\n",
    "\n",
    "Anda dapat menyesuaikan pemilihan lembar Excel dengan menggunakan parameter `sheet_name` saat mengimpor:"
   ]
  },
  {
   "cell_type": "code",
   "execution_count": null,
   "id": "7c999e19-0bcb-4bf8-aea6-9ea74866756f",
   "metadata": {},
   "outputs": [],
   "source": [
    "df_sheet2 = pd.read_excel('data.xlsx', sheet_name='Sheet2')\n",
    "df_sheet2"
   ]
  }
 ],
 "metadata": {
  "kernelspec": {
   "display_name": "Python 3 (ipykernel)",
   "language": "python",
   "name": "python3"
  },
  "language_info": {
   "codemirror_mode": {
    "name": "ipython",
    "version": 3
   },
   "file_extension": ".py",
   "mimetype": "text/x-python",
   "name": "python",
   "nbconvert_exporter": "python",
   "pygments_lexer": "ipython3",
   "version": "3.9.17"
  }
 },
 "nbformat": 4,
 "nbformat_minor": 5
}
