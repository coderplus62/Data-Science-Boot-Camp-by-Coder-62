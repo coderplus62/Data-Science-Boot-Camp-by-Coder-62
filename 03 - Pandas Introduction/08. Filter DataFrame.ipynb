{
 "cells": [
  {
   "cell_type": "markdown",
   "id": "b68992f5-368c-4f60-be50-0180f85b4d07",
   "metadata": {},
   "source": [
    "# **Filter DataFrame dalam Pandas**\n",
    "\n",
    "Filtering memungkinkan Anda untuk memilih subset dari data yang memenuhi kriteria tertentu. Pustaka Pandas menyediakan berbagai cara untuk melakukan filtering pada DataFrame. Mari kita lihat beberapa cara untuk melakukan filtering dalam Pandas."
   ]
  },
  {
   "cell_type": "markdown",
   "id": "fa34efc6-3aed-4019-a1ff-f02c7ad67913",
   "metadata": {},
   "source": [
    "## **Langkah 8.1: Menggunakan Operator Perbandingan**\n",
    "Anda dapat menggunakan operator perbandingan seperti `==`, `>`, `<`, `>=`, dan `<=` untuk membuat kondisi filter:"
   ]
  },
  {
   "cell_type": "code",
   "execution_count": 1,
   "id": "c840c6fe-c4a8-4e0b-a1e0-1d287267937c",
   "metadata": {},
   "outputs": [
    {
     "data": {
      "text/html": [
       "<div>\n",
       "<style scoped>\n",
       "    .dataframe tbody tr th:only-of-type {\n",
       "        vertical-align: middle;\n",
       "    }\n",
       "\n",
       "    .dataframe tbody tr th {\n",
       "        vertical-align: top;\n",
       "    }\n",
       "\n",
       "    .dataframe thead th {\n",
       "        text-align: right;\n",
       "    }\n",
       "</style>\n",
       "<table border=\"1\" class=\"dataframe\">\n",
       "  <thead>\n",
       "    <tr style=\"text-align: right;\">\n",
       "      <th></th>\n",
       "      <th>Nama</th>\n",
       "      <th>Usia</th>\n",
       "      <th>Pekerjaan</th>\n",
       "    </tr>\n",
       "  </thead>\n",
       "  <tbody>\n",
       "    <tr>\n",
       "      <th>1</th>\n",
       "      <td>Bob</td>\n",
       "      <td>30</td>\n",
       "      <td>Analisis Data</td>\n",
       "    </tr>\n",
       "    <tr>\n",
       "      <th>3</th>\n",
       "      <td>David</td>\n",
       "      <td>28</td>\n",
       "      <td>Manajer</td>\n",
       "    </tr>\n",
       "  </tbody>\n",
       "</table>\n",
       "</div>"
      ],
      "text/plain": [
       "    Nama  Usia      Pekerjaan\n",
       "1    Bob    30  Analisis Data\n",
       "3  David    28        Manajer"
      ]
     },
     "execution_count": 1,
     "metadata": {},
     "output_type": "execute_result"
    }
   ],
   "source": [
    "import pandas as pd\n",
    "\n",
    "# Membuat DataFrame contoh\n",
    "data = {\n",
    "    'Nama': ['Alice', 'Bob', 'Charlie', 'David'],\n",
    "    'Usia': [25, 30, 22, 28],\n",
    "    'Pekerjaan': ['Pengembang', 'Analisis Data', 'Desainer', 'Manajer']\n",
    "}\n",
    "df = pd.DataFrame(data)\n",
    "\n",
    "# Menggunakan operator perbandingan untuk filtering\n",
    "filtered_df = df[df['Usia'] > 25]\n",
    "filtered_df"
   ]
  },
  {
   "cell_type": "markdown",
   "id": "18c5e93e-db19-463c-b93c-bbe97ecbae2e",
   "metadata": {},
   "source": [
    "## **Langkah 8.2: Metode isin()**\n",
    "\n",
    "Anda dapat menggunakan metode `isin()` untuk memfilter berdasarkan beberapa nilai yang diberikan:"
   ]
  },
  {
   "cell_type": "code",
   "execution_count": 2,
   "id": "a64d7df1-3d82-4ee5-8b44-2bb31bebdf75",
   "metadata": {},
   "outputs": [
    {
     "data": {
      "text/html": [
       "<div>\n",
       "<style scoped>\n",
       "    .dataframe tbody tr th:only-of-type {\n",
       "        vertical-align: middle;\n",
       "    }\n",
       "\n",
       "    .dataframe tbody tr th {\n",
       "        vertical-align: top;\n",
       "    }\n",
       "\n",
       "    .dataframe thead th {\n",
       "        text-align: right;\n",
       "    }\n",
       "</style>\n",
       "<table border=\"1\" class=\"dataframe\">\n",
       "  <thead>\n",
       "    <tr style=\"text-align: right;\">\n",
       "      <th></th>\n",
       "      <th>Nama</th>\n",
       "      <th>Usia</th>\n",
       "      <th>Pekerjaan</th>\n",
       "    </tr>\n",
       "  </thead>\n",
       "  <tbody>\n",
       "    <tr>\n",
       "      <th>0</th>\n",
       "      <td>Alice</td>\n",
       "      <td>25</td>\n",
       "      <td>Pengembang</td>\n",
       "    </tr>\n",
       "    <tr>\n",
       "      <th>2</th>\n",
       "      <td>Charlie</td>\n",
       "      <td>22</td>\n",
       "      <td>Desainer</td>\n",
       "    </tr>\n",
       "  </tbody>\n",
       "</table>\n",
       "</div>"
      ],
      "text/plain": [
       "      Nama  Usia   Pekerjaan\n",
       "0    Alice    25  Pengembang\n",
       "2  Charlie    22    Desainer"
      ]
     },
     "execution_count": 2,
     "metadata": {},
     "output_type": "execute_result"
    }
   ],
   "source": [
    "# Menggunakan metode isin() untuk filtering\n",
    "pekerjaan_tertentu = ['Pengembang', 'Desainer']\n",
    "filtered_by_pekerjaan = df[df['Pekerjaan'].isin(pekerjaan_tertentu)]\n",
    "filtered_by_pekerjaan"
   ]
  },
  {
   "cell_type": "markdown",
   "id": "0caecb52-6f88-4713-a0e5-4a1c5069f874",
   "metadata": {},
   "source": [
    "## **Langkah 8.3: Metode query()**\n",
    "\n",
    "Metode `query()` memungkinkan Anda untuk mengekspresikan kondisi filtering menggunakan sintaks yang mirip SQL:"
   ]
  },
  {
   "cell_type": "code",
   "execution_count": 3,
   "id": "f22da2d1-db8e-40ac-ae58-77cd993cba7e",
   "metadata": {},
   "outputs": [
    {
     "data": {
      "text/html": [
       "<div>\n",
       "<style scoped>\n",
       "    .dataframe tbody tr th:only-of-type {\n",
       "        vertical-align: middle;\n",
       "    }\n",
       "\n",
       "    .dataframe tbody tr th {\n",
       "        vertical-align: top;\n",
       "    }\n",
       "\n",
       "    .dataframe thead th {\n",
       "        text-align: right;\n",
       "    }\n",
       "</style>\n",
       "<table border=\"1\" class=\"dataframe\">\n",
       "  <thead>\n",
       "    <tr style=\"text-align: right;\">\n",
       "      <th></th>\n",
       "      <th>Nama</th>\n",
       "      <th>Usia</th>\n",
       "      <th>Pekerjaan</th>\n",
       "    </tr>\n",
       "  </thead>\n",
       "  <tbody>\n",
       "    <tr>\n",
       "      <th>1</th>\n",
       "      <td>Bob</td>\n",
       "      <td>30</td>\n",
       "      <td>Analisis Data</td>\n",
       "    </tr>\n",
       "    <tr>\n",
       "      <th>3</th>\n",
       "      <td>David</td>\n",
       "      <td>28</td>\n",
       "      <td>Manajer</td>\n",
       "    </tr>\n",
       "  </tbody>\n",
       "</table>\n",
       "</div>"
      ],
      "text/plain": [
       "    Nama  Usia      Pekerjaan\n",
       "1    Bob    30  Analisis Data\n",
       "3  David    28        Manajer"
      ]
     },
     "execution_count": 3,
     "metadata": {},
     "output_type": "execute_result"
    }
   ],
   "source": [
    "# Menggunakan metode query() untuk filtering\n",
    "filtered_by_usia = df.query('Usia > 25')\n",
    "filtered_by_usia"
   ]
  },
  {
   "cell_type": "markdown",
   "id": "b0316d63-8aaa-4b3f-8e6c-787fe63a2b0d",
   "metadata": {},
   "source": [
    "## **Langkah 8.4: Menggabungkan Kondisi Filtering**\n",
    "\n",
    "Anda dapat menggabungkan beberapa kondisi filtering menggunakan operator logika `&` (and) dan `|` (or):"
   ]
  },
  {
   "cell_type": "code",
   "execution_count": 4,
   "id": "022466cb-3fcb-4b59-8397-b6fa2caf178b",
   "metadata": {},
   "outputs": [
    {
     "data": {
      "text/html": [
       "<div>\n",
       "<style scoped>\n",
       "    .dataframe tbody tr th:only-of-type {\n",
       "        vertical-align: middle;\n",
       "    }\n",
       "\n",
       "    .dataframe tbody tr th {\n",
       "        vertical-align: top;\n",
       "    }\n",
       "\n",
       "    .dataframe thead th {\n",
       "        text-align: right;\n",
       "    }\n",
       "</style>\n",
       "<table border=\"1\" class=\"dataframe\">\n",
       "  <thead>\n",
       "    <tr style=\"text-align: right;\">\n",
       "      <th></th>\n",
       "      <th>Nama</th>\n",
       "      <th>Usia</th>\n",
       "      <th>Pekerjaan</th>\n",
       "    </tr>\n",
       "  </thead>\n",
       "  <tbody>\n",
       "    <tr>\n",
       "      <th>3</th>\n",
       "      <td>David</td>\n",
       "      <td>28</td>\n",
       "      <td>Manajer</td>\n",
       "    </tr>\n",
       "  </tbody>\n",
       "</table>\n",
       "</div>"
      ],
      "text/plain": [
       "    Nama  Usia Pekerjaan\n",
       "3  David    28   Manajer"
      ]
     },
     "execution_count": 4,
     "metadata": {},
     "output_type": "execute_result"
    }
   ],
   "source": [
    "# Menggabungkan kondisi filtering\n",
    "filtered_combined = df[(df['Usia'] > 25) & (df['Pekerjaan'] != 'Analisis Data')]\n",
    "filtered_combined"
   ]
  },
  {
   "cell_type": "markdown",
   "id": "1efcbed6-6ced-4353-8560-5ebd18636991",
   "metadata": {},
   "source": [
    "## **Langkah 8.5: Menggunakan Metode loc[] dan iloc[]**\n",
    "\n",
    "Metode `loc[]` dan `iloc[]` juga dapat digunakan untuk filtering dengan mengatur kondisi pada baris dan kolom:"
   ]
  },
  {
   "cell_type": "code",
   "execution_count": 5,
   "id": "b74ff5e8-2702-4be3-b9ee-a5dfc025e0fa",
   "metadata": {},
   "outputs": [
    {
     "data": {
      "text/html": [
       "<div>\n",
       "<style scoped>\n",
       "    .dataframe tbody tr th:only-of-type {\n",
       "        vertical-align: middle;\n",
       "    }\n",
       "\n",
       "    .dataframe tbody tr th {\n",
       "        vertical-align: top;\n",
       "    }\n",
       "\n",
       "    .dataframe thead th {\n",
       "        text-align: right;\n",
       "    }\n",
       "</style>\n",
       "<table border=\"1\" class=\"dataframe\">\n",
       "  <thead>\n",
       "    <tr style=\"text-align: right;\">\n",
       "      <th></th>\n",
       "      <th>Nama</th>\n",
       "      <th>Usia</th>\n",
       "    </tr>\n",
       "  </thead>\n",
       "  <tbody>\n",
       "    <tr>\n",
       "      <th>1</th>\n",
       "      <td>Bob</td>\n",
       "      <td>30</td>\n",
       "    </tr>\n",
       "    <tr>\n",
       "      <th>3</th>\n",
       "      <td>David</td>\n",
       "      <td>28</td>\n",
       "    </tr>\n",
       "  </tbody>\n",
       "</table>\n",
       "</div>"
      ],
      "text/plain": [
       "    Nama  Usia\n",
       "1    Bob    30\n",
       "3  David    28"
      ]
     },
     "execution_count": 5,
     "metadata": {},
     "output_type": "execute_result"
    }
   ],
   "source": [
    "# Menggunakan metode loc[] untuk filtering\n",
    "filtered_loc = df.loc[df['Usia'] > 25, ['Nama', 'Usia']]\n",
    "filtered_loc"
   ]
  },
  {
   "cell_type": "markdown",
   "id": "ceda84e3-fb9a-43c0-9c2b-7a32d663d6a1",
   "metadata": {},
   "source": [
    "## **Langkah 8.6: Menggunakan Fungsi apply()**\n",
    "\n",
    "Anda dapat menggunakan fungsi `apply()` untuk menerapkan fungsi khusus pada setiap baris atau kolom dan mengembalikan hasil filtering:"
   ]
  },
  {
   "cell_type": "code",
   "execution_count": 6,
   "id": "8d11f082-1e96-47fb-9a15-aa2e54eeb721",
   "metadata": {},
   "outputs": [
    {
     "data": {
      "text/html": [
       "<div>\n",
       "<style scoped>\n",
       "    .dataframe tbody tr th:only-of-type {\n",
       "        vertical-align: middle;\n",
       "    }\n",
       "\n",
       "    .dataframe tbody tr th {\n",
       "        vertical-align: top;\n",
       "    }\n",
       "\n",
       "    .dataframe thead th {\n",
       "        text-align: right;\n",
       "    }\n",
       "</style>\n",
       "<table border=\"1\" class=\"dataframe\">\n",
       "  <thead>\n",
       "    <tr style=\"text-align: right;\">\n",
       "      <th></th>\n",
       "      <th>Nama</th>\n",
       "      <th>Usia</th>\n",
       "      <th>Pekerjaan</th>\n",
       "    </tr>\n",
       "  </thead>\n",
       "  <tbody>\n",
       "    <tr>\n",
       "      <th>1</th>\n",
       "      <td>Bob</td>\n",
       "      <td>30</td>\n",
       "      <td>Analisis Data</td>\n",
       "    </tr>\n",
       "  </tbody>\n",
       "</table>\n",
       "</div>"
      ],
      "text/plain": [
       "  Nama  Usia      Pekerjaan\n",
       "1  Bob    30  Analisis Data"
      ]
     },
     "execution_count": 6,
     "metadata": {},
     "output_type": "execute_result"
    }
   ],
   "source": [
    "# Menggunakan fungsi apply() untuk filtering\n",
    "def filter_function(row):\n",
    "    return row['Usia'] > 25 and 'Data' in row['Pekerjaan']\n",
    "\n",
    "filtered_apply = df[df.apply(filter_function, axis=1)]\n",
    "filtered_apply"
   ]
  }
 ],
 "metadata": {
  "kernelspec": {
   "display_name": "Python 3 (ipykernel)",
   "language": "python",
   "name": "python3"
  },
  "language_info": {
   "codemirror_mode": {
    "name": "ipython",
    "version": 3
   },
   "file_extension": ".py",
   "mimetype": "text/x-python",
   "name": "python",
   "nbconvert_exporter": "python",
   "pygments_lexer": "ipython3",
   "version": "3.9.17"
  }
 },
 "nbformat": 4,
 "nbformat_minor": 5
}
