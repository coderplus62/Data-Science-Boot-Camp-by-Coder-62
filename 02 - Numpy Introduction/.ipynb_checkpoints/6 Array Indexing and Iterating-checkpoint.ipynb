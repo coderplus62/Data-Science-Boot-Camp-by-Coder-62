{
 "cells": [
  {
   "cell_type": "markdown",
   "id": "f0805dca-75c8-4c4c-ad7b-35f846dfb599",
   "metadata": {},
   "source": [
    "# 6. Pengindeksan dan Pengulangan Array dalam NumPy\n",
    "Pengindeksan memungkinkan Anda mengakses elemen tertentu dalam array, sementara pengulangan memungkinkan Anda mengulangi elemen dalam array."
   ]
  },
  {
   "cell_type": "code",
   "execution_count": 2,
   "id": "8f011a1a-1cc2-41c1-b454-b0d7a9bfdb9d",
   "metadata": {},
   "outputs": [
    {
     "data": {
      "text/plain": [
       "array([1, 2, 3, 4, 5])"
      ]
     },
     "execution_count": 2,
     "metadata": {},
     "output_type": "execute_result"
    }
   ],
   "source": [
    "# Import pustaka NumPy\n",
    "import numpy as np\n",
    "\n",
    "# Membuat array contoh\n",
    "example_array = np.array([1, 2, 3, 4, 5])\n",
    "example_array"
   ]
  },
  {
   "cell_type": "code",
   "execution_count": 3,
   "id": "515eddfb-2a7f-452d-ad07-31795d628200",
   "metadata": {},
   "outputs": [
    {
     "name": "stdout",
     "output_type": "stream",
     "text": [
      "1\n",
      "[2 3 4]\n"
     ]
    }
   ],
   "source": [
    "# Pengindeksan dan Subsetting\n",
    "elemen_pertama = example_array[0]  # Mengakses elemen pertama (indeks 0)\n",
    "subset_array = example_array[1:4]  # Mengambil subset dari indeks 1 hingga 3 (indeks 4 tidak termasuk)\n",
    "\n",
    "print(elemen_pertama)\n",
    "print(subset_array)"
   ]
  },
  {
   "cell_type": "code",
   "execution_count": 4,
   "id": "9532b657-5058-43d1-8368-1f6f7feeaa05",
   "metadata": {},
   "outputs": [
    {
     "name": "stdout",
     "output_type": "stream",
     "text": [
      "[False False  True  True  True]\n",
      "[3 4 5]\n"
     ]
    }
   ],
   "source": [
    "# Boolean Indexing\n",
    "boolean_mask = example_array > 2  # Membuat masker boolean berdasarkan kondisi\n",
    "filtered_array = example_array[boolean_mask]  # Mengambil elemen yang memenuhi kondisi\n",
    "\n",
    "print(boolean_mask)\n",
    "print(filtered_array)"
   ]
  },
  {
   "cell_type": "code",
   "execution_count": 5,
   "id": "a170730b-51aa-46a6-8502-6f6d0d2b06a1",
   "metadata": {},
   "outputs": [
    {
     "name": "stdout",
     "output_type": "stream",
     "text": [
      "1\n",
      "2\n",
      "3\n",
      "4\n",
      "5\n"
     ]
    }
   ],
   "source": [
    "# Pengulangan\n",
    "for elemen in example_array:\n",
    "    print(elemen)"
   ]
  },
  {
   "cell_type": "code",
   "execution_count": 6,
   "id": "33c40d73-7733-4a67-b0e4-ea8e0b67abb8",
   "metadata": {},
   "outputs": [
    {
     "name": "stdout",
     "output_type": "stream",
     "text": [
      "[[1 2 3]\n",
      " [4 5 6]\n",
      " [7 8 9]]\n",
      "1\n",
      "[4 5 6]\n",
      "[3 6 9]\n"
     ]
    }
   ],
   "source": [
    "# Pengindeksan dan Pengulangan dalam Array Multidimensi\n",
    "multidimensional_array = np.array([[1, 2, 3], [4, 5, 6], [7, 8, 9]])\n",
    "\n",
    "elemen_pertama = multidimensional_array[0, 0]  # Mengakses elemen pertama\n",
    "baris_kedua = multidimensional_array[1, :]  # Mengakses semua elemen dalam baris kedua\n",
    "kolom_ketiga = multidimensional_array[:, 2]  # Mengakses semua elemen dalam kolom ketiga\n",
    "\n",
    "print(multidimensional_array)\n",
    "print(elemen_pertama)\n",
    "print(baris_kedua)\n",
    "print(kolom_ketiga)"
   ]
  },
  {
   "cell_type": "code",
   "execution_count": 7,
   "id": "040c4c7e-b5b1-4a02-a0aa-6c015d5bc14c",
   "metadata": {},
   "outputs": [
    {
     "name": "stdout",
     "output_type": "stream",
     "text": [
      "1\n",
      "2\n",
      "3\n",
      "4\n",
      "5\n",
      "6\n",
      "7\n",
      "8\n",
      "9\n"
     ]
    }
   ],
   "source": [
    "# Pengulangan dalam array multidimensi\n",
    "for baris in multidimensional_array:\n",
    "    for elemen in baris:\n",
    "        print(elemen)"
   ]
  }
 ],
 "metadata": {
  "kernelspec": {
   "display_name": "Python 3 (ipykernel)",
   "language": "python",
   "name": "python3"
  },
  "language_info": {
   "codemirror_mode": {
    "name": "ipython",
    "version": 3
   },
   "file_extension": ".py",
   "mimetype": "text/x-python",
   "name": "python",
   "nbconvert_exporter": "python",
   "pygments_lexer": "ipython3",
   "version": "3.9.17"
  }
 },
 "nbformat": 4,
 "nbformat_minor": 5
}
