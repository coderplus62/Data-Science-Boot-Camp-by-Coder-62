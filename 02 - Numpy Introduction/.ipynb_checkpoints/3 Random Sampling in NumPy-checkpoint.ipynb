{
 "cells": [
  {
   "cell_type": "markdown",
   "id": "d0b0efc0-ca44-4548-9065-f7d0cefad64e",
   "metadata": {},
   "source": [
    "## 3. Random Sampling dalam NumPy\n",
    "NumPy menyediakan fungsi untuk menghasilkan angka acak dari berbagai distribusi."
   ]
  },
  {
   "cell_type": "code",
   "execution_count": 2,
   "id": "215f161b-e61e-4fcd-a973-2e411a6565d0",
   "metadata": {},
   "outputs": [
    {
     "data": {
      "text/plain": [
       "array([[ 2.25418719, -2.04033063, -0.65345299],\n",
       "       [-0.89533699,  2.05498587, -1.13978748],\n",
       "       [ 0.22189331, -0.29945803, -0.09438236]])"
      ]
     },
     "execution_count": 2,
     "metadata": {},
     "output_type": "execute_result"
    }
   ],
   "source": [
    "# Import pustaka NumPy\n",
    "import numpy as np\n",
    "\n",
    "# Menghasilkan matriks 3x3 dengan angka acak dari distribusi normal dengan rata-rata 0 dan deviasi standar 1\n",
    "random_normal = np.random.normal(0, 1, size=(3, 3))\n",
    "random_normal"
   ]
  },
  {
   "cell_type": "code",
   "execution_count": 3,
   "id": "3f87c449-308e-4df7-8830-1c22e5385bfb",
   "metadata": {},
   "outputs": [
    {
     "data": {
      "text/plain": [
       "array([0.77233006, 0.17552804, 0.64861479, 0.79646052, 0.41992364])"
      ]
     },
     "execution_count": 3,
     "metadata": {},
     "output_type": "execute_result"
    }
   ],
   "source": [
    "# Menghasilkan array dengan 5 angka acak dari distribusi uniform antara 0 dan 1\n",
    "random_uniform = np.random.uniform(0, 1, size=5)\n",
    "random_uniform"
   ]
  },
  {
   "cell_type": "code",
   "execution_count": 4,
   "id": "a297f942-a2c7-43a4-91a6-c77a5f264fb7",
   "metadata": {},
   "outputs": [
    {
     "data": {
      "text/plain": [
       "array([[ 6,  3,  2,  9],\n",
       "       [10, 10,  4,  5]])"
      ]
     },
     "execution_count": 4,
     "metadata": {},
     "output_type": "execute_result"
    }
   ],
   "source": [
    "# Menghasilkan matriks 2x4 dengan angka acak bulat antara 1 dan 10\n",
    "random_integers = np.random.randint(1, 11, size=(2, 4))\n",
    "random_integers"
   ]
  },
  {
   "cell_type": "code",
   "execution_count": 11,
   "id": "50648a65-382a-4dba-83bb-8628d7b99c76",
   "metadata": {},
   "outputs": [
    {
     "name": "stdout",
     "output_type": "stream",
     "text": [
      "Array awal: [1 2 3 4 5]\n",
      "Array shuffled: [4 5 3 1 2]\n"
     ]
    }
   ],
   "source": [
    "# Anda juga dapat mengacak urutan elemen dalam array.\n",
    "arr_to_shuffle = np.array([1, 2, 3, 4, 5])\n",
    "print('Array awal:', arr_to_shuffle)\n",
    "np.random.shuffle(arr_to_shuffle)\n",
    "print('Array shuffled:', arr_to_shuffle)"
   ]
  }
 ],
 "metadata": {
  "kernelspec": {
   "display_name": "Python 3 (ipykernel)",
   "language": "python",
   "name": "python3"
  },
  "language_info": {
   "codemirror_mode": {
    "name": "ipython",
    "version": 3
   },
   "file_extension": ".py",
   "mimetype": "text/x-python",
   "name": "python",
   "nbconvert_exporter": "python",
   "pygments_lexer": "ipython3",
   "version": "3.9.17"
  }
 },
 "nbformat": 4,
 "nbformat_minor": 5
}
