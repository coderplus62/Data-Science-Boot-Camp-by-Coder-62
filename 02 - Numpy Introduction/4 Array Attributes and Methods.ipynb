{
 "cells": [
  {
   "cell_type": "markdown",
   "id": "35f4de1e-a422-41b6-8845-a7568ee0e600",
   "metadata": {},
   "source": [
    "# 4. Atribut dan Metode Array dalam NumPy\n",
    "Array dalam NumPy memiliki berbagai atribut dan metode yang dapat membantu Anda mengakses informasi dan melakukan operasi pada array."
   ]
  },
  {
   "cell_type": "code",
   "execution_count": 1,
   "id": "e5175710-497c-436a-9230-97784c0ab689",
   "metadata": {},
   "outputs": [],
   "source": [
    "# Import pustaka NumPy\n",
    "import numpy as np\n",
    "\n",
    "# Membuat array contoh\n",
    "example_array = np.array([[1, 2, 3], [4, 5, 6]])\n",
    "example_array"
   ]
  },
  {
   "cell_type": "code",
   "execution_count": 2,
   "id": "67db0669-8e6f-4882-94c6-202adb717100",
   "metadata": {},
   "outputs": [],
   "source": [
    "# Mengakses atribut 'shape'\n",
    "# Atribut 'shape' memberikan dimensi array dalam bentuk tuple. Misalnya, (2, 3) berarti 2 baris dan 3 kolom.\n",
    "shape = example_array.shape\n",
    "shape"
   ]
  },
  {
   "cell_type": "code",
   "execution_count": 3,
   "id": "211a4545-f21c-402e-834d-08580441797a",
   "metadata": {},
   "outputs": [],
   "source": [
    "# Mengakses atribut 'ndim'\n",
    "# Atribut 'ndim' memberikan jumlah dimensi array.\n",
    "dimension = example_array.ndim\n",
    "dimension"
   ]
  },
  {
   "cell_type": "code",
   "execution_count": 4,
   "id": "2bcfedf3-9e28-4ea1-952e-ca5dd8c49ebf",
   "metadata": {},
   "outputs": [],
   "source": [
    "# Mengakses atribut 'size'\n",
    "# Atribut 'size' memberikan total jumlah elemen dalam array.\n",
    "size = example_array.size\n",
    "size"
   ]
  },
  {
   "cell_type": "code",
   "execution_count": 5,
   "id": "7373d438-5689-440b-a60f-99d1446e8a23",
   "metadata": {},
   "outputs": [],
   "source": [
    "# Mengakses atribut 'dtype'\n",
    "# Atribut 'dtype' memberikan tipe data elemen dalam array.\n",
    "data_type = example_array.dtype\n",
    "data_type"
   ]
  },
  {
   "cell_type": "code",
   "execution_count": 10,
   "id": "5558423c-4c42-4d0a-bddd-884f5430bd57",
   "metadata": {},
   "outputs": [
    {
     "name": "stdout",
     "output_type": "stream",
     "text": [
      "Max value 6\n",
      "Min value 1\n"
     ]
    }
   ],
   "source": [
    "# Menggunakan metode 'max' dan 'min'\n",
    "# Metode 'max' mengembalikan nilai maksimum dalam array, dan 'min' mengembalikan nilai minimum.\n",
    "max_value = example_array.max()\n",
    "min_value = example_array.min()\n",
    "\n",
    "print('Max value', max_value)\n",
    "print('Min value', min_value)"
   ]
  },
  {
   "cell_type": "code",
   "execution_count": 7,
   "id": "92e7c15b-65a9-4bc9-9934-22bba6c622f4",
   "metadata": {},
   "outputs": [],
   "source": [
    "# Menggunakan metode 'sum'\n",
    "# Metode 'sum' mengembalikan jumlah semua nilai dalam array.\n",
    "sum_values = example_array.sum()\n",
    "sum_values"
   ]
  },
  {
   "cell_type": "code",
   "execution_count": 8,
   "id": "e75b0167-871d-4a54-876c-96167c09860f",
   "metadata": {},
   "outputs": [],
   "source": [
    "# Menggunakan metode 'mean'\n",
    "# Metode 'mean' mengembalikan rata-rata dari semua nilai dalam array.\n",
    "mean_value = example_array.mean()\n",
    "mean_value"
   ]
  },
  {
   "cell_type": "code",
   "execution_count": 11,
   "id": "0b3e2d14-1df8-4b34-bd32-9f239c47fa82",
   "metadata": {},
   "outputs": [
    {
     "name": "stdout",
     "output_type": "stream",
     "text": [
      "Standard Deviation: 1.707825127659933\n",
      "Variance: 2.9166666666666665\n"
     ]
    }
   ],
   "source": [
    "# Menggunakan metode 'std' dan 'var'\n",
    "# Metode 'std' mengembalikan deviasi standar dari semua nilai dalam array, dan 'var' mengembalikan varians.\n",
    "standard_deviation = example_array.std()\n",
    "variance = example_array.var()\n",
    "\n",
    "print('Standard Deviation:', standard_deviation)\n",
    "print('Variance:', variance)"
   ]
  }
 ],
 "metadata": {
  "kernelspec": {
   "display_name": "Python 3 (ipykernel)",
   "language": "python",
   "name": "python3"
  },
  "language_info": {
   "codemirror_mode": {
    "name": "ipython",
    "version": 3
   },
   "file_extension": ".py",
   "mimetype": "text/x-python",
   "name": "python",
   "nbconvert_exporter": "python",
   "pygments_lexer": "ipython3",
   "version": "3.9.17"
  }
 },
 "nbformat": 4,
 "nbformat_minor": 5
}
