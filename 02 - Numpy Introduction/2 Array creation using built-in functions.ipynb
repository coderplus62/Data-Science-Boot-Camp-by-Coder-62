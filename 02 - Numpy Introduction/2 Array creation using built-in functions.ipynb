{
 "cells": [
  {
   "cell_type": "markdown",
   "id": "d89da9e2-4e4d-408c-aa34-8a9621e7e005",
   "metadata": {},
   "source": [
    "# 2. Pembuatan Array Menggunakan Fungsi Bawaan\n",
    "NumPy menyediakan berbagai fungsi bawaan untuk membuat array dengan berbagai bentuk dan isi."
   ]
  },
  {
   "cell_type": "code",
   "execution_count": 1,
   "id": "4ea607e7-eb46-4e14-9244-50198710dc39",
   "metadata": {},
   "outputs": [
    {
     "data": {
      "text/plain": [
       "array([0.97765708, 0.12866118, 0.42888503, 0.40974849, 0.80930577])"
      ]
     },
     "execution_count": 1,
     "metadata": {},
     "output_type": "execute_result"
    }
   ],
   "source": [
    "# Import pustaka NumPy\n",
    "import numpy as np\n",
    "\n",
    "# Membuat array 1D dengan angka acak\n",
    "arr_random = np.random.rand(5)  # Array 1D dengan 5 angka acak antara 0 dan 1\n",
    "arr_random"
   ]
  },
  {
   "cell_type": "code",
   "execution_count": 2,
   "id": "09c915d0-ea1f-406a-bb8d-3a76e8cf4d3e",
   "metadata": {},
   "outputs": [
    {
     "data": {
      "text/plain": [
       "array([[0.93093234, 0.81576116, 0.98601009, 0.46431546],\n",
       "       [0.98798754, 0.64873114, 0.26377099, 0.24390898],\n",
       "       [0.6650918 , 0.51211004, 0.61272848, 0.86416687]])"
      ]
     },
     "execution_count": 2,
     "metadata": {},
     "output_type": "execute_result"
    }
   ],
   "source": [
    "# Membuat array 2D dengan angka acak\n",
    "arr_random_2d = np.random.rand(3, 4)  # Array 2D dengan 3 baris dan 4 kolom angka acak\n",
    "arr_random_2d"
   ]
  },
  {
   "cell_type": "code",
   "execution_count": 3,
   "id": "5a177276-d8cb-4f9d-91e6-52e113400490",
   "metadata": {},
   "outputs": [
    {
     "data": {
      "text/plain": [
       "array([0, 1, 2, 3, 4, 5, 6, 7, 8, 9])"
      ]
     },
     "execution_count": 3,
     "metadata": {},
     "output_type": "execute_result"
    }
   ],
   "source": [
    "# Membuat array 1D dengan urutan angka\n",
    "arr_range = np.arange(10)  # Array 1D dengan angka 0 hingga 9\n",
    "arr_range"
   ]
  },
  {
   "cell_type": "code",
   "execution_count": 4,
   "id": "0a4958a0-8293-4110-8fc5-c8fd86b7222e",
   "metadata": {},
   "outputs": [
    {
     "data": {
      "text/plain": [
       "array([0.  , 0.25, 0.5 , 0.75, 1.  ])"
      ]
     },
     "execution_count": 4,
     "metadata": {},
     "output_type": "execute_result"
    }
   ],
   "source": [
    "# Membuat array 1D dengan angka dalam interval tertentu\n",
    "arr_linspace = np.linspace(0, 1, 5)  # Array 1D dengan 5 angka antara 0 dan 1\n",
    "arr_linspace"
   ]
  },
  {
   "cell_type": "code",
   "execution_count": 5,
   "id": "a0e90ba5-9113-493f-a427-b0a1f6b62311",
   "metadata": {},
   "outputs": [
    {
     "data": {
      "text/plain": [
       "array([[1., 0., 0.],\n",
       "       [0., 1., 0.],\n",
       "       [0., 0., 1.]])"
      ]
     },
     "execution_count": 5,
     "metadata": {},
     "output_type": "execute_result"
    }
   ],
   "source": [
    "# Membuat array identitas (matrix identitas)\n",
    "arr_identity = np.eye(3)  # Matriks identitas 3x3\n",
    "arr_identity"
   ]
  },
  {
   "cell_type": "code",
   "execution_count": 6,
   "id": "a70257ce-db5c-4de6-a248-8010932c4b26",
   "metadata": {},
   "outputs": [
    {
     "name": "stdout",
     "output_type": "stream",
     "text": [
      "Zeros: [0. 0. 0. 0.]\n",
      "Ones: [[1. 1. 1.]\n",
      " [1. 1. 1.]]\n"
     ]
    }
   ],
   "source": [
    "# Membuat array dengan semua elemen bernilai nol atau satu\n",
    "arr_zeros = np.zeros(4)  # Array 1D dengan 4 elemen bernilai 0\n",
    "arr_ones = np.ones((2, 3))  # Array 2D dengan 2 baris dan 3 kolom, semua elemen bernilai 1\n",
    "\n",
    "print('Zeros:', arr_zeros)\n",
    "print('Ones:', arr_ones)"
   ]
  },
  {
   "cell_type": "code",
   "execution_count": 7,
   "id": "ef33865f-b8a1-4e40-80ae-c6c4255a857c",
   "metadata": {},
   "outputs": [
    {
     "name": "stdout",
     "output_type": "stream",
     "text": [
      "Array awal: [ 0  1  2  3  4  5  6  7  8  9 10 11]\n",
      "Array reshaped: [[ 0  1  2  3]\n",
      " [ 4  5  6  7]\n",
      " [ 8  9 10 11]]\n"
     ]
    }
   ],
   "source": [
    "# Fungsi-fungsi ini memudahkan pembuatan array dengan berbagai karakteristik, yang berguna untuk analisis data dan komputasi ilmiah.\n",
    "\n",
    "# Anda juga dapat mengubah bentuk array dengan menggunakan metode reshape.\n",
    "arr_to_reshape = np.arange(12)  # Membuat array 1D dengan 12 elemen\n",
    "reshaped_arr = arr_to_reshape.reshape(3, 4)  # Mengubahnya menjadi array 2D dengan 3 baris dan 4 kolom\n",
    "\n",
    "print('Array awal:', arr_to_reshape)\n",
    "print('Array reshaped:', reshaped_arr)"
   ]
  }
 ],
 "metadata": {
  "kernelspec": {
   "display_name": "Python 3 (ipykernel)",
   "language": "python",
   "name": "python3"
  },
  "language_info": {
   "codemirror_mode": {
    "name": "ipython",
    "version": 3
   },
   "file_extension": ".py",
   "mimetype": "text/x-python",
   "name": "python",
   "nbconvert_exporter": "python",
   "pygments_lexer": "ipython3",
   "version": "3.9.17"
  }
 },
 "nbformat": 4,
 "nbformat_minor": 5
}
