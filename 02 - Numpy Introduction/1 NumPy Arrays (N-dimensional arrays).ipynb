{
 "cells": [
  {
   "cell_type": "markdown",
   "id": "f4f94988-97bb-4d83-acc7-198bf901bdc9",
   "metadata": {},
   "source": [
    "# 1. NumPy Arrays (Array Berdimensi N)\n",
    "Array NumPy, juga dikenal sebagai ndarray, adalah struktur data fundamental dalam NumPy.\n",
    "Mereka adalah kumpulan elemen yang tersusun dalam bentuk matriks dengan dimensi yang dapat diatur."
   ]
  },
  {
   "cell_type": "code",
   "execution_count": 2,
   "id": "b8de6288-28b0-4078-8b92-c938c07e0bce",
   "metadata": {},
   "outputs": [
    {
     "name": "stdout",
     "output_type": "stream",
     "text": [
      "Array 1D: [1 2 3 4 5]\n",
      "Array 2D: [[1 2 3]\n",
      " [4 5 6]]\n",
      "Array 3D: [[[1 2]\n",
      "  [3 4]]\n",
      "\n",
      " [[5 6]\n",
      "  [7 8]]]\n"
     ]
    }
   ],
   "source": [
    "# Import library NumPy\n",
    "import numpy as np\n",
    "\n",
    "# Membuat array 1D\n",
    "arr_1d = np.array([1, 2, 3, 4, 5])\n",
    "# Membuat array 2D\n",
    "arr_2d = np.array([[1, 2, 3], [4, 5, 6]])\n",
    "\n",
    "# Array NumPy dapat memiliki dimensi yang lebih tinggi juga.\n",
    "# Membuat array 3D\n",
    "arr_3d = np.array([[[1, 2], [3, 4]], [[5, 6], [7, 8]]])\n",
    "\n",
    "print('Array 1D:', arr_1d)\n",
    "print('Array 2D:', arr_2d)\n",
    "print('Array 3D:', arr_3d)"
   ]
  },
  {
   "cell_type": "code",
   "execution_count": 3,
   "id": "6e45f912-07b4-4103-a384-e5fc054a604a",
   "metadata": {},
   "outputs": [
    {
     "name": "stdout",
     "output_type": "stream",
     "text": [
      "Array 1D: (5,)\n",
      "Array 2D: (2, 3)\n",
      "Array 3D: (2, 2, 2)\n"
     ]
    }
   ],
   "source": [
    "# Anda dapat menggunakan atribut 'shape' untuk melihat dimensi array.\n",
    "shape_arr_1d = arr_1d.shape\n",
    "shape_arr_2d = arr_2d.shape\n",
    "shape_arr_3d = arr_3d.shape\n",
    "\n",
    "print('Array 1D:', shape_arr_1d)\n",
    "print('Array 2D:', shape_arr_2d)\n",
    "print('Array 3D:', shape_arr_3d)"
   ]
  },
  {
   "cell_type": "code",
   "execution_count": 5,
   "id": "21c14c5f-d816-4b32-81d3-21e2df9fffaa",
   "metadata": {},
   "outputs": [
    {
     "data": {
      "text/plain": [
       "2"
      ]
     },
     "execution_count": 5,
     "metadata": {},
     "output_type": "execute_result"
    }
   ],
   "source": [
    "# Anda juga dapat menggunakan fungsi len() untuk mendapatkan panjang array dalam dimensi pertama.\n",
    "panjang_dimensi_pertama = len(arr_3d)  # Hasilnya 2 karena ada dua matriks dalam dimensi pertama\n",
    "panjang_dimensi_pertama"
   ]
  },
  {
   "cell_type": "code",
   "execution_count": 6,
   "id": "52508b69-c3da-4552-8ce7-7c105aac3335",
   "metadata": {},
   "outputs": [
    {
     "data": {
      "text/plain": [
       "array([5, 7, 9])"
      ]
     },
     "execution_count": 6,
     "metadata": {},
     "output_type": "execute_result"
    }
   ],
   "source": [
    "# Array NumPy memungkinkan operasi matematika yang efisien pada seluruh array atau elemen-elemennya.\n",
    "arr1 = np.array([1, 2, 3])\n",
    "arr2 = np.array([4, 5, 6])\n",
    "hasil_penjumlahan = arr1 + arr2  # Menghasilkan [5, 7, 9]\n",
    "hasil_penjumlahan"
   ]
  },
  {
   "cell_type": "code",
   "execution_count": null,
   "id": "0be06964-6c85-4ecb-9125-74496968d3e2",
   "metadata": {},
   "outputs": [],
   "source": []
  }
 ],
 "metadata": {
  "kernelspec": {
   "display_name": "Python 3 (ipykernel)",
   "language": "python",
   "name": "python3"
  },
  "language_info": {
   "codemirror_mode": {
    "name": "ipython",
    "version": 3
   },
   "file_extension": ".py",
   "mimetype": "text/x-python",
   "name": "python",
   "nbconvert_exporter": "python",
   "pygments_lexer": "ipython3",
   "version": "3.9.17"
  }
 },
 "nbformat": 4,
 "nbformat_minor": 5
}
