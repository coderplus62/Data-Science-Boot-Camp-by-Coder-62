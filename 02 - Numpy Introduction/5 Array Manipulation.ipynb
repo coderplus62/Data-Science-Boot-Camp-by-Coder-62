{
 "cells": [
  {
   "cell_type": "markdown",
   "id": "b04d45fe-ceab-4ebe-b024-cf4d426e6c37",
   "metadata": {},
   "source": [
    "# 5. Manipulasi Array dalam NumPy\n",
    "Manipulasi array adalah operasi yang melibatkan mengubah bentuk, menggabungkan, dan memisahkan array."
   ]
  },
  {
   "cell_type": "code",
   "execution_count": 2,
   "id": "63eb2ce5-ae4c-4d51-a2c5-2d279ccaaf08",
   "metadata": {},
   "outputs": [
    {
     "data": {
      "text/plain": [
       "array([[1, 2, 3],\n",
       "       [4, 5, 6],\n",
       "       [7, 8, 9]])"
      ]
     },
     "execution_count": 2,
     "metadata": {},
     "output_type": "execute_result"
    }
   ],
   "source": [
    "# Import pustaka NumPy\n",
    "import numpy as np\n",
    "\n",
    "# Membuat array contoh\n",
    "example_array = np.array([[1, 2, 3], [4, 5, 6], [7, 8, 9]])\n",
    "example_array"
   ]
  },
  {
   "cell_type": "code",
   "execution_count": 3,
   "id": "cfed21d0-1db6-432b-bcd0-ce2e34f851d7",
   "metadata": {},
   "outputs": [
    {
     "data": {
      "text/plain": [
       "array([[1],\n",
       "       [2],\n",
       "       [3],\n",
       "       [4],\n",
       "       [5],\n",
       "       [6],\n",
       "       [7],\n",
       "       [8],\n",
       "       [9]])"
      ]
     },
     "execution_count": 3,
     "metadata": {},
     "output_type": "execute_result"
    }
   ],
   "source": [
    "# Menggunakan metode 'reshape'\n",
    "# Metode 'reshape' mengubah bentuk array menjadi bentuk yang diinginkan.\n",
    "reshaped_array = example_array.reshape(9, 1)\n",
    "reshaped_array"
   ]
  },
  {
   "cell_type": "code",
   "execution_count": 4,
   "id": "5568ee18-03f4-4776-8ec5-9937fe87b11f",
   "metadata": {},
   "outputs": [
    {
     "data": {
      "text/plain": [
       "array([1, 2, 3, 4, 5, 6, 7, 8, 9])"
      ]
     },
     "execution_count": 4,
     "metadata": {},
     "output_type": "execute_result"
    }
   ],
   "source": [
    "# Menggunakan metode 'flatten'\n",
    "# Metode 'flatten' mengubah array berdimensi N menjadi array 1D.\n",
    "flattened_array = example_array.flatten()\n",
    "flattened_array"
   ]
  },
  {
   "cell_type": "code",
   "execution_count": 5,
   "id": "3cd4382f-a3b1-4b59-b35e-076de3b5b4b8",
   "metadata": {},
   "outputs": [
    {
     "data": {
      "text/plain": [
       "array([[1, 4, 7],\n",
       "       [2, 5, 8],\n",
       "       [3, 6, 9]])"
      ]
     },
     "execution_count": 5,
     "metadata": {},
     "output_type": "execute_result"
    }
   ],
   "source": [
    "# Menggunakan metode 'transpose'\n",
    "# Metode 'transpose' menukar baris dan kolom dalam array.\n",
    "transposed_array = example_array.transpose()\n",
    "transposed_array"
   ]
  },
  {
   "cell_type": "code",
   "execution_count": 6,
   "id": "3883a75d-a144-45f9-b848-a24999afcc27",
   "metadata": {},
   "outputs": [
    {
     "name": "stdout",
     "output_type": "stream",
     "text": [
      "[[1 2 3]\n",
      " [4 5 6]]\n",
      "[1 2 3 4 5 6]\n"
     ]
    }
   ],
   "source": [
    "# Menggunakan metode 'vstack' dan 'hstack'\n",
    "# Metode 'vstack' menggabungkan array secara vertikal, dan 'hstack' menggabungkan array secara horizontal.\n",
    "array1 = np.array([1, 2, 3])\n",
    "array2 = np.array([4, 5, 6])\n",
    "vertical_stack = np.vstack((array1, array2))\n",
    "horizontal_stack = np.hstack((array1, array2))\n",
    "\n",
    "print(vertical_stack)\n",
    "print(horizontal_stack)"
   ]
  },
  {
   "cell_type": "code",
   "execution_count": 7,
   "id": "9f3d8c09-800c-4d84-bc3c-ca01c411131c",
   "metadata": {},
   "outputs": [
    {
     "data": {
      "text/plain": [
       "[array([[1],\n",
       "        [4],\n",
       "        [7]]),\n",
       " array([[2],\n",
       "        [5],\n",
       "        [8]]),\n",
       " array([[3],\n",
       "        [6],\n",
       "        [9]])]"
      ]
     },
     "execution_count": 7,
     "metadata": {},
     "output_type": "execute_result"
    }
   ],
   "source": [
    "# Menggunakan metode 'split'\n",
    "# Metode 'split' memisahkan array menjadi bagian-bagian dengan ukuran tertentu.\n",
    "split_arrays = np.split(example_array, 3, axis=1)\n",
    "split_arrays"
   ]
  },
  {
   "cell_type": "code",
   "execution_count": 8,
   "id": "8d93bdbf-30a6-4da5-9362-ccc778331290",
   "metadata": {},
   "outputs": [
    {
     "data": {
      "text/plain": [
       "array([[1, 2, 3],\n",
       "       [7, 8, 9]])"
      ]
     },
     "execution_count": 8,
     "metadata": {},
     "output_type": "execute_result"
    }
   ],
   "source": [
    "# Menggunakan metode 'delete'\n",
    "# Metode 'delete' menghapus baris atau kolom tertentu dari array.\n",
    "new_array = np.delete(example_array, 1, axis=0)\n",
    "new_array"
   ]
  }
 ],
 "metadata": {
  "kernelspec": {
   "display_name": "Python 3 (ipykernel)",
   "language": "python",
   "name": "python3"
  },
  "language_info": {
   "codemirror_mode": {
    "name": "ipython",
    "version": 3
   },
   "file_extension": ".py",
   "mimetype": "text/x-python",
   "name": "python",
   "nbconvert_exporter": "python",
   "pygments_lexer": "ipython3",
   "version": "3.9.17"
  }
 },
 "nbformat": 4,
 "nbformat_minor": 5
}
